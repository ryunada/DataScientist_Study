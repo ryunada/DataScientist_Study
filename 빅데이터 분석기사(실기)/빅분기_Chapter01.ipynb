{
 "cells": [
  {
   "cell_type": "markdown",
   "id": "6936b5f7",
   "metadata": {},
   "source": [
    "# Section3 | 파이썬 기초"
   ]
  },
  {
   "cell_type": "markdown",
   "id": "173fc0e8",
   "metadata": {},
   "source": [
    "## 파이썬 자료형"
   ]
  },
  {
   "cell_type": "code",
   "execution_count": 1,
   "id": "69b0b9fb",
   "metadata": {},
   "outputs": [
    {
     "data": {
      "text/plain": [
       "-0.4000000000000057"
      ]
     },
     "execution_count": 1,
     "metadata": {},
     "output_type": "execute_result"
    }
   ],
   "source": [
    "# 1. 정수형, 실수형\n",
    "a = 123\n",
    "b = -123.4\n",
    "a+b"
   ]
  },
  {
   "cell_type": "code",
   "execution_count": 2,
   "id": "59e59f57",
   "metadata": {},
   "outputs": [
    {
     "data": {
      "text/plain": [
       "48"
      ]
     },
     "execution_count": 2,
     "metadata": {},
     "output_type": "execute_result"
    }
   ],
   "source": [
    "# 2. 8진수\n",
    "c = 0o34\n",
    "d = 0o24\n",
    "c+d"
   ]
  },
  {
   "cell_type": "code",
   "execution_count": 3,
   "id": "2c26ec20",
   "metadata": {},
   "outputs": [
    {
     "data": {
      "text/plain": [
       "297"
      ]
     },
     "execution_count": 3,
     "metadata": {},
     "output_type": "execute_result"
    }
   ],
   "source": [
    "# 3. 16진수\n",
    "e = 0x2A\n",
    "f = 0xFF\n",
    "e+f"
   ]
  },
  {
   "cell_type": "markdown",
   "id": "f9f81c70",
   "metadata": {},
   "source": [
    "## 문자형(String)"
   ]
  },
  {
   "cell_type": "code",
   "execution_count": 6,
   "id": "d63c8ec1",
   "metadata": {},
   "outputs": [
    {
     "name": "stdout",
     "output_type": "stream",
     "text": [
      "WiseInCompany\n",
      "WiseIncompany\n",
      "WiseInCompany\n",
      "123\n",
      "<class 'str'>\n"
     ]
    }
   ],
   "source": [
    "# 문자열\n",
    "# 단일 인용 표시('': 작은 따옴표) or 이중 인용 표시(\"\": 큰 따옴표)\n",
    "s = 'WiseInCompany'\n",
    "s1 = 'WiseIncompany'\n",
    "s2 = '''WiseInCompany'''\n",
    "s3 = \"123\"\n",
    "print(s)\n",
    "print(s1)\n",
    "print(s2)\n",
    "print(s3)\n",
    "print(type(s3))"
   ]
  },
  {
   "cell_type": "code",
   "execution_count": 7,
   "id": "6038acf5",
   "metadata": {},
   "outputs": [
    {
     "name": "stdout",
     "output_type": "stream",
     "text": [
      "WiseInCompany\n",
      "WiseInCompanyWiseInCompany\n"
     ]
    }
   ],
   "source": [
    "# 문자열 연산하기\n",
    "a = \"Wise\"\n",
    "b = \"InCompany\"\n",
    "print(a+b)\n",
    "a = \"WiseInCompany\"\n",
    "print(a*2)"
   ]
  },
  {
   "cell_type": "code",
   "execution_count": 8,
   "id": "f8ae4388",
   "metadata": {},
   "outputs": [
    {
     "name": "stdout",
     "output_type": "stream",
     "text": [
      "e\n",
      "a\n",
      "Wise In Company\n",
      " In Company\n",
      "Wise\n"
     ]
    }
   ],
   "source": [
    "# 문자열 인덱싱 및 슬라이싱\n",
    "a = \"Wise In Company\"\n",
    "print(a[3]) \n",
    "print(a[-3]) \n",
    "print(a[0:15])\n",
    "print(a[4:])\n",
    "print(a[0:4])"
   ]
  },
  {
   "cell_type": "markdown",
   "id": "f9a4073f",
   "metadata": {},
   "source": [
    "## 리스트(List)"
   ]
  },
  {
   "cell_type": "code",
   "execution_count": 10,
   "id": "a25eec1b",
   "metadata": {},
   "outputs": [
    {
     "name": "stdout",
     "output_type": "stream",
     "text": [
      "a : [1, 2, 3, 4, 5]\n",
      "a[0] : 1\n",
      "a[-1] : 5\n",
      "a[0:5] : [1, 2, 3, 4, 5]\n",
      "a[:5] : [1, 2, 3, 4, 5]\n",
      "a[2:] : [3, 4, 5]\n"
     ]
    }
   ],
   "source": [
    "# 리스트\n",
    "a = [1,2,3,4,5]\n",
    "print(f'a : {a}')\n",
    "# 리스트 인덱싱\n",
    "a = [1,2,3,4,5]\n",
    "print(f'a[0] : {a[0]}')\n",
    "print(f'a[-1] : {a[-1]}')\n",
    "# 리스트 슬라이싱\n",
    "a = [1,2,3,4,5]\n",
    "print(f'a[0:5] : {a[0:5]}')\n",
    "print(f'a[:5] : {a[:5]}')\n",
    "print(f'a[2:] : {a[2:]}')"
   ]
  },
  {
   "cell_type": "code",
   "execution_count": 15,
   "id": "5fd5c152",
   "metadata": {},
   "outputs": [
    {
     "name": "stdout",
     "output_type": "stream",
     "text": [
      "a.append(6) [1, 2, 3, 4, 5, 6]\n",
      "a[0] = 0 : [0, 2, 3, 4, 5, 6]\n",
      "del a[1] : [0, 3, 4, 5, 6]\n"
     ]
    }
   ],
   "source": [
    "# 리스트 요소 추가/수정/삭제\n",
    "\n",
    "a = [1,2,3,4,5]\n",
    "a.append(6) # 추가\n",
    "print(f'a.append(6) {a}')\n",
    "a[0] = 0 # 1 -> 0\n",
    "print(f'a[0] = 0 : {a}')\n",
    "del a[1] # 1번째 자리 삭제\n",
    "print(f'del a[1] : {a}')"
   ]
  },
  {
   "cell_type": "code",
   "execution_count": 16,
   "id": "a833990b",
   "metadata": {},
   "outputs": [
    {
     "name": "stdout",
     "output_type": "stream",
     "text": [
      "[1, 2, 3, 4, 5]\n",
      "[1, 2, 1, 2, 1, 2]\n"
     ]
    }
   ],
   "source": [
    "# 리스트 병합 및 반복\n",
    "a = [1, 2]\n",
    "b = [3, 4, 5]\n",
    "c = a + b\n",
    "print(c)\n",
    "d = a*3\n",
    "print(d)"
   ]
  },
  {
   "cell_type": "markdown",
   "id": "7af217e5",
   "metadata": {},
   "source": [
    "## 튜플(Tuple)\n",
    "-> 소괄호( )"
   ]
  },
  {
   "cell_type": "code",
   "execution_count": 17,
   "id": "5ed2246b",
   "metadata": {},
   "outputs": [
    {
     "name": "stdout",
     "output_type": "stream",
     "text": [
      "2\n",
      "(1, 2, 3)\n"
     ]
    }
   ],
   "source": [
    "# 튜플\n",
    "t = (1, 2, 3, 4, 5)\n",
    "# 튜플 인덱싱 및 슬라이싱\n",
    "t1 = (1, 2, 3)\n",
    "print(t[1]) # 인덱싱\n",
    "print(t[0:3]) # 슬라이싱"
   ]
  },
  {
   "cell_type": "code",
   "execution_count": 18,
   "id": "67c1e833",
   "metadata": {},
   "outputs": [
    {
     "name": "stdout",
     "output_type": "stream",
     "text": [
      "(1, 2, 3, 4, 5)\n",
      "(1, 2, 1, 2, 1, 2)\n"
     ]
    }
   ],
   "source": [
    "# 튜플 병합 및 반복\n",
    "a = (1, 2)\n",
    "b = (3, 4, 5)\n",
    "c = a + b\n",
    "print(c)\n",
    "d = a * 3\n",
    "print(d)"
   ]
  },
  {
   "cell_type": "code",
   "execution_count": 21,
   "id": "42fb6520",
   "metadata": {},
   "outputs": [
    {
     "name": "stdout",
     "output_type": "stream",
     "text": [
      "('David', 'Kim')\n",
      "listname : Kim , firstname : David\n"
     ]
    }
   ],
   "source": [
    "# 튜플 변수 할당\n",
    "name = (\"David\", \"Kim\")\n",
    "print(name)\n",
    "firstname, lastname = (\"David\", \"Kim\")\n",
    "print(f'listname : {lastname} , firstname : {firstname}')"
   ]
  },
  {
   "cell_type": "markdown",
   "id": "dc3bf7e1",
   "metadata": {},
   "source": [
    "## 집합(Set)\n",
    "-> 중복된 값이 들어가지 않는 자료형  \n",
    "-> 중괄호({ })로 표현  \n",
    "-> 차집합, 합집합, 교집합( -, +, & )등으로 집합 목록으로 변경가능  "
   ]
  },
  {
   "cell_type": "code",
   "execution_count": 22,
   "id": "e494fa28",
   "metadata": {},
   "outputs": [
    {
     "name": "stdout",
     "output_type": "stream",
     "text": [
      "{1, 2, 3}\n"
     ]
    }
   ],
   "source": [
    "# 집합\n",
    "set = {1, 1, 2, 3}\n",
    "print(set)"
   ]
  },
  {
   "cell_type": "code",
   "execution_count": 23,
   "id": "4a4e8301",
   "metadata": {},
   "outputs": [
    {
     "data": {
      "text/plain": [
       "{1, 2, 3, 4}"
      ]
     },
     "execution_count": 23,
     "metadata": {},
     "output_type": "execute_result"
    }
   ],
   "source": [
    "# 집합 추가 및 삭제1\n",
    "set = {1, 1, 2, 3}\n",
    "set.add(4) # 요소 추가\n",
    "set"
   ]
  },
  {
   "cell_type": "code",
   "execution_count": 24,
   "id": "711874cd",
   "metadata": {},
   "outputs": [
    {
     "data": {
      "text/plain": [
       "{1, 2, 3, 4, 5, 6}"
      ]
     },
     "execution_count": 24,
     "metadata": {},
     "output_type": "execute_result"
    }
   ],
   "source": [
    "# 집합 추가 및 삭제2\n",
    "set = {1, 1, 2, 3}\n",
    "set.update({4, 5, 6}) # 요소 여러 개 추가\n",
    "set"
   ]
  },
  {
   "cell_type": "code",
   "execution_count": 25,
   "id": "e59468e8",
   "metadata": {},
   "outputs": [
    {
     "data": {
      "text/plain": [
       "{2, 3, 4, 5, 6}"
      ]
     },
     "execution_count": 25,
     "metadata": {},
     "output_type": "execute_result"
    }
   ],
   "source": [
    "# 요소 하나 삭제\n",
    "set.remove(1)\n",
    "set"
   ]
  },
  {
   "cell_type": "code",
   "execution_count": 26,
   "id": "9d4394c9",
   "metadata": {},
   "outputs": [
    {
     "data": {
      "text/plain": [
       "set()"
      ]
     },
     "execution_count": 26,
     "metadata": {},
     "output_type": "execute_result"
    }
   ],
   "source": [
    "set.clear()\n",
    "set"
   ]
  },
  {
   "cell_type": "code",
   "execution_count": 27,
   "id": "80a912f8",
   "metadata": {},
   "outputs": [
    {
     "name": "stdout",
     "output_type": "stream",
     "text": [
      "{1, 3}\n",
      "{1, 2, 3, 4}\n",
      "{2}\n"
     ]
    }
   ],
   "source": [
    "# 집합 연산\n",
    "a = {1, 2, 3}\n",
    "b = {1, 3, 4}\n",
    "\n",
    "# 교집합\n",
    "c = a & b\n",
    "print(c)\n",
    "\n",
    "# 합집합\n",
    "d = a|b\n",
    "print(d)\n",
    "\n",
    "# 차집합\n",
    "e = a-b\n",
    "print(e)"
   ]
  },
  {
   "cell_type": "markdown",
   "id": "f2819d77",
   "metadata": {},
   "source": [
    "## 사전(Dictionary)\n",
    "-> 키(Key)와 값(Value)으로 이루어진 자료형  \n",
    "-> 집합처럼 중괄호로({ })로 표현"
   ]
  },
  {
   "cell_type": "code",
   "execution_count": 28,
   "id": "d5de496d",
   "metadata": {},
   "outputs": [
    {
     "data": {
      "text/plain": [
       "90"
      ]
     },
     "execution_count": 28,
     "metadata": {},
     "output_type": "execute_result"
    }
   ],
   "source": [
    "# 사전\n",
    "test = {\"Kim\" : 90, \"Jeong\" : 80, \"Park\" : 75}\n",
    "test[\"Kim\"] # 키 이용"
   ]
  },
  {
   "cell_type": "code",
   "execution_count": 32,
   "id": "bfdca94c",
   "metadata": {},
   "outputs": [
    {
     "name": "stdout",
     "output_type": "stream",
     "text": [
      "{'Kim': 90, 'Jeong': 85, 'Park': 75, 'Cho': 95}\n",
      "{'Kim': 90, 'Jeong': 85, 'Cho': 95}\n"
     ]
    }
   ],
   "source": [
    "# 사전 추가/수정/삭제\n",
    "test = {\"Kim\" : 90, \"Jeong\" : 80, \"Park\" : 75}\n",
    "test[\"Jeong\"] = 85\n",
    "test[\"Cho\"] = 95\n",
    "print(test)\n",
    "del test[\"Park\"]\n",
    "print(test)"
   ]
  },
  {
   "cell_type": "code",
   "execution_count": 33,
   "id": "0319beed",
   "metadata": {},
   "outputs": [
    {
     "name": "stdout",
     "output_type": "stream",
     "text": [
      "dict_keys(['Kim', 'Jeong', 'Park'])\n",
      "dict_values([90, 80, 75])\n"
     ]
    }
   ],
   "source": [
    "# 키 또는 값 가져오기\n",
    "test = {\"Kim\" : 90, \"Jeong\" : 80, \"Park\" : 75}\n",
    "print(test.keys()) # 키 가져오기\n",
    "print(test.values()) # 값 가져오기"
   ]
  },
  {
   "cell_type": "markdown",
   "id": "cd48660e",
   "metadata": {},
   "source": [
    "## if문"
   ]
  },
  {
   "cell_type": "code",
   "execution_count": 35,
   "id": "0b7d7474",
   "metadata": {},
   "outputs": [],
   "source": [
    "# if (조건문):  \n",
    "#     명령어 1  \n",
    "# elif (조건문):  \n",
    "#     명령어 2  \n",
    "# else:  \n",
    "#     명령어 3  \n",
    "###################################  \n",
    "# x < y : x가 y보다 작다\n",
    "# x > y : x가 y보다 크다\n",
    "# x == y : x와 y가 같다\n",
    "# x != y : x와 y가 같지 않다\n",
    "# x >= y : x가 y보다 크거나 같다\n",
    "# x <= y : x가 y보다 작너나 같다."
   ]
  },
  {
   "cell_type": "code",
   "execution_count": 36,
   "id": "d9526a05",
   "metadata": {},
   "outputs": [
    {
     "name": "stdout",
     "output_type": "stream",
     "text": [
      "Walk\n"
     ]
    }
   ],
   "source": [
    "# if문 예시\n",
    "money = 4000\n",
    "if money == 3000:\n",
    "    print(\"KTX\")\n",
    "elif money >= 5000:\n",
    "    print('Bus')\n",
    "else:\n",
    "    print('Walk')"
   ]
  },
  {
   "cell_type": "markdown",
   "id": "a482b366",
   "metadata": {},
   "source": [
    "## 반복문"
   ]
  },
  {
   "cell_type": "code",
   "execution_count": 1,
   "id": "04db6b7a",
   "metadata": {},
   "outputs": [
    {
     "name": "stdout",
     "output_type": "stream",
     "text": [
      "55\n"
     ]
    }
   ],
   "source": [
    "# for문 기본\n",
    "sum = 0\n",
    "for i in range(11):\n",
    "    sum = sum+i\n",
    "print(sum)"
   ]
  },
  {
   "cell_type": "code",
   "execution_count": 2,
   "id": "8a009cca",
   "metadata": {},
   "outputs": [
    {
     "name": "stdout",
     "output_type": "stream",
     "text": [
      "Wise\n",
      "In\n",
      "Company\n"
     ]
    }
   ],
   "source": [
    "# for문 리스트 출력\n",
    "list = [\"Wise\", \"In\", \"Company\"]\n",
    "for s in list:\n",
    "    print(s)"
   ]
  },
  {
   "cell_type": "code",
   "execution_count": 3,
   "id": "f9e0ca81",
   "metadata": {},
   "outputs": [
    {
     "name": "stdout",
     "output_type": "stream",
     "text": [
      "0\n",
      "1\n",
      "2\n",
      "3\n",
      "4\n",
      "5\n",
      "6\n",
      "7\n",
      "8\n",
      "9\n"
     ]
    }
   ],
   "source": [
    "# while문 기본\n",
    "i = 0\n",
    "while i < 10:\n",
    "    print(i)\n",
    "    i = i+1"
   ]
  },
  {
   "cell_type": "code",
   "execution_count": 5,
   "id": "cbbca611",
   "metadata": {},
   "outputs": [
    {
     "name": "stdout",
     "output_type": "stream",
     "text": [
      "apple\n",
      "banana\n",
      "bread\n"
     ]
    }
   ],
   "source": [
    "# while문 리스트 출력\n",
    "food = ['apple','banana','bread']\n",
    "i = 0\n",
    "while i < len(food):\n",
    "    print(food[i])\n",
    "    i = i+1"
   ]
  },
  {
   "cell_type": "markdown",
   "id": "54bec43d",
   "metadata": {},
   "source": [
    "# Section4 | Numpy 함수\n",
    "-> 과학 계산을 위한 파이썬 데이터 분석 패키지   \n",
    "-> 다차원 배열을 처리하는데 필요한 여러 유용한 기능을 제공  "
   ]
  },
  {
   "cell_type": "markdown",
   "id": "cf5a3576",
   "metadata": {},
   "source": [
    "| 함 수 | 설 명 | 사용법 |  \n",
    "|:---:|:---:|:---:|  \n",
    "| abs, fabs | 절대값을 리턴, 복소수가 아닌 경우에는 빠른 연산을 위해 fabs이용 | numpy.sb(arr)|\n",
    "| sqrt | 제곱근 ( 루트 )을 계산 | numpy.sqrt(arr)|\n",
    "| square | 제곱 계산 | numpy.square(arr) |\n",
    "| exp | 지수 계산 | numpy.exp(arr) |\n",
    "| Log | 로그 계산 | numpy.Log(arr) |\n",
    "| add | 두 배열을 더한다 | numpy.add(arr1, arr2)\n",
    "| subtract | 첫 번째 배열에서 두 번째 배열을 뺀다. | numpy.subtract(arr1, arr2) |\n",
    "| multiply | 두 배열을 곱한다. | numpy.multiply(arr1, arr2) |"
   ]
  },
  {
   "cell_type": "markdown",
   "id": "d19b7bcd",
   "metadata": {},
   "source": [
    "## numpy 배열 생성"
   ]
  },
  {
   "cell_type": "code",
   "execution_count": 3,
   "id": "df3ad79b",
   "metadata": {},
   "outputs": [
    {
     "name": "stdout",
     "output_type": "stream",
     "text": [
      "[1 2 3 4]\n"
     ]
    }
   ],
   "source": [
    "# numpy 배열 기본\n",
    "import numpy as np\n",
    "v1 = np.array([1,2,3,4])\n",
    "print(v1)"
   ]
  },
  {
   "cell_type": "code",
   "execution_count": 4,
   "id": "e1572367",
   "metadata": {},
   "outputs": [
    {
     "name": "stdout",
     "output_type": "stream",
     "text": [
      "[0 1 2 3 4]\n",
      "[1 3 5 7 9]\n",
      "[3.5 5.5 7.5 9.5]\n",
      "[ 1  9 25 49 81]\n",
      "[  1  27 125 343 729]\n"
     ]
    }
   ],
   "source": [
    "# np.arange(시작 값, 끝 깞, 간격) or np.arange(끝값)\n",
    "# 연속되거나 일정한 규칙을 가진 숫자\n",
    "v1 = np.arange(5)\n",
    "print(v1)\n",
    "# 연속되거나 일정한 규칙을 가진 숫자, 데이터 형태 지정\n",
    "v2 = np.arange(1, 10, 2, dtype = int)\n",
    "v3 = np.arange(3.5, 10.5, 2, dtype = float)\n",
    "print(v2)\n",
    "print(v3)\n",
    "# 제곱값 생성\n",
    "v4 = np.arange(1, 10, 2) **2\n",
    "print(v4)\n",
    "# 세제곱값 생성\n",
    "v5 = np.arange(1, 10, 2) **3\n",
    "print(v5)"
   ]
  },
  {
   "cell_type": "markdown",
   "id": "755f787f",
   "metadata": {},
   "source": [
    "## 행렬 만들기\n",
    "명령어 : np.reshape(차원, 행, 렬, order = 'C' or 'F')  \n",
    "order = 'C' : 값을 행부터 채워 넣음(기본값, 생략 가능)  \n",
    "order = 'F': 값을 열부터 채워 넣음"
   ]
  },
  {
   "cell_type": "code",
   "execution_count": 7,
   "id": "69be0aca",
   "metadata": {},
   "outputs": [
    {
     "name": "stdout",
     "output_type": "stream",
     "text": [
      "[ 0  1  2  3  4  5  6  7  8  9 10 11]\n",
      "[[ 0  1  2  3  4  5]\n",
      " [ 6  7  8  9 10 11]]\n",
      "[[ 0  2  4  6  8 10]\n",
      " [ 1  3  5  7  9 11]]\n"
     ]
    }
   ],
   "source": [
    "# 행렬만들기\n",
    "v1 = np.arange(12)\n",
    "print(v1)\n",
    "# order = 'C' (default) 행부터 집어 넣음\n",
    "v2 = v1.reshape(2, 6)\n",
    "print(v2)\n",
    "# order = 'F' 열부터 집어 넣음\n",
    "v3 = v1.reshape(2, 6, order = 'F')\n",
    "print(v3)"
   ]
  },
  {
   "cell_type": "markdown",
   "id": "c7f6d4f5",
   "metadata": {},
   "source": [
    "np.add(변수명, 변수명) # 덧셈  \n",
    "np.subtract(변수명, 변수명) # 뺄셈  \n",
    "np.multiply(변수명, 변수명) # 곱셈  \n",
    "np.dot(변수명, 변수명) # 행렬 연산  "
   ]
  },
  {
   "cell_type": "code",
   "execution_count": 13,
   "id": "6fee0a65",
   "metadata": {},
   "outputs": [
    {
     "name": "stdout",
     "output_type": "stream",
     "text": [
      "덧셈 \n",
      " [[2 4]\n",
      " [6 8]]\n",
      "뺄셈 \n",
      " [[0 0]\n",
      " [0 0]]\n",
      "곱셈 \n",
      " [[ 1  4]\n",
      " [ 9 16]]\n",
      "행렬연산 \n",
      " [[ 7 10]\n",
      " [15 22]]\n"
     ]
    }
   ],
   "source": [
    "# 행렬계산\n",
    "v1 = np.arange(1,5).reshape(2,2)\n",
    "print(f'덧셈 \\n {np.add(v1,v1)}')\n",
    "print(f'뺄셈 \\n {np.subtract(v1,v1)}')\n",
    "print(f'곱셈 \\n {np.multiply(v1,v1)}')\n",
    "print(f'행렬연산 \\n {np.dot(v1,v1)}')"
   ]
  },
  {
   "cell_type": "markdown",
   "id": "b182f55d",
   "metadata": {},
   "source": [
    "## 다차원 배열 만들기"
   ]
  },
  {
   "cell_type": "code",
   "execution_count": 16,
   "id": "c0e93d0e",
   "metadata": {},
   "outputs": [
    {
     "name": "stdout",
     "output_type": "stream",
     "text": [
      "[ 0  1  2  3  4  5  6  7  8  9 10 11]\n",
      "[[[ 0  6]\n",
      "  [ 2  8]\n",
      "  [ 4 10]]\n",
      "\n",
      " [[ 1  7]\n",
      "  [ 3  9]\n",
      "  [ 5 11]]]\n"
     ]
    }
   ],
   "source": [
    "# 다차원 행렬 만들기\n",
    "v1 = np.arange(12)\n",
    "print(v1)\n",
    "v2 = v1.reshape(2, 3, 2, order = 'F')\n",
    "print(v2)"
   ]
  },
  {
   "cell_type": "code",
   "execution_count": 20,
   "id": "f202cc1a",
   "metadata": {
    "scrolled": true
   },
   "outputs": [
    {
     "name": "stdout",
     "output_type": "stream",
     "text": [
      "[3.5 5.5 7.5 9.5]\n",
      "[[1 2]\n",
      " [3 4]]\n",
      "9.5\n",
      "1\n",
      "float64\n",
      "(2, 2)\n"
     ]
    }
   ],
   "source": [
    "# 명령어 : np.amax(변수명) (최대값); np.amin(변수명) 최소값\n",
    "# 명령어 : 변수명.dtype\n",
    "# 명령어 : 변수명.shape\n",
    "# 다차원 배열에서 요소의 최대값 및 최소값 반환\n",
    "v3 = np.arange(3.5, 10.5, 2, dtype = float)\n",
    "print(v3)\n",
    "v4 = np.arange(1,5).reshape(2,2)\n",
    "print(v4)\n",
    "print(np.amax(v3))\n",
    "print(np.amin(v4))\n",
    "print(v3.dtype)\n",
    "print(v4.shape)"
   ]
  },
  {
   "cell_type": "markdown",
   "id": "905305ed",
   "metadata": {},
   "source": [
    "# Section 05 | pandas와 기본 데이터 처리\n",
    "Pandas  \n",
    "I. Series  \n",
    "-> index와 value의 형태를 갖고 있는 pandas의 자료구조  \n",
    "II. DataFrmae  "
   ]
  },
  {
   "cell_type": "code",
   "execution_count": 120,
   "id": "044c155f",
   "metadata": {},
   "outputs": [],
   "source": [
    "continent = np.random.randint(2,size=(63))\n",
    "brand = np.random.randint(3, size = (63))\n",
    "size = np.random.uniform(0.0,35.0, size = 63)\n",
    "period = np.random.uniform(0.0,65.0, size = 63)\n",
    "price = np.random.randint(200, size = (63))"
   ]
  },
  {
   "cell_type": "code",
   "execution_count": 121,
   "id": "17f93098",
   "metadata": {},
   "outputs": [],
   "source": [
    "#[ x for x in (continent,brand,size,period,price)]\n",
    "df = pd.DataFrame((zip(continent,brand,size,period,price)), columns = ['continent','brand','size','period','price'])"
   ]
  },
  {
   "cell_type": "code",
   "execution_count": 122,
   "id": "4b2c978a",
   "metadata": {},
   "outputs": [],
   "source": [
    "df.to_csv('./EX_GrapeData.csv', index = False)"
   ]
  },
  {
   "cell_type": "code",
   "execution_count": 123,
   "id": "d59081a8",
   "metadata": {},
   "outputs": [
    {
     "data": {
      "text/html": [
       "<div>\n",
       "<style scoped>\n",
       "    .dataframe tbody tr th:only-of-type {\n",
       "        vertical-align: middle;\n",
       "    }\n",
       "\n",
       "    .dataframe tbody tr th {\n",
       "        vertical-align: top;\n",
       "    }\n",
       "\n",
       "    .dataframe thead th {\n",
       "        text-align: right;\n",
       "    }\n",
       "</style>\n",
       "<table border=\"1\" class=\"dataframe\">\n",
       "  <thead>\n",
       "    <tr style=\"text-align: right;\">\n",
       "      <th></th>\n",
       "      <th>continent</th>\n",
       "      <th>brand</th>\n",
       "      <th>size</th>\n",
       "      <th>period</th>\n",
       "      <th>price</th>\n",
       "    </tr>\n",
       "  </thead>\n",
       "  <tbody>\n",
       "    <tr>\n",
       "      <th>0</th>\n",
       "      <td>0</td>\n",
       "      <td>1</td>\n",
       "      <td>10.743977</td>\n",
       "      <td>27.078756</td>\n",
       "      <td>90</td>\n",
       "    </tr>\n",
       "    <tr>\n",
       "      <th>1</th>\n",
       "      <td>1</td>\n",
       "      <td>0</td>\n",
       "      <td>23.730386</td>\n",
       "      <td>46.649410</td>\n",
       "      <td>92</td>\n",
       "    </tr>\n",
       "    <tr>\n",
       "      <th>2</th>\n",
       "      <td>1</td>\n",
       "      <td>1</td>\n",
       "      <td>23.396368</td>\n",
       "      <td>5.288003</td>\n",
       "      <td>103</td>\n",
       "    </tr>\n",
       "    <tr>\n",
       "      <th>3</th>\n",
       "      <td>1</td>\n",
       "      <td>2</td>\n",
       "      <td>20.968568</td>\n",
       "      <td>4.939850</td>\n",
       "      <td>90</td>\n",
       "    </tr>\n",
       "    <tr>\n",
       "      <th>4</th>\n",
       "      <td>0</td>\n",
       "      <td>1</td>\n",
       "      <td>1.256931</td>\n",
       "      <td>24.809650</td>\n",
       "      <td>193</td>\n",
       "    </tr>\n",
       "    <tr>\n",
       "      <th>...</th>\n",
       "      <td>...</td>\n",
       "      <td>...</td>\n",
       "      <td>...</td>\n",
       "      <td>...</td>\n",
       "      <td>...</td>\n",
       "    </tr>\n",
       "    <tr>\n",
       "      <th>58</th>\n",
       "      <td>1</td>\n",
       "      <td>1</td>\n",
       "      <td>24.791871</td>\n",
       "      <td>51.281930</td>\n",
       "      <td>126</td>\n",
       "    </tr>\n",
       "    <tr>\n",
       "      <th>59</th>\n",
       "      <td>0</td>\n",
       "      <td>1</td>\n",
       "      <td>25.445968</td>\n",
       "      <td>10.142605</td>\n",
       "      <td>133</td>\n",
       "    </tr>\n",
       "    <tr>\n",
       "      <th>60</th>\n",
       "      <td>1</td>\n",
       "      <td>0</td>\n",
       "      <td>5.172596</td>\n",
       "      <td>18.332103</td>\n",
       "      <td>193</td>\n",
       "    </tr>\n",
       "    <tr>\n",
       "      <th>61</th>\n",
       "      <td>0</td>\n",
       "      <td>2</td>\n",
       "      <td>33.988714</td>\n",
       "      <td>54.186807</td>\n",
       "      <td>123</td>\n",
       "    </tr>\n",
       "    <tr>\n",
       "      <th>62</th>\n",
       "      <td>0</td>\n",
       "      <td>2</td>\n",
       "      <td>21.737415</td>\n",
       "      <td>28.479418</td>\n",
       "      <td>47</td>\n",
       "    </tr>\n",
       "  </tbody>\n",
       "</table>\n",
       "<p>63 rows × 5 columns</p>\n",
       "</div>"
      ],
      "text/plain": [
       "    continent  brand       size     period  price\n",
       "0           0      1  10.743977  27.078756     90\n",
       "1           1      0  23.730386  46.649410     92\n",
       "2           1      1  23.396368   5.288003    103\n",
       "3           1      2  20.968568   4.939850     90\n",
       "4           0      1   1.256931  24.809650    193\n",
       "..        ...    ...        ...        ...    ...\n",
       "58          1      1  24.791871  51.281930    126\n",
       "59          0      1  25.445968  10.142605    133\n",
       "60          1      0   5.172596  18.332103    193\n",
       "61          0      2  33.988714  54.186807    123\n",
       "62          0      2  21.737415  28.479418     47\n",
       "\n",
       "[63 rows x 5 columns]"
      ]
     },
     "execution_count": 123,
     "metadata": {},
     "output_type": "execute_result"
    }
   ],
   "source": [
    "df"
   ]
  },
  {
   "cell_type": "code",
   "execution_count": 124,
   "id": "934eb440",
   "metadata": {},
   "outputs": [
    {
     "name": "stdout",
     "output_type": "stream",
     "text": [
      "0    1\n",
      "1    3\n",
      "2    5\n",
      "3    7\n",
      "dtype: int64\n",
      "[1 3 5 7]\n",
      "RangeIndex(start=0, stop=4, step=1)\n",
      "a    1\n",
      "b    3\n",
      "c    5\n",
      "d    7\n",
      "dtype: int64\n"
     ]
    }
   ],
   "source": [
    "#pandas 함수 불러오기\n",
    "import pandas as pd\n",
    "from pandas import Series, DataFrame\n",
    "# series 설정\n",
    "a = Series([1, 3, 5, 7])\n",
    "print(a)\n",
    "print(a.values)\n",
    "print(a.index)\n",
    "# index 변경\n",
    "a2 = pd.Series([1, 3, 5, 7], index = ['a', 'b', 'c', 'd'])\n",
    "print(a2)"
   ]
  },
  {
   "cell_type": "markdown",
   "id": "f1295611",
   "metadata": {},
   "source": [
    "### 5.2 데이터 불러오기\n",
    "CSV파일 불러오기 : pd.read_csv('파일명.csv')"
   ]
  },
  {
   "cell_type": "code",
   "execution_count": 125,
   "id": "62082a55",
   "metadata": {},
   "outputs": [
    {
     "data": {
      "text/html": [
       "<div>\n",
       "<style scoped>\n",
       "    .dataframe tbody tr th:only-of-type {\n",
       "        vertical-align: middle;\n",
       "    }\n",
       "\n",
       "    .dataframe tbody tr th {\n",
       "        vertical-align: top;\n",
       "    }\n",
       "\n",
       "    .dataframe thead th {\n",
       "        text-align: right;\n",
       "    }\n",
       "</style>\n",
       "<table border=\"1\" class=\"dataframe\">\n",
       "  <thead>\n",
       "    <tr style=\"text-align: right;\">\n",
       "      <th></th>\n",
       "      <th>continent</th>\n",
       "      <th>brand</th>\n",
       "      <th>size</th>\n",
       "      <th>period</th>\n",
       "      <th>price</th>\n",
       "    </tr>\n",
       "  </thead>\n",
       "  <tbody>\n",
       "    <tr>\n",
       "      <th>0</th>\n",
       "      <td>0</td>\n",
       "      <td>1</td>\n",
       "      <td>10.743977</td>\n",
       "      <td>27.078756</td>\n",
       "      <td>90</td>\n",
       "    </tr>\n",
       "    <tr>\n",
       "      <th>1</th>\n",
       "      <td>1</td>\n",
       "      <td>0</td>\n",
       "      <td>23.730386</td>\n",
       "      <td>46.649410</td>\n",
       "      <td>92</td>\n",
       "    </tr>\n",
       "    <tr>\n",
       "      <th>2</th>\n",
       "      <td>1</td>\n",
       "      <td>1</td>\n",
       "      <td>23.396368</td>\n",
       "      <td>5.288003</td>\n",
       "      <td>103</td>\n",
       "    </tr>\n",
       "    <tr>\n",
       "      <th>3</th>\n",
       "      <td>1</td>\n",
       "      <td>2</td>\n",
       "      <td>20.968568</td>\n",
       "      <td>4.939850</td>\n",
       "      <td>90</td>\n",
       "    </tr>\n",
       "    <tr>\n",
       "      <th>4</th>\n",
       "      <td>0</td>\n",
       "      <td>1</td>\n",
       "      <td>1.256931</td>\n",
       "      <td>24.809650</td>\n",
       "      <td>193</td>\n",
       "    </tr>\n",
       "    <tr>\n",
       "      <th>...</th>\n",
       "      <td>...</td>\n",
       "      <td>...</td>\n",
       "      <td>...</td>\n",
       "      <td>...</td>\n",
       "      <td>...</td>\n",
       "    </tr>\n",
       "    <tr>\n",
       "      <th>58</th>\n",
       "      <td>1</td>\n",
       "      <td>1</td>\n",
       "      <td>24.791871</td>\n",
       "      <td>51.281930</td>\n",
       "      <td>126</td>\n",
       "    </tr>\n",
       "    <tr>\n",
       "      <th>59</th>\n",
       "      <td>0</td>\n",
       "      <td>1</td>\n",
       "      <td>25.445968</td>\n",
       "      <td>10.142605</td>\n",
       "      <td>133</td>\n",
       "    </tr>\n",
       "    <tr>\n",
       "      <th>60</th>\n",
       "      <td>1</td>\n",
       "      <td>0</td>\n",
       "      <td>5.172596</td>\n",
       "      <td>18.332103</td>\n",
       "      <td>193</td>\n",
       "    </tr>\n",
       "    <tr>\n",
       "      <th>61</th>\n",
       "      <td>0</td>\n",
       "      <td>2</td>\n",
       "      <td>33.988714</td>\n",
       "      <td>54.186807</td>\n",
       "      <td>123</td>\n",
       "    </tr>\n",
       "    <tr>\n",
       "      <th>62</th>\n",
       "      <td>0</td>\n",
       "      <td>2</td>\n",
       "      <td>21.737415</td>\n",
       "      <td>28.479418</td>\n",
       "      <td>47</td>\n",
       "    </tr>\n",
       "  </tbody>\n",
       "</table>\n",
       "<p>63 rows × 5 columns</p>\n",
       "</div>"
      ],
      "text/plain": [
       "    continent  brand       size     period  price\n",
       "0           0      1  10.743977  27.078756     90\n",
       "1           1      0  23.730386  46.649410     92\n",
       "2           1      1  23.396368   5.288003    103\n",
       "3           1      2  20.968568   4.939850     90\n",
       "4           0      1   1.256931  24.809650    193\n",
       "..        ...    ...        ...        ...    ...\n",
       "58          1      1  24.791871  51.281930    126\n",
       "59          0      1  25.445968  10.142605    133\n",
       "60          1      0   5.172596  18.332103    193\n",
       "61          0      2  33.988714  54.186807    123\n",
       "62          0      2  21.737415  28.479418     47\n",
       "\n",
       "[63 rows x 5 columns]"
      ]
     },
     "execution_count": 125,
     "metadata": {},
     "output_type": "execute_result"
    }
   ],
   "source": [
    "# csv파일을 pandas DataFrame 형태로 불러오기\n",
    "df = pd.read_csv('EX_GrapeData.csv')\n",
    "df"
   ]
  },
  {
   "cell_type": "code",
   "execution_count": 126,
   "id": "caf23808",
   "metadata": {},
   "outputs": [],
   "source": [
    "# 엑셀파일을 pandas DataFrame 형태로 불러오기\n",
    "# df = pd.read_excel('EX_GrapeData.xlsx')\n",
    "# df"
   ]
  },
  {
   "cell_type": "code",
   "execution_count": 127,
   "id": "b04f50aa",
   "metadata": {},
   "outputs": [],
   "source": [
    "# 한글이 깨지는 경우\n",
    "# df = pd.read_csv('cosmetics_.csv', encoding = 'euc-kr')\n",
    "# df = pd.read_excel('cosmetics_.xlsx', encoding = 'euc-kr')"
   ]
  },
  {
   "cell_type": "markdown",
   "id": "eb1de652",
   "metadata": {},
   "source": [
    "### DataFrame 확인하기"
   ]
  },
  {
   "cell_type": "code",
   "execution_count": 128,
   "id": "e1b29fea",
   "metadata": {},
   "outputs": [
    {
     "data": {
      "text/html": [
       "<div>\n",
       "<style scoped>\n",
       "    .dataframe tbody tr th:only-of-type {\n",
       "        vertical-align: middle;\n",
       "    }\n",
       "\n",
       "    .dataframe tbody tr th {\n",
       "        vertical-align: top;\n",
       "    }\n",
       "\n",
       "    .dataframe thead th {\n",
       "        text-align: right;\n",
       "    }\n",
       "</style>\n",
       "<table border=\"1\" class=\"dataframe\">\n",
       "  <thead>\n",
       "    <tr style=\"text-align: right;\">\n",
       "      <th></th>\n",
       "      <th>continent</th>\n",
       "      <th>brand</th>\n",
       "      <th>size</th>\n",
       "      <th>period</th>\n",
       "      <th>price</th>\n",
       "    </tr>\n",
       "  </thead>\n",
       "  <tbody>\n",
       "    <tr>\n",
       "      <th>0</th>\n",
       "      <td>0</td>\n",
       "      <td>1</td>\n",
       "      <td>10.743977</td>\n",
       "      <td>27.078756</td>\n",
       "      <td>90</td>\n",
       "    </tr>\n",
       "    <tr>\n",
       "      <th>1</th>\n",
       "      <td>1</td>\n",
       "      <td>0</td>\n",
       "      <td>23.730386</td>\n",
       "      <td>46.649410</td>\n",
       "      <td>92</td>\n",
       "    </tr>\n",
       "    <tr>\n",
       "      <th>2</th>\n",
       "      <td>1</td>\n",
       "      <td>1</td>\n",
       "      <td>23.396368</td>\n",
       "      <td>5.288003</td>\n",
       "      <td>103</td>\n",
       "    </tr>\n",
       "    <tr>\n",
       "      <th>3</th>\n",
       "      <td>1</td>\n",
       "      <td>2</td>\n",
       "      <td>20.968568</td>\n",
       "      <td>4.939850</td>\n",
       "      <td>90</td>\n",
       "    </tr>\n",
       "    <tr>\n",
       "      <th>4</th>\n",
       "      <td>0</td>\n",
       "      <td>1</td>\n",
       "      <td>1.256931</td>\n",
       "      <td>24.809650</td>\n",
       "      <td>193</td>\n",
       "    </tr>\n",
       "  </tbody>\n",
       "</table>\n",
       "</div>"
      ],
      "text/plain": [
       "   continent  brand       size     period  price\n",
       "0          0      1  10.743977  27.078756     90\n",
       "1          1      0  23.730386  46.649410     92\n",
       "2          1      1  23.396368   5.288003    103\n",
       "3          1      2  20.968568   4.939850     90\n",
       "4          0      1   1.256931  24.809650    193"
      ]
     },
     "execution_count": 128,
     "metadata": {},
     "output_type": "execute_result"
    }
   ],
   "source": [
    "# 데이터 프레임 처음부터 ~개의 행만 불러오기\n",
    "# 명령어 : 변수명.head(불러올 행 개수, 공백시 5개)\n",
    "df.head()"
   ]
  },
  {
   "cell_type": "code",
   "execution_count": 129,
   "id": "3ab32785",
   "metadata": {},
   "outputs": [
    {
     "data": {
      "text/html": [
       "<div>\n",
       "<style scoped>\n",
       "    .dataframe tbody tr th:only-of-type {\n",
       "        vertical-align: middle;\n",
       "    }\n",
       "\n",
       "    .dataframe tbody tr th {\n",
       "        vertical-align: top;\n",
       "    }\n",
       "\n",
       "    .dataframe thead th {\n",
       "        text-align: right;\n",
       "    }\n",
       "</style>\n",
       "<table border=\"1\" class=\"dataframe\">\n",
       "  <thead>\n",
       "    <tr style=\"text-align: right;\">\n",
       "      <th></th>\n",
       "      <th>continent</th>\n",
       "      <th>brand</th>\n",
       "      <th>size</th>\n",
       "      <th>period</th>\n",
       "      <th>price</th>\n",
       "    </tr>\n",
       "  </thead>\n",
       "  <tbody>\n",
       "    <tr>\n",
       "      <th>58</th>\n",
       "      <td>1</td>\n",
       "      <td>1</td>\n",
       "      <td>24.791871</td>\n",
       "      <td>51.281930</td>\n",
       "      <td>126</td>\n",
       "    </tr>\n",
       "    <tr>\n",
       "      <th>59</th>\n",
       "      <td>0</td>\n",
       "      <td>1</td>\n",
       "      <td>25.445968</td>\n",
       "      <td>10.142605</td>\n",
       "      <td>133</td>\n",
       "    </tr>\n",
       "    <tr>\n",
       "      <th>60</th>\n",
       "      <td>1</td>\n",
       "      <td>0</td>\n",
       "      <td>5.172596</td>\n",
       "      <td>18.332103</td>\n",
       "      <td>193</td>\n",
       "    </tr>\n",
       "    <tr>\n",
       "      <th>61</th>\n",
       "      <td>0</td>\n",
       "      <td>2</td>\n",
       "      <td>33.988714</td>\n",
       "      <td>54.186807</td>\n",
       "      <td>123</td>\n",
       "    </tr>\n",
       "    <tr>\n",
       "      <th>62</th>\n",
       "      <td>0</td>\n",
       "      <td>2</td>\n",
       "      <td>21.737415</td>\n",
       "      <td>28.479418</td>\n",
       "      <td>47</td>\n",
       "    </tr>\n",
       "  </tbody>\n",
       "</table>\n",
       "</div>"
      ],
      "text/plain": [
       "    continent  brand       size     period  price\n",
       "58          1      1  24.791871  51.281930    126\n",
       "59          0      1  25.445968  10.142605    133\n",
       "60          1      0   5.172596  18.332103    193\n",
       "61          0      2  33.988714  54.186807    123\n",
       "62          0      2  21.737415  28.479418     47"
      ]
     },
     "execution_count": 129,
     "metadata": {},
     "output_type": "execute_result"
    }
   ],
   "source": [
    "# 데이터 프레임 뒤에서부터 ~개의 행만 불러오기\n",
    "# 명령어 : 변수명.tail(불러올 행 개수, 공백시 5개)\n",
    "df.tail()"
   ]
  },
  {
   "cell_type": "code",
   "execution_count": 130,
   "id": "b0225315",
   "metadata": {},
   "outputs": [
    {
     "data": {
      "text/html": [
       "<div>\n",
       "<style scoped>\n",
       "    .dataframe tbody tr th:only-of-type {\n",
       "        vertical-align: middle;\n",
       "    }\n",
       "\n",
       "    .dataframe tbody tr th {\n",
       "        vertical-align: top;\n",
       "    }\n",
       "\n",
       "    .dataframe thead th {\n",
       "        text-align: right;\n",
       "    }\n",
       "</style>\n",
       "<table border=\"1\" class=\"dataframe\">\n",
       "  <thead>\n",
       "    <tr style=\"text-align: right;\">\n",
       "      <th></th>\n",
       "      <th>continent</th>\n",
       "      <th>brand</th>\n",
       "      <th>size</th>\n",
       "      <th>period</th>\n",
       "      <th>price</th>\n",
       "    </tr>\n",
       "  </thead>\n",
       "  <tbody>\n",
       "    <tr>\n",
       "      <th>1</th>\n",
       "      <td>1</td>\n",
       "      <td>0</td>\n",
       "      <td>23.730386</td>\n",
       "      <td>46.649410</td>\n",
       "      <td>92</td>\n",
       "    </tr>\n",
       "    <tr>\n",
       "      <th>2</th>\n",
       "      <td>1</td>\n",
       "      <td>1</td>\n",
       "      <td>23.396368</td>\n",
       "      <td>5.288003</td>\n",
       "      <td>103</td>\n",
       "    </tr>\n",
       "    <tr>\n",
       "      <th>3</th>\n",
       "      <td>1</td>\n",
       "      <td>2</td>\n",
       "      <td>20.968568</td>\n",
       "      <td>4.939850</td>\n",
       "      <td>90</td>\n",
       "    </tr>\n",
       "    <tr>\n",
       "      <th>4</th>\n",
       "      <td>0</td>\n",
       "      <td>1</td>\n",
       "      <td>1.256931</td>\n",
       "      <td>24.809650</td>\n",
       "      <td>193</td>\n",
       "    </tr>\n",
       "  </tbody>\n",
       "</table>\n",
       "</div>"
      ],
      "text/plain": [
       "   continent  brand       size     period  price\n",
       "1          1      0  23.730386  46.649410     92\n",
       "2          1      1  23.396368   5.288003    103\n",
       "3          1      2  20.968568   4.939850     90\n",
       "4          0      1   1.256931  24.809650    193"
      ]
     },
     "execution_count": 130,
     "metadata": {},
     "output_type": "execute_result"
    }
   ],
   "source": [
    "# 데이터 프레임에서 특정한 연속적 행을 확인\n",
    "# 명렁어 : 변수명[처음 출력할 행 : 마지막으로 출력할 행 + 1]\n",
    "# 1에서 4까지 출력\n",
    "df[1:5]"
   ]
  },
  {
   "cell_type": "code",
   "execution_count": 131,
   "id": "b55627ef",
   "metadata": {},
   "outputs": [
    {
     "data": {
      "text/html": [
       "<div>\n",
       "<style scoped>\n",
       "    .dataframe tbody tr th:only-of-type {\n",
       "        vertical-align: middle;\n",
       "    }\n",
       "\n",
       "    .dataframe tbody tr th {\n",
       "        vertical-align: top;\n",
       "    }\n",
       "\n",
       "    .dataframe thead th {\n",
       "        text-align: right;\n",
       "    }\n",
       "</style>\n",
       "<table border=\"1\" class=\"dataframe\">\n",
       "  <thead>\n",
       "    <tr style=\"text-align: right;\">\n",
       "      <th></th>\n",
       "      <th>continent</th>\n",
       "      <th>brand</th>\n",
       "      <th>size</th>\n",
       "      <th>period</th>\n",
       "      <th>price</th>\n",
       "    </tr>\n",
       "  </thead>\n",
       "  <tbody>\n",
       "    <tr>\n",
       "      <th>0</th>\n",
       "      <td>0</td>\n",
       "      <td>1</td>\n",
       "      <td>10.743977</td>\n",
       "      <td>27.078756</td>\n",
       "      <td>90</td>\n",
       "    </tr>\n",
       "    <tr>\n",
       "      <th>1</th>\n",
       "      <td>1</td>\n",
       "      <td>0</td>\n",
       "      <td>23.730386</td>\n",
       "      <td>46.649410</td>\n",
       "      <td>92</td>\n",
       "    </tr>\n",
       "    <tr>\n",
       "      <th>2</th>\n",
       "      <td>1</td>\n",
       "      <td>1</td>\n",
       "      <td>23.396368</td>\n",
       "      <td>5.288003</td>\n",
       "      <td>103</td>\n",
       "    </tr>\n",
       "  </tbody>\n",
       "</table>\n",
       "</div>"
      ],
      "text/plain": [
       "   continent  brand       size     period  price\n",
       "0          0      1  10.743977  27.078756     90\n",
       "1          1      0  23.730386  46.649410     92\n",
       "2          1      1  23.396368   5.288003    103"
      ]
     },
     "execution_count": 131,
     "metadata": {},
     "output_type": "execute_result"
    }
   ],
   "source": [
    "# 처음부터 2까지 출력하기\n",
    "df[:3]"
   ]
  },
  {
   "cell_type": "code",
   "execution_count": 132,
   "id": "eb5da5a6",
   "metadata": {},
   "outputs": [
    {
     "data": {
      "text/html": [
       "<div>\n",
       "<style scoped>\n",
       "    .dataframe tbody tr th:only-of-type {\n",
       "        vertical-align: middle;\n",
       "    }\n",
       "\n",
       "    .dataframe tbody tr th {\n",
       "        vertical-align: top;\n",
       "    }\n",
       "\n",
       "    .dataframe thead th {\n",
       "        text-align: right;\n",
       "    }\n",
       "</style>\n",
       "<table border=\"1\" class=\"dataframe\">\n",
       "  <thead>\n",
       "    <tr style=\"text-align: right;\">\n",
       "      <th></th>\n",
       "      <th>continent</th>\n",
       "      <th>brand</th>\n",
       "      <th>size</th>\n",
       "      <th>period</th>\n",
       "      <th>price</th>\n",
       "    </tr>\n",
       "  </thead>\n",
       "  <tbody>\n",
       "    <tr>\n",
       "      <th>60</th>\n",
       "      <td>1</td>\n",
       "      <td>0</td>\n",
       "      <td>5.172596</td>\n",
       "      <td>18.332103</td>\n",
       "      <td>193</td>\n",
       "    </tr>\n",
       "    <tr>\n",
       "      <th>61</th>\n",
       "      <td>0</td>\n",
       "      <td>2</td>\n",
       "      <td>33.988714</td>\n",
       "      <td>54.186807</td>\n",
       "      <td>123</td>\n",
       "    </tr>\n",
       "    <tr>\n",
       "      <th>62</th>\n",
       "      <td>0</td>\n",
       "      <td>2</td>\n",
       "      <td>21.737415</td>\n",
       "      <td>28.479418</td>\n",
       "      <td>47</td>\n",
       "    </tr>\n",
       "  </tbody>\n",
       "</table>\n",
       "</div>"
      ],
      "text/plain": [
       "    continent  brand       size     period  price\n",
       "60          1      0   5.172596  18.332103    193\n",
       "61          0      2  33.988714  54.186807    123\n",
       "62          0      2  21.737415  28.479418     47"
      ]
     },
     "execution_count": 132,
     "metadata": {},
     "output_type": "execute_result"
    }
   ],
   "source": [
    "# 60에서 끝까지 출력\n",
    "df[60:]"
   ]
  },
  {
   "cell_type": "code",
   "execution_count": 133,
   "id": "f19833e4",
   "metadata": {},
   "outputs": [
    {
     "data": {
      "text/plain": [
       "0      90\n",
       "1      92\n",
       "2     103\n",
       "3      90\n",
       "4     193\n",
       "     ... \n",
       "58    126\n",
       "59    133\n",
       "60    193\n",
       "61    123\n",
       "62     47\n",
       "Name: price, Length: 63, dtype: int64"
      ]
     },
     "execution_count": 133,
     "metadata": {},
     "output_type": "execute_result"
    }
   ],
   "source": [
    "# 열 불러오기\n",
    "# I. 데이터셋명[['열 이름']\n",
    "# II. 데이터셋명[데이터셋명.columns[[열 번호]]\n",
    "# III. 데이터셋명.loc[:, 첫 행 이름; 끝 열 이름]\n",
    "\n",
    "# price 변수(열) 불러오기 : series 형태\n",
    "df['price'] # df.price으로 대체 가능"
   ]
  },
  {
   "cell_type": "code",
   "execution_count": 134,
   "id": "3d96ebac",
   "metadata": {},
   "outputs": [
    {
     "data": {
      "text/html": [
       "<div>\n",
       "<style scoped>\n",
       "    .dataframe tbody tr th:only-of-type {\n",
       "        vertical-align: middle;\n",
       "    }\n",
       "\n",
       "    .dataframe tbody tr th {\n",
       "        vertical-align: top;\n",
       "    }\n",
       "\n",
       "    .dataframe thead th {\n",
       "        text-align: right;\n",
       "    }\n",
       "</style>\n",
       "<table border=\"1\" class=\"dataframe\">\n",
       "  <thead>\n",
       "    <tr style=\"text-align: right;\">\n",
       "      <th></th>\n",
       "      <th>price</th>\n",
       "    </tr>\n",
       "  </thead>\n",
       "  <tbody>\n",
       "    <tr>\n",
       "      <th>0</th>\n",
       "      <td>90</td>\n",
       "    </tr>\n",
       "    <tr>\n",
       "      <th>1</th>\n",
       "      <td>92</td>\n",
       "    </tr>\n",
       "    <tr>\n",
       "      <th>2</th>\n",
       "      <td>103</td>\n",
       "    </tr>\n",
       "    <tr>\n",
       "      <th>3</th>\n",
       "      <td>90</td>\n",
       "    </tr>\n",
       "    <tr>\n",
       "      <th>4</th>\n",
       "      <td>193</td>\n",
       "    </tr>\n",
       "    <tr>\n",
       "      <th>...</th>\n",
       "      <td>...</td>\n",
       "    </tr>\n",
       "    <tr>\n",
       "      <th>58</th>\n",
       "      <td>126</td>\n",
       "    </tr>\n",
       "    <tr>\n",
       "      <th>59</th>\n",
       "      <td>133</td>\n",
       "    </tr>\n",
       "    <tr>\n",
       "      <th>60</th>\n",
       "      <td>193</td>\n",
       "    </tr>\n",
       "    <tr>\n",
       "      <th>61</th>\n",
       "      <td>123</td>\n",
       "    </tr>\n",
       "    <tr>\n",
       "      <th>62</th>\n",
       "      <td>47</td>\n",
       "    </tr>\n",
       "  </tbody>\n",
       "</table>\n",
       "<p>63 rows × 1 columns</p>\n",
       "</div>"
      ],
      "text/plain": [
       "    price\n",
       "0      90\n",
       "1      92\n",
       "2     103\n",
       "3      90\n",
       "4     193\n",
       "..    ...\n",
       "58    126\n",
       "59    133\n",
       "60    193\n",
       "61    123\n",
       "62     47\n",
       "\n",
       "[63 rows x 1 columns]"
      ]
     },
     "execution_count": 134,
     "metadata": {},
     "output_type": "execute_result"
    }
   ],
   "source": [
    "# price 변수(열) 불러오기 : DataFrame 형태\n",
    "df[['price']]"
   ]
  },
  {
   "cell_type": "code",
   "execution_count": 135,
   "id": "2ed9a107",
   "metadata": {},
   "outputs": [
    {
     "data": {
      "text/html": [
       "<div>\n",
       "<style scoped>\n",
       "    .dataframe tbody tr th:only-of-type {\n",
       "        vertical-align: middle;\n",
       "    }\n",
       "\n",
       "    .dataframe tbody tr th {\n",
       "        vertical-align: top;\n",
       "    }\n",
       "\n",
       "    .dataframe thead th {\n",
       "        text-align: right;\n",
       "    }\n",
       "</style>\n",
       "<table border=\"1\" class=\"dataframe\">\n",
       "  <thead>\n",
       "    <tr style=\"text-align: right;\">\n",
       "      <th></th>\n",
       "      <th>continent</th>\n",
       "      <th>size</th>\n",
       "      <th>price</th>\n",
       "    </tr>\n",
       "  </thead>\n",
       "  <tbody>\n",
       "    <tr>\n",
       "      <th>0</th>\n",
       "      <td>0</td>\n",
       "      <td>10.743977</td>\n",
       "      <td>90</td>\n",
       "    </tr>\n",
       "    <tr>\n",
       "      <th>1</th>\n",
       "      <td>1</td>\n",
       "      <td>23.730386</td>\n",
       "      <td>92</td>\n",
       "    </tr>\n",
       "    <tr>\n",
       "      <th>2</th>\n",
       "      <td>1</td>\n",
       "      <td>23.396368</td>\n",
       "      <td>103</td>\n",
       "    </tr>\n",
       "    <tr>\n",
       "      <th>3</th>\n",
       "      <td>1</td>\n",
       "      <td>20.968568</td>\n",
       "      <td>90</td>\n",
       "    </tr>\n",
       "    <tr>\n",
       "      <th>4</th>\n",
       "      <td>0</td>\n",
       "      <td>1.256931</td>\n",
       "      <td>193</td>\n",
       "    </tr>\n",
       "    <tr>\n",
       "      <th>...</th>\n",
       "      <td>...</td>\n",
       "      <td>...</td>\n",
       "      <td>...</td>\n",
       "    </tr>\n",
       "    <tr>\n",
       "      <th>58</th>\n",
       "      <td>1</td>\n",
       "      <td>24.791871</td>\n",
       "      <td>126</td>\n",
       "    </tr>\n",
       "    <tr>\n",
       "      <th>59</th>\n",
       "      <td>0</td>\n",
       "      <td>25.445968</td>\n",
       "      <td>133</td>\n",
       "    </tr>\n",
       "    <tr>\n",
       "      <th>60</th>\n",
       "      <td>1</td>\n",
       "      <td>5.172596</td>\n",
       "      <td>193</td>\n",
       "    </tr>\n",
       "    <tr>\n",
       "      <th>61</th>\n",
       "      <td>0</td>\n",
       "      <td>33.988714</td>\n",
       "      <td>123</td>\n",
       "    </tr>\n",
       "    <tr>\n",
       "      <th>62</th>\n",
       "      <td>0</td>\n",
       "      <td>21.737415</td>\n",
       "      <td>47</td>\n",
       "    </tr>\n",
       "  </tbody>\n",
       "</table>\n",
       "<p>63 rows × 3 columns</p>\n",
       "</div>"
      ],
      "text/plain": [
       "    continent       size  price\n",
       "0           0  10.743977     90\n",
       "1           1  23.730386     92\n",
       "2           1  23.396368    103\n",
       "3           1  20.968568     90\n",
       "4           0   1.256931    193\n",
       "..        ...        ...    ...\n",
       "58          1  24.791871    126\n",
       "59          0  25.445968    133\n",
       "60          1   5.172596    193\n",
       "61          0  33.988714    123\n",
       "62          0  21.737415     47\n",
       "\n",
       "[63 rows x 3 columns]"
      ]
     },
     "execution_count": 135,
     "metadata": {},
     "output_type": "execute_result"
    }
   ],
   "source": [
    "# 0번, 2번, 4번째 열(컬럼)만 출력\n",
    "df[df.columns[[0,2,4]]]"
   ]
  },
  {
   "cell_type": "code",
   "execution_count": 136,
   "id": "1f824905",
   "metadata": {},
   "outputs": [
    {
     "data": {
      "text/html": [
       "<div>\n",
       "<style scoped>\n",
       "    .dataframe tbody tr th:only-of-type {\n",
       "        vertical-align: middle;\n",
       "    }\n",
       "\n",
       "    .dataframe tbody tr th {\n",
       "        vertical-align: top;\n",
       "    }\n",
       "\n",
       "    .dataframe thead th {\n",
       "        text-align: right;\n",
       "    }\n",
       "</style>\n",
       "<table border=\"1\" class=\"dataframe\">\n",
       "  <thead>\n",
       "    <tr style=\"text-align: right;\">\n",
       "      <th></th>\n",
       "      <th>size</th>\n",
       "      <th>period</th>\n",
       "      <th>price</th>\n",
       "    </tr>\n",
       "  </thead>\n",
       "  <tbody>\n",
       "    <tr>\n",
       "      <th>0</th>\n",
       "      <td>10.743977</td>\n",
       "      <td>27.078756</td>\n",
       "      <td>90</td>\n",
       "    </tr>\n",
       "    <tr>\n",
       "      <th>1</th>\n",
       "      <td>23.730386</td>\n",
       "      <td>46.649410</td>\n",
       "      <td>92</td>\n",
       "    </tr>\n",
       "    <tr>\n",
       "      <th>2</th>\n",
       "      <td>23.396368</td>\n",
       "      <td>5.288003</td>\n",
       "      <td>103</td>\n",
       "    </tr>\n",
       "    <tr>\n",
       "      <th>3</th>\n",
       "      <td>20.968568</td>\n",
       "      <td>4.939850</td>\n",
       "      <td>90</td>\n",
       "    </tr>\n",
       "    <tr>\n",
       "      <th>4</th>\n",
       "      <td>1.256931</td>\n",
       "      <td>24.809650</td>\n",
       "      <td>193</td>\n",
       "    </tr>\n",
       "    <tr>\n",
       "      <th>...</th>\n",
       "      <td>...</td>\n",
       "      <td>...</td>\n",
       "      <td>...</td>\n",
       "    </tr>\n",
       "    <tr>\n",
       "      <th>58</th>\n",
       "      <td>24.791871</td>\n",
       "      <td>51.281930</td>\n",
       "      <td>126</td>\n",
       "    </tr>\n",
       "    <tr>\n",
       "      <th>59</th>\n",
       "      <td>25.445968</td>\n",
       "      <td>10.142605</td>\n",
       "      <td>133</td>\n",
       "    </tr>\n",
       "    <tr>\n",
       "      <th>60</th>\n",
       "      <td>5.172596</td>\n",
       "      <td>18.332103</td>\n",
       "      <td>193</td>\n",
       "    </tr>\n",
       "    <tr>\n",
       "      <th>61</th>\n",
       "      <td>33.988714</td>\n",
       "      <td>54.186807</td>\n",
       "      <td>123</td>\n",
       "    </tr>\n",
       "    <tr>\n",
       "      <th>62</th>\n",
       "      <td>21.737415</td>\n",
       "      <td>28.479418</td>\n",
       "      <td>47</td>\n",
       "    </tr>\n",
       "  </tbody>\n",
       "</table>\n",
       "<p>63 rows × 3 columns</p>\n",
       "</div>"
      ],
      "text/plain": [
       "         size     period  price\n",
       "0   10.743977  27.078756     90\n",
       "1   23.730386  46.649410     92\n",
       "2   23.396368   5.288003    103\n",
       "3   20.968568   4.939850     90\n",
       "4    1.256931  24.809650    193\n",
       "..        ...        ...    ...\n",
       "58  24.791871  51.281930    126\n",
       "59  25.445968  10.142605    133\n",
       "60   5.172596  18.332103    193\n",
       "61  33.988714  54.186807    123\n",
       "62  21.737415  28.479418     47\n",
       "\n",
       "[63 rows x 3 columns]"
      ]
     },
     "execution_count": 136,
     "metadata": {},
     "output_type": "execute_result"
    }
   ],
   "source": [
    "# loc명령어를 사용해서 원하는 열 (변수) 불러오기 \n",
    "# [:, '변수명' : '변수명']\n",
    "# size부터 price까지 출력\n",
    "df.loc[:, 'size':'price']"
   ]
  },
  {
   "cell_type": "code",
   "execution_count": 137,
   "id": "4986be2d",
   "metadata": {},
   "outputs": [
    {
     "data": {
      "text/html": [
       "<div>\n",
       "<style scoped>\n",
       "    .dataframe tbody tr th:only-of-type {\n",
       "        vertical-align: middle;\n",
       "    }\n",
       "\n",
       "    .dataframe tbody tr th {\n",
       "        vertical-align: top;\n",
       "    }\n",
       "\n",
       "    .dataframe thead th {\n",
       "        text-align: right;\n",
       "    }\n",
       "</style>\n",
       "<table border=\"1\" class=\"dataframe\">\n",
       "  <thead>\n",
       "    <tr style=\"text-align: right;\">\n",
       "      <th></th>\n",
       "      <th>continent</th>\n",
       "      <th>brand</th>\n",
       "    </tr>\n",
       "  </thead>\n",
       "  <tbody>\n",
       "    <tr>\n",
       "      <th>1</th>\n",
       "      <td>1</td>\n",
       "      <td>0</td>\n",
       "    </tr>\n",
       "    <tr>\n",
       "      <th>2</th>\n",
       "      <td>1</td>\n",
       "      <td>1</td>\n",
       "    </tr>\n",
       "    <tr>\n",
       "      <th>3</th>\n",
       "      <td>1</td>\n",
       "      <td>2</td>\n",
       "    </tr>\n",
       "    <tr>\n",
       "      <th>4</th>\n",
       "      <td>0</td>\n",
       "      <td>1</td>\n",
       "    </tr>\n",
       "    <tr>\n",
       "      <th>5</th>\n",
       "      <td>1</td>\n",
       "      <td>2</td>\n",
       "    </tr>\n",
       "    <tr>\n",
       "      <th>6</th>\n",
       "      <td>1</td>\n",
       "      <td>0</td>\n",
       "    </tr>\n",
       "  </tbody>\n",
       "</table>\n",
       "</div>"
      ],
      "text/plain": [
       "   continent  brand\n",
       "1          1      0\n",
       "2          1      1\n",
       "3          1      2\n",
       "4          0      1\n",
       "5          1      2\n",
       "6          1      0"
      ]
     },
     "execution_count": 137,
     "metadata": {},
     "output_type": "execute_result"
    }
   ],
   "source": [
    "# 데이터 프레임의 특정 행과 열을 지정 iloc\n",
    "# 명령어 : 변수명.iloc[첫 행: 끝 행, 첫 열 : 끝 열]\n",
    "# 1~7행(케이스), 0~2열(변수)만 불러오기\n",
    "df.iloc[1:7, 0:2]"
   ]
  },
  {
   "cell_type": "code",
   "execution_count": 138,
   "id": "0783015e",
   "metadata": {},
   "outputs": [
    {
     "data": {
      "text/plain": [
       "193"
      ]
     },
     "execution_count": 138,
     "metadata": {},
     "output_type": "execute_result"
    }
   ],
   "source": [
    "# 특정한 하나의 값을 지정해서 불러오려면 at\n",
    "# 명령어 : 변수명.at [행 번호, '열 이름']\n",
    "# 4행(케이스)의 price 변수 해당 값 불러오기\n",
    "df.at[4, 'price']"
   ]
  },
  {
   "cell_type": "markdown",
   "id": "23ba135c",
   "metadata": {},
   "source": [
    "### 5.3 데이터 변환하기"
   ]
  },
  {
   "cell_type": "code",
   "execution_count": 155,
   "id": "6189cf56",
   "metadata": {},
   "outputs": [],
   "source": [
    "# 데이터 프레임 행 복사(백업)\n",
    "df_columns = df.copy()"
   ]
  },
  {
   "cell_type": "code",
   "execution_count": 156,
   "id": "2bbd9bc9",
   "metadata": {},
   "outputs": [
    {
     "data": {
      "text/plain": [
       "Index(['continent', 'brand', 'size', 'period', 'price'], dtype='object')"
      ]
     },
     "execution_count": 156,
     "metadata": {},
     "output_type": "execute_result"
    }
   ],
   "source": [
    "# 데이터 프레임의 열(변수) 이름 확인\n",
    "df_columns.columns"
   ]
  },
  {
   "cell_type": "code",
   "execution_count": 157,
   "id": "1ad20e38",
   "metadata": {},
   "outputs": [
    {
     "data": {
      "text/html": [
       "<div>\n",
       "<style scoped>\n",
       "    .dataframe tbody tr th:only-of-type {\n",
       "        vertical-align: middle;\n",
       "    }\n",
       "\n",
       "    .dataframe tbody tr th {\n",
       "        vertical-align: top;\n",
       "    }\n",
       "\n",
       "    .dataframe thead th {\n",
       "        text-align: right;\n",
       "    }\n",
       "</style>\n",
       "<table border=\"1\" class=\"dataframe\">\n",
       "  <thead>\n",
       "    <tr style=\"text-align: right;\">\n",
       "      <th></th>\n",
       "      <th>continent</th>\n",
       "      <th>brand</th>\n",
       "      <th>size</th>\n",
       "      <th>period</th>\n",
       "      <th>price</th>\n",
       "    </tr>\n",
       "  </thead>\n",
       "  <tbody>\n",
       "    <tr>\n",
       "      <th>0</th>\n",
       "      <td>0</td>\n",
       "      <td>1</td>\n",
       "      <td>10.743977</td>\n",
       "      <td>27.078756</td>\n",
       "      <td>90</td>\n",
       "    </tr>\n",
       "    <tr>\n",
       "      <th>1</th>\n",
       "      <td>1</td>\n",
       "      <td>0</td>\n",
       "      <td>23.730386</td>\n",
       "      <td>46.649410</td>\n",
       "      <td>92</td>\n",
       "    </tr>\n",
       "    <tr>\n",
       "      <th>2</th>\n",
       "      <td>1</td>\n",
       "      <td>1</td>\n",
       "      <td>23.396368</td>\n",
       "      <td>5.288003</td>\n",
       "      <td>103</td>\n",
       "    </tr>\n",
       "    <tr>\n",
       "      <th>3</th>\n",
       "      <td>1</td>\n",
       "      <td>2</td>\n",
       "      <td>20.968568</td>\n",
       "      <td>4.939850</td>\n",
       "      <td>90</td>\n",
       "    </tr>\n",
       "    <tr>\n",
       "      <th>4</th>\n",
       "      <td>0</td>\n",
       "      <td>1</td>\n",
       "      <td>1.256931</td>\n",
       "      <td>24.809650</td>\n",
       "      <td>193</td>\n",
       "    </tr>\n",
       "    <tr>\n",
       "      <th>...</th>\n",
       "      <td>...</td>\n",
       "      <td>...</td>\n",
       "      <td>...</td>\n",
       "      <td>...</td>\n",
       "      <td>...</td>\n",
       "    </tr>\n",
       "    <tr>\n",
       "      <th>58</th>\n",
       "      <td>1</td>\n",
       "      <td>1</td>\n",
       "      <td>24.791871</td>\n",
       "      <td>51.281930</td>\n",
       "      <td>126</td>\n",
       "    </tr>\n",
       "    <tr>\n",
       "      <th>59</th>\n",
       "      <td>0</td>\n",
       "      <td>1</td>\n",
       "      <td>25.445968</td>\n",
       "      <td>10.142605</td>\n",
       "      <td>133</td>\n",
       "    </tr>\n",
       "    <tr>\n",
       "      <th>60</th>\n",
       "      <td>1</td>\n",
       "      <td>0</td>\n",
       "      <td>5.172596</td>\n",
       "      <td>18.332103</td>\n",
       "      <td>193</td>\n",
       "    </tr>\n",
       "    <tr>\n",
       "      <th>61</th>\n",
       "      <td>0</td>\n",
       "      <td>2</td>\n",
       "      <td>33.988714</td>\n",
       "      <td>54.186807</td>\n",
       "      <td>123</td>\n",
       "    </tr>\n",
       "    <tr>\n",
       "      <th>62</th>\n",
       "      <td>0</td>\n",
       "      <td>2</td>\n",
       "      <td>21.737415</td>\n",
       "      <td>28.479418</td>\n",
       "      <td>47</td>\n",
       "    </tr>\n",
       "  </tbody>\n",
       "</table>\n",
       "<p>63 rows × 5 columns</p>\n",
       "</div>"
      ],
      "text/plain": [
       "    continent  brand       size     period  price\n",
       "0           0      1  10.743977  27.078756     90\n",
       "1           1      0  23.730386  46.649410     92\n",
       "2           1      1  23.396368   5.288003    103\n",
       "3           1      2  20.968568   4.939850     90\n",
       "4           0      1   1.256931  24.809650    193\n",
       "..        ...    ...        ...        ...    ...\n",
       "58          1      1  24.791871  51.281930    126\n",
       "59          0      1  25.445968  10.142605    133\n",
       "60          1      0   5.172596  18.332103    193\n",
       "61          0      2  33.988714  54.186807    123\n",
       "62          0      2  21.737415  28.479418     47\n",
       "\n",
       "[63 rows x 5 columns]"
      ]
     },
     "execution_count": 157,
     "metadata": {},
     "output_type": "execute_result"
    }
   ],
   "source": [
    "df_columns"
   ]
  },
  {
   "cell_type": "code",
   "execution_count": 158,
   "id": "83de7cff",
   "metadata": {},
   "outputs": [
    {
     "data": {
      "text/html": [
       "<div>\n",
       "<style scoped>\n",
       "    .dataframe tbody tr th:only-of-type {\n",
       "        vertical-align: middle;\n",
       "    }\n",
       "\n",
       "    .dataframe tbody tr th {\n",
       "        vertical-align: top;\n",
       "    }\n",
       "\n",
       "    .dataframe thead th {\n",
       "        text-align: right;\n",
       "    }\n",
       "</style>\n",
       "<table border=\"1\" class=\"dataframe\">\n",
       "  <thead>\n",
       "    <tr style=\"text-align: right;\">\n",
       "      <th></th>\n",
       "      <th>continent</th>\n",
       "      <th>brand</th>\n",
       "      <th>size</th>\n",
       "      <th>period</th>\n",
       "      <th>price</th>\n",
       "    </tr>\n",
       "  </thead>\n",
       "  <tbody>\n",
       "    <tr>\n",
       "      <th>0</th>\n",
       "      <td>0</td>\n",
       "      <td>1</td>\n",
       "      <td>10.743977</td>\n",
       "      <td>27.078756</td>\n",
       "      <td>90</td>\n",
       "    </tr>\n",
       "    <tr>\n",
       "      <th>1</th>\n",
       "      <td>1</td>\n",
       "      <td>0</td>\n",
       "      <td>23.730386</td>\n",
       "      <td>46.649410</td>\n",
       "      <td>92</td>\n",
       "    </tr>\n",
       "    <tr>\n",
       "      <th>2</th>\n",
       "      <td>1</td>\n",
       "      <td>1</td>\n",
       "      <td>23.396368</td>\n",
       "      <td>5.288003</td>\n",
       "      <td>103</td>\n",
       "    </tr>\n",
       "    <tr>\n",
       "      <th>3</th>\n",
       "      <td>1</td>\n",
       "      <td>2</td>\n",
       "      <td>20.968568</td>\n",
       "      <td>4.939850</td>\n",
       "      <td>90</td>\n",
       "    </tr>\n",
       "    <tr>\n",
       "      <th>4</th>\n",
       "      <td>0</td>\n",
       "      <td>1</td>\n",
       "      <td>1.256931</td>\n",
       "      <td>24.809650</td>\n",
       "      <td>193</td>\n",
       "    </tr>\n",
       "    <tr>\n",
       "      <th>...</th>\n",
       "      <td>...</td>\n",
       "      <td>...</td>\n",
       "      <td>...</td>\n",
       "      <td>...</td>\n",
       "      <td>...</td>\n",
       "    </tr>\n",
       "    <tr>\n",
       "      <th>58</th>\n",
       "      <td>1</td>\n",
       "      <td>1</td>\n",
       "      <td>24.791871</td>\n",
       "      <td>51.281930</td>\n",
       "      <td>126</td>\n",
       "    </tr>\n",
       "    <tr>\n",
       "      <th>59</th>\n",
       "      <td>0</td>\n",
       "      <td>1</td>\n",
       "      <td>25.445968</td>\n",
       "      <td>10.142605</td>\n",
       "      <td>133</td>\n",
       "    </tr>\n",
       "    <tr>\n",
       "      <th>60</th>\n",
       "      <td>1</td>\n",
       "      <td>0</td>\n",
       "      <td>5.172596</td>\n",
       "      <td>18.332103</td>\n",
       "      <td>193</td>\n",
       "    </tr>\n",
       "    <tr>\n",
       "      <th>61</th>\n",
       "      <td>0</td>\n",
       "      <td>2</td>\n",
       "      <td>33.988714</td>\n",
       "      <td>54.186807</td>\n",
       "      <td>123</td>\n",
       "    </tr>\n",
       "    <tr>\n",
       "      <th>62</th>\n",
       "      <td>0</td>\n",
       "      <td>2</td>\n",
       "      <td>21.737415</td>\n",
       "      <td>28.479418</td>\n",
       "      <td>47</td>\n",
       "    </tr>\n",
       "  </tbody>\n",
       "</table>\n",
       "<p>63 rows × 5 columns</p>\n",
       "</div>"
      ],
      "text/plain": [
       "    continent  brand       size     period  price\n",
       "0           0      1  10.743977  27.078756     90\n",
       "1           1      0  23.730386  46.649410     92\n",
       "2           1      1  23.396368   5.288003    103\n",
       "3           1      2  20.968568   4.939850     90\n",
       "4           0      1   1.256931  24.809650    193\n",
       "..        ...    ...        ...        ...    ...\n",
       "58          1      1  24.791871  51.281930    126\n",
       "59          0      1  25.445968  10.142605    133\n",
       "60          1      0   5.172596  18.332103    193\n",
       "61          0      2  33.988714  54.186807    123\n",
       "62          0      2  21.737415  28.479418     47\n",
       "\n",
       "[63 rows x 5 columns]"
      ]
     },
     "execution_count": 158,
     "metadata": {},
     "output_type": "execute_result"
    }
   ],
   "source": [
    "df_columns"
   ]
  },
  {
   "cell_type": "code",
   "execution_count": 159,
   "id": "e68b5fd9",
   "metadata": {},
   "outputs": [],
   "source": [
    "# 데이터 프레임 열들 중에서 일부 열(변수)만 필터링하여 기존 혹은 새로운 데이터 셋을 구성\n",
    "# 데이터 프레임 열 필터링\n",
    "# df_columns2 = df_columns[['gender','marriage','edu','job','mincome']]\n",
    "# df_columns2.head()"
   ]
  },
  {
   "cell_type": "code",
   "execution_count": 160,
   "id": "8d935cb1",
   "metadata": {},
   "outputs": [
    {
     "data": {
      "text/plain": [
       "Index(['continent', 'brand', 'size', 'time', 'price'], dtype='object')"
      ]
     },
     "execution_count": 160,
     "metadata": {},
     "output_type": "execute_result"
    }
   ],
   "source": [
    "# 데이터 열(변수) 이름 수정 : period -> time\n",
    "df_columns.rename(columns = {'period':'time'},inplace = True)\n",
    "df_columns.columns"
   ]
  },
  {
   "cell_type": "code",
   "execution_count": 161,
   "id": "2c0ebe59",
   "metadata": {},
   "outputs": [
    {
     "data": {
      "text/html": [
       "<div>\n",
       "<style scoped>\n",
       "    .dataframe tbody tr th:only-of-type {\n",
       "        vertical-align: middle;\n",
       "    }\n",
       "\n",
       "    .dataframe tbody tr th {\n",
       "        vertical-align: top;\n",
       "    }\n",
       "\n",
       "    .dataframe thead th {\n",
       "        text-align: right;\n",
       "    }\n",
       "</style>\n",
       "<table border=\"1\" class=\"dataframe\">\n",
       "  <thead>\n",
       "    <tr style=\"text-align: right;\">\n",
       "      <th></th>\n",
       "      <th>continent</th>\n",
       "      <th>brand</th>\n",
       "      <th>size</th>\n",
       "      <th>time</th>\n",
       "      <th>price</th>\n",
       "      <th>growth</th>\n",
       "    </tr>\n",
       "  </thead>\n",
       "  <tbody>\n",
       "    <tr>\n",
       "      <th>0</th>\n",
       "      <td>0</td>\n",
       "      <td>1</td>\n",
       "      <td>10.743977</td>\n",
       "      <td>27.078756</td>\n",
       "      <td>90</td>\n",
       "      <td>0.396768</td>\n",
       "    </tr>\n",
       "    <tr>\n",
       "      <th>1</th>\n",
       "      <td>1</td>\n",
       "      <td>0</td>\n",
       "      <td>23.730386</td>\n",
       "      <td>46.649410</td>\n",
       "      <td>92</td>\n",
       "      <td>0.508696</td>\n",
       "    </tr>\n",
       "    <tr>\n",
       "      <th>2</th>\n",
       "      <td>1</td>\n",
       "      <td>1</td>\n",
       "      <td>23.396368</td>\n",
       "      <td>5.288003</td>\n",
       "      <td>103</td>\n",
       "      <td>4.424424</td>\n",
       "    </tr>\n",
       "    <tr>\n",
       "      <th>3</th>\n",
       "      <td>1</td>\n",
       "      <td>2</td>\n",
       "      <td>20.968568</td>\n",
       "      <td>4.939850</td>\n",
       "      <td>90</td>\n",
       "      <td>4.244778</td>\n",
       "    </tr>\n",
       "    <tr>\n",
       "      <th>4</th>\n",
       "      <td>0</td>\n",
       "      <td>1</td>\n",
       "      <td>1.256931</td>\n",
       "      <td>24.809650</td>\n",
       "      <td>193</td>\n",
       "      <td>0.050663</td>\n",
       "    </tr>\n",
       "  </tbody>\n",
       "</table>\n",
       "</div>"
      ],
      "text/plain": [
       "   continent  brand       size       time  price    growth\n",
       "0          0      1  10.743977  27.078756     90  0.396768\n",
       "1          1      0  23.730386  46.649410     92  0.508696\n",
       "2          1      1  23.396368   5.288003    103  4.424424\n",
       "3          1      2  20.968568   4.939850     90  4.244778\n",
       "4          0      1   1.256931  24.809650    193  0.050663"
      ]
     },
     "execution_count": 161,
     "metadata": {},
     "output_type": "execute_result"
    }
   ],
   "source": [
    "# size를 time으로 나누어 월별 포도크기로 계산하여 growth 변수 생성\n",
    "df_columns['growth'] = df_columns['size']/df_columns['time']\n",
    "df_columns.head()"
   ]
  },
  {
   "cell_type": "code",
   "execution_count": 162,
   "id": "bb7cca5c",
   "metadata": {},
   "outputs": [],
   "source": [
    "# 특정 변수 삭제: growth 삭제\n",
    "del df_columns['growth']"
   ]
  },
  {
   "cell_type": "code",
   "execution_count": 163,
   "id": "42803299",
   "metadata": {},
   "outputs": [
    {
     "data": {
      "text/html": [
       "<div>\n",
       "<style scoped>\n",
       "    .dataframe tbody tr th:only-of-type {\n",
       "        vertical-align: middle;\n",
       "    }\n",
       "\n",
       "    .dataframe tbody tr th {\n",
       "        vertical-align: top;\n",
       "    }\n",
       "\n",
       "    .dataframe thead th {\n",
       "        text-align: right;\n",
       "    }\n",
       "</style>\n",
       "<table border=\"1\" class=\"dataframe\">\n",
       "  <thead>\n",
       "    <tr style=\"text-align: right;\">\n",
       "      <th></th>\n",
       "      <th>continent</th>\n",
       "      <th>brand</th>\n",
       "      <th>size</th>\n",
       "      <th>period</th>\n",
       "      <th>price</th>\n",
       "    </tr>\n",
       "  </thead>\n",
       "  <tbody>\n",
       "    <tr>\n",
       "      <th>2</th>\n",
       "      <td>1</td>\n",
       "      <td>1</td>\n",
       "      <td>23.396368</td>\n",
       "      <td>5.288003</td>\n",
       "      <td>103</td>\n",
       "    </tr>\n",
       "    <tr>\n",
       "      <th>9</th>\n",
       "      <td>1</td>\n",
       "      <td>1</td>\n",
       "      <td>1.150915</td>\n",
       "      <td>32.004155</td>\n",
       "      <td>94</td>\n",
       "    </tr>\n",
       "    <tr>\n",
       "      <th>18</th>\n",
       "      <td>1</td>\n",
       "      <td>1</td>\n",
       "      <td>19.573135</td>\n",
       "      <td>46.414933</td>\n",
       "      <td>135</td>\n",
       "    </tr>\n",
       "    <tr>\n",
       "      <th>26</th>\n",
       "      <td>1</td>\n",
       "      <td>1</td>\n",
       "      <td>6.950187</td>\n",
       "      <td>26.253114</td>\n",
       "      <td>41</td>\n",
       "    </tr>\n",
       "    <tr>\n",
       "      <th>32</th>\n",
       "      <td>1</td>\n",
       "      <td>1</td>\n",
       "      <td>17.992321</td>\n",
       "      <td>45.114512</td>\n",
       "      <td>14</td>\n",
       "    </tr>\n",
       "  </tbody>\n",
       "</table>\n",
       "</div>"
      ],
      "text/plain": [
       "    continent  brand       size     period  price\n",
       "2           1      1  23.396368   5.288003    103\n",
       "9           1      1   1.150915  32.004155     94\n",
       "18          1      1  19.573135  46.414933    135\n",
       "26          1      1   6.950187  26.253114     41\n",
       "32          1      1  17.992321  45.114512     14"
      ]
     },
     "execution_count": 163,
     "metadata": {},
     "output_type": "execute_result"
    }
   ],
   "source": [
    "# 특정 케이스 선택1 : 집단선택\n",
    "df_continent_brand = df[(df['continent']==1) & (df['brand']==1)]\n",
    "df_continent_brand.head()"
   ]
  },
  {
   "cell_type": "markdown",
   "id": "bb0d00d7",
   "metadata": {},
   "source": [
    "### 코딩변경\n",
    "I. replace 기능  \n",
    "II. 함수로 정의  "
   ]
  },
  {
   "cell_type": "code",
   "execution_count": 164,
   "id": "b6834786",
   "metadata": {
    "scrolled": true
   },
   "outputs": [
    {
     "data": {
      "text/plain": [
       "2    25\n",
       "1    20\n",
       "0    18\n",
       "Name: brand, dtype: int64"
      ]
     },
     "execution_count": 164,
     "metadata": {},
     "output_type": "execute_result"
    }
   ],
   "source": [
    "# brand 범주 카운트\n",
    "df['brand'].value_counts()"
   ]
  },
  {
   "cell_type": "code",
   "execution_count": 165,
   "id": "fec25f8b",
   "metadata": {},
   "outputs": [
    {
     "data": {
      "text/html": [
       "<div>\n",
       "<style scoped>\n",
       "    .dataframe tbody tr th:only-of-type {\n",
       "        vertical-align: middle;\n",
       "    }\n",
       "\n",
       "    .dataframe tbody tr th {\n",
       "        vertical-align: top;\n",
       "    }\n",
       "\n",
       "    .dataframe thead th {\n",
       "        text-align: right;\n",
       "    }\n",
       "</style>\n",
       "<table border=\"1\" class=\"dataframe\">\n",
       "  <thead>\n",
       "    <tr style=\"text-align: right;\">\n",
       "      <th></th>\n",
       "      <th>continent</th>\n",
       "      <th>brand</th>\n",
       "      <th>size</th>\n",
       "      <th>period</th>\n",
       "      <th>price</th>\n",
       "    </tr>\n",
       "  </thead>\n",
       "  <tbody>\n",
       "    <tr>\n",
       "      <th>0</th>\n",
       "      <td>0</td>\n",
       "      <td>1</td>\n",
       "      <td>10.743977</td>\n",
       "      <td>27.078756</td>\n",
       "      <td>90</td>\n",
       "    </tr>\n",
       "    <tr>\n",
       "      <th>1</th>\n",
       "      <td>1</td>\n",
       "      <td>0</td>\n",
       "      <td>23.730386</td>\n",
       "      <td>46.649410</td>\n",
       "      <td>92</td>\n",
       "    </tr>\n",
       "    <tr>\n",
       "      <th>2</th>\n",
       "      <td>1</td>\n",
       "      <td>1</td>\n",
       "      <td>23.396368</td>\n",
       "      <td>5.288003</td>\n",
       "      <td>103</td>\n",
       "    </tr>\n",
       "    <tr>\n",
       "      <th>3</th>\n",
       "      <td>1</td>\n",
       "      <td>1</td>\n",
       "      <td>20.968568</td>\n",
       "      <td>4.939850</td>\n",
       "      <td>90</td>\n",
       "    </tr>\n",
       "    <tr>\n",
       "      <th>4</th>\n",
       "      <td>0</td>\n",
       "      <td>1</td>\n",
       "      <td>1.256931</td>\n",
       "      <td>24.809650</td>\n",
       "      <td>193</td>\n",
       "    </tr>\n",
       "  </tbody>\n",
       "</table>\n",
       "</div>"
      ],
      "text/plain": [
       "   continent  brand       size     period  price\n",
       "0          0      1  10.743977  27.078756     90\n",
       "1          1      0  23.730386  46.649410     92\n",
       "2          1      1  23.396368   5.288003    103\n",
       "3          1      1  20.968568   4.939850     90\n",
       "4          0      1   1.256931  24.809650    193"
      ]
     },
     "execution_count": 165,
     "metadata": {},
     "output_type": "execute_result"
    }
   ],
   "source": [
    "recode_brand = {'brand':{1: 1, 2: 1, 3: 2}}\n",
    "df_recode1 = df.replace(recode_brand)\n",
    "df_recode1.head()"
   ]
  },
  {
   "cell_type": "code",
   "execution_count": 166,
   "id": "33ae3241",
   "metadata": {},
   "outputs": [
    {
     "data": {
      "text/plain": [
       "1    45\n",
       "0    18\n",
       "Name: brand, dtype: int64"
      ]
     },
     "execution_count": 166,
     "metadata": {},
     "output_type": "execute_result"
    }
   ],
   "source": [
    "df_recode1['brand'].value_counts()"
   ]
  },
  {
   "cell_type": "code",
   "execution_count": 168,
   "id": "6314ae27",
   "metadata": {},
   "outputs": [
    {
     "data": {
      "text/html": [
       "<div>\n",
       "<style scoped>\n",
       "    .dataframe tbody tr th:only-of-type {\n",
       "        vertical-align: middle;\n",
       "    }\n",
       "\n",
       "    .dataframe tbody tr th {\n",
       "        vertical-align: top;\n",
       "    }\n",
       "\n",
       "    .dataframe thead th {\n",
       "        text-align: right;\n",
       "    }\n",
       "</style>\n",
       "<table border=\"1\" class=\"dataframe\">\n",
       "  <thead>\n",
       "    <tr style=\"text-align: right;\">\n",
       "      <th></th>\n",
       "      <th>continent</th>\n",
       "      <th>brand</th>\n",
       "      <th>size</th>\n",
       "      <th>period</th>\n",
       "      <th>price</th>\n",
       "      <th>re_brand</th>\n",
       "    </tr>\n",
       "  </thead>\n",
       "  <tbody>\n",
       "    <tr>\n",
       "      <th>0</th>\n",
       "      <td>0</td>\n",
       "      <td>1</td>\n",
       "      <td>10.743977</td>\n",
       "      <td>27.078756</td>\n",
       "      <td>90</td>\n",
       "      <td>1.0</td>\n",
       "    </tr>\n",
       "    <tr>\n",
       "      <th>1</th>\n",
       "      <td>1</td>\n",
       "      <td>0</td>\n",
       "      <td>23.730386</td>\n",
       "      <td>46.649410</td>\n",
       "      <td>92</td>\n",
       "      <td>NaN</td>\n",
       "    </tr>\n",
       "    <tr>\n",
       "      <th>2</th>\n",
       "      <td>1</td>\n",
       "      <td>1</td>\n",
       "      <td>23.396368</td>\n",
       "      <td>5.288003</td>\n",
       "      <td>103</td>\n",
       "      <td>1.0</td>\n",
       "    </tr>\n",
       "    <tr>\n",
       "      <th>3</th>\n",
       "      <td>1</td>\n",
       "      <td>2</td>\n",
       "      <td>20.968568</td>\n",
       "      <td>4.939850</td>\n",
       "      <td>90</td>\n",
       "      <td>1.0</td>\n",
       "    </tr>\n",
       "    <tr>\n",
       "      <th>4</th>\n",
       "      <td>0</td>\n",
       "      <td>1</td>\n",
       "      <td>1.256931</td>\n",
       "      <td>24.809650</td>\n",
       "      <td>193</td>\n",
       "      <td>1.0</td>\n",
       "    </tr>\n",
       "  </tbody>\n",
       "</table>\n",
       "</div>"
      ],
      "text/plain": [
       "   continent  brand       size     period  price  re_brand\n",
       "0          0      1  10.743977  27.078756     90       1.0\n",
       "1          1      0  23.730386  46.649410     92       NaN\n",
       "2          1      1  23.396368   5.288003    103       1.0\n",
       "3          1      2  20.968568   4.939850     90       1.0\n",
       "4          0      1   1.256931  24.809650    193       1.0"
      ]
     },
     "execution_count": 168,
     "metadata": {},
     "output_type": "execute_result"
    }
   ],
   "source": [
    "# brand 1, 2, 3 집단을 1, 2로 묶기 (1/2 -> 1, 3 -> 2)\n",
    "def brand_groups(series):\n",
    "    if series == 1:\n",
    "        return 1\n",
    "    elif series == 2:\n",
    "        return 1\n",
    "    elif series == 3:\n",
    "        return 2\n",
    "    \n",
    "df['re_brand'] = df['brand'].apply(brand_groups)\n",
    "df.head()"
   ]
  },
  {
   "cell_type": "markdown",
   "id": "3ab9a121",
   "metadata": {},
   "source": [
    "### pandas와 numpy 전환"
   ]
  },
  {
   "cell_type": "code",
   "execution_count": 169,
   "id": "88a41cd1",
   "metadata": {},
   "outputs": [
    {
     "data": {
      "text/html": [
       "<div>\n",
       "<style scoped>\n",
       "    .dataframe tbody tr th:only-of-type {\n",
       "        vertical-align: middle;\n",
       "    }\n",
       "\n",
       "    .dataframe tbody tr th {\n",
       "        vertical-align: top;\n",
       "    }\n",
       "\n",
       "    .dataframe thead th {\n",
       "        text-align: right;\n",
       "    }\n",
       "</style>\n",
       "<table border=\"1\" class=\"dataframe\">\n",
       "  <thead>\n",
       "    <tr style=\"text-align: right;\">\n",
       "      <th></th>\n",
       "      <th>continent</th>\n",
       "      <th>brand</th>\n",
       "      <th>size</th>\n",
       "      <th>period</th>\n",
       "      <th>price</th>\n",
       "    </tr>\n",
       "  </thead>\n",
       "  <tbody>\n",
       "    <tr>\n",
       "      <th>0</th>\n",
       "      <td>0</td>\n",
       "      <td>1</td>\n",
       "      <td>10.743977</td>\n",
       "      <td>27.078756</td>\n",
       "      <td>90</td>\n",
       "    </tr>\n",
       "    <tr>\n",
       "      <th>1</th>\n",
       "      <td>1</td>\n",
       "      <td>0</td>\n",
       "      <td>23.730386</td>\n",
       "      <td>46.649410</td>\n",
       "      <td>92</td>\n",
       "    </tr>\n",
       "    <tr>\n",
       "      <th>2</th>\n",
       "      <td>1</td>\n",
       "      <td>1</td>\n",
       "      <td>23.396368</td>\n",
       "      <td>5.288003</td>\n",
       "      <td>103</td>\n",
       "    </tr>\n",
       "    <tr>\n",
       "      <th>3</th>\n",
       "      <td>1</td>\n",
       "      <td>2</td>\n",
       "      <td>20.968568</td>\n",
       "      <td>4.939850</td>\n",
       "      <td>90</td>\n",
       "    </tr>\n",
       "    <tr>\n",
       "      <th>4</th>\n",
       "      <td>0</td>\n",
       "      <td>1</td>\n",
       "      <td>1.256931</td>\n",
       "      <td>24.809650</td>\n",
       "      <td>193</td>\n",
       "    </tr>\n",
       "  </tbody>\n",
       "</table>\n",
       "</div>"
      ],
      "text/plain": [
       "   continent  brand       size     period  price\n",
       "0          0      1  10.743977  27.078756     90\n",
       "1          1      0  23.730386  46.649410     92\n",
       "2          1      1  23.396368   5.288003    103\n",
       "3          1      2  20.968568   4.939850     90\n",
       "4          0      1   1.256931  24.809650    193"
      ]
     },
     "execution_count": 169,
     "metadata": {},
     "output_type": "execute_result"
    }
   ],
   "source": [
    "import pandas as pd\n",
    "df = pd.read_csv('EX_GrapeData.csv')\n",
    "df.head()"
   ]
  },
  {
   "cell_type": "code",
   "execution_count": 170,
   "id": "4705f026",
   "metadata": {},
   "outputs": [
    {
     "data": {
      "text/plain": [
       "array([[0.00000000e+00, 1.00000000e+00, 1.07439770e+01, 2.70787562e+01,\n",
       "        9.00000000e+01],\n",
       "       [1.00000000e+00, 0.00000000e+00, 2.37303857e+01, 4.66494096e+01,\n",
       "        9.20000000e+01],\n",
       "       [1.00000000e+00, 1.00000000e+00, 2.33963679e+01, 5.28800341e+00,\n",
       "        1.03000000e+02],\n",
       "       [1.00000000e+00, 2.00000000e+00, 2.09685676e+01, 4.93985029e+00,\n",
       "        9.00000000e+01],\n",
       "       [0.00000000e+00, 1.00000000e+00, 1.25693146e+00, 2.48096505e+01,\n",
       "        1.93000000e+02],\n",
       "       [1.00000000e+00, 2.00000000e+00, 3.07400362e+01, 4.74164018e+01,\n",
       "        4.40000000e+01],\n",
       "       [1.00000000e+00, 0.00000000e+00, 2.01332515e+01, 6.12596452e+01,\n",
       "        1.67000000e+02],\n",
       "       [0.00000000e+00, 1.00000000e+00, 1.46339687e+01, 5.81838098e+01,\n",
       "        1.75000000e+02],\n",
       "       [0.00000000e+00, 0.00000000e+00, 5.40268319e+00, 4.32974069e+01,\n",
       "        1.90000000e+01],\n",
       "       [1.00000000e+00, 1.00000000e+00, 1.15091468e+00, 3.20041546e+01,\n",
       "        9.40000000e+01],\n",
       "       [0.00000000e+00, 0.00000000e+00, 7.50106425e+00, 2.94776543e+00,\n",
       "        8.00000000e+01],\n",
       "       [0.00000000e+00, 2.00000000e+00, 2.30928593e+01, 1.35592808e+01,\n",
       "        4.90000000e+01],\n",
       "       [1.00000000e+00, 2.00000000e+00, 1.54119911e+01, 4.29901887e+01,\n",
       "        9.50000000e+01],\n",
       "       [1.00000000e+00, 0.00000000e+00, 2.96409996e+01, 5.93755938e+01,\n",
       "        1.14000000e+02],\n",
       "       [0.00000000e+00, 1.00000000e+00, 3.27996472e+01, 3.20869759e+01,\n",
       "        7.00000000e+01],\n",
       "       [0.00000000e+00, 2.00000000e+00, 5.84371789e-01, 2.89005262e+01,\n",
       "        1.53000000e+02],\n",
       "       [0.00000000e+00, 0.00000000e+00, 1.83622866e+01, 2.18230486e+01,\n",
       "        8.50000000e+01],\n",
       "       [0.00000000e+00, 1.00000000e+00, 1.37773341e+01, 1.59433793e+01,\n",
       "        1.82000000e+02],\n",
       "       [1.00000000e+00, 1.00000000e+00, 1.95731349e+01, 4.64149330e+01,\n",
       "        1.35000000e+02],\n",
       "       [0.00000000e+00, 2.00000000e+00, 1.07864452e+01, 2.03403926e+01,\n",
       "        1.37000000e+02],\n",
       "       [1.00000000e+00, 2.00000000e+00, 2.11610683e+01, 4.28180752e+00,\n",
       "        1.75000000e+02],\n",
       "       [1.00000000e+00, 2.00000000e+00, 1.49052745e+00, 2.58193171e+01,\n",
       "        6.70000000e+01],\n",
       "       [1.00000000e+00, 0.00000000e+00, 1.72501312e+01, 1.98964875e+01,\n",
       "        1.36000000e+02],\n",
       "       [0.00000000e+00, 2.00000000e+00, 1.09784632e+01, 5.05142884e+01,\n",
       "        9.00000000e+00],\n",
       "       [0.00000000e+00, 2.00000000e+00, 1.15075894e+01, 5.38825353e+01,\n",
       "        1.78000000e+02],\n",
       "       [1.00000000e+00, 2.00000000e+00, 5.66569046e+00, 5.18839941e+01,\n",
       "        9.20000000e+01],\n",
       "       [1.00000000e+00, 1.00000000e+00, 6.95018712e+00, 2.62531140e+01,\n",
       "        4.10000000e+01],\n",
       "       [1.00000000e+00, 0.00000000e+00, 3.37741199e+01, 2.23154875e+01,\n",
       "        1.29000000e+02],\n",
       "       [1.00000000e+00, 2.00000000e+00, 1.98111169e+01, 5.63297782e+01,\n",
       "        1.89000000e+02],\n",
       "       [1.00000000e+00, 0.00000000e+00, 1.37456977e+01, 4.75673092e+01,\n",
       "        1.43000000e+02],\n",
       "       [0.00000000e+00, 2.00000000e+00, 7.45287573e-01, 4.28607391e+01,\n",
       "        1.21000000e+02],\n",
       "       [0.00000000e+00, 0.00000000e+00, 5.66167882e+00, 4.20165983e+00,\n",
       "        2.50000000e+01],\n",
       "       [1.00000000e+00, 1.00000000e+00, 1.79923212e+01, 4.51145119e+01,\n",
       "        1.40000000e+01],\n",
       "       [1.00000000e+00, 0.00000000e+00, 1.42468073e+01, 4.84725531e+01,\n",
       "        9.20000000e+01],\n",
       "       [0.00000000e+00, 0.00000000e+00, 8.66256319e+00, 2.43217082e+01,\n",
       "        3.90000000e+01],\n",
       "       [1.00000000e+00, 1.00000000e+00, 3.18334321e+01, 2.06565215e+01,\n",
       "        1.65000000e+02],\n",
       "       [0.00000000e+00, 1.00000000e+00, 1.65298153e+01, 1.71815490e+01,\n",
       "        1.86000000e+02],\n",
       "       [0.00000000e+00, 2.00000000e+00, 1.72986185e+01, 5.35221832e+01,\n",
       "        9.40000000e+01],\n",
       "       [0.00000000e+00, 1.00000000e+00, 1.85360194e+01, 5.78692409e-02,\n",
       "        1.20000000e+02],\n",
       "       [1.00000000e+00, 0.00000000e+00, 2.98552692e+01, 3.57864226e+01,\n",
       "        1.74000000e+02],\n",
       "       [0.00000000e+00, 1.00000000e+00, 2.74199016e+01, 3.18983738e+01,\n",
       "        3.00000000e+00],\n",
       "       [0.00000000e+00, 2.00000000e+00, 2.74306928e+01, 5.08010950e+01,\n",
       "        1.70000000e+01],\n",
       "       [0.00000000e+00, 2.00000000e+00, 3.13990177e+01, 3.58688446e+01,\n",
       "        7.90000000e+01],\n",
       "       [1.00000000e+00, 2.00000000e+00, 2.51090109e+00, 2.62616904e+01,\n",
       "        1.60000000e+01],\n",
       "       [0.00000000e+00, 1.00000000e+00, 2.17114744e+01, 1.88507365e+01,\n",
       "        1.60000000e+02],\n",
       "       [1.00000000e+00, 1.00000000e+00, 1.60245449e+01, 4.81743024e+01,\n",
       "        4.50000000e+01],\n",
       "       [0.00000000e+00, 2.00000000e+00, 3.14071538e+01, 3.76482119e+01,\n",
       "        1.42000000e+02],\n",
       "       [1.00000000e+00, 2.00000000e+00, 2.10848874e+01, 6.11005656e+01,\n",
       "        1.18000000e+02],\n",
       "       [0.00000000e+00, 2.00000000e+00, 1.96484323e+01, 3.33434673e+00,\n",
       "        1.95000000e+02],\n",
       "       [1.00000000e+00, 1.00000000e+00, 1.20195770e+01, 3.95774566e+01,\n",
       "        7.40000000e+01],\n",
       "       [1.00000000e+00, 0.00000000e+00, 7.74896139e+00, 4.73444850e+01,\n",
       "        1.01000000e+02],\n",
       "       [0.00000000e+00, 2.00000000e+00, 2.65302654e+01, 5.15043977e+01,\n",
       "        1.55000000e+02],\n",
       "       [1.00000000e+00, 2.00000000e+00, 3.10003403e+01, 1.06380215e+01,\n",
       "        1.28000000e+02],\n",
       "       [1.00000000e+00, 1.00000000e+00, 1.88285095e+01, 3.43161852e+01,\n",
       "        1.43000000e+02],\n",
       "       [0.00000000e+00, 0.00000000e+00, 3.93066969e+00, 1.31147555e+01,\n",
       "        1.94000000e+02],\n",
       "       [0.00000000e+00, 2.00000000e+00, 5.21333063e+00, 5.69680071e+01,\n",
       "        5.00000000e+00],\n",
       "       [0.00000000e+00, 0.00000000e+00, 3.02916112e+01, 3.14227327e+01,\n",
       "        1.21000000e+02],\n",
       "       [1.00000000e+00, 0.00000000e+00, 1.09921394e+01, 4.16561400e+01,\n",
       "        1.89000000e+02],\n",
       "       [1.00000000e+00, 1.00000000e+00, 2.47918707e+01, 5.12819296e+01,\n",
       "        1.26000000e+02],\n",
       "       [0.00000000e+00, 1.00000000e+00, 2.54459675e+01, 1.01426053e+01,\n",
       "        1.33000000e+02],\n",
       "       [1.00000000e+00, 0.00000000e+00, 5.17259585e+00, 1.83321029e+01,\n",
       "        1.93000000e+02],\n",
       "       [0.00000000e+00, 2.00000000e+00, 3.39887143e+01, 5.41868069e+01,\n",
       "        1.23000000e+02],\n",
       "       [0.00000000e+00, 2.00000000e+00, 2.17374149e+01, 2.84794184e+01,\n",
       "        4.70000000e+01]])"
      ]
     },
     "execution_count": 170,
     "metadata": {},
     "output_type": "execute_result"
    }
   ],
   "source": [
    "# 판다스를 넘파이로 변환 .to_numpy()라고 선언\n",
    "df_num = df.to_numpy()\n",
    "df_num"
   ]
  },
  {
   "cell_type": "code",
   "execution_count": 171,
   "id": "4efc6566",
   "metadata": {},
   "outputs": [
    {
     "data": {
      "text/html": [
       "<div>\n",
       "<style scoped>\n",
       "    .dataframe tbody tr th:only-of-type {\n",
       "        vertical-align: middle;\n",
       "    }\n",
       "\n",
       "    .dataframe tbody tr th {\n",
       "        vertical-align: top;\n",
       "    }\n",
       "\n",
       "    .dataframe thead th {\n",
       "        text-align: right;\n",
       "    }\n",
       "</style>\n",
       "<table border=\"1\" class=\"dataframe\">\n",
       "  <thead>\n",
       "    <tr style=\"text-align: right;\">\n",
       "      <th></th>\n",
       "      <th>0</th>\n",
       "      <th>1</th>\n",
       "      <th>2</th>\n",
       "      <th>3</th>\n",
       "      <th>4</th>\n",
       "    </tr>\n",
       "  </thead>\n",
       "  <tbody>\n",
       "    <tr>\n",
       "      <th>0</th>\n",
       "      <td>0.0</td>\n",
       "      <td>1.0</td>\n",
       "      <td>10.743977</td>\n",
       "      <td>27.078756</td>\n",
       "      <td>90.0</td>\n",
       "    </tr>\n",
       "    <tr>\n",
       "      <th>1</th>\n",
       "      <td>1.0</td>\n",
       "      <td>0.0</td>\n",
       "      <td>23.730386</td>\n",
       "      <td>46.649410</td>\n",
       "      <td>92.0</td>\n",
       "    </tr>\n",
       "    <tr>\n",
       "      <th>2</th>\n",
       "      <td>1.0</td>\n",
       "      <td>1.0</td>\n",
       "      <td>23.396368</td>\n",
       "      <td>5.288003</td>\n",
       "      <td>103.0</td>\n",
       "    </tr>\n",
       "    <tr>\n",
       "      <th>3</th>\n",
       "      <td>1.0</td>\n",
       "      <td>2.0</td>\n",
       "      <td>20.968568</td>\n",
       "      <td>4.939850</td>\n",
       "      <td>90.0</td>\n",
       "    </tr>\n",
       "    <tr>\n",
       "      <th>4</th>\n",
       "      <td>0.0</td>\n",
       "      <td>1.0</td>\n",
       "      <td>1.256931</td>\n",
       "      <td>24.809650</td>\n",
       "      <td>193.0</td>\n",
       "    </tr>\n",
       "  </tbody>\n",
       "</table>\n",
       "</div>"
      ],
      "text/plain": [
       "     0    1          2          3      4\n",
       "0  0.0  1.0  10.743977  27.078756   90.0\n",
       "1  1.0  0.0  23.730386  46.649410   92.0\n",
       "2  1.0  1.0  23.396368   5.288003  103.0\n",
       "3  1.0  2.0  20.968568   4.939850   90.0\n",
       "4  0.0  1.0   1.256931  24.809650  193.0"
      ]
     },
     "execution_count": 171,
     "metadata": {},
     "output_type": "execute_result"
    }
   ],
   "source": [
    "df_pd = pd.DataFrame(df_num)\n",
    "df_pd.head()"
   ]
  },
  {
   "cell_type": "code",
   "execution_count": 172,
   "id": "95a9993f",
   "metadata": {},
   "outputs": [
    {
     "data": {
      "text/html": [
       "<div>\n",
       "<style scoped>\n",
       "    .dataframe tbody tr th:only-of-type {\n",
       "        vertical-align: middle;\n",
       "    }\n",
       "\n",
       "    .dataframe tbody tr th {\n",
       "        vertical-align: top;\n",
       "    }\n",
       "\n",
       "    .dataframe thead th {\n",
       "        text-align: right;\n",
       "    }\n",
       "</style>\n",
       "<table border=\"1\" class=\"dataframe\">\n",
       "  <thead>\n",
       "    <tr style=\"text-align: right;\">\n",
       "      <th></th>\n",
       "      <th>continent</th>\n",
       "      <th>brand</th>\n",
       "      <th>size</th>\n",
       "      <th>period</th>\n",
       "      <th>price</th>\n",
       "    </tr>\n",
       "  </thead>\n",
       "  <tbody>\n",
       "    <tr>\n",
       "      <th>0</th>\n",
       "      <td>0.0</td>\n",
       "      <td>1.0</td>\n",
       "      <td>10.743977</td>\n",
       "      <td>27.078756</td>\n",
       "      <td>90.0</td>\n",
       "    </tr>\n",
       "    <tr>\n",
       "      <th>1</th>\n",
       "      <td>1.0</td>\n",
       "      <td>0.0</td>\n",
       "      <td>23.730386</td>\n",
       "      <td>46.649410</td>\n",
       "      <td>92.0</td>\n",
       "    </tr>\n",
       "    <tr>\n",
       "      <th>2</th>\n",
       "      <td>1.0</td>\n",
       "      <td>1.0</td>\n",
       "      <td>23.396368</td>\n",
       "      <td>5.288003</td>\n",
       "      <td>103.0</td>\n",
       "    </tr>\n",
       "    <tr>\n",
       "      <th>3</th>\n",
       "      <td>1.0</td>\n",
       "      <td>2.0</td>\n",
       "      <td>20.968568</td>\n",
       "      <td>4.939850</td>\n",
       "      <td>90.0</td>\n",
       "    </tr>\n",
       "    <tr>\n",
       "      <th>4</th>\n",
       "      <td>0.0</td>\n",
       "      <td>1.0</td>\n",
       "      <td>1.256931</td>\n",
       "      <td>24.809650</td>\n",
       "      <td>193.0</td>\n",
       "    </tr>\n",
       "  </tbody>\n",
       "</table>\n",
       "</div>"
      ],
      "text/plain": [
       "   continent  brand       size     period  price\n",
       "0        0.0    1.0  10.743977  27.078756   90.0\n",
       "1        1.0    0.0  23.730386  46.649410   92.0\n",
       "2        1.0    1.0  23.396368   5.288003  103.0\n",
       "3        1.0    2.0  20.968568   4.939850   90.0\n",
       "4        0.0    1.0   1.256931  24.809650  193.0"
      ]
     },
     "execution_count": 172,
     "metadata": {},
     "output_type": "execute_result"
    }
   ],
   "source": [
    "df_pd2 = pd.DataFrame(data = df_num, columns = ['continent', 'brand','size','period','price'])\n",
    "df_pd2.head()"
   ]
  },
  {
   "cell_type": "code",
   "execution_count": null,
   "id": "d5a0148a",
   "metadata": {},
   "outputs": [],
   "source": []
  },
  {
   "cell_type": "code",
   "execution_count": null,
   "id": "9b20040d",
   "metadata": {},
   "outputs": [],
   "source": []
  },
  {
   "cell_type": "code",
   "execution_count": null,
   "id": "fa86f195",
   "metadata": {},
   "outputs": [],
   "source": []
  },
  {
   "cell_type": "code",
   "execution_count": null,
   "id": "f75fe7e6",
   "metadata": {},
   "outputs": [],
   "source": []
  },
  {
   "cell_type": "code",
   "execution_count": null,
   "id": "311e8431",
   "metadata": {},
   "outputs": [],
   "source": []
  },
  {
   "cell_type": "code",
   "execution_count": null,
   "id": "30a1f0d3",
   "metadata": {},
   "outputs": [],
   "source": []
  },
  {
   "cell_type": "code",
   "execution_count": null,
   "id": "1493d201",
   "metadata": {},
   "outputs": [],
   "source": []
  },
  {
   "cell_type": "code",
   "execution_count": null,
   "id": "0253af9b",
   "metadata": {},
   "outputs": [],
   "source": []
  },
  {
   "cell_type": "code",
   "execution_count": null,
   "id": "ac7941ba",
   "metadata": {},
   "outputs": [],
   "source": []
  },
  {
   "cell_type": "code",
   "execution_count": null,
   "id": "e200d80f",
   "metadata": {},
   "outputs": [],
   "source": []
  }
 ],
 "metadata": {
  "kernelspec": {
   "display_name": "Python 3 (ipykernel)",
   "language": "python",
   "name": "python3"
  },
  "language_info": {
   "codemirror_mode": {
    "name": "ipython",
    "version": 3
   },
   "file_extension": ".py",
   "mimetype": "text/x-python",
   "name": "python",
   "nbconvert_exporter": "python",
   "pygments_lexer": "ipython3",
   "version": "3.10.8"
  }
 },
 "nbformat": 4,
 "nbformat_minor": 5
}
