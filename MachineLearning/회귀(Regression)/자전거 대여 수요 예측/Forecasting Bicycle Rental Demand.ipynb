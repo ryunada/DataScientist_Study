{
 "cells": [
  {
   "cell_type": "markdown",
   "id": "39979624",
   "metadata": {},
   "source": [
    "## 회귀 실습 : 자전거 대여 수요 예측\n",
    "https://www.kaggle.com/c/bike-sharing-demand"
   ]
  },
  {
   "cell_type": "markdown",
   "id": "09de70ad",
   "metadata": {},
   "source": [
    "## DataSet\n",
    "-- Column --  \n",
    "season : 1 = 봄, 2 = 여름, 3 = 가을, 4 = 겨울  \n",
    "holiday: 1 = 토, 일요일의 주말을 제외한 국경일 등의 휴일, 0 = 휴일이 아닌 날  \n",
    "workingday: 1 = 토, 일요일의 주말 및 휴일이 아닌 주중, 0 = 주말 및 휴일  \n",
    "weather  \n",
    "* 1 = 맑음, 약간 구름 낀 흐림  \n",
    "* 2 = 안개, 안개 + 흐림  \n",
    "* 3 = 가벼운 눈, 가벼운 비 + 천둥  \n",
    "* 4 = 심한 눈/비, 천둥/번개  \n",
    "\n",
    "temp : 온도(섭씨)  \n",
    "atemp : 체감 온도(섭씨)\n",
    "humidity : 상대 습도  \n",
    "windspeed : 풍속  \n",
    "casual : 사전에 등록되지 않은 사용자가 대여한 횟수\n",
    "registered : 사전에 등록된 사용자가 대여한 횟수  \n",
    "count : 대여 횟수  "
   ]
  },
  {
   "cell_type": "code",
   "execution_count": 1,
   "id": "033943f2",
   "metadata": {},
   "outputs": [],
   "source": [
    "import os\n",
    "os.chdir('/Users/ryu/Desktop/데스크탑 - ryuseungho의 MacBook Air/2022/Bigdata/Machine-Learning/Bike_data')"
   ]
  },
  {
   "cell_type": "code",
   "execution_count": 2,
   "id": "4162013d",
   "metadata": {},
   "outputs": [
    {
     "name": "stderr",
     "output_type": "stream",
     "text": [
      "/opt/anaconda3/envs/tensorflow2/lib/python3.10/site-packages/scipy/__init__.py:146: UserWarning: A NumPy version >=1.16.5 and <1.23.0 is required for this version of SciPy (detected version 1.23.3\n",
      "  warnings.warn(f\"A NumPy version >={np_minversion} and <{np_maxversion}\"\n"
     ]
    },
    {
     "name": "stdout",
     "output_type": "stream",
     "text": [
      "(10886, 12)\n"
     ]
    },
    {
     "data": {
      "text/html": [
       "<div>\n",
       "<style scoped>\n",
       "    .dataframe tbody tr th:only-of-type {\n",
       "        vertical-align: middle;\n",
       "    }\n",
       "\n",
       "    .dataframe tbody tr th {\n",
       "        vertical-align: top;\n",
       "    }\n",
       "\n",
       "    .dataframe thead th {\n",
       "        text-align: right;\n",
       "    }\n",
       "</style>\n",
       "<table border=\"1\" class=\"dataframe\">\n",
       "  <thead>\n",
       "    <tr style=\"text-align: right;\">\n",
       "      <th></th>\n",
       "      <th>datetime</th>\n",
       "      <th>season</th>\n",
       "      <th>holiday</th>\n",
       "      <th>workingday</th>\n",
       "      <th>weather</th>\n",
       "      <th>temp</th>\n",
       "      <th>atemp</th>\n",
       "      <th>humidity</th>\n",
       "      <th>windspeed</th>\n",
       "      <th>casual</th>\n",
       "      <th>registered</th>\n",
       "      <th>count</th>\n",
       "    </tr>\n",
       "  </thead>\n",
       "  <tbody>\n",
       "    <tr>\n",
       "      <th>0</th>\n",
       "      <td>2011-01-01 00:00:00</td>\n",
       "      <td>1</td>\n",
       "      <td>0</td>\n",
       "      <td>0</td>\n",
       "      <td>1</td>\n",
       "      <td>9.84</td>\n",
       "      <td>14.395</td>\n",
       "      <td>81</td>\n",
       "      <td>0.0</td>\n",
       "      <td>3</td>\n",
       "      <td>13</td>\n",
       "      <td>16</td>\n",
       "    </tr>\n",
       "    <tr>\n",
       "      <th>1</th>\n",
       "      <td>2011-01-01 01:00:00</td>\n",
       "      <td>1</td>\n",
       "      <td>0</td>\n",
       "      <td>0</td>\n",
       "      <td>1</td>\n",
       "      <td>9.02</td>\n",
       "      <td>13.635</td>\n",
       "      <td>80</td>\n",
       "      <td>0.0</td>\n",
       "      <td>8</td>\n",
       "      <td>32</td>\n",
       "      <td>40</td>\n",
       "    </tr>\n",
       "    <tr>\n",
       "      <th>2</th>\n",
       "      <td>2011-01-01 02:00:00</td>\n",
       "      <td>1</td>\n",
       "      <td>0</td>\n",
       "      <td>0</td>\n",
       "      <td>1</td>\n",
       "      <td>9.02</td>\n",
       "      <td>13.635</td>\n",
       "      <td>80</td>\n",
       "      <td>0.0</td>\n",
       "      <td>5</td>\n",
       "      <td>27</td>\n",
       "      <td>32</td>\n",
       "    </tr>\n",
       "  </tbody>\n",
       "</table>\n",
       "</div>"
      ],
      "text/plain": [
       "              datetime  season  holiday  workingday  weather  temp   atemp  \\\n",
       "0  2011-01-01 00:00:00       1        0           0        1  9.84  14.395   \n",
       "1  2011-01-01 01:00:00       1        0           0        1  9.02  13.635   \n",
       "2  2011-01-01 02:00:00       1        0           0        1  9.02  13.635   \n",
       "\n",
       "   humidity  windspeed  casual  registered  count  \n",
       "0        81        0.0       3          13     16  \n",
       "1        80        0.0       8          32     40  \n",
       "2        80        0.0       5          27     32  "
      ]
     },
     "execution_count": 2,
     "metadata": {},
     "output_type": "execute_result"
    }
   ],
   "source": [
    "import numpy as np\n",
    "import pandas as pd\n",
    "import seaborn as sns\n",
    "import matplotlib.pyplot as plt\n",
    "%matplotlib inline\n",
    "\n",
    "import warnings\n",
    "warnings.filterwarnings('ignore',category=RuntimeWarning)\n",
    "\n",
    "bike_df = pd.read_csv('./Bike_Data.csv')\n",
    "\n",
    "print(bike_df.shape)\n",
    "bike_df.head(3)"
   ]
  },
  {
   "cell_type": "code",
   "execution_count": 3,
   "id": "a1677c4c",
   "metadata": {},
   "outputs": [
    {
     "name": "stdout",
     "output_type": "stream",
     "text": [
      "<class 'pandas.core.frame.DataFrame'>\n",
      "RangeIndex: 10886 entries, 0 to 10885\n",
      "Data columns (total 12 columns):\n",
      " #   Column      Non-Null Count  Dtype  \n",
      "---  ------      --------------  -----  \n",
      " 0   datetime    10886 non-null  object \n",
      " 1   season      10886 non-null  int64  \n",
      " 2   holiday     10886 non-null  int64  \n",
      " 3   workingday  10886 non-null  int64  \n",
      " 4   weather     10886 non-null  int64  \n",
      " 5   temp        10886 non-null  float64\n",
      " 6   atemp       10886 non-null  float64\n",
      " 7   humidity    10886 non-null  int64  \n",
      " 8   windspeed   10886 non-null  float64\n",
      " 9   casual      10886 non-null  int64  \n",
      " 10  registered  10886 non-null  int64  \n",
      " 11  count       10886 non-null  int64  \n",
      "dtypes: float64(3), int64(8), object(1)\n",
      "memory usage: 1020.7+ KB\n"
     ]
    }
   ],
   "source": [
    "bike_df.info()"
   ]
  },
  {
   "cell_type": "code",
   "execution_count": 4,
   "id": "eda08949",
   "metadata": {},
   "outputs": [
    {
     "data": {
      "text/html": [
       "<div>\n",
       "<style scoped>\n",
       "    .dataframe tbody tr th:only-of-type {\n",
       "        vertical-align: middle;\n",
       "    }\n",
       "\n",
       "    .dataframe tbody tr th {\n",
       "        vertical-align: top;\n",
       "    }\n",
       "\n",
       "    .dataframe thead th {\n",
       "        text-align: right;\n",
       "    }\n",
       "</style>\n",
       "<table border=\"1\" class=\"dataframe\">\n",
       "  <thead>\n",
       "    <tr style=\"text-align: right;\">\n",
       "      <th></th>\n",
       "      <th>datetime</th>\n",
       "      <th>season</th>\n",
       "      <th>holiday</th>\n",
       "      <th>workingday</th>\n",
       "      <th>weather</th>\n",
       "      <th>temp</th>\n",
       "      <th>atemp</th>\n",
       "      <th>humidity</th>\n",
       "      <th>windspeed</th>\n",
       "      <th>casual</th>\n",
       "      <th>registered</th>\n",
       "      <th>count</th>\n",
       "      <th>year</th>\n",
       "      <th>month</th>\n",
       "      <th>day</th>\n",
       "      <th>hour</th>\n",
       "    </tr>\n",
       "  </thead>\n",
       "  <tbody>\n",
       "    <tr>\n",
       "      <th>0</th>\n",
       "      <td>2011-01-01 00:00:00</td>\n",
       "      <td>1</td>\n",
       "      <td>0</td>\n",
       "      <td>0</td>\n",
       "      <td>1</td>\n",
       "      <td>9.84</td>\n",
       "      <td>14.395</td>\n",
       "      <td>81</td>\n",
       "      <td>0.0</td>\n",
       "      <td>3</td>\n",
       "      <td>13</td>\n",
       "      <td>16</td>\n",
       "      <td>2011</td>\n",
       "      <td>1</td>\n",
       "      <td>1</td>\n",
       "      <td>0</td>\n",
       "    </tr>\n",
       "    <tr>\n",
       "      <th>1</th>\n",
       "      <td>2011-01-01 01:00:00</td>\n",
       "      <td>1</td>\n",
       "      <td>0</td>\n",
       "      <td>0</td>\n",
       "      <td>1</td>\n",
       "      <td>9.02</td>\n",
       "      <td>13.635</td>\n",
       "      <td>80</td>\n",
       "      <td>0.0</td>\n",
       "      <td>8</td>\n",
       "      <td>32</td>\n",
       "      <td>40</td>\n",
       "      <td>2011</td>\n",
       "      <td>1</td>\n",
       "      <td>1</td>\n",
       "      <td>1</td>\n",
       "    </tr>\n",
       "    <tr>\n",
       "      <th>2</th>\n",
       "      <td>2011-01-01 02:00:00</td>\n",
       "      <td>1</td>\n",
       "      <td>0</td>\n",
       "      <td>0</td>\n",
       "      <td>1</td>\n",
       "      <td>9.02</td>\n",
       "      <td>13.635</td>\n",
       "      <td>80</td>\n",
       "      <td>0.0</td>\n",
       "      <td>5</td>\n",
       "      <td>27</td>\n",
       "      <td>32</td>\n",
       "      <td>2011</td>\n",
       "      <td>1</td>\n",
       "      <td>1</td>\n",
       "      <td>2</td>\n",
       "    </tr>\n",
       "  </tbody>\n",
       "</table>\n",
       "</div>"
      ],
      "text/plain": [
       "             datetime  season  holiday  workingday  weather  temp   atemp  \\\n",
       "0 2011-01-01 00:00:00       1        0           0        1  9.84  14.395   \n",
       "1 2011-01-01 01:00:00       1        0           0        1  9.02  13.635   \n",
       "2 2011-01-01 02:00:00       1        0           0        1  9.02  13.635   \n",
       "\n",
       "   humidity  windspeed  casual  registered  count  year  month  day  hour  \n",
       "0        81        0.0       3          13     16  2011      1    1     0  \n",
       "1        80        0.0       8          32     40  2011      1    1     1  \n",
       "2        80        0.0       5          27     32  2011      1    1     2  "
      ]
     },
     "execution_count": 4,
     "metadata": {},
     "output_type": "execute_result"
    }
   ],
   "source": [
    "# 문자열을 datetime 타입으로 변경. \n",
    "bike_df['datetime'] = bike_df.datetime.apply(pd.to_datetime)\n",
    "\n",
    "# datetime 타입에서 년, 월, 일, 시간 추출\n",
    "bike_df['year'] = bike_df.datetime.apply(lambda x : x.year)\n",
    "bike_df['month'] = bike_df.datetime.apply(lambda x : x.month)\n",
    "bike_df['day'] = bike_df.datetime.apply(lambda x : x.day)\n",
    "bike_df['hour'] = bike_df.datetime.apply(lambda x: x.hour)\n",
    "bike_df.head(3)"
   ]
  },
  {
   "cell_type": "code",
   "execution_count": 5,
   "id": "a9832a65",
   "metadata": {},
   "outputs": [],
   "source": [
    "# Data type확인 후 불필요한 데이터 삭제\n",
    "drop_columns = ['datetime','casual','registered']\n",
    "bike_df.drop(drop_columns, axis=1,inplace=True)"
   ]
  },
  {
   "cell_type": "markdown",
   "id": "8f12d0ce",
   "metadata": {},
   "source": [
    "---\n",
    "#### 에러 함수들 정의 후 선형회귀 학습/예측"
   ]
  },
  {
   "cell_type": "markdown",
   "id": "5a79d7e1",
   "metadata": {},
   "source": [
    "log() 대신 loglp()쓰는 이유  \n",
    "-무한대로 가는것과 음수로 가는 것을 막아주기 위하여 1로 시작하는 (log1p)를 사용함)  \n",
    "https://suppppppp.github.io/posts/Why-Series-MDM-1/"
   ]
  },
  {
   "cell_type": "code",
   "execution_count": 6,
   "id": "c1fd7699",
   "metadata": {},
   "outputs": [],
   "source": [
    "from sklearn.metrics import mean_squared_error, mean_absolute_error\n",
    "\n",
    "# log 값 변환 시 NaN등의 이슈로 log() 가 아닌 log1p() 를 이용하여 RMSLE 계산\n",
    "def rmsle(y, pred):\n",
    "    log_y = np.log1p(y)\n",
    "    log_pred = np.log1p(pred)\n",
    "    squared_error = (log_y - log_pred) ** 2\n",
    "    rmsle = np.sqrt(np.mean(squared_error))\n",
    "    return rmsle\n",
    "\n",
    "# 사이킷런의 mean_square_error() 를 이용하여 RMSE 계산\n",
    "def rmse(y,pred):\n",
    "    return np.sqrt(mean_squared_error(y,pred))\n",
    "\n",
    "# MSE, RMSE, RMSLE 를 모두 계산 \n",
    "def evaluate_regr(y,pred):\n",
    "    rmsle_val = rmsle(y,pred)\n",
    "    rmse_val = rmse(y,pred)\n",
    "    # MAE 는 scikit learn의 mean_absolute_error() 로 계산\n",
    "    mae_val = mean_absolute_error(y,pred)\n",
    "    print('RMSLE: {0:.3f}, RMSE: {1:.3F}, MAE: {2:.3F}'.format(rmsle_val, rmse_val, mae_val))"
   ]
  },
  {
   "cell_type": "code",
   "execution_count": 7,
   "id": "799c24ca",
   "metadata": {},
   "outputs": [
    {
     "name": "stdout",
     "output_type": "stream",
     "text": [
      "RMSLE: 1.165, RMSE: 140.900, MAE: 105.924\n"
     ]
    }
   ],
   "source": [
    "# 로그 변환, 피처 인코딩, 모델 학습/예측/평가\n",
    "from sklearn.model_selection import train_test_split , GridSearchCV\n",
    "from sklearn.linear_model import LinearRegression , Ridge , Lasso\n",
    "\n",
    "y_target = bike_df['count']\n",
    "X_features = bike_df.drop(['count'],axis=1,inplace=False)\n",
    "\n",
    "X_train, X_test, y_train, y_test = train_test_split(X_features, y_target, test_size=0.3, random_state=0)\n",
    "\n",
    "lr_reg = LinearRegression()\n",
    "lr_reg.fit(X_train, y_train)\n",
    "pred = lr_reg.predict(X_test)\n",
    "\n",
    "evaluate_regr(y_test ,pred)"
   ]
  },
  {
   "cell_type": "markdown",
   "id": "815d866d",
   "metadata": {},
   "source": [
    "=> RMSE가 RMSLE에 비해 매우 크게 나왔다. -> 예측 에러가 매우 큰 값들이 섞여 있기 때문이다."
   ]
  },
  {
   "cell_type": "markdown",
   "id": "d2350426",
   "metadata": {},
   "source": [
    "---"
   ]
  },
  {
   "cell_type": "code",
   "execution_count": 8,
   "id": "b8ada333",
   "metadata": {},
   "outputs": [
    {
     "name": "stdout",
     "output_type": "stream",
     "text": [
      "      real_count  predicted_count   diff\n",
      "1618         890            322.0  568.0\n",
      "3151         798            241.0  557.0\n",
      "966          884            327.0  557.0\n",
      "412          745            194.0  551.0\n",
      "2817         856            310.0  546.0\n"
     ]
    }
   ],
   "source": [
    "def get_top_error_data(y_test, pred, n_tops = 5):\n",
    "    # DataFrame에 컬럼들로 실제 대여횟수(count)와 예측 값을 서로 비교 할 수 있도록 생성. \n",
    "    result_df = pd.DataFrame(y_test.values, columns=['real_count'])\n",
    "    result_df['predicted_count']= np.round(pred)\n",
    "    result_df['diff'] = np.abs(result_df['real_count'] - result_df['predicted_count'])\n",
    "    # 예측값과 실제값이 가장 큰 데이터 순으로 출력. \n",
    "    print(result_df.sort_values('diff', ascending=False)[:n_tops])\n",
    "    \n",
    "get_top_error_data(y_test,pred,n_tops=5)"
   ]
  },
  {
   "cell_type": "markdown",
   "id": "17edb59a",
   "metadata": {},
   "source": [
    "#### 타겟값에 로그를 취해서 정규화"
   ]
  },
  {
   "cell_type": "code",
   "execution_count": 9,
   "id": "075e7bc8",
   "metadata": {},
   "outputs": [
    {
     "data": {
      "text/plain": [
       "<AxesSubplot:>"
      ]
     },
     "execution_count": 9,
     "metadata": {},
     "output_type": "execute_result"
    },
    {
     "data": {
      "image/png": "[encoded data removed]",
      "text/plain": [
       "<Figure size 640x480 with 1 Axes>"
      ]
     },
     "metadata": {},
     "output_type": "display_data"
    }
   ],
   "source": [
    "# 정규화 전 타겟 분포\n",
    "y_target.hist()"
   ]
  },
  {
   "cell_type": "code",
   "execution_count": 10,
   "id": "3f14c7e4",
   "metadata": {},
   "outputs": [
    {
     "data": {
      "text/plain": [
       "<AxesSubplot:>"
      ]
     },
     "execution_count": 10,
     "metadata": {},
     "output_type": "execute_result"
    },
    {
     "data": {
      "image/png": "[encoded data removed]",
      "text/plain": [
       "<Figure size 640x480 with 1 Axes>"
      ]
     },
     "metadata": {},
     "output_type": "display_data"
    }
   ],
   "source": [
    "# 로그 변환 후 타겟값 분포 어느 정도 정규분포를 이룬다.\n",
    "y_log_transform = np.log1p(y_target)\n",
    "y_log_transform.hist()"
   ]
  },
  {
   "cell_type": "code",
   "execution_count": 11,
   "id": "cd93e02a",
   "metadata": {},
   "outputs": [
    {
     "name": "stdout",
     "output_type": "stream",
     "text": [
      "RMSLE: 1.017, RMSE: 162.594, MAE: 109.286\n"
     ]
    }
   ],
   "source": [
    "# 타겟 컬럼인 count 값을 log1p 로 Log 변환\n",
    "y_target_log = np.log1p(y_target)\n",
    "\n",
    "# 로그 변환된 y_target_log를 반영하여 학습/테스트 데이터 셋 분할\n",
    "X_train, X_test, y_train, y_test = train_test_split(X_features, y_target_log, test_size=0.3, random_state=0)\n",
    "lr_reg = LinearRegression()\n",
    "lr_reg.fit(X_train, y_train)\n",
    "pred = lr_reg.predict(X_test)\n",
    "\n",
    "# 테스트 데이터 셋의 Target 값은 Log 변환되었으므로 다시 expm1를 이용하여 원래 scale로 변환\n",
    "y_test_exp = np.expm1(y_test)\n",
    "\n",
    "# 예측 값 역시 Log 변환된 타겟 기반으로 학습되어 예측되었으므로 다시 exmpl으로 scale변환\n",
    "pred_exp = np.expm1(pred)\n",
    "\n",
    "evaluate_regr(y_test_exp ,pred_exp)"
   ]
  },
  {
   "cell_type": "markdown",
   "id": "52418dd0",
   "metadata": {},
   "source": [
    "=> 아직 RMSLE에 비해 RMSE값이 매우 크게 나왔다."
   ]
  },
  {
   "cell_type": "markdown",
   "id": "9c43edfb",
   "metadata": {},
   "source": [
    "#### 피처 별 회귀 계수 확인"
   ]
  },
  {
   "cell_type": "code",
   "execution_count": 12,
   "id": "ab1c13a7",
   "metadata": {},
   "outputs": [
    {
     "data": {
      "text/plain": [
       "<AxesSubplot:>"
      ]
     },
     "execution_count": 12,
     "metadata": {},
     "output_type": "execute_result"
    },
    {
     "data": {
      "image/png": "[encoded data removed]",
      "text/plain": [
       "<Figure size 640x480 with 1 Axes>"
      ]
     },
     "metadata": {},
     "output_type": "display_data"
    }
   ],
   "source": [
    "coef = pd.Series(lr_reg.coef_, index=X_features.columns)\n",
    "coef_sort = coef.sort_values(ascending=False)\n",
    "sns.barplot(x=coef_sort.values, y=coef_sort.index)"
   ]
  },
  {
   "cell_type": "markdown",
   "id": "b57d9ba5",
   "metadata": {},
   "source": [
    "#### 원-핫 인코딩 후 다시 학습/예측"
   ]
  },
  {
   "cell_type": "code",
   "execution_count": 13,
   "id": "ac2474a0",
   "metadata": {},
   "outputs": [],
   "source": [
    "# 'year', month', 'day', hour'등의 피처들을 One Hot Encoding\n",
    "X_features_ohe = pd.get_dummies(X_features, columns=['year', 'month','day', 'hour', 'holiday',\n",
    "                                              'workingday','season','weather'])"
   ]
  },
  {
   "cell_type": "code",
   "execution_count": 14,
   "id": "e76f0a3d",
   "metadata": {},
   "outputs": [
    {
     "name": "stdout",
     "output_type": "stream",
     "text": [
      "### LinearRegression ###\n",
      "RMSLE: 0.590, RMSE: 97.691, MAE: 63.384\n",
      "### Ridge ###\n",
      "RMSLE: 0.590, RMSE: 98.529, MAE: 63.893\n",
      "### Lasso ###\n",
      "RMSLE: 0.635, RMSE: 113.219, MAE: 72.803\n"
     ]
    }
   ],
   "source": [
    "# 원-핫 인코딩이 적용된 feature 데이터 세트 기반으로 학습/예측 데이터 분할. \n",
    "X_train, X_test, y_train, y_test = train_test_split(X_features_ohe, y_target_log,\n",
    "                                                    test_size=0.3, random_state=0)\n",
    "\n",
    "# 모델과 학습/테스트 데이터 셋을 입력하면 성능 평가 수치를 반환\n",
    "def get_model_predict(model, X_train, X_test, y_train, y_test, is_expm1=False):\n",
    "    model.fit(X_train, y_train)\n",
    "    pred = model.predict(X_test)\n",
    "    if is_expm1 :\n",
    "        y_test = np.expm1(y_test)\n",
    "        pred = np.expm1(pred)\n",
    "    print('###',model.__class__.__name__,'###')\n",
    "    evaluate_regr(y_test, pred)\n",
    "# end of function get_model_predict    \n",
    "\n",
    "# model 별로 평가 수행\n",
    "lr_reg = LinearRegression()\n",
    "ridge_reg = Ridge(alpha=10)\n",
    "lasso_reg = Lasso(alpha=0.01)\n",
    "\n",
    "for model in [lr_reg, ridge_reg, lasso_reg]:\n",
    "    get_model_predict(model,X_train, X_test, y_train, y_test,is_expm1=True)"
   ]
  },
  {
   "cell_type": "markdown",
   "id": "05b07188",
   "metadata": {},
   "source": [
    "#### 원핫 인코딩 후 회귀 계수 확인"
   ]
  },
  {
   "cell_type": "code",
   "execution_count": 15,
   "id": "aa07914f",
   "metadata": {},
   "outputs": [
    {
     "data": {
      "text/plain": [
       "<AxesSubplot:>"
      ]
     },
     "execution_count": 15,
     "metadata": {},
     "output_type": "execute_result"
    },
    {
     "data": {
      "image/png": "[encoded data removed]",
      "text/plain": [
       "<Figure size 640x480 with 1 Axes>"
      ]
     },
     "metadata": {},
     "output_type": "display_data"
    }
   ],
   "source": [
    "coef = pd.Series(lr_reg.coef_ , index=X_features_ohe.columns)\n",
    "coef_sort = coef.sort_values(ascending=False)[:10]\n",
    "sns.barplot(x=coef_sort.values , y=coef_sort.index)"
   ]
  },
  {
   "cell_type": "markdown",
   "id": "41388030",
   "metadata": {},
   "source": [
    "#### 회귀 트리 사용"
   ]
  },
  {
   "cell_type": "code",
   "execution_count": 16,
   "id": "918af1f8",
   "metadata": {},
   "outputs": [
    {
     "name": "stdout",
     "output_type": "stream",
     "text": [
      "### RandomForestRegressor ###\n",
      "RMSLE: 0.354, RMSE: 50.472, MAE: 31.192\n",
      "### GradientBoostingRegressor ###\n",
      "RMSLE: 0.330, RMSE: 53.336, MAE: 32.742\n"
     ]
    }
   ],
   "source": [
    "from sklearn.ensemble import RandomForestRegressor, GradientBoostingRegressor\n",
    "\n",
    "\n",
    "# 랜덤 포레스트, GBM, XGBoost, LightGBM model 별로 평가 수행\n",
    "rf_reg = RandomForestRegressor(n_estimators=500)\n",
    "gbm_reg = GradientBoostingRegressor(n_estimators=500)\n",
    "\n",
    "for model in [rf_reg, gbm_reg]:\n",
    "    # XGBoost의 경우 DataFrame이 입력 될 경우 버전에 따라 오류 발생 가능. ndarray로 변환.\n",
    "    get_model_predict(model,X_train.values, X_test.values, y_train.values, y_test.values,is_expm1=True)"
   ]
  }
 ],
 "metadata": {
  "kernelspec": {
   "display_name": "Python 3 (ipykernel)",
   "language": "python",
   "name": "python3"
  },
  "language_info": {
   "codemirror_mode": {
    "name": "ipython",
    "version": 3
   },
   "file_extension": ".py",
   "mimetype": "text/x-python",
   "name": "python",
   "nbconvert_exporter": "python",
   "pygments_lexer": "ipython3",
   "version": "3.10.6"
  }
 },
 "nbformat": 4,
 "nbformat_minor": 5
}
