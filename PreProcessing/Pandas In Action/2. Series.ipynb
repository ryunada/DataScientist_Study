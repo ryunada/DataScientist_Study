{
 "cells": [
  {
   "cell_type": "code",
   "execution_count": 1,
   "id": "ae161869",
   "metadata": {},
   "outputs": [
    {
     "name": "stdout",
     "output_type": "stream",
     "text": [
      "/Users/ryu/Desktop/Desktop ryuseungho's MacBook Air/Data Scientist/Study_Organization/PreProcessing/Pandas In Action(Finish)\n",
      "/Users/ryu/Desktop/Desktop ryuseungho's MacBook Air/Data Scientist/Study_Organization/PreProcessing/Pandas In Action(Finish)/Data\n"
     ]
    }
   ],
   "source": [
    "import os\n",
    "print(os.getcwd())\n",
    "os.chdir(\"/Users/ryu/Desktop/Desktop ryuseungho's MacBook Air/Data Scientist/Study_Organization/PreProcessing/Pandas In Action(Finish)/Data\")\n",
    "print(os.getcwd())"
   ]
  },
  {
   "cell_type": "markdown",
   "id": "3566ffb8",
   "metadata": {},
   "source": [
    "# II. Series 객체"
   ]
  },
  {
   "cell_type": "code",
   "execution_count": 2,
   "id": "7e30fb71",
   "metadata": {},
   "outputs": [],
   "source": [
    "import pandas as pd"
   ]
  },
  {
   "cell_type": "markdown",
   "id": "4545ece1",
   "metadata": {},
   "source": [
    "## 1. Series 개요\n",
    "- 동일한 유형의 데이터만 담을 수 있으며 레이블이 있는 1차원 배열\n",
    "    - 배열 : 정렬된 값의 컬렉션으로 파이썬의 리스트와 비교할 수 있음\n",
    "    - 동일한 유형 : 모든 값의 데이터 유형이 같음\n",
    "    - 레이블 : 값을 찾을 때 사용할 수 있는 식별자\n",
    "        - 순서는 0부터 시작"
   ]
  },
  {
   "cell_type": "markdown",
   "id": "3e9f3aad",
   "metadata": {},
   "source": [
    "## 2. Series 생성"
   ]
  },
  {
   "cell_type": "markdown",
   "id": "d4e3c270",
   "metadata": {},
   "source": [
    "### 2-1. 파일 불러오기 : pd.read_csv( )\n",
    "```python\n",
    "pd.read_csv(\n",
    "    filepath_or_buffer = None,\n",
    "    index_col = None,\n",
    "\tparse_dates = None,\n",
    "    usecols = None,\n",
    "    squeeze = False\n",
    ")\n",
    "```\n",
    "- Option\n",
    "    - filepath_or_buffer : 확장자를 포함한 파일의 경로\n",
    "    - index_col : 인덱스로 사용할 열 지정\n",
    "    - parse_dates : 해당하는 columns의 데이터 유형을 datetimes로 변경\n",
    "    - usecols : 사용할 columns 리스트\n",
    "    - squeeze : 하나의 열을 가지는 DataFrame을 Series로 강제 변환"
   ]
  },
  {
   "cell_type": "code",
   "execution_count": 3,
   "id": "228c5d50",
   "metadata": {},
   "outputs": [
    {
     "name": "stderr",
     "output_type": "stream",
     "text": [
      "/var/folders/m2/mmsqhs890cl1_n22d3cspqsh0000gn/T/ipykernel_36504/2783569544.py:1: FutureWarning: The squeeze argument has been deprecated and will be removed in a future version. Append .squeeze(\"columns\") to the call to squeeze.\n",
      "\n",
      "\n",
      "  pd.read_csv(\n"
     ]
    },
    {
     "data": {
      "text/plain": [
       "Start Date\n",
       "1774-09-01    Massachusetts\n",
       "1774-12-14    New Hampshire\n",
       "1775-04-19    Massachusetts\n",
       "1775-04-19    Massachusetts\n",
       "1775-04-20         Virginia\n",
       "                  ...      \n",
       "1782-09-11         Virginia\n",
       "1782-09-13              NaN\n",
       "1782-10-18              NaN\n",
       "1782-12-06              NaN\n",
       "1783-01-22         Virginia\n",
       "Name: State, Length: 232, dtype: object"
      ]
     },
     "execution_count": 3,
     "metadata": {},
     "output_type": "execute_result"
    }
   ],
   "source": [
    "pd.read_csv(\n",
    "    './revolutionary_war.csv',         # 'revolutionary_war.csv' 파일 불러오기\n",
    "    index_col = 'Start Date',          #  인덱스로 사용할 열 'Start Date'\n",
    "    parse_dates = ['Start Date'],      # 'Start Date'의 데이터 유형을 object -> datetimes64[ns]\n",
    "    usecols = ['State','Start Date'],  # 'State', 'Start Date'변수 사용\n",
    "    squeeze = True                     #  DataFrame을 Series로 변환\n",
    ")"
   ]
  },
  {
   "cell_type": "markdown",
   "id": "0ceb9fe5",
   "metadata": {},
   "source": [
    "### 2-2. Series 생성 :: pd.Series( )\n",
    "```python\n",
    "pd.Seres(\n",
    "    data = None,    # 리스트(List), 딕셔너리(Dictionary), 튜플(Tuple), etc...\n",
    "    idnex = None,\n",
    "    dtype = None\n",
    ")\n",
    "```\n",
    "- Option\n",
    "    - data : 입력 데이터\n",
    "      - 집합(Set) Error가 → 리스트(List)\n",
    "        - 집합에는 리스트와 같은 순서 개념이나 딕셔너리와 같은 연관 개념이 없음  \n",
    "          → 판다스는 집합의 값을 저장하는 순서를 가정할 수 없음\n",
    "\n",
    "    - index : 인덱스 레이블 할당\n",
    "      - 파이썬의 딕셔너리와 다르게 Series의 인덱스는 중복을 허용  \n",
    "        (But, Index는 고유한 값이기 때문에 중복을 피하는 것이 좋음)\n",
    "    - dtype : 입력 데이터 형태 설정"
   ]
  },
  {
   "cell_type": "code",
   "execution_count": 4,
   "id": "699b2ae9",
   "metadata": {},
   "outputs": [
    {
     "data": {
      "text/plain": [
       "Monday        7.0\n",
       "Wednesday     8.0\n",
       "Friday       15.0\n",
       "Wednesday    16.0\n",
       "Friday       23.0\n",
       "saturday     42.0\n",
       "dtype: float64"
      ]
     },
     "execution_count": 4,
     "metadata": {},
     "output_type": "execute_result"
    }
   ],
   "source": [
    "lucky_numbers = [7, 8, 15, 16, 23, 42]\n",
    "days_of_week = ('Monday', 'Wednesday', 'Friday', 'Wednesday','Friday','saturday')\n",
    "\n",
    "# 동일한 결과\n",
    "pd.Series(lucky_numbers, days_of_week, 'float')\n",
    "pd.Series(\n",
    "    data = lucky_numbers, # Series의 데이터\n",
    "    index = days_of_week, # Series의 인덱스\n",
    "    dtype = 'float'       # Series의 데이터 형태\n",
    ")"
   ]
  },
  {
   "cell_type": "markdown",
   "id": "61323391",
   "metadata": {},
   "source": [
    "## 3. Series 속성"
   ]
  },
  {
   "cell_type": "markdown",
   "id": "a41346e9",
   "metadata": {},
   "source": [
    "### 3-1. 행 반환"
   ]
  },
  {
   "cell_type": "code",
   "execution_count": 5,
   "id": "1200e4cf",
   "metadata": {},
   "outputs": [
    {
     "data": {
      "text/plain": [
       "0       0\n",
       "1       5\n",
       "2      10\n",
       "3      15\n",
       "4      20\n",
       "     ... \n",
       "95    475\n",
       "96    480\n",
       "97    485\n",
       "98    490\n",
       "99    495\n",
       "Length: 100, dtype: int64"
      ]
     },
     "execution_count": 5,
     "metadata": {},
     "output_type": "execute_result"
    }
   ],
   "source": [
    "values = range(0,500,5)\n",
    "nums = pd.Series(data = values)\n",
    "nums"
   ]
  },
  {
   "cell_type": "markdown",
   "id": "0b4ce755",
   "metadata": {},
   "source": [
    "#### 3-1-1. 상위 행 확인 :: Series.head( )\n",
    "```python\n",
    "Series.head(\n",
    "    n = 5\n",
    ")\n",
    "```\n",
    "- 처음 n개의 행을 반환\n",
    "- Option\n",
    "    - n : 선택할 행 수"
   ]
  },
  {
   "cell_type": "code",
   "execution_count": 6,
   "id": "c3b5097b",
   "metadata": {},
   "outputs": [
    {
     "data": {
      "text/plain": [
       "0     0\n",
       "1     5\n",
       "2    10\n",
       "3    15\n",
       "4    20\n",
       "dtype: int64"
      ]
     },
     "execution_count": 6,
     "metadata": {},
     "output_type": "execute_result"
    }
   ],
   "source": [
    "nums.head() # nums의 상위 5개의 행"
   ]
  },
  {
   "cell_type": "markdown",
   "id": "ccdb7818",
   "metadata": {},
   "source": [
    "#### 3-1-2. 하위 행 확인 :: Series.tail( )\n",
    "```python\n",
    "Series.tail(\n",
    "    n = 5\n",
    ")\n",
    "```\n",
    "- 마지막 n개의 행을 반환\n",
    "- Option\n",
    "    - n : 선택할 행 수"
   ]
  },
  {
   "cell_type": "code",
   "execution_count": 7,
   "id": "769e16de",
   "metadata": {},
   "outputs": [
    {
     "data": {
      "text/plain": [
       "95    475\n",
       "96    480\n",
       "97    485\n",
       "98    490\n",
       "99    495\n",
       "dtype: int64"
      ]
     },
     "execution_count": 7,
     "metadata": {},
     "output_type": "execute_result"
    }
   ],
   "source": [
    "nums.tail() # nums의 하위 5개의 행"
   ]
  },
  {
   "cell_type": "markdown",
   "id": "f369c820",
   "metadata": {},
   "source": [
    "#### 3-1-3. 임의 값 추출 :: Series.sample( )\n",
    "```python\n",
    "Series.sample(\n",
    "    n = None,\n",
    "    random_state = None,  \n",
    "    axis = None           # 0 or 'index' | 1 or 'columns'\n",
    ")\n",
    "```\n",
    "- 객체의 축에서 임의의 항목 샘플을 반환\n",
    "- Option\n",
    "    - n : 반환할 축의 항목 수\n",
    "    - random_state : 난수 생성기의 시드 값\n",
    "    - axis : 반환할 축"
   ]
  },
  {
   "cell_type": "code",
   "execution_count": 8,
   "id": "78379137",
   "metadata": {},
   "outputs": [
    {
     "data": {
      "text/plain": [
       "71    355\n",
       "3      15\n",
       "63    315\n",
       "dtype: int64"
      ]
     },
     "execution_count": 8,
     "metadata": {},
     "output_type": "execute_result"
    }
   ],
   "source": [
    "nums.sample(3) # nums 중 임의의 3개의 행"
   ]
  },
  {
   "cell_type": "markdown",
   "id": "08d12ad4",
   "metadata": {},
   "source": [
    "### 3-2. 인덱스 확인 : Series.index\n",
    "- Series의 인덱스(축 레이블)"
   ]
  },
  {
   "cell_type": "code",
   "execution_count": 9,
   "id": "5b3a8f7f",
   "metadata": {},
   "outputs": [
    {
     "data": {
      "text/plain": [
       "Cereal              125\n",
       "Chocolate Bar       406\n",
       "Ice Cream Sundae    342\n",
       "dtype: int64"
      ]
     },
     "execution_count": 9,
     "metadata": {},
     "output_type": "execute_result"
    }
   ],
   "source": [
    "calories_info = {\n",
    "  'Cereal' : 125,\n",
    "  'Chocolate Bar' : 406,\n",
    "  'Ice Cream Sundae' : 342,\n",
    "}\n",
    "\n",
    "diet= pd.Series(calories_info)\n",
    "diet"
   ]
  },
  {
   "cell_type": "code",
   "execution_count": 10,
   "id": "8dd4e714",
   "metadata": {},
   "outputs": [
    {
     "data": {
      "text/plain": [
       "Index(['Cereal', 'Chocolate Bar', 'Ice Cream Sundae'], dtype='object')"
      ]
     },
     "execution_count": 10,
     "metadata": {},
     "output_type": "execute_result"
    }
   ],
   "source": [
    "diet.index       # diet의 index"
   ]
  },
  {
   "cell_type": "markdown",
   "id": "f0f91f8d",
   "metadata": {},
   "source": [
    "### 3-3. 값 확인 : Sereis.values\n",
    "- Series의 값"
   ]
  },
  {
   "cell_type": "code",
   "execution_count": 11,
   "id": "3616ed50",
   "metadata": {},
   "outputs": [
    {
     "data": {
      "text/plain": [
       "Cereal              125\n",
       "Chocolate Bar       406\n",
       "Ice Cream Sundae    342\n",
       "dtype: int64"
      ]
     },
     "execution_count": 11,
     "metadata": {},
     "output_type": "execute_result"
    }
   ],
   "source": [
    "diet"
   ]
  },
  {
   "cell_type": "code",
   "execution_count": 12,
   "id": "ad434ca2",
   "metadata": {},
   "outputs": [
    {
     "data": {
      "text/plain": [
       "array([125, 406, 342])"
      ]
     },
     "execution_count": 12,
     "metadata": {},
     "output_type": "execute_result"
    }
   ],
   "source": [
    "diet.values       # diet의 값"
   ]
  },
  {
   "cell_type": "markdown",
   "id": "f1099927",
   "metadata": {},
   "source": [
    "### 3-4. 값의 데이터 유형 확인 :: Series.dtype\n",
    "- Series의 데이터 유형(dtype)확인"
   ]
  },
  {
   "cell_type": "code",
   "execution_count": 13,
   "id": "bcb93d89",
   "metadata": {},
   "outputs": [
    {
     "data": {
      "text/plain": [
       "dtype('int64')"
      ]
     },
     "execution_count": 13,
     "metadata": {},
     "output_type": "execute_result"
    }
   ],
   "source": [
    "diet.dtype # diet의 값 데이터 유형"
   ]
  },
  {
   "cell_type": "markdown",
   "id": "523a526f",
   "metadata": {},
   "source": [
    "### 3-5. 개수 반환 :: Series.size\n",
    "- Series의 요소 수를 반환"
   ]
  },
  {
   "cell_type": "code",
   "execution_count": 14,
   "id": "aa26a134",
   "metadata": {},
   "outputs": [
    {
     "data": {
      "text/plain": [
       "3"
      ]
     },
     "execution_count": 14,
     "metadata": {},
     "output_type": "execute_result"
    }
   ],
   "source": [
    "diet.size # diet의 요소 개수"
   ]
  },
  {
   "cell_type": "markdown",
   "id": "0507917a",
   "metadata": {},
   "source": [
    "### 3-6. 차원 반환 :: Series.shape\n",
    "- Series의 차원의 수를 반환"
   ]
  },
  {
   "cell_type": "code",
   "execution_count": 15,
   "id": "6e222708",
   "metadata": {},
   "outputs": [
    {
     "data": {
      "text/plain": [
       "(3,)"
      ]
     },
     "execution_count": 15,
     "metadata": {},
     "output_type": "execute_result"
    }
   ],
   "source": [
    "diet.shape # diet의 차원"
   ]
  },
  {
   "cell_type": "markdown",
   "id": "b972c98d",
   "metadata": {},
   "source": [
    "### 3-7. 고유값(유니크 값)"
   ]
  },
  {
   "cell_type": "markdown",
   "id": "11b3bc3a",
   "metadata": {},
   "source": [
    "#### 3-7-1. 고유한(유니크) 값의 개수를 포함하는 Series 반환 :: Series.value_counts( )\n",
    "```python\n",
    "Series.value_counts(\n",
    "    sort = True,          # True : 정렬 O | False : 정렬 X\n",
    "    ascending = False,    # True : 내림차순 | False : 오름차순\n",
    "    dropna = True         # True : NaN 포함 X | False : NaN \n",
    ")\n",
    "```\n",
    "- 고유한(유니크) 값의 개수를 포함하는 Series를 반환\n",
    "- Option\n",
    "    - sort : 정렬 여부\n",
    "    - ascending : 정렬 오름차순 or 내림차순 여부\n",
    "    - dropna : NaN의 수를 포함 여부"
   ]
  },
  {
   "cell_type": "code",
   "execution_count": 16,
   "id": "2a6c1e2c",
   "metadata": {},
   "outputs": [
    {
     "data": {
      "text/plain": [
       "125    1\n",
       "406    1\n",
       "342    1\n",
       "dtype: int64"
      ]
     },
     "execution_count": 16,
     "metadata": {},
     "output_type": "execute_result"
    }
   ],
   "source": [
    "diet.value_counts() # diet의 각 유니크 값의 개수"
   ]
  },
  {
   "cell_type": "markdown",
   "id": "af5a17ba",
   "metadata": {},
   "source": [
    "#### 3-7-2. 고유값(유니크값) 반환 :: Series.unique( )\n",
    "- Series의 고유한(유니크) 값을 반환"
   ]
  },
  {
   "cell_type": "code",
   "execution_count": 17,
   "id": "5824ee37",
   "metadata": {},
   "outputs": [
    {
     "data": {
      "text/plain": [
       "array([125, 406, 342])"
      ]
     },
     "execution_count": 17,
     "metadata": {},
     "output_type": "execute_result"
    }
   ],
   "source": [
    "diet.unique() # diet의 유니크 값"
   ]
  },
  {
   "cell_type": "markdown",
   "id": "da48c91c",
   "metadata": {},
   "source": [
    "#### 3-7-3. 고유값(유니크값) 갯수 반환 :: Series.nunique( )"
   ]
  },
  {
   "cell_type": "code",
   "execution_count": 18,
   "id": "d9ce52f2",
   "metadata": {},
   "outputs": [
    {
     "data": {
      "text/plain": [
       "3"
      ]
     },
     "execution_count": 18,
     "metadata": {},
     "output_type": "execute_result"
    }
   ],
   "source": [
    "diet.nunique() # diet의 유니크 값의 개수"
   ]
  },
  {
   "cell_type": "markdown",
   "id": "6f3994a3",
   "metadata": {},
   "source": [
    "#### 3-7-4.  고유값(유니크값) 여부(T/F) 확인 :: Series.is_unique\n",
    "- Series가 중복된 값 존재 여부"
   ]
  },
  {
   "cell_type": "code",
   "execution_count": 19,
   "id": "8f80df1c",
   "metadata": {},
   "outputs": [
    {
     "data": {
      "text/plain": [
       "True"
      ]
     },
     "execution_count": 19,
     "metadata": {},
     "output_type": "execute_result"
    }
   ],
   "source": [
    "diet.is_unique  "
   ]
  },
  {
   "cell_type": "code",
   "execution_count": 20,
   "id": "ea0c0c8d",
   "metadata": {},
   "outputs": [
    {
     "data": {
      "text/plain": [
       "False"
      ]
     },
     "execution_count": 20,
     "metadata": {},
     "output_type": "execute_result"
    }
   ],
   "source": [
    "pd.Series(data = [1,2,3,3]).is_unique"
   ]
  },
  {
   "cell_type": "markdown",
   "id": "57add8ef",
   "metadata": {},
   "source": [
    "### 3-9. 정렬"
   ]
  },
  {
   "cell_type": "code",
   "execution_count": 21,
   "id": "e3012c0c",
   "metadata": {},
   "outputs": [
    {
     "name": "stderr",
     "output_type": "stream",
     "text": [
      "/var/folders/m2/mmsqhs890cl1_n22d3cspqsh0000gn/T/ipykernel_36504/3613524353.py:1: FutureWarning: The squeeze argument has been deprecated and will be removed in a future version. Append .squeeze(\"columns\") to the call to squeeze.\n",
      "\n",
      "\n",
      "  battles = pd.read_csv(\n"
     ]
    },
    {
     "data": {
      "text/plain": [
       "Start Date\n",
       "1774-09-01    Massachusetts\n",
       "1774-12-14    New Hampshire\n",
       "1775-04-19    Massachusetts\n",
       "1775-04-19    Massachusetts\n",
       "1775-04-20         Virginia\n",
       "                  ...      \n",
       "1782-09-11         Virginia\n",
       "1782-09-13              NaN\n",
       "1782-10-18              NaN\n",
       "1782-12-06              NaN\n",
       "1783-01-22         Virginia\n",
       "Name: State, Length: 232, dtype: object"
      ]
     },
     "execution_count": 21,
     "metadata": {},
     "output_type": "execute_result"
    }
   ],
   "source": [
    "battles = pd.read_csv(\n",
    "    'revolutionary_war.csv',\n",
    "    index_col = 'Start Date',\n",
    "    parse_dates = ['Start Date'],\n",
    "    usecols = ['State', 'Start Date'],\n",
    "    squeeze = True    \n",
    ")\n",
    "battles"
   ]
  },
  {
   "cell_type": "markdown",
   "id": "605af478",
   "metadata": {},
   "source": [
    "#### 3-9-1. 값 기준으로 정렬 :: sort_values\n",
    "```python\n",
    "Series.sort_values(\n",
    "    ascending = True,         # True : 오름차순 | False : 내림차순\n",
    "\tna_position = 'last',     # 'last' : NaN을 마지막에 위치 | 'first' : NaN을 처음에 위치\n",
    "    inplace = False           # True : 원본 대체 | False : 원본 대체하지 않음\n",
    ")\n",
    "```\n",
    "\n",
    "- Option\n",
    "  - ascending : 오름차순 / 내림차순 결정\n",
    "  - na_position : NaN값을 어디에 배치할지 결정\n",
    "  - inplace : 원본 대체 여부"
   ]
  },
  {
   "cell_type": "code",
   "execution_count": 22,
   "id": "129b0e1b",
   "metadata": {},
   "outputs": [
    {
     "data": {
      "text/plain": [
       "Start Date\n",
       "1781-09-06    Connecticut\n",
       "1779-07-05    Connecticut\n",
       "1777-04-27    Connecticut\n",
       "1777-09-03       Delaware\n",
       "1777-05-17        Florida\n",
       "                 ...     \n",
       "1782-08-08            NaN\n",
       "1782-08-25            NaN\n",
       "1782-09-13            NaN\n",
       "1782-10-18            NaN\n",
       "1782-12-06            NaN\n",
       "Name: State, Length: 232, dtype: object"
      ]
     },
     "execution_count": 22,
     "metadata": {},
     "output_type": "execute_result"
    }
   ],
   "source": [
    "battles.sort_values()\n",
    "battles.sort_values(ascending = True)    # battles의 값을 기준으로 오름차순으로 정렬"
   ]
  },
  {
   "cell_type": "code",
   "execution_count": 23,
   "id": "856ad50e",
   "metadata": {},
   "outputs": [
    {
     "data": {
      "text/plain": [
       "Start Date\n",
       "1783-01-22    Virginia\n",
       "1781-09-28    Virginia\n",
       "1779-05-10    Virginia\n",
       "1781-09-05    Virginia\n",
       "1781-07-06    Virginia\n",
       "                ...   \n",
       "1782-08-08         NaN\n",
       "1782-08-25         NaN\n",
       "1782-09-13         NaN\n",
       "1782-10-18         NaN\n",
       "1782-12-06         NaN\n",
       "Name: State, Length: 232, dtype: object"
      ]
     },
     "execution_count": 23,
     "metadata": {},
     "output_type": "execute_result"
    }
   ],
   "source": [
    "battles.sort_values(ascending = False)    # battles의 값을 기준으로 내림차순 정렬"
   ]
  },
  {
   "cell_type": "code",
   "execution_count": 24,
   "id": "32510555",
   "metadata": {},
   "outputs": [
    {
     "data": {
      "text/plain": [
       "Start Date\n",
       "1775-09-17         NaN\n",
       "1775-12-31         NaN\n",
       "1776-03-03         NaN\n",
       "1776-03-25         NaN\n",
       "1776-05-18         NaN\n",
       "                ...   \n",
       "1781-07-06    Virginia\n",
       "1781-07-01    Virginia\n",
       "1781-06-26    Virginia\n",
       "1781-04-25    Virginia\n",
       "1783-01-22    Virginia\n",
       "Name: State, Length: 232, dtype: object"
      ]
     },
     "execution_count": 24,
     "metadata": {},
     "output_type": "execute_result"
    }
   ],
   "source": [
    "battles.sort_values(na_position = 'first')   # battles의 값을 기준으로 오름차순 정렬, Nan값을 처음에 위치"
   ]
  },
  {
   "cell_type": "markdown",
   "id": "ee9c5de8",
   "metadata": {},
   "source": [
    "#### 3-9-2. 인덱스 기준으로 정렬 :: sort_index\n",
    "```python\n",
    "Series.sort_index(\n",
    "    ascending = True,        # True : 오름차순 | False : 내림차순\n",
    "    na_position = 'last',    # 'last' : 마지막에 위치 | 'first' : 처움에 위치 \n",
    "    inplace = False          # True : 원본 대체 | False : 원본 유지\n",
    ")\n",
    "```\n",
    "- Option \n",
    "    - ascending : 오름차순 or 내림차순 결정\n",
    "    - na_position : NaN값을 어디에 배치할지 결정\n",
    "    - inplace : 원본 대체 여부"
   ]
  },
  {
   "cell_type": "code",
   "execution_count": 25,
   "id": "fe167a3b",
   "metadata": {},
   "outputs": [
    {
     "data": {
      "text/plain": [
       "Start Date\n",
       "1774-09-01    Massachusetts\n",
       "1774-12-14    New Hampshire\n",
       "1775-04-19    Massachusetts\n",
       "1775-04-19    Massachusetts\n",
       "1775-04-20         Virginia\n",
       "                  ...      \n",
       "1783-01-22         Virginia\n",
       "NaT              New Jersey\n",
       "NaT                Virginia\n",
       "NaT                     NaN\n",
       "NaT                     NaN\n",
       "Name: State, Length: 232, dtype: object"
      ]
     },
     "execution_count": 25,
     "metadata": {},
     "output_type": "execute_result"
    }
   ],
   "source": [
    "battles.sort_index()\n",
    "battles.sort_index(ascending = True) # battles의 인덱스를 기준으로 오름차순으로 정렬"
   ]
  },
  {
   "cell_type": "code",
   "execution_count": 26,
   "id": "782ed0ff",
   "metadata": {},
   "outputs": [
    {
     "data": {
      "text/plain": [
       "Start Date\n",
       "1783-01-22         Virginia\n",
       "1782-12-06              NaN\n",
       "1782-10-18              NaN\n",
       "1782-09-13              NaN\n",
       "1782-09-11         Virginia\n",
       "                  ...      \n",
       "1774-09-01    Massachusetts\n",
       "NaT              New Jersey\n",
       "NaT                Virginia\n",
       "NaT                     NaN\n",
       "NaT                     NaN\n",
       "Name: State, Length: 232, dtype: object"
      ]
     },
     "execution_count": 26,
     "metadata": {},
     "output_type": "execute_result"
    }
   ],
   "source": [
    "battles.sort_index(ascending = False) # battles의 인덱스 기준으로 내림차순으로 정렬"
   ]
  },
  {
   "cell_type": "code",
   "execution_count": 27,
   "id": "fee745f1",
   "metadata": {},
   "outputs": [
    {
     "data": {
      "text/plain": [
       "Start Date\n",
       "NaT              New Jersey\n",
       "NaT                Virginia\n",
       "NaT                     NaN\n",
       "NaT                     NaN\n",
       "1774-09-01    Massachusetts\n",
       "                  ...      \n",
       "1782-09-11         Virginia\n",
       "1782-09-13              NaN\n",
       "1782-10-18              NaN\n",
       "1782-12-06              NaN\n",
       "1783-01-22         Virginia\n",
       "Name: State, Length: 232, dtype: object"
      ]
     },
     "execution_count": 27,
     "metadata": {},
     "output_type": "execute_result"
    }
   ],
   "source": [
    "battles.sort_index(na_position = 'first') # battles의 인덱스 기준으로 오름차순 정렬, NaN값을 처음에 위치"
   ]
  },
  {
   "cell_type": "markdown",
   "id": "6155af2f",
   "metadata": {},
   "source": [
    "## 4. Series 연산"
   ]
  },
  {
   "cell_type": "code",
   "execution_count": 28,
   "id": "017fd8d3",
   "metadata": {},
   "outputs": [
    {
     "data": {
      "text/plain": [
       "0    1.0\n",
       "1    2.0\n",
       "2    3.0\n",
       "3    NaN\n",
       "4    4.0\n",
       "5    5.0\n",
       "dtype: float64"
      ]
     },
     "execution_count": 28,
     "metadata": {},
     "output_type": "execute_result"
    }
   ],
   "source": [
    "import numpy as np\n",
    "numbers = pd.Series([1, 2, 3, np.nan, 4, 5])\n",
    "numbers"
   ]
  },
  {
   "cell_type": "markdown",
   "id": "f2037469",
   "metadata": {},
   "source": [
    "### 4-1. Null이 아닌 값의 개수 :: Series.count( )\n",
    "- Series의 NA/null( )이 아닌 관측치 개수"
   ]
  },
  {
   "cell_type": "code",
   "execution_count": 29,
   "id": "d9ddc665",
   "metadata": {},
   "outputs": [
    {
     "data": {
      "text/plain": [
       "5"
      ]
     },
     "execution_count": 29,
     "metadata": {},
     "output_type": "execute_result"
    }
   ],
   "source": [
    "numbers.count()   # numbers의 NA/null 값이 아닌 개수"
   ]
  },
  {
   "cell_type": "markdown",
   "id": "d9797bda",
   "metadata": {},
   "source": [
    "### 4-2. 합계"
   ]
  },
  {
   "cell_type": "markdown",
   "id": "47ab5b4f",
   "metadata": {},
   "source": [
    "#### 4-2-1. Null이 아닌 값 합계 :: Series.sum( )\n",
    "```python\n",
    "Series.sum(\n",
    "    skipna = True,    # True : NA/null 제외 | False : NA/null 포함\n",
    "    min_count = None\n",
    ")\n",
    "```\n",
    "\n",
    "- Option\n",
    "  - skipna : 결과를 계산할 때 NA/null 값을 제외\n",
    "  - min_count : 작업을 수행하는 데 필요한 유효한 값의 수\n",
    "    - NA가 아닌 값 보다 적으면 `min_count`결과는 NA가 됨"
   ]
  },
  {
   "cell_type": "code",
   "execution_count": 30,
   "id": "62234c08",
   "metadata": {},
   "outputs": [
    {
     "data": {
      "text/plain": [
       "15.0"
      ]
     },
     "execution_count": 30,
     "metadata": {},
     "output_type": "execute_result"
    }
   ],
   "source": [
    "numbers.sum() # numbers의 결측치를 제외한 값의 합"
   ]
  },
  {
   "cell_type": "code",
   "execution_count": 31,
   "id": "bba85d6c",
   "metadata": {},
   "outputs": [
    {
     "data": {
      "text/plain": [
       "nan"
      ]
     },
     "execution_count": 31,
     "metadata": {},
     "output_type": "execute_result"
    }
   ],
   "source": [
    "numbers.sum(\n",
    "    skipna = False  # 결측치를 제외하지 않음\n",
    ")"
   ]
  },
  {
   "cell_type": "code",
   "execution_count": 32,
   "id": "b5fa428a",
   "metadata": {},
   "outputs": [
    {
     "data": {
      "text/plain": [
       "15.0"
      ]
     },
     "execution_count": 32,
     "metadata": {},
     "output_type": "execute_result"
    }
   ],
   "source": [
    "numbers.sum(\n",
    "    min_count = 3   # numbers의 합계를 연산하기 위하여 최소한 3개의 요소가 필요\n",
    ")"
   ]
  },
  {
   "cell_type": "code",
   "execution_count": 33,
   "id": "f6f84e9f",
   "metadata": {},
   "outputs": [
    {
     "data": {
      "text/plain": [
       "nan"
      ]
     },
     "execution_count": 33,
     "metadata": {},
     "output_type": "execute_result"
    }
   ],
   "source": [
    "numbers.sum(\n",
    "    min_count = 6   # numbers의 합계를 연산하기 위하여 최소한 6개의 요소가 필요\n",
    ")"
   ]
  },
  {
   "cell_type": "markdown",
   "id": "99672e91",
   "metadata": {},
   "source": [
    "#### 4-2-2. 누적 합계 :: Series.cumsum()"
   ]
  },
  {
   "cell_type": "code",
   "execution_count": 34,
   "id": "f64e9a54",
   "metadata": {},
   "outputs": [
    {
     "data": {
      "text/plain": [
       "0    1.0\n",
       "1    2.0\n",
       "2    3.0\n",
       "3    NaN\n",
       "4    4.0\n",
       "5    5.0\n",
       "dtype: float64"
      ]
     },
     "execution_count": 34,
     "metadata": {},
     "output_type": "execute_result"
    }
   ],
   "source": [
    "numbers"
   ]
  },
  {
   "cell_type": "code",
   "execution_count": 35,
   "id": "e3bffd74",
   "metadata": {},
   "outputs": [
    {
     "data": {
      "text/plain": [
       "0     1.0\n",
       "1     3.0\n",
       "2     6.0\n",
       "3     NaN\n",
       "4    10.0\n",
       "5    15.0\n",
       "dtype: float64"
      ]
     },
     "execution_count": 35,
     "metadata": {},
     "output_type": "execute_result"
    }
   ],
   "source": [
    "numbers.cumsum()    # numbers의 누적 합계"
   ]
  },
  {
   "cell_type": "code",
   "execution_count": 36,
   "id": "e7a3e160",
   "metadata": {},
   "outputs": [
    {
     "data": {
      "text/plain": [
       "0    1.0\n",
       "1    3.0\n",
       "2    6.0\n",
       "3    NaN\n",
       "4    NaN\n",
       "5    NaN\n",
       "dtype: float64"
      ]
     },
     "execution_count": 36,
     "metadata": {},
     "output_type": "execute_result"
    }
   ],
   "source": [
    "numbers.cumsum(skipna = False) # numbers의 누적 합계 (결측값 포함)"
   ]
  },
  {
   "cell_type": "markdown",
   "id": "93c0b423",
   "metadata": {},
   "source": [
    "### 4-3. 곱셈 :: Series.product( )\n",
    "```python\n",
    "Series.product(\n",
    "\tskipna = True,     # True : 결측치 제외 | False : 결측치 포함\n",
    "    min_count = 3      \n",
    ")\n",
    "```\n",
    "- Option\n",
    "    - skipna : 결측치 생략 여부\n",
    "    - min_count : 유효한 값의 최소 개수 설정"
   ]
  },
  {
   "cell_type": "code",
   "execution_count": 37,
   "id": "78347742",
   "metadata": {},
   "outputs": [
    {
     "data": {
      "text/plain": [
       "120.0"
      ]
     },
     "execution_count": 37,
     "metadata": {},
     "output_type": "execute_result"
    }
   ],
   "source": [
    "numbers.product()   # numbers의 값 중 결측값을 제외한 값의 곱셈"
   ]
  },
  {
   "cell_type": "code",
   "execution_count": 38,
   "id": "b16f6ce6",
   "metadata": {},
   "outputs": [
    {
     "data": {
      "text/plain": [
       "nan"
      ]
     },
     "execution_count": 38,
     "metadata": {},
     "output_type": "execute_result"
    }
   ],
   "source": [
    "numbers.product(skipna = False) # numbers의 값 중 결측값을 제외하지 않은 값의 곱셈"
   ]
  },
  {
   "cell_type": "code",
   "execution_count": 39,
   "id": "7956fa45",
   "metadata": {},
   "outputs": [
    {
     "data": {
      "text/plain": [
       "120.0"
      ]
     },
     "execution_count": 39,
     "metadata": {},
     "output_type": "execute_result"
    }
   ],
   "source": [
    "numbers.product(\n",
    "    min_count = 3    # numbers의 곱셈을 연산하기 위하여 최소한 3개의 요소가 필요\n",
    ") "
   ]
  },
  {
   "cell_type": "code",
   "execution_count": 40,
   "id": "258b15dc",
   "metadata": {},
   "outputs": [
    {
     "data": {
      "text/plain": [
       "nan"
      ]
     },
     "execution_count": 40,
     "metadata": {},
     "output_type": "execute_result"
    }
   ],
   "source": [
    "numbers.product(\n",
    "    min_count = 6    # numbers의 곱셈을 연산하기 위하여 최소한 6개의 요소가 필요.\n",
    ")"
   ]
  },
  {
   "cell_type": "markdown",
   "id": "773b2563",
   "metadata": {},
   "source": [
    "### 4-4. 현재 요소와 이전 요소 사이의 백분율 :: Series.pct_change( )\n",
    "```python\n",
    "Series.pct_change(\n",
    "    periods = 1,            # 백분율 변경을 형성하기 위해 이동할 기간\n",
    "    fill_method = 'pad',    # 'pad' or 'ffill' : 정방향 채우기 | 'bfill' or 'backfill' : 역방향 채우기\n",
    "    limit = None\n",
    ")\n",
    "```\n",
    "- 한 객체 내에서 행과 행의 차이를 현재값과의 백분율로 출력\n",
    "- $(다음행 - 현재행) / 현재행$\n",
    "- Option\n",
    "  - periods : 비교할 간격\n",
    "  - fill_method : NA/null(결측치)를 대체할 값\n",
    "    - 'pad' or 'ffill' (정방향 채우기) : 앞의 값으로 결측치를 대체함\n",
    "      <img src='https://p.ipic.vip/oz83sp.png' width = \"50%\">\n",
    "    - 'bfill' or 'backfill' (역방향 채우기) : 뒤의 값으로 결측치를 대체함\n",
    "      <img src='https://p.ipic.vip/isls1u.png' width = '50%'>\n",
    "  - limit : 결측값을 몇개나 대체할것인지"
   ]
  },
  {
   "cell_type": "code",
   "execution_count": 84,
   "id": "bf027bb5",
   "metadata": {
    "scrolled": true
   },
   "outputs": [
    {
     "data": {
      "text/plain": [
       "0    1.0\n",
       "1    2.0\n",
       "2    3.0\n",
       "3    NaN\n",
       "4    4.0\n",
       "5    5.0\n",
       "dtype: float64"
      ]
     },
     "execution_count": 84,
     "metadata": {},
     "output_type": "execute_result"
    }
   ],
   "source": [
    "numbers"
   ]
  },
  {
   "cell_type": "code",
   "execution_count": 87,
   "id": "378c78e5",
   "metadata": {},
   "outputs": [
    {
     "data": {
      "text/plain": [
       "0         NaN\n",
       "1    1.000000\n",
       "2    0.500000\n",
       "3    0.000000\n",
       "4    0.333333\n",
       "5    0.250000\n",
       "dtype: float64"
      ]
     },
     "execution_count": 87,
     "metadata": {},
     "output_type": "execute_result"
    }
   ],
   "source": [
    "# 이전 요소와의 차이 백분율 (결측값은 앞의 값으로 대체)\n",
    "numbers.pct_change()\n",
    "numbers.pct_change(fill_method = 'pad')\n",
    "numbers.pct_change(fill_method = 'ffill')"
   ]
  },
  {
   "cell_type": "code",
   "execution_count": 83,
   "id": "822107dc",
   "metadata": {},
   "outputs": [
    {
     "data": {
      "text/plain": [
       "0     NaN\n",
       "1    15.0\n",
       "2     0.0\n",
       "3     0.0\n",
       "4     0.0\n",
       "5     3.0\n",
       "Name: col3, dtype: float64"
      ]
     },
     "execution_count": 83,
     "metadata": {},
     "output_type": "execute_result"
    }
   ],
   "source": [
    "# 이전 요소와의 차이 백분율 (결측값은 뒤 값으로 대체)\n",
    "numbers.pct_change(fill_method = 'bfill')\n",
    "numbers.pct_change(fill_method = 'backfill')"
   ]
  },
  {
   "cell_type": "markdown",
   "id": "348c481d",
   "metadata": {},
   "source": [
    "### 4-5. 평균 :: Series.mean( )\n",
    "```python\n",
    "Series.mean(\n",
    "    skipna = True,     # True : NA/null값 제외 | False : NA/null 값 포함\n",
    ")\n",
    "```\n",
    "- Series 값들의 평균을 반환\n",
    "- Option\n",
    "    - skipna : 결과를 계산할 때 NA/null값 제외 여부"
   ]
  },
  {
   "cell_type": "code",
   "execution_count": 43,
   "id": "6ad69ffc",
   "metadata": {},
   "outputs": [
    {
     "data": {
      "text/plain": [
       "3.0"
      ]
     },
     "execution_count": 43,
     "metadata": {},
     "output_type": "execute_result"
    }
   ],
   "source": [
    "numbers.mean() # numbers 값들의 평균"
   ]
  },
  {
   "cell_type": "code",
   "execution_count": 44,
   "id": "a25cd512",
   "metadata": {},
   "outputs": [
    {
     "data": {
      "text/plain": [
       "nan"
      ]
     },
     "execution_count": 44,
     "metadata": {},
     "output_type": "execute_result"
    }
   ],
   "source": [
    "numbers.mean(skipna = False) # NA/null 값을 포함한 numbers 값들의 평균"
   ]
  },
  {
   "cell_type": "markdown",
   "id": "16d32949",
   "metadata": {},
   "source": [
    "### 4-6. 중앙값 :: Series.median( )\n",
    "```python\n",
    "Series.median(\n",
    "    skipna = True,     # True : NA/null값 제외 | False : NA/null값 포함\n",
    "```\n",
    "- Series 값들의 중앙값을 반환\n",
    "- Option\n",
    "   - skipna : 결과를 계산할 때 NA/null값 제외 여부 "
   ]
  },
  {
   "cell_type": "code",
   "execution_count": 45,
   "id": "4350b0e8",
   "metadata": {},
   "outputs": [
    {
     "data": {
      "text/plain": [
       "3.0"
      ]
     },
     "execution_count": 45,
     "metadata": {},
     "output_type": "execute_result"
    }
   ],
   "source": [
    "numbers.median()    # numbers 값들의 중앙값"
   ]
  },
  {
   "cell_type": "code",
   "execution_count": 46,
   "id": "8bedfc16",
   "metadata": {},
   "outputs": [
    {
     "data": {
      "text/plain": [
       "nan"
      ]
     },
     "execution_count": 46,
     "metadata": {},
     "output_type": "execute_result"
    }
   ],
   "source": [
    "numbers.median(skipna = False) # NA/null 값을 포함한 numbers 값들의 중앙값"
   ]
  },
  {
   "cell_type": "markdown",
   "id": "301592c1",
   "metadata": {},
   "source": [
    "### 4-7. 표준편차 :: Series.std( )\n",
    "```python\n",
    "Series.std(\n",
    "    skipna = True    # True : NA/null값 제외 | False : NA/null 값 포함\n",
    ")\n",
    "```\n",
    "- Series 값들의 표준편차를 반환\n",
    "- Option\n",
    "    - skipna : 결과를 계산할 때 NA/null값 제외 여부"
   ]
  },
  {
   "cell_type": "code",
   "execution_count": 47,
   "id": "428f1b9e",
   "metadata": {},
   "outputs": [
    {
     "data": {
      "text/plain": [
       "1.5811388300841898"
      ]
     },
     "execution_count": 47,
     "metadata": {},
     "output_type": "execute_result"
    }
   ],
   "source": [
    "numbers.std()     # numbers 값들의 표준편차"
   ]
  },
  {
   "cell_type": "code",
   "execution_count": 48,
   "id": "19456d7a",
   "metadata": {},
   "outputs": [
    {
     "data": {
      "text/plain": [
       "nan"
      ]
     },
     "execution_count": 48,
     "metadata": {},
     "output_type": "execute_result"
    }
   ],
   "source": [
    "numbers.std(skipna = False)     # NA/null 값을 포함한 numbers 값들의 표준편차"
   ]
  },
  {
   "cell_type": "markdown",
   "id": "757faca8",
   "metadata": {},
   "source": [
    "### 4-8. 최대값 :: Series.max()\n",
    "```python\n",
    "Series.max(\n",
    "    skipna = True    # True : NA/null값 제외 | False : NA/null 값 포함\n",
    "```\n",
    "- Series값들의 최대값을 반환\n",
    "- Option\n",
    "    - skipna : 결과를 계산할 때 NA/null값 제외 여부"
   ]
  },
  {
   "cell_type": "code",
   "execution_count": 49,
   "id": "ead54bc8",
   "metadata": {},
   "outputs": [
    {
     "data": {
      "text/plain": [
       "5.0"
      ]
     },
     "execution_count": 49,
     "metadata": {},
     "output_type": "execute_result"
    }
   ],
   "source": [
    "numbers.max()    # numbers 값들의 최대값"
   ]
  },
  {
   "cell_type": "code",
   "execution_count": 50,
   "id": "dcaaca84",
   "metadata": {},
   "outputs": [
    {
     "data": {
      "text/plain": [
       "nan"
      ]
     },
     "execution_count": 50,
     "metadata": {},
     "output_type": "execute_result"
    }
   ],
   "source": [
    "numbers.max(skipna = False)     # NA/null 값을 포함한 numbers 값들의 최대값"
   ]
  },
  {
   "cell_type": "markdown",
   "id": "8c5adab9",
   "metadata": {},
   "source": [
    "### 4-9. 최소값 :: Series.min( )\n",
    "```python\n",
    "Series(\n",
    "    skipna = True    # True : NA/null값 제외 | False : NA/null 값 포함\n",
    "```\n",
    "- Series값들의 최소값을 반환\n",
    "- Option\n",
    "    - skipna : 결과를 계산할 때 NA/null값 제외 여부"
   ]
  },
  {
   "cell_type": "code",
   "execution_count": 51,
   "id": "49f6375e",
   "metadata": {},
   "outputs": [
    {
     "data": {
      "text/plain": [
       "1.0"
      ]
     },
     "execution_count": 51,
     "metadata": {},
     "output_type": "execute_result"
    }
   ],
   "source": [
    "numbers.min()    # numbers 값들의 최소값"
   ]
  },
  {
   "cell_type": "code",
   "execution_count": 52,
   "id": "b4b0db42",
   "metadata": {},
   "outputs": [
    {
     "data": {
      "text/plain": [
       "nan"
      ]
     },
     "execution_count": 52,
     "metadata": {},
     "output_type": "execute_result"
    }
   ],
   "source": [
    "numbers.min(skipna = False)    # NA/null 값을 포함한 numbers 값들의 최소값"
   ]
  },
  {
   "cell_type": "markdown",
   "id": "67f35daa",
   "metadata": {},
   "source": [
    "### 4-10. 통계량 :: Series.describe( )\n",
    "```python\n",
    "Series.describe()\n",
    "```\n",
    "- Series 값들에 대한 통계량"
   ]
  },
  {
   "cell_type": "code",
   "execution_count": 53,
   "id": "50b51bb3",
   "metadata": {},
   "outputs": [
    {
     "data": {
      "text/plain": [
       "count    5.000000\n",
       "mean     3.000000\n",
       "std      1.581139\n",
       "min      1.000000\n",
       "25%      2.000000\n",
       "50%      3.000000\n",
       "75%      4.000000\n",
       "max      5.000000\n",
       "dtype: float64"
      ]
     },
     "execution_count": 53,
     "metadata": {},
     "output_type": "execute_result"
    }
   ],
   "source": [
    "numbers.describe()"
   ]
  },
  {
   "cell_type": "markdown",
   "id": "40a775fe",
   "metadata": {},
   "source": [
    "### 4-11. 가장 큰 n개의 요소 반환 :: Series.nlargest( )\n",
    "```python\n",
    "Series.nlargest(\n",
    "    n = 5,     \n",
    "    keep = 'first'    # 'first' : 처음 중복이 된 값부터 출력 | 'last' : 마지막 중복된 값 부터 출력 | 'all' : 중복값 모두 출력(n보다 큰 크기의 시리즈가 생성될 수 있음)\n",
    ")\n",
    "```\n",
    "- 가장 큰 n개의 요소를 반환\n",
    "- Option\n",
    "    - n : 반환할 요소의 개수\n",
    "    - keep : 중복값 처리 방법"
   ]
  },
  {
   "cell_type": "code",
   "execution_count": 54,
   "id": "a9d0e45f",
   "metadata": {},
   "outputs": [],
   "source": [
    "countries_population = {\"Italy\": 59000000, \"France\": 65000000,\n",
    "                        \"Malta\": 434000, \"Maldives\": 434000,\n",
    "                        \"Brunei\": 434000, \"Iceland\": 337000,\n",
    "                        \"Nauru\": 11300, \"Tuvalu\": 11300,\n",
    "                        \"Anguilla\": 11300, \"Montserrat\": 5200}\n",
    "s = pd.Series(countries_population)"
   ]
  },
  {
   "cell_type": "code",
   "execution_count": 55,
   "id": "c1aef9af",
   "metadata": {},
   "outputs": [
    {
     "data": {
      "text/plain": [
       "Italy         59000000\n",
       "France        65000000\n",
       "Malta           434000\n",
       "Maldives        434000\n",
       "Brunei          434000\n",
       "Iceland         337000\n",
       "Nauru            11300\n",
       "Tuvalu           11300\n",
       "Anguilla         11300\n",
       "Montserrat        5200\n",
       "dtype: int64"
      ]
     },
     "execution_count": 55,
     "metadata": {},
     "output_type": "execute_result"
    }
   ],
   "source": [
    "s"
   ]
  },
  {
   "cell_type": "code",
   "execution_count": 56,
   "id": "7fe9423e",
   "metadata": {},
   "outputs": [
    {
     "data": {
      "text/plain": [
       "France    65000000\n",
       "Italy     59000000\n",
       "Malta       434000\n",
       "dtype: int64"
      ]
     },
     "execution_count": 56,
     "metadata": {},
     "output_type": "execute_result"
    }
   ],
   "source": [
    "s.nlargest(n = 3)\n",
    "s.nlargest(n = 3,keep = 'first')    # Series(s)중 가장 큰 3개의 요소, 중복된 값(Maldives, Brunei)중 처음인 Maldives 출력"
   ]
  },
  {
   "cell_type": "code",
   "execution_count": 57,
   "id": "6c7cfd00",
   "metadata": {},
   "outputs": [
    {
     "data": {
      "text/plain": [
       "France    65000000\n",
       "Italy     59000000\n",
       "Brunei      434000\n",
       "dtype: int64"
      ]
     },
     "execution_count": 57,
     "metadata": {},
     "output_type": "execute_result"
    }
   ],
   "source": [
    "s.nlargest(n = 3, keep = 'last')    # Series(s)중 가장 큰 3개의 요소, 중복된 값(Maldives, Brunei)중 마지막인 Brunei 출력"
   ]
  },
  {
   "cell_type": "code",
   "execution_count": 58,
   "id": "7e05b9d2",
   "metadata": {},
   "outputs": [
    {
     "data": {
      "text/plain": [
       "France      65000000\n",
       "Italy       59000000\n",
       "Malta         434000\n",
       "Maldives      434000\n",
       "Brunei        434000\n",
       "dtype: int64"
      ]
     },
     "execution_count": 58,
     "metadata": {},
     "output_type": "execute_result"
    }
   ],
   "source": [
    "s.nlargest(n = 3, keep = 'all')    # Series(s)중 가장 큰 3개의 요소, 중복된 값(Maldives, Brunei) 모두 출력"
   ]
  },
  {
   "cell_type": "markdown",
   "id": "47e7199a",
   "metadata": {},
   "source": [
    "### 4-12. 가장 작은 n개의 요소 반환 :: Series.nsmallest\n",
    "```python\n",
    "Series.nsmallest(\n",
    "    n = 5,     \n",
    "    keep = 'first'    # 'first' : 처음 중복이 된 값부터 출력 | 'last' : 마지막 중복된 값 부터 출력 | 'all' : 중복값 모두 출력(n보다 큰 크기의 시리즈가 생성될 수 있음)\n",
    ")\n",
    "```\n",
    "- 가장 작은 n개의 요소를 반환\n",
    "- Option\n",
    "    - n : 반환할 요소의 개수\n",
    "    - keep : 중복값 처리 방법"
   ]
  },
  {
   "cell_type": "code",
   "execution_count": 59,
   "id": "ad1d09b4",
   "metadata": {},
   "outputs": [
    {
     "data": {
      "text/plain": [
       "Italy         59000000\n",
       "France        65000000\n",
       "Malta           434000\n",
       "Maldives        434000\n",
       "Brunei          434000\n",
       "Iceland         337000\n",
       "Nauru            11300\n",
       "Tuvalu           11300\n",
       "Anguilla         11300\n",
       "Montserrat        5200\n",
       "dtype: int64"
      ]
     },
     "execution_count": 59,
     "metadata": {},
     "output_type": "execute_result"
    }
   ],
   "source": [
    "s"
   ]
  },
  {
   "cell_type": "code",
   "execution_count": 60,
   "id": "02252dac",
   "metadata": {},
   "outputs": [
    {
     "data": {
      "text/plain": [
       "Montserrat     5200\n",
       "Nauru         11300\n",
       "dtype: int64"
      ]
     },
     "execution_count": 60,
     "metadata": {},
     "output_type": "execute_result"
    }
   ],
   "source": [
    "s.nsmallest(n = 2)\n",
    "s.nsmallest(n = 2, keep = 'first') # Series(s)중 가장 작은 2개의 요소, 중복값(Malta, Nauru, Auguilla)중 처음인 'Malta' 출력"
   ]
  },
  {
   "cell_type": "code",
   "execution_count": 61,
   "id": "4b59c728",
   "metadata": {},
   "outputs": [
    {
     "data": {
      "text/plain": [
       "Montserrat     5200\n",
       "Anguilla      11300\n",
       "dtype: int64"
      ]
     },
     "execution_count": 61,
     "metadata": {},
     "output_type": "execute_result"
    }
   ],
   "source": [
    "s.nsmallest(n = 2, keep = 'last')  # Series(s)중 가장 작은 2개의 요소, 중복값(Malta, Nauru, Auguilla)중 마지막인 'Auguilla' 출력"
   ]
  },
  {
   "cell_type": "code",
   "execution_count": 62,
   "id": "d1cdf1c6",
   "metadata": {},
   "outputs": [
    {
     "data": {
      "text/plain": [
       "Montserrat     5200\n",
       "Nauru         11300\n",
       "Tuvalu        11300\n",
       "Anguilla      11300\n",
       "dtype: int64"
      ]
     },
     "execution_count": 62,
     "metadata": {},
     "output_type": "execute_result"
    }
   ],
   "source": [
    "s.nsmallest(n = 2, keep = 'all')   # Series(s)중 가장 작은 2개의 요소, 중복값(Malta, Nauru, Auguilla) 모두 출력"
   ]
  },
  {
   "cell_type": "markdown",
   "id": "5f98d6ba",
   "metadata": {},
   "source": [
    "## 5. Series간의 연산"
   ]
  },
  {
   "cell_type": "code",
   "execution_count": 63,
   "id": "efe69d2f",
   "metadata": {},
   "outputs": [
    {
     "data": {
      "text/plain": [
       "A     5.0\n",
       "B     NaN\n",
       "C    15.0\n",
       "dtype: float64"
      ]
     },
     "execution_count": 63,
     "metadata": {},
     "output_type": "execute_result"
    }
   ],
   "source": [
    "s1 = pd.Series(data = [5, np.nan, 15], index = ['A', 'B', 'C'])\n",
    "s1"
   ]
  },
  {
   "cell_type": "markdown",
   "id": "1086c63c",
   "metadata": {},
   "source": [
    "### 5-1. 덧셈 :: + or add"
   ]
  },
  {
   "cell_type": "code",
   "execution_count": 64,
   "id": "fb8e32d2",
   "metadata": {},
   "outputs": [
    {
     "data": {
      "text/plain": [
       "A     8.0\n",
       "B     NaN\n",
       "C    18.0\n",
       "dtype: float64"
      ]
     },
     "execution_count": 64,
     "metadata": {},
     "output_type": "execute_result"
    }
   ],
   "source": [
    "s1 + 3\n",
    "s1.add(3)"
   ]
  },
  {
   "cell_type": "markdown",
   "id": "4171d188",
   "metadata": {},
   "source": [
    "### 5-2. 뺄셈 :: - or sub or subtract"
   ]
  },
  {
   "cell_type": "code",
   "execution_count": 65,
   "id": "bbc52a94",
   "metadata": {},
   "outputs": [
    {
     "data": {
      "text/plain": [
       "A     0.0\n",
       "B     NaN\n",
       "C    10.0\n",
       "dtype: float64"
      ]
     },
     "execution_count": 65,
     "metadata": {},
     "output_type": "execute_result"
    }
   ],
   "source": [
    "s1 - 5\n",
    "s1.sub(5)\n",
    "s1.subtract(5)"
   ]
  },
  {
   "cell_type": "markdown",
   "id": "6eacf907",
   "metadata": {},
   "source": [
    "### 5-3. 곱하기 :: * or mul or multiply"
   ]
  },
  {
   "cell_type": "code",
   "execution_count": 66,
   "id": "227ed420",
   "metadata": {},
   "outputs": [
    {
     "data": {
      "text/plain": [
       "A    10.0\n",
       "B     NaN\n",
       "C    30.0\n",
       "dtype: float64"
      ]
     },
     "execution_count": 66,
     "metadata": {},
     "output_type": "execute_result"
    }
   ],
   "source": [
    "s1 * 2\n",
    "s1.mul(2)\n",
    "s1.multiply(2)"
   ]
  },
  {
   "cell_type": "markdown",
   "id": "8b4eb627",
   "metadata": {},
   "source": [
    "### 5-4. 나누기 :: / or div or divide"
   ]
  },
  {
   "cell_type": "code",
   "execution_count": 67,
   "id": "c638595a",
   "metadata": {},
   "outputs": [
    {
     "data": {
      "text/plain": [
       "A    2.5\n",
       "B    NaN\n",
       "C    7.5\n",
       "dtype: float64"
      ]
     },
     "execution_count": 67,
     "metadata": {},
     "output_type": "execute_result"
    }
   ],
   "source": [
    "s1 / 2\n",
    "s1.div(2)\n",
    "s1.divide(2)"
   ]
  },
  {
   "cell_type": "markdown",
   "id": "87834edb",
   "metadata": {},
   "source": [
    "### 5-5. 몫 추출 :: // or floordiv"
   ]
  },
  {
   "cell_type": "code",
   "execution_count": 68,
   "id": "ffabc27b",
   "metadata": {},
   "outputs": [
    {
     "data": {
      "text/plain": [
       "A    1.0\n",
       "B    NaN\n",
       "C    3.0\n",
       "dtype: float64"
      ]
     },
     "execution_count": 68,
     "metadata": {},
     "output_type": "execute_result"
    }
   ],
   "source": [
    "s1 // 4\n",
    "s1.floordiv(4)"
   ]
  },
  {
   "cell_type": "markdown",
   "id": "b0f55603",
   "metadata": {},
   "source": [
    "### 5-6. 나머지 추출 :: % or mod"
   ]
  },
  {
   "cell_type": "code",
   "execution_count": 69,
   "id": "b9497bca",
   "metadata": {},
   "outputs": [
    {
     "data": {
      "text/plain": [
       "A    2.0\n",
       "B    NaN\n",
       "C    0.0\n",
       "dtype: float64"
      ]
     },
     "execution_count": 69,
     "metadata": {},
     "output_type": "execute_result"
    }
   ],
   "source": [
    "s1 % 3\n",
    "s1.mod(3)"
   ]
  },
  {
   "cell_type": "markdown",
   "id": "b87d5844",
   "metadata": {},
   "source": [
    "### 5-7. 두 객체 비교 :: =="
   ]
  },
  {
   "cell_type": "code",
   "execution_count": 70,
   "id": "e9294b53",
   "metadata": {},
   "outputs": [
    {
     "name": "stdout",
     "output_type": "stream",
     "text": [
      "---- s1 -----\n",
      "0     3.0\n",
      "1     6.0\n",
      "2     NaN\n",
      "3    12.0\n",
      "dtype: float64\n",
      "---- s2 -----\n",
      "0     2.0\n",
      "1     6.0\n",
      "2     NaN\n",
      "3    12.0\n",
      "dtype: float64\n"
     ]
    }
   ],
   "source": [
    "s1 = pd.Series([3, 6, np.nan, 12])\n",
    "s2 = pd.Series([2, 6, np.nan, 12])\n",
    "print(\"---- s1 -----\")\n",
    "print(f\"{s1}\")\n",
    "print(\"---- s2 -----\")\n",
    "print(f\"{s2}\")"
   ]
  },
  {
   "cell_type": "code",
   "execution_count": 71,
   "id": "c50186d5",
   "metadata": {},
   "outputs": [
    {
     "data": {
      "text/plain": [
       "0    False\n",
       "1     True\n",
       "2    False\n",
       "3     True\n",
       "dtype: bool"
      ]
     },
     "execution_count": 71,
     "metadata": {},
     "output_type": "execute_result"
    }
   ],
   "source": [
    "s1 == s2\n",
    "s1.eq(s2)"
   ]
  }
 ],
 "metadata": {
  "kernelspec": {
   "display_name": "Python 3 (ipykernel)",
   "language": "python",
   "name": "python3"
  },
  "language_info": {
   "codemirror_mode": {
    "name": "ipython",
    "version": 3
   },
   "file_extension": ".py",
   "mimetype": "text/x-python",
   "name": "python",
   "nbconvert_exporter": "python",
   "pygments_lexer": "ipython3",
   "version": "3.10.11"
  },
  "toc": {
   "base_numbering": 1,
   "nav_menu": {},
   "number_sections": true,
   "sideBar": true,
   "skip_h1_title": false,
   "title_cell": "Table of Contents",
   "title_sidebar": "Contents",
   "toc_cell": false,
   "toc_position": {},
   "toc_section_display": true,
   "toc_window_display": false
  }
 },
 "nbformat": 4,
 "nbformat_minor": 5
}
