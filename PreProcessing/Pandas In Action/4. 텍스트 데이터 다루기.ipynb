{
 "cells": [
  {
   "cell_type": "code",
   "execution_count": 1,
   "id": "80bc96f2",
   "metadata": {},
   "outputs": [
    {
     "name": "stdout",
     "output_type": "stream",
     "text": [
      "/Users/ryu/Desktop/Desktop ryuseungho's MacBook Air/Data Scientist/Study_Organization/PreProcessing/Pandas In Action\n",
      "/Users/ryu/Desktop/Desktop ryuseungho's MacBook Air/Data Scientist/Study_Organization/PreProcessing/Pandas In Action/Data\n"
     ]
    }
   ],
   "source": [
    "import os\n",
    "print(os.getcwd())\n",
    "os.chdir(\"/Users/ryu/Desktop/Desktop ryuseungho's MacBook Air/Data Scientist/Study_Organization/PreProcessing/Pandas In Action/Data\")\n",
    "print(os.getcwd())"
   ]
  },
  {
   "cell_type": "markdown",
   "id": "501c41e5",
   "metadata": {},
   "source": [
    "# VI. 텍스트 데이터 다루기\n",
    "- DataFrame['column'] == Series\n",
    "- DataFrame.'column' == Series\n",
    "- Series.str : Series객체의 str 속성을 사용하여 StringMethods객체에 접근 가능"
   ]
  },
  {
   "cell_type": "code",
   "execution_count": 2,
   "id": "7e022527",
   "metadata": {},
   "outputs": [],
   "source": [
    "import pandas as pd"
   ]
  },
  {
   "cell_type": "markdown",
   "id": "829f20a8",
   "metadata": {},
   "source": [
    "## 1. 공백 처리"
   ]
  },
  {
   "cell_type": "code",
   "execution_count": 3,
   "id": "e270d27b",
   "metadata": {},
   "outputs": [
    {
     "data": {
      "text/html": [
       "<div>\n",
       "<style scoped>\n",
       "    .dataframe tbody tr th:only-of-type {\n",
       "        vertical-align: middle;\n",
       "    }\n",
       "\n",
       "    .dataframe tbody tr th {\n",
       "        vertical-align: top;\n",
       "    }\n",
       "\n",
       "    .dataframe thead th {\n",
       "        text-align: right;\n",
       "    }\n",
       "</style>\n",
       "<table border=\"1\" class=\"dataframe\">\n",
       "  <thead>\n",
       "    <tr style=\"text-align: right;\">\n",
       "      <th></th>\n",
       "      <th>Sentence</th>\n",
       "    </tr>\n",
       "  </thead>\n",
       "  <tbody>\n",
       "    <tr>\n",
       "      <th>0</th>\n",
       "      <td>Sentence with left space</td>\n",
       "    </tr>\n",
       "    <tr>\n",
       "      <th>1</th>\n",
       "      <td>Sentence with a space on the right</td>\n",
       "    </tr>\n",
       "    <tr>\n",
       "      <th>2</th>\n",
       "      <td>A sentence with two spaces</td>\n",
       "    </tr>\n",
       "  </tbody>\n",
       "</table>\n",
       "</div>"
      ],
      "text/plain": [
       "                               Sentence\n",
       "0              Sentence with left space\n",
       "1  Sentence with a space on the right  \n",
       "2          A sentence with two spaces  "
      ]
     },
     "execution_count": 3,
     "metadata": {},
     "output_type": "execute_result"
    }
   ],
   "source": [
    "df = pd.DataFrame({'Sentence' : ['  Sentence with left space',\n",
    "                                 'Sentence with a space on the right  ',\n",
    "                                 '  A sentence with two spaces  ']})\n",
    "df"
   ]
  },
  {
   "cell_type": "markdown",
   "id": "0225b778",
   "metadata": {},
   "source": [
    "### 1-1. 왼쪽 공백 제거 :: str.lstrip( )\n",
    "```python\n",
    "str.lstrip()\n",
    "````\n",
    "- 문자열의 시작 부분의 공백 제거"
   ]
  },
  {
   "cell_type": "code",
   "execution_count": 4,
   "id": "141a8afd",
   "metadata": {},
   "outputs": [
    {
     "data": {
      "text/html": [
       "<div>\n",
       "<style scoped>\n",
       "    .dataframe tbody tr th:only-of-type {\n",
       "        vertical-align: middle;\n",
       "    }\n",
       "\n",
       "    .dataframe tbody tr th {\n",
       "        vertical-align: top;\n",
       "    }\n",
       "\n",
       "    .dataframe thead th {\n",
       "        text-align: right;\n",
       "    }\n",
       "</style>\n",
       "<table border=\"1\" class=\"dataframe\">\n",
       "  <thead>\n",
       "    <tr style=\"text-align: right;\">\n",
       "      <th></th>\n",
       "      <th>Sentence</th>\n",
       "      <th>Sentence_lstrip</th>\n",
       "    </tr>\n",
       "  </thead>\n",
       "  <tbody>\n",
       "    <tr>\n",
       "      <th>0</th>\n",
       "      <td>Sentence with left space</td>\n",
       "      <td>Sentence with left space</td>\n",
       "    </tr>\n",
       "    <tr>\n",
       "      <th>1</th>\n",
       "      <td>Sentence with a space on the right</td>\n",
       "      <td>Sentence with a space on the right</td>\n",
       "    </tr>\n",
       "    <tr>\n",
       "      <th>2</th>\n",
       "      <td>A sentence with two spaces</td>\n",
       "      <td>A sentence with two spaces</td>\n",
       "    </tr>\n",
       "  </tbody>\n",
       "</table>\n",
       "</div>"
      ],
      "text/plain": [
       "                               Sentence                       Sentence_lstrip\n",
       "0              Sentence with left space              Sentence with left space\n",
       "1  Sentence with a space on the right    Sentence with a space on the right  \n",
       "2          A sentence with two spaces            A sentence with two spaces  "
      ]
     },
     "execution_count": 4,
     "metadata": {},
     "output_type": "execute_result"
    }
   ],
   "source": [
    "df['Sentence_lstrip'] = df[\"Sentence\"].str.lstrip()   # 왼쪽 공백 제거\n",
    "df"
   ]
  },
  {
   "cell_type": "code",
   "execution_count": 5,
   "id": "7ec81333",
   "metadata": {},
   "outputs": [
    {
     "data": {
      "text/plain": [
       "'  Sentence with left space'"
      ]
     },
     "execution_count": 5,
     "metadata": {},
     "output_type": "execute_result"
    }
   ],
   "source": [
    "df[\"Sentence\"][0]"
   ]
  },
  {
   "cell_type": "code",
   "execution_count": 6,
   "id": "1caed828",
   "metadata": {},
   "outputs": [
    {
     "data": {
      "text/plain": [
       "'Sentence with left space'"
      ]
     },
     "execution_count": 6,
     "metadata": {},
     "output_type": "execute_result"
    }
   ],
   "source": [
    "df['Sentence_lstrip'][0]"
   ]
  },
  {
   "cell_type": "markdown",
   "id": "e28c5a49",
   "metadata": {},
   "source": [
    "### 1-2. 오른쪽 공백 제거 :: str.rstrip( )\n",
    "```python\n",
    "str.rstrip()\n",
    "```\n",
    "- 문자열의 마지막 부분의 공백 제거"
   ]
  },
  {
   "cell_type": "code",
   "execution_count": 7,
   "id": "be3d7692",
   "metadata": {},
   "outputs": [
    {
     "data": {
      "text/html": [
       "<div>\n",
       "<style scoped>\n",
       "    .dataframe tbody tr th:only-of-type {\n",
       "        vertical-align: middle;\n",
       "    }\n",
       "\n",
       "    .dataframe tbody tr th {\n",
       "        vertical-align: top;\n",
       "    }\n",
       "\n",
       "    .dataframe thead th {\n",
       "        text-align: right;\n",
       "    }\n",
       "</style>\n",
       "<table border=\"1\" class=\"dataframe\">\n",
       "  <thead>\n",
       "    <tr style=\"text-align: right;\">\n",
       "      <th></th>\n",
       "      <th>Sentence</th>\n",
       "      <th>Sentence_lstrip</th>\n",
       "      <th>Sentence_rstrip</th>\n",
       "    </tr>\n",
       "  </thead>\n",
       "  <tbody>\n",
       "    <tr>\n",
       "      <th>0</th>\n",
       "      <td>Sentence with left space</td>\n",
       "      <td>Sentence with left space</td>\n",
       "      <td>Sentence with left space</td>\n",
       "    </tr>\n",
       "    <tr>\n",
       "      <th>1</th>\n",
       "      <td>Sentence with a space on the right</td>\n",
       "      <td>Sentence with a space on the right</td>\n",
       "      <td>Sentence with a space on the right</td>\n",
       "    </tr>\n",
       "    <tr>\n",
       "      <th>2</th>\n",
       "      <td>A sentence with two spaces</td>\n",
       "      <td>A sentence with two spaces</td>\n",
       "      <td>A sentence with two spaces</td>\n",
       "    </tr>\n",
       "  </tbody>\n",
       "</table>\n",
       "</div>"
      ],
      "text/plain": [
       "                               Sentence                       Sentence_lstrip  \\\n",
       "0              Sentence with left space              Sentence with left space   \n",
       "1  Sentence with a space on the right    Sentence with a space on the right     \n",
       "2          A sentence with two spaces            A sentence with two spaces     \n",
       "\n",
       "                      Sentence_rstrip  \n",
       "0            Sentence with left space  \n",
       "1  Sentence with a space on the right  \n",
       "2          A sentence with two spaces  "
      ]
     },
     "execution_count": 7,
     "metadata": {},
     "output_type": "execute_result"
    }
   ],
   "source": [
    "df['Sentence_rstrip'] = df[\"Sentence\"].str.rstrip()    # 오른쪽 공백 제거\n",
    "df"
   ]
  },
  {
   "cell_type": "code",
   "execution_count": 8,
   "id": "2667045a",
   "metadata": {},
   "outputs": [
    {
     "data": {
      "text/plain": [
       "'Sentence with a space on the right  '"
      ]
     },
     "execution_count": 8,
     "metadata": {},
     "output_type": "execute_result"
    }
   ],
   "source": [
    "df['Sentence'][1]"
   ]
  },
  {
   "cell_type": "code",
   "execution_count": 9,
   "id": "6aa16102",
   "metadata": {},
   "outputs": [
    {
     "data": {
      "text/plain": [
       "'Sentence with a space on the right'"
      ]
     },
     "execution_count": 9,
     "metadata": {},
     "output_type": "execute_result"
    }
   ],
   "source": [
    "df['Sentence_rstrip'][1]"
   ]
  },
  {
   "cell_type": "markdown",
   "id": "399dc5c2",
   "metadata": {},
   "source": [
    "### 1-3. 양쪽 공백 제거 :: str.strip( )\n",
    "```python\n",
    "str.strip()\n",
    "```\n",
    "- 문자열의 양쪽 끝의 공백 제거"
   ]
  },
  {
   "cell_type": "code",
   "execution_count": 10,
   "id": "cc382077",
   "metadata": {},
   "outputs": [
    {
     "data": {
      "text/html": [
       "<div>\n",
       "<style scoped>\n",
       "    .dataframe tbody tr th:only-of-type {\n",
       "        vertical-align: middle;\n",
       "    }\n",
       "\n",
       "    .dataframe tbody tr th {\n",
       "        vertical-align: top;\n",
       "    }\n",
       "\n",
       "    .dataframe thead th {\n",
       "        text-align: right;\n",
       "    }\n",
       "</style>\n",
       "<table border=\"1\" class=\"dataframe\">\n",
       "  <thead>\n",
       "    <tr style=\"text-align: right;\">\n",
       "      <th></th>\n",
       "      <th>Sentence</th>\n",
       "      <th>Sentence_lstrip</th>\n",
       "      <th>Sentence_rstrip</th>\n",
       "      <th>Sentence_strip</th>\n",
       "    </tr>\n",
       "  </thead>\n",
       "  <tbody>\n",
       "    <tr>\n",
       "      <th>0</th>\n",
       "      <td>Sentence with left space</td>\n",
       "      <td>Sentence with left space</td>\n",
       "      <td>Sentence with left space</td>\n",
       "      <td>Sentence with left space</td>\n",
       "    </tr>\n",
       "    <tr>\n",
       "      <th>1</th>\n",
       "      <td>Sentence with a space on the right</td>\n",
       "      <td>Sentence with a space on the right</td>\n",
       "      <td>Sentence with a space on the right</td>\n",
       "      <td>Sentence with a space on the right</td>\n",
       "    </tr>\n",
       "    <tr>\n",
       "      <th>2</th>\n",
       "      <td>A sentence with two spaces</td>\n",
       "      <td>A sentence with two spaces</td>\n",
       "      <td>A sentence with two spaces</td>\n",
       "      <td>A sentence with two spaces</td>\n",
       "    </tr>\n",
       "  </tbody>\n",
       "</table>\n",
       "</div>"
      ],
      "text/plain": [
       "                               Sentence                       Sentence_lstrip  \\\n",
       "0              Sentence with left space              Sentence with left space   \n",
       "1  Sentence with a space on the right    Sentence with a space on the right     \n",
       "2          A sentence with two spaces            A sentence with two spaces     \n",
       "\n",
       "                      Sentence_rstrip                      Sentence_strip  \n",
       "0            Sentence with left space            Sentence with left space  \n",
       "1  Sentence with a space on the right  Sentence with a space on the right  \n",
       "2          A sentence with two spaces          A sentence with two spaces  "
      ]
     },
     "execution_count": 10,
     "metadata": {},
     "output_type": "execute_result"
    }
   ],
   "source": [
    "df['Sentence_strip'] = df[\"Sentence\"].str.strip()    # 양쪽 공백 제거\n",
    "df"
   ]
  },
  {
   "cell_type": "code",
   "execution_count": 11,
   "id": "6ad7f95b",
   "metadata": {},
   "outputs": [
    {
     "data": {
      "text/plain": [
       "'  A sentence with two spaces  '"
      ]
     },
     "execution_count": 11,
     "metadata": {},
     "output_type": "execute_result"
    }
   ],
   "source": [
    "df['Sentence'][2]"
   ]
  },
  {
   "cell_type": "code",
   "execution_count": 12,
   "id": "914c8956",
   "metadata": {},
   "outputs": [
    {
     "data": {
      "text/plain": [
       "'A sentence with two spaces'"
      ]
     },
     "execution_count": 12,
     "metadata": {},
     "output_type": "execute_result"
    }
   ],
   "source": [
    "df['Sentence_strip'][2]"
   ]
  },
  {
   "cell_type": "markdown",
   "id": "3c0a221a",
   "metadata": {},
   "source": [
    "## 2. 대 • 소문자 변환"
   ]
  },
  {
   "cell_type": "code",
   "execution_count": 13,
   "id": "0fbc2378",
   "metadata": {},
   "outputs": [
    {
     "data": {
      "text/html": [
       "<div>\n",
       "<style scoped>\n",
       "    .dataframe tbody tr th:only-of-type {\n",
       "        vertical-align: middle;\n",
       "    }\n",
       "\n",
       "    .dataframe tbody tr th {\n",
       "        vertical-align: top;\n",
       "    }\n",
       "\n",
       "    .dataframe thead th {\n",
       "        text-align: right;\n",
       "    }\n",
       "</style>\n",
       "<table border=\"1\" class=\"dataframe\">\n",
       "  <thead>\n",
       "    <tr style=\"text-align: right;\">\n",
       "      <th></th>\n",
       "      <th>Sentence</th>\n",
       "    </tr>\n",
       "  </thead>\n",
       "  <tbody>\n",
       "    <tr>\n",
       "      <th>0</th>\n",
       "      <td>ALL CHARACTERS ARE UPPERCASE</td>\n",
       "    </tr>\n",
       "    <tr>\n",
       "      <th>1</th>\n",
       "      <td>all characters are lowercase</td>\n",
       "    </tr>\n",
       "    <tr>\n",
       "      <th>2</th>\n",
       "      <td>all characters are lowercase</td>\n",
       "    </tr>\n",
       "    <tr>\n",
       "      <th>3</th>\n",
       "      <td>all characters are lowercase</td>\n",
       "    </tr>\n",
       "    <tr>\n",
       "      <th>4</th>\n",
       "      <td>UPPER AND lower case</td>\n",
       "    </tr>\n",
       "  </tbody>\n",
       "</table>\n",
       "</div>"
      ],
      "text/plain": [
       "                       Sentence\n",
       "0  ALL CHARACTERS ARE UPPERCASE\n",
       "1  all characters are lowercase\n",
       "2  all characters are lowercase\n",
       "3  all characters are lowercase\n",
       "4          UPPER AND lower case"
      ]
     },
     "execution_count": 13,
     "metadata": {},
     "output_type": "execute_result"
    }
   ],
   "source": [
    "df = pd.DataFrame({'Sentence' : ['ALL CHARACTERS ARE UPPERCASE',\n",
    "                                 'all characters are lowercase',\n",
    "                                 'all characters are lowercase',\n",
    "                                 'all characters are lowercase',\n",
    "                                 'UPPER AND lower case']})\n",
    "df"
   ]
  },
  {
   "cell_type": "markdown",
   "id": "3b419fd9",
   "metadata": {},
   "source": [
    "### 2-1. 모든 문자를 소문자로 변환 :: str.lower( )\n",
    "```python\n",
    "str.lower()\n",
    "```\n",
    "- 문자열의 모든 문자를 소문자로 변환"
   ]
  },
  {
   "cell_type": "code",
   "execution_count": 14,
   "id": "a63cebea",
   "metadata": {},
   "outputs": [
    {
     "data": {
      "text/html": [
       "<div>\n",
       "<style scoped>\n",
       "    .dataframe tbody tr th:only-of-type {\n",
       "        vertical-align: middle;\n",
       "    }\n",
       "\n",
       "    .dataframe tbody tr th {\n",
       "        vertical-align: top;\n",
       "    }\n",
       "\n",
       "    .dataframe thead th {\n",
       "        text-align: right;\n",
       "    }\n",
       "</style>\n",
       "<table border=\"1\" class=\"dataframe\">\n",
       "  <thead>\n",
       "    <tr style=\"text-align: right;\">\n",
       "      <th></th>\n",
       "      <th>Sentence</th>\n",
       "      <th>Sentence_lower</th>\n",
       "    </tr>\n",
       "  </thead>\n",
       "  <tbody>\n",
       "    <tr>\n",
       "      <th>0</th>\n",
       "      <td>ALL CHARACTERS ARE UPPERCASE</td>\n",
       "      <td>all characters are uppercase</td>\n",
       "    </tr>\n",
       "    <tr>\n",
       "      <th>1</th>\n",
       "      <td>all characters are lowercase</td>\n",
       "      <td>all characters are lowercase</td>\n",
       "    </tr>\n",
       "    <tr>\n",
       "      <th>2</th>\n",
       "      <td>all characters are lowercase</td>\n",
       "      <td>all characters are lowercase</td>\n",
       "    </tr>\n",
       "    <tr>\n",
       "      <th>3</th>\n",
       "      <td>all characters are lowercase</td>\n",
       "      <td>all characters are lowercase</td>\n",
       "    </tr>\n",
       "    <tr>\n",
       "      <th>4</th>\n",
       "      <td>UPPER AND lower case</td>\n",
       "      <td>upper and lower case</td>\n",
       "    </tr>\n",
       "  </tbody>\n",
       "</table>\n",
       "</div>"
      ],
      "text/plain": [
       "                       Sentence                Sentence_lower\n",
       "0  ALL CHARACTERS ARE UPPERCASE  all characters are uppercase\n",
       "1  all characters are lowercase  all characters are lowercase\n",
       "2  all characters are lowercase  all characters are lowercase\n",
       "3  all characters are lowercase  all characters are lowercase\n",
       "4          UPPER AND lower case          upper and lower case"
      ]
     },
     "execution_count": 14,
     "metadata": {},
     "output_type": "execute_result"
    }
   ],
   "source": [
    "df['Sentence_lower'] = df['Sentence'].str.lower()    # 문자열을 모두 소문자로 변환\n",
    "df"
   ]
  },
  {
   "cell_type": "code",
   "execution_count": 15,
   "id": "64797ff0",
   "metadata": {},
   "outputs": [
    {
     "data": {
      "text/plain": [
       "'ALL CHARACTERS ARE UPPERCASE'"
      ]
     },
     "execution_count": 15,
     "metadata": {},
     "output_type": "execute_result"
    }
   ],
   "source": [
    "df['Sentence'][0]"
   ]
  },
  {
   "cell_type": "code",
   "execution_count": 16,
   "id": "1629776a",
   "metadata": {},
   "outputs": [
    {
     "data": {
      "text/plain": [
       "'all characters are uppercase'"
      ]
     },
     "execution_count": 16,
     "metadata": {},
     "output_type": "execute_result"
    }
   ],
   "source": [
    "df['Sentence_lower'][0]"
   ]
  },
  {
   "cell_type": "markdown",
   "id": "2fabc470",
   "metadata": {},
   "source": [
    "### 2-2. 모든 문자를 대문자로 변환 :: str.upper( )\n",
    "```python\n",
    "str.upper()\n",
    "```\n",
    "- 문자열의 모든 문자를 대문자로 변환"
   ]
  },
  {
   "cell_type": "code",
   "execution_count": 17,
   "id": "c06c30ae",
   "metadata": {},
   "outputs": [
    {
     "data": {
      "text/html": [
       "<div>\n",
       "<style scoped>\n",
       "    .dataframe tbody tr th:only-of-type {\n",
       "        vertical-align: middle;\n",
       "    }\n",
       "\n",
       "    .dataframe tbody tr th {\n",
       "        vertical-align: top;\n",
       "    }\n",
       "\n",
       "    .dataframe thead th {\n",
       "        text-align: right;\n",
       "    }\n",
       "</style>\n",
       "<table border=\"1\" class=\"dataframe\">\n",
       "  <thead>\n",
       "    <tr style=\"text-align: right;\">\n",
       "      <th></th>\n",
       "      <th>Sentence</th>\n",
       "      <th>Sentence_lower</th>\n",
       "      <th>Sentence_upper</th>\n",
       "    </tr>\n",
       "  </thead>\n",
       "  <tbody>\n",
       "    <tr>\n",
       "      <th>0</th>\n",
       "      <td>ALL CHARACTERS ARE UPPERCASE</td>\n",
       "      <td>all characters are uppercase</td>\n",
       "      <td>ALL CHARACTERS ARE UPPERCASE</td>\n",
       "    </tr>\n",
       "    <tr>\n",
       "      <th>1</th>\n",
       "      <td>all characters are lowercase</td>\n",
       "      <td>all characters are lowercase</td>\n",
       "      <td>ALL CHARACTERS ARE LOWERCASE</td>\n",
       "    </tr>\n",
       "    <tr>\n",
       "      <th>2</th>\n",
       "      <td>all characters are lowercase</td>\n",
       "      <td>all characters are lowercase</td>\n",
       "      <td>ALL CHARACTERS ARE LOWERCASE</td>\n",
       "    </tr>\n",
       "    <tr>\n",
       "      <th>3</th>\n",
       "      <td>all characters are lowercase</td>\n",
       "      <td>all characters are lowercase</td>\n",
       "      <td>ALL CHARACTERS ARE LOWERCASE</td>\n",
       "    </tr>\n",
       "    <tr>\n",
       "      <th>4</th>\n",
       "      <td>UPPER AND lower case</td>\n",
       "      <td>upper and lower case</td>\n",
       "      <td>UPPER AND LOWER CASE</td>\n",
       "    </tr>\n",
       "  </tbody>\n",
       "</table>\n",
       "</div>"
      ],
      "text/plain": [
       "                       Sentence                Sentence_lower  \\\n",
       "0  ALL CHARACTERS ARE UPPERCASE  all characters are uppercase   \n",
       "1  all characters are lowercase  all characters are lowercase   \n",
       "2  all characters are lowercase  all characters are lowercase   \n",
       "3  all characters are lowercase  all characters are lowercase   \n",
       "4          UPPER AND lower case          upper and lower case   \n",
       "\n",
       "                 Sentence_upper  \n",
       "0  ALL CHARACTERS ARE UPPERCASE  \n",
       "1  ALL CHARACTERS ARE LOWERCASE  \n",
       "2  ALL CHARACTERS ARE LOWERCASE  \n",
       "3  ALL CHARACTERS ARE LOWERCASE  \n",
       "4          UPPER AND LOWER CASE  "
      ]
     },
     "execution_count": 17,
     "metadata": {},
     "output_type": "execute_result"
    }
   ],
   "source": [
    "df['Sentence_upper'] = df['Sentence'].str.upper()    # 문자열의 모든 문자를 대문자로 변환\n",
    "df"
   ]
  },
  {
   "cell_type": "code",
   "execution_count": 18,
   "id": "9575dbd4",
   "metadata": {},
   "outputs": [
    {
     "data": {
      "text/plain": [
       "'all characters are lowercase'"
      ]
     },
     "execution_count": 18,
     "metadata": {},
     "output_type": "execute_result"
    }
   ],
   "source": [
    "df['Sentence'][1]"
   ]
  },
  {
   "cell_type": "code",
   "execution_count": 19,
   "id": "8bb333ed",
   "metadata": {},
   "outputs": [
    {
     "data": {
      "text/plain": [
       "'ALL CHARACTERS ARE LOWERCASE'"
      ]
     },
     "execution_count": 19,
     "metadata": {},
     "output_type": "execute_result"
    }
   ],
   "source": [
    "df['Sentence_upper'][1]"
   ]
  },
  {
   "cell_type": "markdown",
   "id": "8d747907",
   "metadata": {},
   "source": [
    "### 2-3. 첫 번째 문자를 대문자로 변환 :: str.capitalize( )\n",
    "```python\n",
    "str.capitalize()\n",
    "```\n",
    "- 첫 번째 문자를 대문자로 변환"
   ]
  },
  {
   "cell_type": "code",
   "execution_count": 20,
   "id": "af000218",
   "metadata": {},
   "outputs": [
    {
     "data": {
      "text/html": [
       "<div>\n",
       "<style scoped>\n",
       "    .dataframe tbody tr th:only-of-type {\n",
       "        vertical-align: middle;\n",
       "    }\n",
       "\n",
       "    .dataframe tbody tr th {\n",
       "        vertical-align: top;\n",
       "    }\n",
       "\n",
       "    .dataframe thead th {\n",
       "        text-align: right;\n",
       "    }\n",
       "</style>\n",
       "<table border=\"1\" class=\"dataframe\">\n",
       "  <thead>\n",
       "    <tr style=\"text-align: right;\">\n",
       "      <th></th>\n",
       "      <th>Sentence</th>\n",
       "      <th>Sentence_lower</th>\n",
       "      <th>Sentence_upper</th>\n",
       "      <th>Sentence_capitalize</th>\n",
       "    </tr>\n",
       "  </thead>\n",
       "  <tbody>\n",
       "    <tr>\n",
       "      <th>0</th>\n",
       "      <td>ALL CHARACTERS ARE UPPERCASE</td>\n",
       "      <td>all characters are uppercase</td>\n",
       "      <td>ALL CHARACTERS ARE UPPERCASE</td>\n",
       "      <td>All characters are uppercase</td>\n",
       "    </tr>\n",
       "    <tr>\n",
       "      <th>1</th>\n",
       "      <td>all characters are lowercase</td>\n",
       "      <td>all characters are lowercase</td>\n",
       "      <td>ALL CHARACTERS ARE LOWERCASE</td>\n",
       "      <td>All characters are lowercase</td>\n",
       "    </tr>\n",
       "    <tr>\n",
       "      <th>2</th>\n",
       "      <td>all characters are lowercase</td>\n",
       "      <td>all characters are lowercase</td>\n",
       "      <td>ALL CHARACTERS ARE LOWERCASE</td>\n",
       "      <td>All characters are lowercase</td>\n",
       "    </tr>\n",
       "    <tr>\n",
       "      <th>3</th>\n",
       "      <td>all characters are lowercase</td>\n",
       "      <td>all characters are lowercase</td>\n",
       "      <td>ALL CHARACTERS ARE LOWERCASE</td>\n",
       "      <td>All characters are lowercase</td>\n",
       "    </tr>\n",
       "    <tr>\n",
       "      <th>4</th>\n",
       "      <td>UPPER AND lower case</td>\n",
       "      <td>upper and lower case</td>\n",
       "      <td>UPPER AND LOWER CASE</td>\n",
       "      <td>Upper and lower case</td>\n",
       "    </tr>\n",
       "  </tbody>\n",
       "</table>\n",
       "</div>"
      ],
      "text/plain": [
       "                       Sentence                Sentence_lower  \\\n",
       "0  ALL CHARACTERS ARE UPPERCASE  all characters are uppercase   \n",
       "1  all characters are lowercase  all characters are lowercase   \n",
       "2  all characters are lowercase  all characters are lowercase   \n",
       "3  all characters are lowercase  all characters are lowercase   \n",
       "4          UPPER AND lower case          upper and lower case   \n",
       "\n",
       "                 Sentence_upper           Sentence_capitalize  \n",
       "0  ALL CHARACTERS ARE UPPERCASE  All characters are uppercase  \n",
       "1  ALL CHARACTERS ARE LOWERCASE  All characters are lowercase  \n",
       "2  ALL CHARACTERS ARE LOWERCASE  All characters are lowercase  \n",
       "3  ALL CHARACTERS ARE LOWERCASE  All characters are lowercase  \n",
       "4          UPPER AND LOWER CASE          Upper and lower case  "
      ]
     },
     "execution_count": 20,
     "metadata": {},
     "output_type": "execute_result"
    }
   ],
   "source": [
    "df['Sentence_capitalize'] = df['Sentence'].str.capitalize() # 맨 앞의 문자를 대문자로 변환\n",
    "df"
   ]
  },
  {
   "cell_type": "code",
   "execution_count": 21,
   "id": "b8714918",
   "metadata": {},
   "outputs": [
    {
     "data": {
      "text/plain": [
       "'all characters are lowercase'"
      ]
     },
     "execution_count": 21,
     "metadata": {},
     "output_type": "execute_result"
    }
   ],
   "source": [
    "df['Sentence'][2]"
   ]
  },
  {
   "cell_type": "code",
   "execution_count": 22,
   "id": "3e876c85",
   "metadata": {},
   "outputs": [
    {
     "data": {
      "text/plain": [
       "'All characters are lowercase'"
      ]
     },
     "execution_count": 22,
     "metadata": {},
     "output_type": "execute_result"
    }
   ],
   "source": [
    "df['Sentence_capitalize'][2]"
   ]
  },
  {
   "cell_type": "markdown",
   "id": "9ce026b6",
   "metadata": {},
   "source": [
    "### 2-4. 각 단어의 첫 번째 문자를 대문자로 변환 :: str.title( )\n",
    "```python\n",
    "str.title()\n",
    "```\n",
    "- 문자열의 각 단어 첫 번째 문자를 대문자로 변환"
   ]
  },
  {
   "cell_type": "code",
   "execution_count": 23,
   "id": "4b0c5f42",
   "metadata": {},
   "outputs": [
    {
     "data": {
      "text/html": [
       "<div>\n",
       "<style scoped>\n",
       "    .dataframe tbody tr th:only-of-type {\n",
       "        vertical-align: middle;\n",
       "    }\n",
       "\n",
       "    .dataframe tbody tr th {\n",
       "        vertical-align: top;\n",
       "    }\n",
       "\n",
       "    .dataframe thead th {\n",
       "        text-align: right;\n",
       "    }\n",
       "</style>\n",
       "<table border=\"1\" class=\"dataframe\">\n",
       "  <thead>\n",
       "    <tr style=\"text-align: right;\">\n",
       "      <th></th>\n",
       "      <th>Sentence</th>\n",
       "      <th>Sentence_lower</th>\n",
       "      <th>Sentence_upper</th>\n",
       "      <th>Sentence_capitalize</th>\n",
       "      <th>Sentence_title</th>\n",
       "    </tr>\n",
       "  </thead>\n",
       "  <tbody>\n",
       "    <tr>\n",
       "      <th>0</th>\n",
       "      <td>ALL CHARACTERS ARE UPPERCASE</td>\n",
       "      <td>all characters are uppercase</td>\n",
       "      <td>ALL CHARACTERS ARE UPPERCASE</td>\n",
       "      <td>All characters are uppercase</td>\n",
       "      <td>All Characters Are Uppercase</td>\n",
       "    </tr>\n",
       "    <tr>\n",
       "      <th>1</th>\n",
       "      <td>all characters are lowercase</td>\n",
       "      <td>all characters are lowercase</td>\n",
       "      <td>ALL CHARACTERS ARE LOWERCASE</td>\n",
       "      <td>All characters are lowercase</td>\n",
       "      <td>All Characters Are Lowercase</td>\n",
       "    </tr>\n",
       "    <tr>\n",
       "      <th>2</th>\n",
       "      <td>all characters are lowercase</td>\n",
       "      <td>all characters are lowercase</td>\n",
       "      <td>ALL CHARACTERS ARE LOWERCASE</td>\n",
       "      <td>All characters are lowercase</td>\n",
       "      <td>All Characters Are Lowercase</td>\n",
       "    </tr>\n",
       "    <tr>\n",
       "      <th>3</th>\n",
       "      <td>all characters are lowercase</td>\n",
       "      <td>all characters are lowercase</td>\n",
       "      <td>ALL CHARACTERS ARE LOWERCASE</td>\n",
       "      <td>All characters are lowercase</td>\n",
       "      <td>All Characters Are Lowercase</td>\n",
       "    </tr>\n",
       "    <tr>\n",
       "      <th>4</th>\n",
       "      <td>UPPER AND lower case</td>\n",
       "      <td>upper and lower case</td>\n",
       "      <td>UPPER AND LOWER CASE</td>\n",
       "      <td>Upper and lower case</td>\n",
       "      <td>Upper And Lower Case</td>\n",
       "    </tr>\n",
       "  </tbody>\n",
       "</table>\n",
       "</div>"
      ],
      "text/plain": [
       "                       Sentence                Sentence_lower  \\\n",
       "0  ALL CHARACTERS ARE UPPERCASE  all characters are uppercase   \n",
       "1  all characters are lowercase  all characters are lowercase   \n",
       "2  all characters are lowercase  all characters are lowercase   \n",
       "3  all characters are lowercase  all characters are lowercase   \n",
       "4          UPPER AND lower case          upper and lower case   \n",
       "\n",
       "                 Sentence_upper           Sentence_capitalize  \\\n",
       "0  ALL CHARACTERS ARE UPPERCASE  All characters are uppercase   \n",
       "1  ALL CHARACTERS ARE LOWERCASE  All characters are lowercase   \n",
       "2  ALL CHARACTERS ARE LOWERCASE  All characters are lowercase   \n",
       "3  ALL CHARACTERS ARE LOWERCASE  All characters are lowercase   \n",
       "4          UPPER AND LOWER CASE          Upper and lower case   \n",
       "\n",
       "                 Sentence_title  \n",
       "0  All Characters Are Uppercase  \n",
       "1  All Characters Are Lowercase  \n",
       "2  All Characters Are Lowercase  \n",
       "3  All Characters Are Lowercase  \n",
       "4          Upper And Lower Case  "
      ]
     },
     "execution_count": 23,
     "metadata": {},
     "output_type": "execute_result"
    }
   ],
   "source": [
    "df['Sentence_title'] = df['Sentence'].str.title()    # 문자열의 각 단어 첫 번째 문자를 대문자로 변환\n",
    "df"
   ]
  },
  {
   "cell_type": "code",
   "execution_count": 24,
   "id": "3bf46a2c",
   "metadata": {},
   "outputs": [
    {
     "data": {
      "text/plain": [
       "'all characters are lowercase'"
      ]
     },
     "execution_count": 24,
     "metadata": {},
     "output_type": "execute_result"
    }
   ],
   "source": [
    "df['Sentence'][3]"
   ]
  },
  {
   "cell_type": "code",
   "execution_count": 25,
   "id": "818391bb",
   "metadata": {},
   "outputs": [
    {
     "data": {
      "text/plain": [
       "'All Characters Are Lowercase'"
      ]
     },
     "execution_count": 25,
     "metadata": {},
     "output_type": "execute_result"
    }
   ],
   "source": [
    "df['Sentence_title'][3]"
   ]
  },
  {
   "cell_type": "markdown",
   "id": "4c42d217",
   "metadata": {},
   "source": [
    "### 2-5. 소문자를 대문자로, 대문자는 소문자로 변경 :: str.swapcase( )\n",
    "- 문자열을 소문자 ←→ 대문자 변환"
   ]
  },
  {
   "cell_type": "code",
   "execution_count": 26,
   "id": "eea7fe41",
   "metadata": {},
   "outputs": [
    {
     "data": {
      "text/html": [
       "<div>\n",
       "<style scoped>\n",
       "    .dataframe tbody tr th:only-of-type {\n",
       "        vertical-align: middle;\n",
       "    }\n",
       "\n",
       "    .dataframe tbody tr th {\n",
       "        vertical-align: top;\n",
       "    }\n",
       "\n",
       "    .dataframe thead th {\n",
       "        text-align: right;\n",
       "    }\n",
       "</style>\n",
       "<table border=\"1\" class=\"dataframe\">\n",
       "  <thead>\n",
       "    <tr style=\"text-align: right;\">\n",
       "      <th></th>\n",
       "      <th>Sentence</th>\n",
       "      <th>Sentence_lower</th>\n",
       "      <th>Sentence_upper</th>\n",
       "      <th>Sentence_capitalize</th>\n",
       "      <th>Sentence_title</th>\n",
       "      <th>Sentence_swap</th>\n",
       "    </tr>\n",
       "  </thead>\n",
       "  <tbody>\n",
       "    <tr>\n",
       "      <th>0</th>\n",
       "      <td>ALL CHARACTERS ARE UPPERCASE</td>\n",
       "      <td>all characters are uppercase</td>\n",
       "      <td>ALL CHARACTERS ARE UPPERCASE</td>\n",
       "      <td>All characters are uppercase</td>\n",
       "      <td>All Characters Are Uppercase</td>\n",
       "      <td>all characters are uppercase</td>\n",
       "    </tr>\n",
       "    <tr>\n",
       "      <th>1</th>\n",
       "      <td>all characters are lowercase</td>\n",
       "      <td>all characters are lowercase</td>\n",
       "      <td>ALL CHARACTERS ARE LOWERCASE</td>\n",
       "      <td>All characters are lowercase</td>\n",
       "      <td>All Characters Are Lowercase</td>\n",
       "      <td>ALL CHARACTERS ARE LOWERCASE</td>\n",
       "    </tr>\n",
       "    <tr>\n",
       "      <th>2</th>\n",
       "      <td>all characters are lowercase</td>\n",
       "      <td>all characters are lowercase</td>\n",
       "      <td>ALL CHARACTERS ARE LOWERCASE</td>\n",
       "      <td>All characters are lowercase</td>\n",
       "      <td>All Characters Are Lowercase</td>\n",
       "      <td>ALL CHARACTERS ARE LOWERCASE</td>\n",
       "    </tr>\n",
       "    <tr>\n",
       "      <th>3</th>\n",
       "      <td>all characters are lowercase</td>\n",
       "      <td>all characters are lowercase</td>\n",
       "      <td>ALL CHARACTERS ARE LOWERCASE</td>\n",
       "      <td>All characters are lowercase</td>\n",
       "      <td>All Characters Are Lowercase</td>\n",
       "      <td>ALL CHARACTERS ARE LOWERCASE</td>\n",
       "    </tr>\n",
       "    <tr>\n",
       "      <th>4</th>\n",
       "      <td>UPPER AND lower case</td>\n",
       "      <td>upper and lower case</td>\n",
       "      <td>UPPER AND LOWER CASE</td>\n",
       "      <td>Upper and lower case</td>\n",
       "      <td>Upper And Lower Case</td>\n",
       "      <td>upper and LOWER CASE</td>\n",
       "    </tr>\n",
       "  </tbody>\n",
       "</table>\n",
       "</div>"
      ],
      "text/plain": [
       "                       Sentence                Sentence_lower  \\\n",
       "0  ALL CHARACTERS ARE UPPERCASE  all characters are uppercase   \n",
       "1  all characters are lowercase  all characters are lowercase   \n",
       "2  all characters are lowercase  all characters are lowercase   \n",
       "3  all characters are lowercase  all characters are lowercase   \n",
       "4          UPPER AND lower case          upper and lower case   \n",
       "\n",
       "                 Sentence_upper           Sentence_capitalize  \\\n",
       "0  ALL CHARACTERS ARE UPPERCASE  All characters are uppercase   \n",
       "1  ALL CHARACTERS ARE LOWERCASE  All characters are lowercase   \n",
       "2  ALL CHARACTERS ARE LOWERCASE  All characters are lowercase   \n",
       "3  ALL CHARACTERS ARE LOWERCASE  All characters are lowercase   \n",
       "4          UPPER AND LOWER CASE          Upper and lower case   \n",
       "\n",
       "                 Sentence_title                 Sentence_swap  \n",
       "0  All Characters Are Uppercase  all characters are uppercase  \n",
       "1  All Characters Are Lowercase  ALL CHARACTERS ARE LOWERCASE  \n",
       "2  All Characters Are Lowercase  ALL CHARACTERS ARE LOWERCASE  \n",
       "3  All Characters Are Lowercase  ALL CHARACTERS ARE LOWERCASE  \n",
       "4          Upper And Lower Case          upper and LOWER CASE  "
      ]
     },
     "execution_count": 26,
     "metadata": {},
     "output_type": "execute_result"
    }
   ],
   "source": [
    "df['Sentence_swap'] = df['Sentence'].str.swapcase()    # 문자열의 문자를 소문자 ←→ 대문자 상호변환\n",
    "df"
   ]
  },
  {
   "cell_type": "code",
   "execution_count": 27,
   "id": "2d35b1e5",
   "metadata": {},
   "outputs": [
    {
     "data": {
      "text/plain": [
       "'UPPER AND lower case'"
      ]
     },
     "execution_count": 27,
     "metadata": {},
     "output_type": "execute_result"
    }
   ],
   "source": [
    "df['Sentence'][4]"
   ]
  },
  {
   "cell_type": "code",
   "execution_count": 28,
   "id": "85980807",
   "metadata": {},
   "outputs": [
    {
     "data": {
      "text/plain": [
       "'upper and LOWER CASE'"
      ]
     },
     "execution_count": 28,
     "metadata": {},
     "output_type": "execute_result"
    }
   ],
   "source": [
    "df['Sentence_swap'][4]"
   ]
  },
  {
   "cell_type": "markdown",
   "id": "9554c8de",
   "metadata": {},
   "source": [
    "## 3. 문자열 패딩 및 고정길이 데이터 만들기"
   ]
  },
  {
   "cell_type": "code",
   "execution_count": 29,
   "id": "bcad40c0",
   "metadata": {},
   "outputs": [
    {
     "data": {
      "text/html": [
       "<div>\n",
       "<style scoped>\n",
       "    .dataframe tbody tr th:only-of-type {\n",
       "        vertical-align: middle;\n",
       "    }\n",
       "\n",
       "    .dataframe tbody tr th {\n",
       "        vertical-align: top;\n",
       "    }\n",
       "\n",
       "    .dataframe thead th {\n",
       "        text-align: right;\n",
       "    }\n",
       "</style>\n",
       "<table border=\"1\" class=\"dataframe\">\n",
       "  <thead>\n",
       "    <tr style=\"text-align: right;\">\n",
       "      <th></th>\n",
       "      <th>email</th>\n",
       "    </tr>\n",
       "  </thead>\n",
       "  <tbody>\n",
       "    <tr>\n",
       "      <th>0</th>\n",
       "      <td>abc@naver.com</td>\n",
       "    </tr>\n",
       "    <tr>\n",
       "      <th>1</th>\n",
       "      <td>programming@gmail.com</td>\n",
       "    </tr>\n",
       "    <tr>\n",
       "      <th>2</th>\n",
       "      <td>1004@daum.net</td>\n",
       "    </tr>\n",
       "  </tbody>\n",
       "</table>\n",
       "</div>"
      ],
      "text/plain": [
       "                   email\n",
       "0          abc@naver.com\n",
       "1  programming@gmail.com\n",
       "2          1004@daum.net"
      ]
     },
     "execution_count": 29,
     "metadata": {},
     "output_type": "execute_result"
    }
   ],
   "source": [
    "df = pd.DataFrame({'email' : ['abc@naver.com',\n",
    "                              'programming@gmail.com',\n",
    "                              '1004@daum.net']})\n",
    "df"
   ]
  },
  {
   "cell_type": "markdown",
   "id": "9ca4d222",
   "metadata": {},
   "source": [
    "### 3-1. 지정 길이 패딩 :: str.pad( )\n",
    "```python\n",
    "str.pad(\n",
    "    width,              \n",
    "    side = 'left',     # 'left' : 왼쪽을 지정된 문자로 채움 | 'right' : 오른쪽을 지정된 문자로 채움 | 'both' : 양쪽을 지정된 문자로 채움(오른쪽 먼저)\n",
    "    fillchar = ' '    \n",
    "```\n",
    "- 문자열을 지정된 너비까지 임의의 문자로 채움\n",
    "- Option\n",
    "    - width : 지정 길이\n",
    "    - side : 결과 문자열을 채울 측면\n",
    "    - fillchar : 채울 추가 문자"
   ]
  },
  {
   "cell_type": "code",
   "execution_count": 30,
   "id": "41e6c481",
   "metadata": {},
   "outputs": [
    {
     "data": {
      "text/html": [
       "<div>\n",
       "<style scoped>\n",
       "    .dataframe tbody tr th:only-of-type {\n",
       "        vertical-align: middle;\n",
       "    }\n",
       "\n",
       "    .dataframe tbody tr th {\n",
       "        vertical-align: top;\n",
       "    }\n",
       "\n",
       "    .dataframe thead th {\n",
       "        text-align: right;\n",
       "    }\n",
       "</style>\n",
       "<table border=\"1\" class=\"dataframe\">\n",
       "  <thead>\n",
       "    <tr style=\"text-align: right;\">\n",
       "      <th></th>\n",
       "      <th>email</th>\n",
       "      <th>email_pad</th>\n",
       "    </tr>\n",
       "  </thead>\n",
       "  <tbody>\n",
       "    <tr>\n",
       "      <th>0</th>\n",
       "      <td>abc@naver.com</td>\n",
       "      <td>____abc@naver.com_____</td>\n",
       "    </tr>\n",
       "    <tr>\n",
       "      <th>1</th>\n",
       "      <td>programming@gmail.com</td>\n",
       "      <td>programming@gmail.com_</td>\n",
       "    </tr>\n",
       "    <tr>\n",
       "      <th>2</th>\n",
       "      <td>1004@daum.net</td>\n",
       "      <td>____1004@daum.net_____</td>\n",
       "    </tr>\n",
       "  </tbody>\n",
       "</table>\n",
       "</div>"
      ],
      "text/plain": [
       "                   email               email_pad\n",
       "0          abc@naver.com  ____abc@naver.com_____\n",
       "1  programming@gmail.com  programming@gmail.com_\n",
       "2          1004@daum.net  ____1004@daum.net_____"
      ]
     },
     "execution_count": 30,
     "metadata": {},
     "output_type": "execute_result"
    }
   ],
   "source": [
    "df['email_pad'] = df['email'].str.pad(width = 22, side = 'both', fillchar = '_')  # 지정된 길이까지 공백을 '_'로 채움\n",
    "df"
   ]
  },
  {
   "cell_type": "markdown",
   "id": "726e0970",
   "metadata": {},
   "source": [
    "### 3-2. 중앙에 두고 지정 길이 패딩 :: str.center( )\n",
    "```python\n",
    "str.center(\n",
    "    width,\n",
    "    fillchar = ' '\n",
    ")\n",
    "```\n",
    "- 문자열의 왼쪽과 오른쪽을 임의의 문자로 채움\n",
    "- Option\n",
    "    - width : 최소 너비\n",
    "    - fillchar : 공백을 채울 문자열"
   ]
  },
  {
   "cell_type": "code",
   "execution_count": 31,
   "id": "6c50fb0b",
   "metadata": {},
   "outputs": [
    {
     "data": {
      "text/html": [
       "<div>\n",
       "<style scoped>\n",
       "    .dataframe tbody tr th:only-of-type {\n",
       "        vertical-align: middle;\n",
       "    }\n",
       "\n",
       "    .dataframe tbody tr th {\n",
       "        vertical-align: top;\n",
       "    }\n",
       "\n",
       "    .dataframe thead th {\n",
       "        text-align: right;\n",
       "    }\n",
       "</style>\n",
       "<table border=\"1\" class=\"dataframe\">\n",
       "  <thead>\n",
       "    <tr style=\"text-align: right;\">\n",
       "      <th></th>\n",
       "      <th>email</th>\n",
       "      <th>email_pad</th>\n",
       "      <th>email_center</th>\n",
       "    </tr>\n",
       "  </thead>\n",
       "  <tbody>\n",
       "    <tr>\n",
       "      <th>0</th>\n",
       "      <td>abc@naver.com</td>\n",
       "      <td>____abc@naver.com_____</td>\n",
       "      <td>____abc@naver.com_____</td>\n",
       "    </tr>\n",
       "    <tr>\n",
       "      <th>1</th>\n",
       "      <td>programming@gmail.com</td>\n",
       "      <td>programming@gmail.com_</td>\n",
       "      <td>programming@gmail.com_</td>\n",
       "    </tr>\n",
       "    <tr>\n",
       "      <th>2</th>\n",
       "      <td>1004@daum.net</td>\n",
       "      <td>____1004@daum.net_____</td>\n",
       "      <td>____1004@daum.net_____</td>\n",
       "    </tr>\n",
       "  </tbody>\n",
       "</table>\n",
       "</div>"
      ],
      "text/plain": [
       "                   email               email_pad            email_center\n",
       "0          abc@naver.com  ____abc@naver.com_____  ____abc@naver.com_____\n",
       "1  programming@gmail.com  programming@gmail.com_  programming@gmail.com_\n",
       "2          1004@daum.net  ____1004@daum.net_____  ____1004@daum.net_____"
      ]
     },
     "execution_count": 31,
     "metadata": {},
     "output_type": "execute_result"
    }
   ],
   "source": [
    "df['email_center'] = df['email'].str.center(width = 22, fillchar = '_')    # 문자열를 중앙에 위치 시킨뒤 공백을 '_'로 채움\n",
    "df"
   ]
  },
  {
   "cell_type": "markdown",
   "id": "e797e47f",
   "metadata": {},
   "source": [
    "### 3-3. 왼쪽에 두고 지정길이 패딩 :: str.ljust( )\n",
    "```python\n",
    "str.ljust(\n",
    "    width,\n",
    "    fillchar = ' '\n",
    ")\n",
    "```\n",
    "- 문자열의 오른쪽을 임의의 문자로 채움\n",
    "- Option\n",
    "    - width : 최소 너비\n",
    "    - fillchar : 공백을 채울 문자열"
   ]
  },
  {
   "cell_type": "code",
   "execution_count": 32,
   "id": "d6bdcafc",
   "metadata": {},
   "outputs": [
    {
     "data": {
      "text/html": [
       "<div>\n",
       "<style scoped>\n",
       "    .dataframe tbody tr th:only-of-type {\n",
       "        vertical-align: middle;\n",
       "    }\n",
       "\n",
       "    .dataframe tbody tr th {\n",
       "        vertical-align: top;\n",
       "    }\n",
       "\n",
       "    .dataframe thead th {\n",
       "        text-align: right;\n",
       "    }\n",
       "</style>\n",
       "<table border=\"1\" class=\"dataframe\">\n",
       "  <thead>\n",
       "    <tr style=\"text-align: right;\">\n",
       "      <th></th>\n",
       "      <th>email</th>\n",
       "      <th>email_pad</th>\n",
       "      <th>email_center</th>\n",
       "      <th>email_ljust</th>\n",
       "    </tr>\n",
       "  </thead>\n",
       "  <tbody>\n",
       "    <tr>\n",
       "      <th>0</th>\n",
       "      <td>abc@naver.com</td>\n",
       "      <td>____abc@naver.com_____</td>\n",
       "      <td>____abc@naver.com_____</td>\n",
       "      <td>abc@naver.com_________</td>\n",
       "    </tr>\n",
       "    <tr>\n",
       "      <th>1</th>\n",
       "      <td>programming@gmail.com</td>\n",
       "      <td>programming@gmail.com_</td>\n",
       "      <td>programming@gmail.com_</td>\n",
       "      <td>programming@gmail.com_</td>\n",
       "    </tr>\n",
       "    <tr>\n",
       "      <th>2</th>\n",
       "      <td>1004@daum.net</td>\n",
       "      <td>____1004@daum.net_____</td>\n",
       "      <td>____1004@daum.net_____</td>\n",
       "      <td>1004@daum.net_________</td>\n",
       "    </tr>\n",
       "  </tbody>\n",
       "</table>\n",
       "</div>"
      ],
      "text/plain": [
       "                   email               email_pad            email_center  \\\n",
       "0          abc@naver.com  ____abc@naver.com_____  ____abc@naver.com_____   \n",
       "1  programming@gmail.com  programming@gmail.com_  programming@gmail.com_   \n",
       "2          1004@daum.net  ____1004@daum.net_____  ____1004@daum.net_____   \n",
       "\n",
       "              email_ljust  \n",
       "0  abc@naver.com_________  \n",
       "1  programming@gmail.com_  \n",
       "2  1004@daum.net_________  "
      ]
     },
     "execution_count": 32,
     "metadata": {},
     "output_type": "execute_result"
    }
   ],
   "source": [
    "df['email_ljust'] = df['email'].str.ljust(width = 22, fillchar = '_')    # 문자열을 왼쪽에 위치 시킨 뒤 남은 공백을 '_'로 채움\n",
    "df"
   ]
  },
  {
   "cell_type": "markdown",
   "id": "1643650b",
   "metadata": {},
   "source": [
    "### 3-4. 오른쪽에 두고 지정길이 패딩 :: str.rjust( )\n",
    "```python\n",
    "str.rjust(\n",
    "    width,\n",
    "    fillchar = ' '\n",
    ")\n",
    "```\n",
    "- 문자열의 왼쪽을 임의의 문자로 채움\n",
    "- Option\n",
    "    - width : 최소 너비\n",
    "    - fillchar : 공백을 채울 문자열 "
   ]
  },
  {
   "cell_type": "code",
   "execution_count": 33,
   "id": "35312a82",
   "metadata": {
    "scrolled": true
   },
   "outputs": [
    {
     "data": {
      "text/html": [
       "<div>\n",
       "<style scoped>\n",
       "    .dataframe tbody tr th:only-of-type {\n",
       "        vertical-align: middle;\n",
       "    }\n",
       "\n",
       "    .dataframe tbody tr th {\n",
       "        vertical-align: top;\n",
       "    }\n",
       "\n",
       "    .dataframe thead th {\n",
       "        text-align: right;\n",
       "    }\n",
       "</style>\n",
       "<table border=\"1\" class=\"dataframe\">\n",
       "  <thead>\n",
       "    <tr style=\"text-align: right;\">\n",
       "      <th></th>\n",
       "      <th>email</th>\n",
       "      <th>email_pad</th>\n",
       "      <th>email_center</th>\n",
       "      <th>email_ljust</th>\n",
       "      <th>email_rjust</th>\n",
       "    </tr>\n",
       "  </thead>\n",
       "  <tbody>\n",
       "    <tr>\n",
       "      <th>0</th>\n",
       "      <td>abc@naver.com</td>\n",
       "      <td>____abc@naver.com_____</td>\n",
       "      <td>____abc@naver.com_____</td>\n",
       "      <td>abc@naver.com_________</td>\n",
       "      <td>_________abc@naver.com</td>\n",
       "    </tr>\n",
       "    <tr>\n",
       "      <th>1</th>\n",
       "      <td>programming@gmail.com</td>\n",
       "      <td>programming@gmail.com_</td>\n",
       "      <td>programming@gmail.com_</td>\n",
       "      <td>programming@gmail.com_</td>\n",
       "      <td>_programming@gmail.com</td>\n",
       "    </tr>\n",
       "    <tr>\n",
       "      <th>2</th>\n",
       "      <td>1004@daum.net</td>\n",
       "      <td>____1004@daum.net_____</td>\n",
       "      <td>____1004@daum.net_____</td>\n",
       "      <td>1004@daum.net_________</td>\n",
       "      <td>_________1004@daum.net</td>\n",
       "    </tr>\n",
       "  </tbody>\n",
       "</table>\n",
       "</div>"
      ],
      "text/plain": [
       "                   email               email_pad            email_center  \\\n",
       "0          abc@naver.com  ____abc@naver.com_____  ____abc@naver.com_____   \n",
       "1  programming@gmail.com  programming@gmail.com_  programming@gmail.com_   \n",
       "2          1004@daum.net  ____1004@daum.net_____  ____1004@daum.net_____   \n",
       "\n",
       "              email_ljust             email_rjust  \n",
       "0  abc@naver.com_________  _________abc@naver.com  \n",
       "1  programming@gmail.com_  _programming@gmail.com  \n",
       "2  1004@daum.net_________  _________1004@daum.net  "
      ]
     },
     "execution_count": 33,
     "metadata": {},
     "output_type": "execute_result"
    }
   ],
   "source": [
    "df['email_rjust'] = df['email'].str.rjust(width = 22, fillchar = '_')    # 문자열을 오른쪽에 위치 시킨뒤 공백을 '_'로 채움\n",
    "df"
   ]
  },
  {
   "cell_type": "markdown",
   "id": "1533c54f",
   "metadata": {},
   "source": [
    "### 3-5. '0'으로 패딩\n",
    "```python\n",
    "str.zfill(\n",
    "    width\n",
    ")\n",
    "```\n",
    "- 문자열의 왼쪽을 0으로 채움\n",
    "- Option\n",
    "    - width : 최소 너비"
   ]
  },
  {
   "cell_type": "code",
   "execution_count": 34,
   "id": "4e113107",
   "metadata": {},
   "outputs": [
    {
     "data": {
      "text/html": [
       "<div>\n",
       "<style scoped>\n",
       "    .dataframe tbody tr th:only-of-type {\n",
       "        vertical-align: middle;\n",
       "    }\n",
       "\n",
       "    .dataframe tbody tr th {\n",
       "        vertical-align: top;\n",
       "    }\n",
       "\n",
       "    .dataframe thead th {\n",
       "        text-align: right;\n",
       "    }\n",
       "</style>\n",
       "<table border=\"1\" class=\"dataframe\">\n",
       "  <thead>\n",
       "    <tr style=\"text-align: right;\">\n",
       "      <th></th>\n",
       "      <th>email</th>\n",
       "      <th>email_pad</th>\n",
       "      <th>email_center</th>\n",
       "      <th>email_ljust</th>\n",
       "      <th>email_rjust</th>\n",
       "      <th>email_zero</th>\n",
       "    </tr>\n",
       "  </thead>\n",
       "  <tbody>\n",
       "    <tr>\n",
       "      <th>0</th>\n",
       "      <td>abc@naver.com</td>\n",
       "      <td>____abc@naver.com_____</td>\n",
       "      <td>____abc@naver.com_____</td>\n",
       "      <td>abc@naver.com_________</td>\n",
       "      <td>_________abc@naver.com</td>\n",
       "      <td>000000000abc@naver.com</td>\n",
       "    </tr>\n",
       "    <tr>\n",
       "      <th>1</th>\n",
       "      <td>programming@gmail.com</td>\n",
       "      <td>programming@gmail.com_</td>\n",
       "      <td>programming@gmail.com_</td>\n",
       "      <td>programming@gmail.com_</td>\n",
       "      <td>_programming@gmail.com</td>\n",
       "      <td>0programming@gmail.com</td>\n",
       "    </tr>\n",
       "    <tr>\n",
       "      <th>2</th>\n",
       "      <td>1004@daum.net</td>\n",
       "      <td>____1004@daum.net_____</td>\n",
       "      <td>____1004@daum.net_____</td>\n",
       "      <td>1004@daum.net_________</td>\n",
       "      <td>_________1004@daum.net</td>\n",
       "      <td>0000000001004@daum.net</td>\n",
       "    </tr>\n",
       "  </tbody>\n",
       "</table>\n",
       "</div>"
      ],
      "text/plain": [
       "                   email               email_pad            email_center  \\\n",
       "0          abc@naver.com  ____abc@naver.com_____  ____abc@naver.com_____   \n",
       "1  programming@gmail.com  programming@gmail.com_  programming@gmail.com_   \n",
       "2          1004@daum.net  ____1004@daum.net_____  ____1004@daum.net_____   \n",
       "\n",
       "              email_ljust             email_rjust              email_zero  \n",
       "0  abc@naver.com_________  _________abc@naver.com  000000000abc@naver.com  \n",
       "1  programming@gmail.com_  _programming@gmail.com  0programming@gmail.com  \n",
       "2  1004@daum.net_________  _________1004@daum.net  0000000001004@daum.net  "
      ]
     },
     "execution_count": 34,
     "metadata": {},
     "output_type": "execute_result"
    }
   ],
   "source": [
    "df['email_zero'] = df['email'].str.zfill(width = 22)    # 문자열을 오른쪽에 위치 시킨뒤 공백을 '0'으로 채움\n",
    "df"
   ]
  },
  {
   "cell_type": "markdown",
   "id": "791048bb",
   "metadata": {},
   "source": [
    "## 4. 문자열 분할"
   ]
  },
  {
   "cell_type": "code",
   "execution_count": 35,
   "id": "c131a37c",
   "metadata": {},
   "outputs": [
    {
     "data": {
      "text/html": [
       "<div>\n",
       "<style scoped>\n",
       "    .dataframe tbody tr th:only-of-type {\n",
       "        vertical-align: middle;\n",
       "    }\n",
       "\n",
       "    .dataframe tbody tr th {\n",
       "        vertical-align: top;\n",
       "    }\n",
       "\n",
       "    .dataframe thead th {\n",
       "        text-align: right;\n",
       "    }\n",
       "</style>\n",
       "<table border=\"1\" class=\"dataframe\">\n",
       "  <thead>\n",
       "    <tr style=\"text-align: right;\">\n",
       "      <th></th>\n",
       "      <th>email</th>\n",
       "    </tr>\n",
       "  </thead>\n",
       "  <tbody>\n",
       "    <tr>\n",
       "      <th>0</th>\n",
       "      <td>ID : abc@naver.com | PW : abcdefg</td>\n",
       "    </tr>\n",
       "    <tr>\n",
       "      <th>1</th>\n",
       "      <td>ID : python@gamil.com | PW : jupyter</td>\n",
       "    </tr>\n",
       "    <tr>\n",
       "      <th>2</th>\n",
       "      <td>ID : English@yahoo.ac.kr | PW : hard</td>\n",
       "    </tr>\n",
       "  </tbody>\n",
       "</table>\n",
       "</div>"
      ],
      "text/plain": [
       "                                  email\n",
       "0     ID : abc@naver.com | PW : abcdefg\n",
       "1  ID : python@gamil.com | PW : jupyter\n",
       "2  ID : English@yahoo.ac.kr | PW : hard"
      ]
     },
     "execution_count": 35,
     "metadata": {},
     "output_type": "execute_result"
    }
   ],
   "source": [
    "df = pd.DataFrame({'email' : ['ID : abc@naver.com | PW : abcdefg',\n",
    "                              'ID : python@gamil.com | PW : jupyter',\n",
    "                              'ID : English@yahoo.ac.kr | PW : hard']})\n",
    "df"
   ]
  },
  {
   "cell_type": "markdown",
   "id": "ca75a1be",
   "metadata": {},
   "source": [
    "### 4-1. 왼쪽 구분자 기준 문자열 분할 :: str.split( )\n",
    "```python\n",
    "str.split(\n",
    "    pat = ' ',\n",
    "    n = -1,            # 0, -1 : 모두 분할\n",
    "    expand = False     # True : DataFrame/MultiIndex 확장 차원을 반환 | False : 문자열 목록을 포함하는 Series/index를 반환\n",
    ")\n",
    "```\n",
    "- 주어진 구분자를 이용하여 문자열을 분할(문자열의 왼쪽 부터 분할)\n",
    "- Option\n",
    "    - pat : 구분자\n",
    "    - n : 구분 기호의 분할 수 \n",
    "        - 즉, 구분자를 사용할 횟수\n",
    "        - 왼쪽부터 구분이 됨\n",
    "    - expand : 분할 문자열을 별도의 열로 확장"
   ]
  },
  {
   "cell_type": "code",
   "execution_count": 36,
   "id": "3c8eb6a6",
   "metadata": {},
   "outputs": [
    {
     "data": {
      "text/html": [
       "<div>\n",
       "<style scoped>\n",
       "    .dataframe tbody tr th:only-of-type {\n",
       "        vertical-align: middle;\n",
       "    }\n",
       "\n",
       "    .dataframe tbody tr th {\n",
       "        vertical-align: top;\n",
       "    }\n",
       "\n",
       "    .dataframe thead th {\n",
       "        text-align: right;\n",
       "    }\n",
       "</style>\n",
       "<table border=\"1\" class=\"dataframe\">\n",
       "  <thead>\n",
       "    <tr style=\"text-align: right;\">\n",
       "      <th></th>\n",
       "      <th>0</th>\n",
       "      <th>1</th>\n",
       "      <th>2</th>\n",
       "      <th>3</th>\n",
       "      <th>4</th>\n",
       "      <th>5</th>\n",
       "      <th>6</th>\n",
       "    </tr>\n",
       "  </thead>\n",
       "  <tbody>\n",
       "    <tr>\n",
       "      <th>0</th>\n",
       "      <td>ID</td>\n",
       "      <td>:</td>\n",
       "      <td>abc@naver.com</td>\n",
       "      <td>|</td>\n",
       "      <td>PW</td>\n",
       "      <td>:</td>\n",
       "      <td>abcdefg</td>\n",
       "    </tr>\n",
       "    <tr>\n",
       "      <th>1</th>\n",
       "      <td>ID</td>\n",
       "      <td>:</td>\n",
       "      <td>python@gamil.com</td>\n",
       "      <td>|</td>\n",
       "      <td>PW</td>\n",
       "      <td>:</td>\n",
       "      <td>jupyter</td>\n",
       "    </tr>\n",
       "    <tr>\n",
       "      <th>2</th>\n",
       "      <td>ID</td>\n",
       "      <td>:</td>\n",
       "      <td>English@yahoo.ac.kr</td>\n",
       "      <td>|</td>\n",
       "      <td>PW</td>\n",
       "      <td>:</td>\n",
       "      <td>hard</td>\n",
       "    </tr>\n",
       "  </tbody>\n",
       "</table>\n",
       "</div>"
      ],
      "text/plain": [
       "    0  1                    2  3   4  5        6\n",
       "0  ID  :        abc@naver.com  |  PW  :  abcdefg\n",
       "1  ID  :     python@gamil.com  |  PW  :  jupyter\n",
       "2  ID  :  English@yahoo.ac.kr  |  PW  :     hard"
      ]
     },
     "execution_count": 36,
     "metadata": {},
     "output_type": "execute_result"
    }
   ],
   "source": [
    "df['email'].str.split(expand = True)"
   ]
  },
  {
   "cell_type": "code",
   "execution_count": 37,
   "id": "35300395",
   "metadata": {},
   "outputs": [
    {
     "data": {
      "text/plain": [
       "0       [ID, :, abc@naver.com, |, PW, :, abcdefg]\n",
       "1    [ID, :, python@gamil.com, |, PW, :, jupyter]\n",
       "2    [ID, :, English@yahoo.ac.kr, |, PW, :, hard]\n",
       "Name: email, dtype: object"
      ]
     },
     "execution_count": 37,
     "metadata": {},
     "output_type": "execute_result"
    }
   ],
   "source": [
    "df['email'].str.split(pat = ' ')    # 구분자(' ')를 기준으로 모두 분할"
   ]
  },
  {
   "cell_type": "code",
   "execution_count": 38,
   "id": "68d4cf7a",
   "metadata": {},
   "outputs": [
    {
     "data": {
      "text/plain": [
       "0       [ID, :, abc@naver.com | PW : abcdefg]\n",
       "1    [ID, :, python@gamil.com | PW : jupyter]\n",
       "2    [ID, :, English@yahoo.ac.kr | PW : hard]\n",
       "Name: email, dtype: object"
      ]
     },
     "execution_count": 38,
     "metadata": {},
     "output_type": "execute_result"
    }
   ],
   "source": [
    "df['email'].str.split(pat = ' ', n = 2)  # 구분자(' ')를 기준으로 2번 분할 (왼쪽에 있는 구분자가 우선순위를 가짐)"
   ]
  },
  {
   "cell_type": "markdown",
   "id": "67807da9",
   "metadata": {},
   "source": [
    "### 4-2. 오른쪽 구분자 기준 문자열 분할 :: str.rsplit( )\n",
    "```python\n",
    "str.rsplit(\n",
    "    pat = ' ',\n",
    "    n = -1,            # 0, -1 : 모두 분할\n",
    "    expand = False     # True : DataFrame/MultiIndex 확장 차원을 반환 | False : 문자열 목록을 포함하는 Series/index를 반환\n",
    ")\n",
    "```\n",
    "- 주어진 구분자를 이용하여 문자열을 분할(문자열의 오른쪽 부터 분할)\n",
    "- Option\n",
    "    - pat : 구분자\n",
    "    - n : 구분 기호의 분할 수 \n",
    "        - 즉, 구분자를 사용할 횟수\n",
    "        - 오른쪽부터 구분이 됨\n",
    "    - expand : 분할 문자열을 별도의 열로 확장"
   ]
  },
  {
   "cell_type": "code",
   "execution_count": 39,
   "id": "4d28c5b2",
   "metadata": {},
   "outputs": [
    {
     "data": {
      "text/html": [
       "<div>\n",
       "<style scoped>\n",
       "    .dataframe tbody tr th:only-of-type {\n",
       "        vertical-align: middle;\n",
       "    }\n",
       "\n",
       "    .dataframe tbody tr th {\n",
       "        vertical-align: top;\n",
       "    }\n",
       "\n",
       "    .dataframe thead th {\n",
       "        text-align: right;\n",
       "    }\n",
       "</style>\n",
       "<table border=\"1\" class=\"dataframe\">\n",
       "  <thead>\n",
       "    <tr style=\"text-align: right;\">\n",
       "      <th></th>\n",
       "      <th>0</th>\n",
       "      <th>1</th>\n",
       "      <th>2</th>\n",
       "      <th>3</th>\n",
       "      <th>4</th>\n",
       "      <th>5</th>\n",
       "      <th>6</th>\n",
       "    </tr>\n",
       "  </thead>\n",
       "  <tbody>\n",
       "    <tr>\n",
       "      <th>0</th>\n",
       "      <td>ID</td>\n",
       "      <td>:</td>\n",
       "      <td>abc@naver.com</td>\n",
       "      <td>|</td>\n",
       "      <td>PW</td>\n",
       "      <td>:</td>\n",
       "      <td>abcdefg</td>\n",
       "    </tr>\n",
       "    <tr>\n",
       "      <th>1</th>\n",
       "      <td>ID</td>\n",
       "      <td>:</td>\n",
       "      <td>python@gamil.com</td>\n",
       "      <td>|</td>\n",
       "      <td>PW</td>\n",
       "      <td>:</td>\n",
       "      <td>jupyter</td>\n",
       "    </tr>\n",
       "    <tr>\n",
       "      <th>2</th>\n",
       "      <td>ID</td>\n",
       "      <td>:</td>\n",
       "      <td>English@yahoo.ac.kr</td>\n",
       "      <td>|</td>\n",
       "      <td>PW</td>\n",
       "      <td>:</td>\n",
       "      <td>hard</td>\n",
       "    </tr>\n",
       "  </tbody>\n",
       "</table>\n",
       "</div>"
      ],
      "text/plain": [
       "    0  1                    2  3   4  5        6\n",
       "0  ID  :        abc@naver.com  |  PW  :  abcdefg\n",
       "1  ID  :     python@gamil.com  |  PW  :  jupyter\n",
       "2  ID  :  English@yahoo.ac.kr  |  PW  :     hard"
      ]
     },
     "execution_count": 39,
     "metadata": {},
     "output_type": "execute_result"
    }
   ],
   "source": [
    "df['email'].str.rsplit(expand = True)"
   ]
  },
  {
   "cell_type": "code",
   "execution_count": 40,
   "id": "74f5926a",
   "metadata": {},
   "outputs": [
    {
     "data": {
      "text/plain": [
       "0       [ID, :, abc@naver.com, |, PW, :, abcdefg]\n",
       "1    [ID, :, python@gamil.com, |, PW, :, jupyter]\n",
       "2    [ID, :, English@yahoo.ac.kr, |, PW, :, hard]\n",
       "Name: email, dtype: object"
      ]
     },
     "execution_count": 40,
     "metadata": {},
     "output_type": "execute_result"
    }
   ],
   "source": [
    "df['email'].str.rsplit()    # 구분자(' ')를 기준으로 모두 분할"
   ]
  },
  {
   "cell_type": "code",
   "execution_count": 41,
   "id": "188bd885",
   "metadata": {},
   "outputs": [
    {
     "data": {
      "text/plain": [
       "0       [ID : abc@naver.com | PW, :, abcdefg]\n",
       "1    [ID : python@gamil.com | PW, :, jupyter]\n",
       "2    [ID : English@yahoo.ac.kr | PW, :, hard]\n",
       "Name: email, dtype: object"
      ]
     },
     "execution_count": 41,
     "metadata": {},
     "output_type": "execute_result"
    }
   ],
   "source": [
    "df['email'].str.rsplit(pat = ' ', n = 2)  # 구분자(' ')를 기준으로 2번 분할 (오른쪽에 있는 구분자가 우선순위를 가짐)"
   ]
  },
  {
   "cell_type": "markdown",
   "id": "8550dbeb",
   "metadata": {},
   "source": [
    "### 4-3. 구분자 포함 왼쪽 구분자 기준 분할 :: str.partition( )\n",
    "```python\n",
    "str.partition(\n",
    "    sep = ' ',\n",
    "    expand = True    # True : DataFrame/MultiIndex 확장 차원을 반환 | False : Series/Index를 반환\n",
    ")\n",
    "```\n",
    "- 구분자의 첫 번째 항목에서 문자열을 분할\n",
    "- Option\n",
    "    - sep : 구분자\n",
    "    - expand : 분할 문자열을 별도의 열로 확장"
   ]
  },
  {
   "cell_type": "code",
   "execution_count": 42,
   "id": "47ac405a",
   "metadata": {},
   "outputs": [
    {
     "data": {
      "text/html": [
       "<div>\n",
       "<style scoped>\n",
       "    .dataframe tbody tr th:only-of-type {\n",
       "        vertical-align: middle;\n",
       "    }\n",
       "\n",
       "    .dataframe tbody tr th {\n",
       "        vertical-align: top;\n",
       "    }\n",
       "\n",
       "    .dataframe thead th {\n",
       "        text-align: right;\n",
       "    }\n",
       "</style>\n",
       "<table border=\"1\" class=\"dataframe\">\n",
       "  <thead>\n",
       "    <tr style=\"text-align: right;\">\n",
       "      <th></th>\n",
       "      <th>0</th>\n",
       "      <th>1</th>\n",
       "      <th>2</th>\n",
       "    </tr>\n",
       "  </thead>\n",
       "  <tbody>\n",
       "    <tr>\n",
       "      <th>0</th>\n",
       "      <td>ID</td>\n",
       "      <td></td>\n",
       "      <td>: abc@naver.com | PW : abcdefg</td>\n",
       "    </tr>\n",
       "    <tr>\n",
       "      <th>1</th>\n",
       "      <td>ID</td>\n",
       "      <td></td>\n",
       "      <td>: python@gamil.com | PW : jupyter</td>\n",
       "    </tr>\n",
       "    <tr>\n",
       "      <th>2</th>\n",
       "      <td>ID</td>\n",
       "      <td></td>\n",
       "      <td>: English@yahoo.ac.kr | PW : hard</td>\n",
       "    </tr>\n",
       "  </tbody>\n",
       "</table>\n",
       "</div>"
      ],
      "text/plain": [
       "    0  1                                  2\n",
       "0  ID        : abc@naver.com | PW : abcdefg\n",
       "1  ID     : python@gamil.com | PW : jupyter\n",
       "2  ID     : English@yahoo.ac.kr | PW : hard"
      ]
     },
     "execution_count": 42,
     "metadata": {},
     "output_type": "execute_result"
    }
   ],
   "source": [
    "df['email'].str.partition(' ')    # 구분자(' ')를 기준으로 분할"
   ]
  },
  {
   "cell_type": "code",
   "execution_count": 43,
   "id": "210484c6",
   "metadata": {},
   "outputs": [
    {
     "data": {
      "text/plain": [
       "0       (ID,  , : abc@naver.com | PW : abcdefg)\n",
       "1    (ID,  , : python@gamil.com | PW : jupyter)\n",
       "2    (ID,  , : English@yahoo.ac.kr | PW : hard)\n",
       "Name: email, dtype: object"
      ]
     },
     "execution_count": 43,
     "metadata": {},
     "output_type": "execute_result"
    }
   ],
   "source": [
    "df['email'].str.partition(' ', expand = False)"
   ]
  },
  {
   "cell_type": "markdown",
   "id": "5c330826",
   "metadata": {},
   "source": [
    "### 4-4. 구분자 포함 오른쪽 구분자 기준 분할 :: str.rpartition( )\n",
    "```python\n",
    "str.rpartition(\n",
    "    sep = ' ',\n",
    "    expand = True    # True : DataFrame/MultiIndex 확장 차원을 반환 | False : Series/Index를 반환\n",
    ")\n",
    "```\n",
    "- 구분자의 첫 번째 항목에서 문자열을 분할\n",
    "- Option\n",
    "    - sep : 구분자\n",
    "    - expand : 분할 문자열을 별도의 열로 확장"
   ]
  },
  {
   "cell_type": "code",
   "execution_count": 44,
   "id": "11a82f6f",
   "metadata": {},
   "outputs": [
    {
     "data": {
      "text/html": [
       "<div>\n",
       "<style scoped>\n",
       "    .dataframe tbody tr th:only-of-type {\n",
       "        vertical-align: middle;\n",
       "    }\n",
       "\n",
       "    .dataframe tbody tr th {\n",
       "        vertical-align: top;\n",
       "    }\n",
       "\n",
       "    .dataframe thead th {\n",
       "        text-align: right;\n",
       "    }\n",
       "</style>\n",
       "<table border=\"1\" class=\"dataframe\">\n",
       "  <thead>\n",
       "    <tr style=\"text-align: right;\">\n",
       "      <th></th>\n",
       "      <th>0</th>\n",
       "      <th>1</th>\n",
       "      <th>2</th>\n",
       "    </tr>\n",
       "  </thead>\n",
       "  <tbody>\n",
       "    <tr>\n",
       "      <th>0</th>\n",
       "      <td>ID : abc@naver.com | PW :</td>\n",
       "      <td></td>\n",
       "      <td>abcdefg</td>\n",
       "    </tr>\n",
       "    <tr>\n",
       "      <th>1</th>\n",
       "      <td>ID : python@gamil.com | PW :</td>\n",
       "      <td></td>\n",
       "      <td>jupyter</td>\n",
       "    </tr>\n",
       "    <tr>\n",
       "      <th>2</th>\n",
       "      <td>ID : English@yahoo.ac.kr | PW :</td>\n",
       "      <td></td>\n",
       "      <td>hard</td>\n",
       "    </tr>\n",
       "  </tbody>\n",
       "</table>\n",
       "</div>"
      ],
      "text/plain": [
       "                                 0  1        2\n",
       "0        ID : abc@naver.com | PW :     abcdefg\n",
       "1     ID : python@gamil.com | PW :     jupyter\n",
       "2  ID : English@yahoo.ac.kr | PW :        hard"
      ]
     },
     "execution_count": 44,
     "metadata": {},
     "output_type": "execute_result"
    }
   ],
   "source": [
    "df['email'].str.rpartition(' ')    # 구분자(' ')를 기준으로 분할"
   ]
  },
  {
   "cell_type": "code",
   "execution_count": 45,
   "id": "3e4c58a2",
   "metadata": {},
   "outputs": [
    {
     "data": {
      "text/plain": [
       "0       (ID : abc@naver.com | PW :,  , abcdefg)\n",
       "1    (ID : python@gamil.com | PW :,  , jupyter)\n",
       "2    (ID : English@yahoo.ac.kr | PW :,  , hard)\n",
       "Name: email, dtype: object"
      ]
     },
     "execution_count": 45,
     "metadata": {},
     "output_type": "execute_result"
    }
   ],
   "source": [
    "df['email'].str.rpartition(' ', expand = False)  "
   ]
  },
  {
   "cell_type": "markdown",
   "id": "aadca53f",
   "metadata": {},
   "source": [
    "## 5. 문자열 찾기"
   ]
  },
  {
   "cell_type": "code",
   "execution_count": 46,
   "id": "8b496220",
   "metadata": {},
   "outputs": [
    {
     "data": {
      "text/html": [
       "<div>\n",
       "<style scoped>\n",
       "    .dataframe tbody tr th:only-of-type {\n",
       "        vertical-align: middle;\n",
       "    }\n",
       "\n",
       "    .dataframe tbody tr th {\n",
       "        vertical-align: top;\n",
       "    }\n",
       "\n",
       "    .dataframe thead th {\n",
       "        text-align: right;\n",
       "    }\n",
       "</style>\n",
       "<table border=\"1\" class=\"dataframe\">\n",
       "  <thead>\n",
       "    <tr style=\"text-align: right;\">\n",
       "      <th></th>\n",
       "      <th>email</th>\n",
       "    </tr>\n",
       "  </thead>\n",
       "  <tbody>\n",
       "    <tr>\n",
       "      <th>0</th>\n",
       "      <td>abc@naver.com</td>\n",
       "    </tr>\n",
       "    <tr>\n",
       "      <th>1</th>\n",
       "      <td>programming@gmail.com</td>\n",
       "    </tr>\n",
       "    <tr>\n",
       "      <th>2</th>\n",
       "      <td>1004@daum.net</td>\n",
       "    </tr>\n",
       "  </tbody>\n",
       "</table>\n",
       "</div>"
      ],
      "text/plain": [
       "                   email\n",
       "0          abc@naver.com\n",
       "1  programming@gmail.com\n",
       "2          1004@daum.net"
      ]
     },
     "execution_count": 46,
     "metadata": {},
     "output_type": "execute_result"
    }
   ],
   "source": [
    "df = pd.DataFrame({'email' : ['abc@naver.com',\n",
    "                              'programming@gmail.com',\n",
    "                              '1004@daum.net']})\n",
    "df"
   ]
  },
  {
   "cell_type": "markdown",
   "id": "b46187ed",
   "metadata": {},
   "source": [
    "### 5-1. 찾고자 하는 문자열 중 가장 낮은 인덱스 :: str.find( ) or str.index( )\n",
    "```python\n",
    "str.find(    # str.index\n",
    "    sub,\n",
    "    start = 0,\n",
    "    end = None\n",
    ")\n",
    "```\n",
    "- 찾는 문자중 가장 낮은 인덱스 반환\n",
    "    - 즉, 왼쪽부터 문자를 찾음\n",
    "- Option\n",
    "    - sub : 찾고자 하는 문자or문자열\n",
    "    - start : 시작 인덱스\n",
    "    - end : 끝 인덱스"
   ]
  },
  {
   "cell_type": "code",
   "execution_count": 47,
   "id": "a8f47a8a",
   "metadata": {},
   "outputs": [
    {
     "data": {
      "text/plain": [
       "0     9\n",
       "1    17\n",
       "2     9\n",
       "Name: email, dtype: int64"
      ]
     },
     "execution_count": 47,
     "metadata": {},
     "output_type": "execute_result"
    }
   ],
   "source": [
    "df['email'].str.find(sub = '.')   # 왼쪽부터 sub값 검색후 위치반환\n",
    "df['email'].str.index(sub = '.') "
   ]
  },
  {
   "cell_type": "markdown",
   "id": "fc9c5807",
   "metadata": {},
   "source": [
    "### 5-2. 찾고자 하는 문자열 중 가장 큰 인덱스 :: str.rfind( ) or str.rindex( )\n",
    "```python\n",
    "str.rfind(    # str.rindex\n",
    "    sub,\n",
    "    start = 0,\n",
    "    end = None\n",
    ")\n",
    "```\n",
    "- 찾는 문자중 가장 큰 인덱스 반환\n",
    "    - 즉, 오른쪽부터 문자를 찾음\n",
    "- Option\n",
    "    - sub : 찾고자 하는 문자or문자열\n",
    "    - start : 시작 인덱스\n",
    "    - end : 끝 인덱스"
   ]
  },
  {
   "cell_type": "code",
   "execution_count": 48,
   "id": "72051618",
   "metadata": {},
   "outputs": [
    {
     "data": {
      "text/plain": [
       "0     9\n",
       "1    17\n",
       "2     9\n",
       "Name: email, dtype: int64"
      ]
     },
     "execution_count": 48,
     "metadata": {},
     "output_type": "execute_result"
    }
   ],
   "source": [
    "df['email'].str.rfind(sub = '.')    # 오른쪽부터 sub값 검색후 위치반환\n",
    "df['email'].str.rindex(sub = '.')"
   ]
  },
  {
   "cell_type": "markdown",
   "id": "41a5bce8",
   "metadata": {},
   "source": [
    "### 5-3. ~시작하는 문자열 찾기 :: str.startswith( )\n",
    "```python\n",
    "str.startswith(\n",
    "    pat\n",
    ")\n",
    "```\n",
    "- pat 값으로 시작하는 문자열 찾기\n",
    "- Option\n",
    "    - pat : 찾고자하는 문자열"
   ]
  },
  {
   "cell_type": "code",
   "execution_count": 49,
   "id": "fc2de44f",
   "metadata": {},
   "outputs": [
    {
     "data": {
      "text/plain": [
       "0     True\n",
       "1    False\n",
       "2    False\n",
       "Name: email, dtype: bool"
      ]
     },
     "execution_count": 49,
     "metadata": {},
     "output_type": "execute_result"
    }
   ],
   "source": [
    "df['email'].str.startswith('abc') # 'abc'로 시작하는 문자열 찾기\n",
    "df['email'].str.startswith(pat = 'abc')"
   ]
  },
  {
   "cell_type": "markdown",
   "id": "a1180516",
   "metadata": {},
   "source": [
    "### 5-4. ~끝나는 문자열 찾기 :: str.endswith( )\n",
    "```python\n",
    "str.endswith(\n",
    "    pat\n",
    ")\n",
    "```\n",
    "- pat 값으로 끝나는 문자열 찾기\n",
    "- Option\n",
    "    - pat : 찾고자하는 문자열"
   ]
  },
  {
   "cell_type": "code",
   "execution_count": 50,
   "id": "6b2c9fc7",
   "metadata": {},
   "outputs": [
    {
     "data": {
      "text/plain": [
       "0     True\n",
       "1     True\n",
       "2    False\n",
       "Name: email, dtype: bool"
      ]
     },
     "execution_count": 50,
     "metadata": {},
     "output_type": "execute_result"
    }
   ],
   "source": [
    "df['email'].str.endswith('com') # 'abc'로 시작하는 문자열 찾기\n",
    "df['email'].str.endswith(pat = 'com')"
   ]
  },
  {
   "cell_type": "markdown",
   "id": "01c97b29",
   "metadata": {},
   "source": [
    "### 5-5. ~포함하는 문자열 찾기 :: str.contains( )\n",
    "```python\n",
    "str.contains(\n",
    "    pat,\n",
    "    case = True,    # True : 대*소문자 구분 | False : 대*소문자 구분하지 않음\n",
    ")\n",
    "```\n",
    "- pat값을 포함하는 문자열 찾기\n",
    "- Option\n",
    "    - pat : 찾고자 하는 문자 or 문자열\n",
    "    - case : 대*소문자 구분 여부 "
   ]
  },
  {
   "cell_type": "code",
   "execution_count": 51,
   "id": "9c0d5bcb",
   "metadata": {},
   "outputs": [
    {
     "data": {
      "text/plain": [
       "0    False\n",
       "1     True\n",
       "2    False\n",
       "Name: email, dtype: bool"
      ]
     },
     "execution_count": 51,
     "metadata": {},
     "output_type": "execute_result"
    }
   ],
   "source": [
    "df['email'].str.contains('ing')   # 'ing'을 포함하는 문자열 찾기"
   ]
  },
  {
   "cell_type": "markdown",
   "id": "0aa0fe96",
   "metadata": {},
   "source": [
    "## 6. 문자열 슬라이싱 :: str.slice( )\n",
    "```python\n",
    "Series.str.slice(\n",
    "    start = None,\n",
    "    stop = None,\n",
    "    step = None\n",
    ")\n",
    "```\n",
    "- 인덱스 위치를 기반으로 문자열에서 하위 문자열을 추출\n",
    "- Option\n",
    "    - start : 슬라이스 작업의 시작 위치\n",
    "    - stop : 슬라이스 작업을 위한 정지 위치\n",
    "    - stop : 슬라이스 작업의 단계 크기"
   ]
  },
  {
   "cell_type": "code",
   "execution_count": 52,
   "id": "141dfdd1",
   "metadata": {},
   "outputs": [
    {
     "data": {
      "text/html": [
       "<div>\n",
       "<style scoped>\n",
       "    .dataframe tbody tr th:only-of-type {\n",
       "        vertical-align: middle;\n",
       "    }\n",
       "\n",
       "    .dataframe tbody tr th {\n",
       "        vertical-align: top;\n",
       "    }\n",
       "\n",
       "    .dataframe thead th {\n",
       "        text-align: right;\n",
       "    }\n",
       "</style>\n",
       "<table border=\"1\" class=\"dataframe\">\n",
       "  <thead>\n",
       "    <tr style=\"text-align: right;\">\n",
       "      <th></th>\n",
       "      <th>email</th>\n",
       "    </tr>\n",
       "  </thead>\n",
       "  <tbody>\n",
       "    <tr>\n",
       "      <th>0</th>\n",
       "      <td>abc@naver.com</td>\n",
       "    </tr>\n",
       "    <tr>\n",
       "      <th>1</th>\n",
       "      <td>programming@gmail.com</td>\n",
       "    </tr>\n",
       "    <tr>\n",
       "      <th>2</th>\n",
       "      <td>1004@daum.net</td>\n",
       "    </tr>\n",
       "  </tbody>\n",
       "</table>\n",
       "</div>"
      ],
      "text/plain": [
       "                   email\n",
       "0          abc@naver.com\n",
       "1  programming@gmail.com\n",
       "2          1004@daum.net"
      ]
     },
     "execution_count": 52,
     "metadata": {},
     "output_type": "execute_result"
    }
   ],
   "source": [
    "df"
   ]
  },
  {
   "cell_type": "code",
   "execution_count": 53,
   "id": "d0049203",
   "metadata": {},
   "outputs": [
    {
     "data": {
      "text/plain": [
       "0    com\n",
       "1    com\n",
       "2    net\n",
       "Name: email, dtype: object"
      ]
     },
     "execution_count": 53,
     "metadata": {},
     "output_type": "execute_result"
    }
   ],
   "source": [
    "df['email'].str.slice(-3)\n",
    "df['email'].str.slice(start = -3)"
   ]
  },
  {
   "cell_type": "markdown",
   "id": "d97c363a",
   "metadata": {},
   "source": [
    "## 7. 문자열 속성 확인"
   ]
  },
  {
   "cell_type": "code",
   "execution_count": 54,
   "id": "6610df77",
   "metadata": {},
   "outputs": [
    {
     "data": {
      "text/html": [
       "<div>\n",
       "<style scoped>\n",
       "    .dataframe tbody tr th:only-of-type {\n",
       "        vertical-align: middle;\n",
       "    }\n",
       "\n",
       "    .dataframe tbody tr th {\n",
       "        vertical-align: top;\n",
       "    }\n",
       "\n",
       "    .dataframe thead th {\n",
       "        text-align: right;\n",
       "    }\n",
       "</style>\n",
       "<table border=\"1\" class=\"dataframe\">\n",
       "  <thead>\n",
       "    <tr style=\"text-align: right;\">\n",
       "      <th></th>\n",
       "      <th>email</th>\n",
       "    </tr>\n",
       "  </thead>\n",
       "  <tbody>\n",
       "    <tr>\n",
       "      <th>0</th>\n",
       "      <td>alpha1</td>\n",
       "    </tr>\n",
       "    <tr>\n",
       "      <th>1</th>\n",
       "      <td>alphabet</td>\n",
       "    </tr>\n",
       "    <tr>\n",
       "      <th>2</th>\n",
       "      <td>123456</td>\n",
       "    </tr>\n",
       "    <tr>\n",
       "      <th>3</th>\n",
       "      <td>lower</td>\n",
       "    </tr>\n",
       "    <tr>\n",
       "      <th>4</th>\n",
       "      <td>UPPER</td>\n",
       "    </tr>\n",
       "  </tbody>\n",
       "</table>\n",
       "</div>"
      ],
      "text/plain": [
       "      email\n",
       "0    alpha1\n",
       "1  alphabet\n",
       "2    123456\n",
       "3     lower\n",
       "4     UPPER"
      ]
     },
     "execution_count": 54,
     "metadata": {},
     "output_type": "execute_result"
    }
   ],
   "source": [
    "df = pd.DataFrame({'email' : ['alpha1',\n",
    "                              'alphabet',\n",
    "                              '123456',\n",
    "                              'lower',\n",
    "                              'UPPER']})\n",
    "df"
   ]
  },
  {
   "cell_type": "markdown",
   "id": "e4b78808",
   "metadata": {},
   "source": [
    "### 7-1. 알파벳 or 숫자로만 구성 되어있는지 여부 :: str.isalnum( )"
   ]
  },
  {
   "cell_type": "code",
   "execution_count": 55,
   "id": "0fa9cca7",
   "metadata": {},
   "outputs": [
    {
     "data": {
      "text/html": [
       "<div>\n",
       "<style scoped>\n",
       "    .dataframe tbody tr th:only-of-type {\n",
       "        vertical-align: middle;\n",
       "    }\n",
       "\n",
       "    .dataframe tbody tr th {\n",
       "        vertical-align: top;\n",
       "    }\n",
       "\n",
       "    .dataframe thead th {\n",
       "        text-align: right;\n",
       "    }\n",
       "</style>\n",
       "<table border=\"1\" class=\"dataframe\">\n",
       "  <thead>\n",
       "    <tr style=\"text-align: right;\">\n",
       "      <th></th>\n",
       "      <th>email</th>\n",
       "      <th>e_isalnum</th>\n",
       "    </tr>\n",
       "  </thead>\n",
       "  <tbody>\n",
       "    <tr>\n",
       "      <th>0</th>\n",
       "      <td>alpha1</td>\n",
       "      <td>True</td>\n",
       "    </tr>\n",
       "    <tr>\n",
       "      <th>1</th>\n",
       "      <td>alphabet</td>\n",
       "      <td>True</td>\n",
       "    </tr>\n",
       "    <tr>\n",
       "      <th>2</th>\n",
       "      <td>123456</td>\n",
       "      <td>True</td>\n",
       "    </tr>\n",
       "    <tr>\n",
       "      <th>3</th>\n",
       "      <td>lower</td>\n",
       "      <td>True</td>\n",
       "    </tr>\n",
       "    <tr>\n",
       "      <th>4</th>\n",
       "      <td>UPPER</td>\n",
       "      <td>True</td>\n",
       "    </tr>\n",
       "  </tbody>\n",
       "</table>\n",
       "</div>"
      ],
      "text/plain": [
       "      email  e_isalnum\n",
       "0    alpha1       True\n",
       "1  alphabet       True\n",
       "2    123456       True\n",
       "3     lower       True\n",
       "4     UPPER       True"
      ]
     },
     "execution_count": 55,
     "metadata": {},
     "output_type": "execute_result"
    }
   ],
   "source": [
    "df['e_isalnum'] = df['email'].str.isalnum()\n",
    "df"
   ]
  },
  {
   "cell_type": "markdown",
   "id": "bbc752f7",
   "metadata": {},
   "source": [
    "### 7-2. 알파벳만으로 구성 여부 :: str.isalpha( )"
   ]
  },
  {
   "cell_type": "code",
   "execution_count": 56,
   "id": "44bbdbc3",
   "metadata": {},
   "outputs": [
    {
     "data": {
      "text/html": [
       "<div>\n",
       "<style scoped>\n",
       "    .dataframe tbody tr th:only-of-type {\n",
       "        vertical-align: middle;\n",
       "    }\n",
       "\n",
       "    .dataframe tbody tr th {\n",
       "        vertical-align: top;\n",
       "    }\n",
       "\n",
       "    .dataframe thead th {\n",
       "        text-align: right;\n",
       "    }\n",
       "</style>\n",
       "<table border=\"1\" class=\"dataframe\">\n",
       "  <thead>\n",
       "    <tr style=\"text-align: right;\">\n",
       "      <th></th>\n",
       "      <th>email</th>\n",
       "      <th>e_isalnum</th>\n",
       "      <th>e_isalpha</th>\n",
       "    </tr>\n",
       "  </thead>\n",
       "  <tbody>\n",
       "    <tr>\n",
       "      <th>0</th>\n",
       "      <td>alpha1</td>\n",
       "      <td>True</td>\n",
       "      <td>False</td>\n",
       "    </tr>\n",
       "    <tr>\n",
       "      <th>1</th>\n",
       "      <td>alphabet</td>\n",
       "      <td>True</td>\n",
       "      <td>True</td>\n",
       "    </tr>\n",
       "    <tr>\n",
       "      <th>2</th>\n",
       "      <td>123456</td>\n",
       "      <td>True</td>\n",
       "      <td>False</td>\n",
       "    </tr>\n",
       "    <tr>\n",
       "      <th>3</th>\n",
       "      <td>lower</td>\n",
       "      <td>True</td>\n",
       "      <td>True</td>\n",
       "    </tr>\n",
       "    <tr>\n",
       "      <th>4</th>\n",
       "      <td>UPPER</td>\n",
       "      <td>True</td>\n",
       "      <td>True</td>\n",
       "    </tr>\n",
       "  </tbody>\n",
       "</table>\n",
       "</div>"
      ],
      "text/plain": [
       "      email  e_isalnum  e_isalpha\n",
       "0    alpha1       True      False\n",
       "1  alphabet       True       True\n",
       "2    123456       True      False\n",
       "3     lower       True       True\n",
       "4     UPPER       True       True"
      ]
     },
     "execution_count": 56,
     "metadata": {},
     "output_type": "execute_result"
    }
   ],
   "source": [
    "df['e_isalpha'] = df['email'].str.isalpha()\n",
    "df"
   ]
  },
  {
   "cell_type": "markdown",
   "id": "8f6840b0",
   "metadata": {},
   "source": [
    "### 7-3. 숫자로만 구성 여부 :: str.isdecimal( ) or str.isdigit( ) or str.isnumeric( )"
   ]
  },
  {
   "cell_type": "code",
   "execution_count": 57,
   "id": "b613f18b",
   "metadata": {},
   "outputs": [
    {
     "data": {
      "text/html": [
       "<div>\n",
       "<style scoped>\n",
       "    .dataframe tbody tr th:only-of-type {\n",
       "        vertical-align: middle;\n",
       "    }\n",
       "\n",
       "    .dataframe tbody tr th {\n",
       "        vertical-align: top;\n",
       "    }\n",
       "\n",
       "    .dataframe thead th {\n",
       "        text-align: right;\n",
       "    }\n",
       "</style>\n",
       "<table border=\"1\" class=\"dataframe\">\n",
       "  <thead>\n",
       "    <tr style=\"text-align: right;\">\n",
       "      <th></th>\n",
       "      <th>email</th>\n",
       "      <th>e_isalnum</th>\n",
       "      <th>e_isalpha</th>\n",
       "      <th>e_isdecimal</th>\n",
       "      <th>e_isdigit</th>\n",
       "      <th>e_isnumeric</th>\n",
       "    </tr>\n",
       "  </thead>\n",
       "  <tbody>\n",
       "    <tr>\n",
       "      <th>0</th>\n",
       "      <td>alpha1</td>\n",
       "      <td>True</td>\n",
       "      <td>False</td>\n",
       "      <td>False</td>\n",
       "      <td>False</td>\n",
       "      <td>False</td>\n",
       "    </tr>\n",
       "    <tr>\n",
       "      <th>1</th>\n",
       "      <td>alphabet</td>\n",
       "      <td>True</td>\n",
       "      <td>True</td>\n",
       "      <td>False</td>\n",
       "      <td>False</td>\n",
       "      <td>False</td>\n",
       "    </tr>\n",
       "    <tr>\n",
       "      <th>2</th>\n",
       "      <td>123456</td>\n",
       "      <td>True</td>\n",
       "      <td>False</td>\n",
       "      <td>True</td>\n",
       "      <td>True</td>\n",
       "      <td>True</td>\n",
       "    </tr>\n",
       "    <tr>\n",
       "      <th>3</th>\n",
       "      <td>lower</td>\n",
       "      <td>True</td>\n",
       "      <td>True</td>\n",
       "      <td>False</td>\n",
       "      <td>False</td>\n",
       "      <td>False</td>\n",
       "    </tr>\n",
       "    <tr>\n",
       "      <th>4</th>\n",
       "      <td>UPPER</td>\n",
       "      <td>True</td>\n",
       "      <td>True</td>\n",
       "      <td>False</td>\n",
       "      <td>False</td>\n",
       "      <td>False</td>\n",
       "    </tr>\n",
       "  </tbody>\n",
       "</table>\n",
       "</div>"
      ],
      "text/plain": [
       "      email  e_isalnum  e_isalpha  e_isdecimal  e_isdigit  e_isnumeric\n",
       "0    alpha1       True      False        False      False        False\n",
       "1  alphabet       True       True        False      False        False\n",
       "2    123456       True      False         True       True         True\n",
       "3     lower       True       True        False      False        False\n",
       "4     UPPER       True       True        False      False        False"
      ]
     },
     "execution_count": 57,
     "metadata": {},
     "output_type": "execute_result"
    }
   ],
   "source": [
    "df['e_isdecimal'] = df['email'].str.isdecimal()\n",
    "df['e_isdigit'] = df['email'].str.isdigit()\n",
    "df['e_isnumeric'] = df['email'].str.isnumeric()\n",
    "df"
   ]
  },
  {
   "cell_type": "markdown",
   "id": "35bf9b00",
   "metadata": {},
   "source": [
    "### 7-4. 소문자로만 구성 여부 :: str.islower( )"
   ]
  },
  {
   "cell_type": "code",
   "execution_count": 58,
   "id": "c2b5124c",
   "metadata": {},
   "outputs": [
    {
     "data": {
      "text/html": [
       "<div>\n",
       "<style scoped>\n",
       "    .dataframe tbody tr th:only-of-type {\n",
       "        vertical-align: middle;\n",
       "    }\n",
       "\n",
       "    .dataframe tbody tr th {\n",
       "        vertical-align: top;\n",
       "    }\n",
       "\n",
       "    .dataframe thead th {\n",
       "        text-align: right;\n",
       "    }\n",
       "</style>\n",
       "<table border=\"1\" class=\"dataframe\">\n",
       "  <thead>\n",
       "    <tr style=\"text-align: right;\">\n",
       "      <th></th>\n",
       "      <th>email</th>\n",
       "      <th>e_isalnum</th>\n",
       "      <th>e_isalpha</th>\n",
       "      <th>e_isdecimal</th>\n",
       "      <th>e_isdigit</th>\n",
       "      <th>e_isnumeric</th>\n",
       "      <th>e_islower</th>\n",
       "    </tr>\n",
       "  </thead>\n",
       "  <tbody>\n",
       "    <tr>\n",
       "      <th>0</th>\n",
       "      <td>alpha1</td>\n",
       "      <td>True</td>\n",
       "      <td>False</td>\n",
       "      <td>False</td>\n",
       "      <td>False</td>\n",
       "      <td>False</td>\n",
       "      <td>True</td>\n",
       "    </tr>\n",
       "    <tr>\n",
       "      <th>1</th>\n",
       "      <td>alphabet</td>\n",
       "      <td>True</td>\n",
       "      <td>True</td>\n",
       "      <td>False</td>\n",
       "      <td>False</td>\n",
       "      <td>False</td>\n",
       "      <td>True</td>\n",
       "    </tr>\n",
       "    <tr>\n",
       "      <th>2</th>\n",
       "      <td>123456</td>\n",
       "      <td>True</td>\n",
       "      <td>False</td>\n",
       "      <td>True</td>\n",
       "      <td>True</td>\n",
       "      <td>True</td>\n",
       "      <td>False</td>\n",
       "    </tr>\n",
       "    <tr>\n",
       "      <th>3</th>\n",
       "      <td>lower</td>\n",
       "      <td>True</td>\n",
       "      <td>True</td>\n",
       "      <td>False</td>\n",
       "      <td>False</td>\n",
       "      <td>False</td>\n",
       "      <td>True</td>\n",
       "    </tr>\n",
       "    <tr>\n",
       "      <th>4</th>\n",
       "      <td>UPPER</td>\n",
       "      <td>True</td>\n",
       "      <td>True</td>\n",
       "      <td>False</td>\n",
       "      <td>False</td>\n",
       "      <td>False</td>\n",
       "      <td>False</td>\n",
       "    </tr>\n",
       "  </tbody>\n",
       "</table>\n",
       "</div>"
      ],
      "text/plain": [
       "      email  e_isalnum  e_isalpha  e_isdecimal  e_isdigit  e_isnumeric  \\\n",
       "0    alpha1       True      False        False      False        False   \n",
       "1  alphabet       True       True        False      False        False   \n",
       "2    123456       True      False         True       True         True   \n",
       "3     lower       True       True        False      False        False   \n",
       "4     UPPER       True       True        False      False        False   \n",
       "\n",
       "   e_islower  \n",
       "0       True  \n",
       "1       True  \n",
       "2      False  \n",
       "3       True  \n",
       "4      False  "
      ]
     },
     "execution_count": 58,
     "metadata": {},
     "output_type": "execute_result"
    }
   ],
   "source": [
    "df['e_islower'] = df['email'].str.islower()\n",
    "df"
   ]
  },
  {
   "cell_type": "markdown",
   "id": "bbd0876b",
   "metadata": {},
   "source": [
    "### 7-5. 대문자로만 구성 여부 :: str.isupper( )"
   ]
  },
  {
   "cell_type": "code",
   "execution_count": 59,
   "id": "fe4f99e3",
   "metadata": {},
   "outputs": [
    {
     "data": {
      "text/html": [
       "<div>\n",
       "<style scoped>\n",
       "    .dataframe tbody tr th:only-of-type {\n",
       "        vertical-align: middle;\n",
       "    }\n",
       "\n",
       "    .dataframe tbody tr th {\n",
       "        vertical-align: top;\n",
       "    }\n",
       "\n",
       "    .dataframe thead th {\n",
       "        text-align: right;\n",
       "    }\n",
       "</style>\n",
       "<table border=\"1\" class=\"dataframe\">\n",
       "  <thead>\n",
       "    <tr style=\"text-align: right;\">\n",
       "      <th></th>\n",
       "      <th>email</th>\n",
       "      <th>e_isalnum</th>\n",
       "      <th>e_isalpha</th>\n",
       "      <th>e_isdecimal</th>\n",
       "      <th>e_isdigit</th>\n",
       "      <th>e_isnumeric</th>\n",
       "      <th>e_islower</th>\n",
       "      <th>e_isupper</th>\n",
       "    </tr>\n",
       "  </thead>\n",
       "  <tbody>\n",
       "    <tr>\n",
       "      <th>0</th>\n",
       "      <td>alpha1</td>\n",
       "      <td>True</td>\n",
       "      <td>False</td>\n",
       "      <td>False</td>\n",
       "      <td>False</td>\n",
       "      <td>False</td>\n",
       "      <td>True</td>\n",
       "      <td>False</td>\n",
       "    </tr>\n",
       "    <tr>\n",
       "      <th>1</th>\n",
       "      <td>alphabet</td>\n",
       "      <td>True</td>\n",
       "      <td>True</td>\n",
       "      <td>False</td>\n",
       "      <td>False</td>\n",
       "      <td>False</td>\n",
       "      <td>True</td>\n",
       "      <td>False</td>\n",
       "    </tr>\n",
       "    <tr>\n",
       "      <th>2</th>\n",
       "      <td>123456</td>\n",
       "      <td>True</td>\n",
       "      <td>False</td>\n",
       "      <td>True</td>\n",
       "      <td>True</td>\n",
       "      <td>True</td>\n",
       "      <td>False</td>\n",
       "      <td>False</td>\n",
       "    </tr>\n",
       "    <tr>\n",
       "      <th>3</th>\n",
       "      <td>lower</td>\n",
       "      <td>True</td>\n",
       "      <td>True</td>\n",
       "      <td>False</td>\n",
       "      <td>False</td>\n",
       "      <td>False</td>\n",
       "      <td>True</td>\n",
       "      <td>False</td>\n",
       "    </tr>\n",
       "    <tr>\n",
       "      <th>4</th>\n",
       "      <td>UPPER</td>\n",
       "      <td>True</td>\n",
       "      <td>True</td>\n",
       "      <td>False</td>\n",
       "      <td>False</td>\n",
       "      <td>False</td>\n",
       "      <td>False</td>\n",
       "      <td>True</td>\n",
       "    </tr>\n",
       "  </tbody>\n",
       "</table>\n",
       "</div>"
      ],
      "text/plain": [
       "      email  e_isalnum  e_isalpha  e_isdecimal  e_isdigit  e_isnumeric  \\\n",
       "0    alpha1       True      False        False      False        False   \n",
       "1  alphabet       True       True        False      False        False   \n",
       "2    123456       True      False         True       True         True   \n",
       "3     lower       True       True        False      False        False   \n",
       "4     UPPER       True       True        False      False        False   \n",
       "\n",
       "   e_islower  e_isupper  \n",
       "0       True      False  \n",
       "1       True      False  \n",
       "2      False      False  \n",
       "3       True      False  \n",
       "4      False       True  "
      ]
     },
     "execution_count": 59,
     "metadata": {},
     "output_type": "execute_result"
    }
   ],
   "source": [
    "df['e_isupper'] = df['email'].str.isupper()\n",
    "df"
   ]
  }
 ],
 "metadata": {
  "kernelspec": {
   "display_name": "Python 3 (ipykernel)",
   "language": "python",
   "name": "python3"
  },
  "language_info": {
   "codemirror_mode": {
    "name": "ipython",
    "version": 3
   },
   "file_extension": ".py",
   "mimetype": "text/x-python",
   "name": "python",
   "nbconvert_exporter": "python",
   "pygments_lexer": "ipython3",
   "version": "3.10.11"
  },
  "toc": {
   "base_numbering": 1,
   "nav_menu": {},
   "number_sections": true,
   "sideBar": true,
   "skip_h1_title": false,
   "title_cell": "Table of Contents",
   "title_sidebar": "Contents",
   "toc_cell": false,
   "toc_position": {},
   "toc_section_display": true,
   "toc_window_display": false
  }
 },
 "nbformat": 4,
 "nbformat_minor": 5
}
