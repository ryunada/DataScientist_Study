{
 "cells": [
  {
   "cell_type": "markdown",
   "id": "4c6ef1e4",
   "metadata": {},
   "source": [
    "# 시계열 데이터(Time Series Data) 다루기"
   ]
  },
  {
   "cell_type": "markdown",
   "id": "738d5624",
   "metadata": {},
   "source": [
    "## I. 온도 예측 문제"
   ]
  },
  {
   "cell_type": "markdown",
   "id": "9fd15b2c",
   "metadata": {},
   "source": [
    "- 문제 정의\n",
    "    - 한 시간에 한 번씩 샘플링된 5일간의 데이터가 주어졌을 때 24시간 뒤의 온도를 예측\n",
    "    - 데이터를 신경망에 주입할 수 있는 형태로 전처리해봄\n",
    "    - 데이터 : 수치형이 되어 있어야 함\n",
    "    - 각 시계열을 독립적으로 정규화하여 비슷한 범위를 가진 작은 값으로 바꿈"
   ]
  },
  {
   "cell_type": "markdown",
   "id": "1b99215a",
   "metadata": {},
   "source": [
    "- DataSet\n",
    "    - 독일 예나(Jena)시에 있는 막스 플랑크 생물지구화학연구소(Max Plank Institute for Biogeochemisty)의 기상 관측소에서 수집  \n",
    "    - 수년간에 걸쳐(온도, 기압, 습도, 풍향 등) 14개의 관측치가 10분마다 기록되어 있음\n",
    "    - 원본은 2003년부터 기록되어 있지만 2009~2016년 사이의 데이터 사용"
   ]
  },
  {
   "cell_type": "markdown",
   "id": "eaebf064",
   "metadata": {},
   "source": [
    "|Feature Name|설명|\n",
    "|:--:|:----|\n",
    "| Date Time |날짜-시간 참조|\n",
    "| p (mbar) |압력 단위|\n",
    "| T (degC) | 섭씨 온도 |\n",
    "| Tpot (K) | 켈빈 온도 |\n",
    "| Tdew (degC) | 습도 |\n",
    "| rh (%) | 상대 습도 |\n",
    "| VPmax (mbar) | 포화 증기압 |\n",
    "| VPact (mbar) | 증기압 |\n",
    "| VPdef (mbar) | 증기압 부종 |\n",
    "| sh (g/kg) | 비습도 |\n",
    "| H2OC (mmol/mol) | 수증기 농도 |\n",
    "| rho (g/m**3) | Airtight |\n",
    "| wv (m/s) | 풍속 |\n",
    "| max. wv (m/s) | 최대 풍속 |\n",
    "| wd (deg) | 바람 방향 |"
   ]
  },
  {
   "cell_type": "markdown",
   "id": "bc15822a",
   "metadata": {},
   "source": [
    "### 1. 데이터 다운로드 및 확인"
   ]
  },
  {
   "cell_type": "markdown",
   "id": "1744b4a8",
   "metadata": {},
   "source": [
    "#### 1. 데이터 다운로드"
   ]
  },
  {
   "cell_type": "code",
   "execution_count": 1,
   "id": "1f72377f",
   "metadata": {
    "scrolled": true
   },
   "outputs": [
    {
     "name": "stdout",
     "output_type": "stream",
     "text": [
      "/Users/ryu/Desktop/Desktop ryuseungho's MacBook Air/Data Scientist/Study_Organization/DeepLearning/RNN(LSTM,GRU)\n",
      "/Users/ryu/Desktop/Desktop ryuseungho's MacBook Air/Data Scientist/Study_Organization/DeepLearning/RNN(LSTM,GRU)/Data\n"
     ]
    }
   ],
   "source": [
    "## 작업 위치 설정\n",
    "import os\n",
    "\n",
    "print(os.getcwd())\n",
    "os.chdir(\"/Users/ryu/Desktop/Desktop ryuseungho's MacBook Air/Data Scientist/Study_Organization/DeepLearning/RNN(LSTM,GRU)/Data\")\n",
    "print(os.getcwd())\n",
    "\n",
    "# 압축된 데이터 내려받기\n",
    "# !wget https://s3.amazonaws.com/keras-datasets/jena_climate_2009_2016.csv.zip\n",
    "# 압축 풀기\n",
    "# !unzip jena_climate_2009_2016.csv.zip"
   ]
  },
  {
   "cell_type": "markdown",
   "id": "9036b31c",
   "metadata": {},
   "source": [
    "#### 2. 데이터 확인"
   ]
  },
  {
   "cell_type": "code",
   "execution_count": 2,
   "id": "66b8cc84",
   "metadata": {},
   "outputs": [],
   "source": [
    "## 데이터 불러오기\n",
    "import pandas as pd\n",
    "df = pd.read_csv('./jena_climate_2009_2016.csv')"
   ]
  },
  {
   "cell_type": "code",
   "execution_count": 3,
   "id": "e773e7de",
   "metadata": {
    "scrolled": true
   },
   "outputs": [
    {
     "data": {
      "text/html": [
       "<div>\n",
       "<style scoped>\n",
       "    .dataframe tbody tr th:only-of-type {\n",
       "        vertical-align: middle;\n",
       "    }\n",
       "\n",
       "    .dataframe tbody tr th {\n",
       "        vertical-align: top;\n",
       "    }\n",
       "\n",
       "    .dataframe thead th {\n",
       "        text-align: right;\n",
       "    }\n",
       "</style>\n",
       "<table border=\"1\" class=\"dataframe\">\n",
       "  <thead>\n",
       "    <tr style=\"text-align: right;\">\n",
       "      <th></th>\n",
       "      <th>Date Time</th>\n",
       "      <th>p (mbar)</th>\n",
       "      <th>T (degC)</th>\n",
       "      <th>Tpot (K)</th>\n",
       "      <th>Tdew (degC)</th>\n",
       "      <th>rh (%)</th>\n",
       "      <th>VPmax (mbar)</th>\n",
       "      <th>VPact (mbar)</th>\n",
       "      <th>VPdef (mbar)</th>\n",
       "      <th>sh (g/kg)</th>\n",
       "      <th>H2OC (mmol/mol)</th>\n",
       "      <th>rho (g/m**3)</th>\n",
       "      <th>wv (m/s)</th>\n",
       "      <th>max. wv (m/s)</th>\n",
       "      <th>wd (deg)</th>\n",
       "    </tr>\n",
       "  </thead>\n",
       "  <tbody>\n",
       "    <tr>\n",
       "      <th>0</th>\n",
       "      <td>01.01.2009 00:10:00</td>\n",
       "      <td>996.52</td>\n",
       "      <td>-8.02</td>\n",
       "      <td>265.40</td>\n",
       "      <td>-8.90</td>\n",
       "      <td>93.30</td>\n",
       "      <td>3.33</td>\n",
       "      <td>3.11</td>\n",
       "      <td>0.22</td>\n",
       "      <td>1.94</td>\n",
       "      <td>3.12</td>\n",
       "      <td>1307.75</td>\n",
       "      <td>1.03</td>\n",
       "      <td>1.75</td>\n",
       "      <td>152.3</td>\n",
       "    </tr>\n",
       "    <tr>\n",
       "      <th>1</th>\n",
       "      <td>01.01.2009 00:20:00</td>\n",
       "      <td>996.57</td>\n",
       "      <td>-8.41</td>\n",
       "      <td>265.01</td>\n",
       "      <td>-9.28</td>\n",
       "      <td>93.40</td>\n",
       "      <td>3.23</td>\n",
       "      <td>3.02</td>\n",
       "      <td>0.21</td>\n",
       "      <td>1.89</td>\n",
       "      <td>3.03</td>\n",
       "      <td>1309.80</td>\n",
       "      <td>0.72</td>\n",
       "      <td>1.50</td>\n",
       "      <td>136.1</td>\n",
       "    </tr>\n",
       "    <tr>\n",
       "      <th>2</th>\n",
       "      <td>01.01.2009 00:30:00</td>\n",
       "      <td>996.53</td>\n",
       "      <td>-8.51</td>\n",
       "      <td>264.91</td>\n",
       "      <td>-9.31</td>\n",
       "      <td>93.90</td>\n",
       "      <td>3.21</td>\n",
       "      <td>3.01</td>\n",
       "      <td>0.20</td>\n",
       "      <td>1.88</td>\n",
       "      <td>3.02</td>\n",
       "      <td>1310.24</td>\n",
       "      <td>0.19</td>\n",
       "      <td>0.63</td>\n",
       "      <td>171.6</td>\n",
       "    </tr>\n",
       "    <tr>\n",
       "      <th>3</th>\n",
       "      <td>01.01.2009 00:40:00</td>\n",
       "      <td>996.51</td>\n",
       "      <td>-8.31</td>\n",
       "      <td>265.12</td>\n",
       "      <td>-9.07</td>\n",
       "      <td>94.20</td>\n",
       "      <td>3.26</td>\n",
       "      <td>3.07</td>\n",
       "      <td>0.19</td>\n",
       "      <td>1.92</td>\n",
       "      <td>3.08</td>\n",
       "      <td>1309.19</td>\n",
       "      <td>0.34</td>\n",
       "      <td>0.50</td>\n",
       "      <td>198.0</td>\n",
       "    </tr>\n",
       "    <tr>\n",
       "      <th>4</th>\n",
       "      <td>01.01.2009 00:50:00</td>\n",
       "      <td>996.51</td>\n",
       "      <td>-8.27</td>\n",
       "      <td>265.15</td>\n",
       "      <td>-9.04</td>\n",
       "      <td>94.10</td>\n",
       "      <td>3.27</td>\n",
       "      <td>3.08</td>\n",
       "      <td>0.19</td>\n",
       "      <td>1.92</td>\n",
       "      <td>3.09</td>\n",
       "      <td>1309.00</td>\n",
       "      <td>0.32</td>\n",
       "      <td>0.63</td>\n",
       "      <td>214.3</td>\n",
       "    </tr>\n",
       "    <tr>\n",
       "      <th>...</th>\n",
       "      <td>...</td>\n",
       "      <td>...</td>\n",
       "      <td>...</td>\n",
       "      <td>...</td>\n",
       "      <td>...</td>\n",
       "      <td>...</td>\n",
       "      <td>...</td>\n",
       "      <td>...</td>\n",
       "      <td>...</td>\n",
       "      <td>...</td>\n",
       "      <td>...</td>\n",
       "      <td>...</td>\n",
       "      <td>...</td>\n",
       "      <td>...</td>\n",
       "      <td>...</td>\n",
       "    </tr>\n",
       "    <tr>\n",
       "      <th>420446</th>\n",
       "      <td>31.12.2016 23:20:00</td>\n",
       "      <td>1000.07</td>\n",
       "      <td>-4.05</td>\n",
       "      <td>269.10</td>\n",
       "      <td>-8.13</td>\n",
       "      <td>73.10</td>\n",
       "      <td>4.52</td>\n",
       "      <td>3.30</td>\n",
       "      <td>1.22</td>\n",
       "      <td>2.06</td>\n",
       "      <td>3.30</td>\n",
       "      <td>1292.98</td>\n",
       "      <td>0.67</td>\n",
       "      <td>1.52</td>\n",
       "      <td>240.0</td>\n",
       "    </tr>\n",
       "    <tr>\n",
       "      <th>420447</th>\n",
       "      <td>31.12.2016 23:30:00</td>\n",
       "      <td>999.93</td>\n",
       "      <td>-3.35</td>\n",
       "      <td>269.81</td>\n",
       "      <td>-8.06</td>\n",
       "      <td>69.71</td>\n",
       "      <td>4.77</td>\n",
       "      <td>3.32</td>\n",
       "      <td>1.44</td>\n",
       "      <td>2.07</td>\n",
       "      <td>3.32</td>\n",
       "      <td>1289.44</td>\n",
       "      <td>1.14</td>\n",
       "      <td>1.92</td>\n",
       "      <td>234.3</td>\n",
       "    </tr>\n",
       "    <tr>\n",
       "      <th>420448</th>\n",
       "      <td>31.12.2016 23:40:00</td>\n",
       "      <td>999.82</td>\n",
       "      <td>-3.16</td>\n",
       "      <td>270.01</td>\n",
       "      <td>-8.21</td>\n",
       "      <td>67.91</td>\n",
       "      <td>4.84</td>\n",
       "      <td>3.28</td>\n",
       "      <td>1.55</td>\n",
       "      <td>2.05</td>\n",
       "      <td>3.28</td>\n",
       "      <td>1288.39</td>\n",
       "      <td>1.08</td>\n",
       "      <td>2.00</td>\n",
       "      <td>215.2</td>\n",
       "    </tr>\n",
       "    <tr>\n",
       "      <th>420449</th>\n",
       "      <td>31.12.2016 23:50:00</td>\n",
       "      <td>999.81</td>\n",
       "      <td>-4.23</td>\n",
       "      <td>268.94</td>\n",
       "      <td>-8.53</td>\n",
       "      <td>71.80</td>\n",
       "      <td>4.46</td>\n",
       "      <td>3.20</td>\n",
       "      <td>1.26</td>\n",
       "      <td>1.99</td>\n",
       "      <td>3.20</td>\n",
       "      <td>1293.56</td>\n",
       "      <td>1.49</td>\n",
       "      <td>2.16</td>\n",
       "      <td>225.8</td>\n",
       "    </tr>\n",
       "    <tr>\n",
       "      <th>420450</th>\n",
       "      <td>01.01.2017 00:00:00</td>\n",
       "      <td>999.82</td>\n",
       "      <td>-4.82</td>\n",
       "      <td>268.36</td>\n",
       "      <td>-8.42</td>\n",
       "      <td>75.70</td>\n",
       "      <td>4.27</td>\n",
       "      <td>3.23</td>\n",
       "      <td>1.04</td>\n",
       "      <td>2.01</td>\n",
       "      <td>3.23</td>\n",
       "      <td>1296.38</td>\n",
       "      <td>1.23</td>\n",
       "      <td>1.96</td>\n",
       "      <td>184.9</td>\n",
       "    </tr>\n",
       "  </tbody>\n",
       "</table>\n",
       "<p>420451 rows × 15 columns</p>\n",
       "</div>"
      ],
      "text/plain": [
       "                  Date Time  p (mbar)  T (degC)  Tpot (K)  Tdew (degC)  \\\n",
       "0       01.01.2009 00:10:00    996.52     -8.02    265.40        -8.90   \n",
       "1       01.01.2009 00:20:00    996.57     -8.41    265.01        -9.28   \n",
       "2       01.01.2009 00:30:00    996.53     -8.51    264.91        -9.31   \n",
       "3       01.01.2009 00:40:00    996.51     -8.31    265.12        -9.07   \n",
       "4       01.01.2009 00:50:00    996.51     -8.27    265.15        -9.04   \n",
       "...                     ...       ...       ...       ...          ...   \n",
       "420446  31.12.2016 23:20:00   1000.07     -4.05    269.10        -8.13   \n",
       "420447  31.12.2016 23:30:00    999.93     -3.35    269.81        -8.06   \n",
       "420448  31.12.2016 23:40:00    999.82     -3.16    270.01        -8.21   \n",
       "420449  31.12.2016 23:50:00    999.81     -4.23    268.94        -8.53   \n",
       "420450  01.01.2017 00:00:00    999.82     -4.82    268.36        -8.42   \n",
       "\n",
       "        rh (%)  VPmax (mbar)  VPact (mbar)  VPdef (mbar)  sh (g/kg)  \\\n",
       "0        93.30          3.33          3.11          0.22       1.94   \n",
       "1        93.40          3.23          3.02          0.21       1.89   \n",
       "2        93.90          3.21          3.01          0.20       1.88   \n",
       "3        94.20          3.26          3.07          0.19       1.92   \n",
       "4        94.10          3.27          3.08          0.19       1.92   \n",
       "...        ...           ...           ...           ...        ...   \n",
       "420446   73.10          4.52          3.30          1.22       2.06   \n",
       "420447   69.71          4.77          3.32          1.44       2.07   \n",
       "420448   67.91          4.84          3.28          1.55       2.05   \n",
       "420449   71.80          4.46          3.20          1.26       1.99   \n",
       "420450   75.70          4.27          3.23          1.04       2.01   \n",
       "\n",
       "        H2OC (mmol/mol)  rho (g/m**3)  wv (m/s)  max. wv (m/s)  wd (deg)  \n",
       "0                  3.12       1307.75      1.03           1.75     152.3  \n",
       "1                  3.03       1309.80      0.72           1.50     136.1  \n",
       "2                  3.02       1310.24      0.19           0.63     171.6  \n",
       "3                  3.08       1309.19      0.34           0.50     198.0  \n",
       "4                  3.09       1309.00      0.32           0.63     214.3  \n",
       "...                 ...           ...       ...            ...       ...  \n",
       "420446             3.30       1292.98      0.67           1.52     240.0  \n",
       "420447             3.32       1289.44      1.14           1.92     234.3  \n",
       "420448             3.28       1288.39      1.08           2.00     215.2  \n",
       "420449             3.20       1293.56      1.49           2.16     225.8  \n",
       "420450             3.23       1296.38      1.23           1.96     184.9  \n",
       "\n",
       "[420451 rows x 15 columns]"
      ]
     },
     "execution_count": 3,
     "metadata": {},
     "output_type": "execute_result"
    }
   ],
   "source": [
    "df"
   ]
  },
  {
   "cell_type": "code",
   "execution_count": 4,
   "id": "742aa430",
   "metadata": {},
   "outputs": [
    {
     "name": "stdout",
     "output_type": "stream",
     "text": [
      "<class 'pandas.core.frame.DataFrame'>\n",
      "RangeIndex: 420451 entries, 0 to 420450\n",
      "Data columns (total 15 columns):\n",
      " #   Column           Non-Null Count   Dtype  \n",
      "---  ------           --------------   -----  \n",
      " 0   Date Time        420451 non-null  object \n",
      " 1   p (mbar)         420451 non-null  float64\n",
      " 2   T (degC)         420451 non-null  float64\n",
      " 3   Tpot (K)         420451 non-null  float64\n",
      " 4   Tdew (degC)      420451 non-null  float64\n",
      " 5   rh (%)           420451 non-null  float64\n",
      " 6   VPmax (mbar)     420451 non-null  float64\n",
      " 7   VPact (mbar)     420451 non-null  float64\n",
      " 8   VPdef (mbar)     420451 non-null  float64\n",
      " 9   sh (g/kg)        420451 non-null  float64\n",
      " 10  H2OC (mmol/mol)  420451 non-null  float64\n",
      " 11  rho (g/m**3)     420451 non-null  float64\n",
      " 12  wv (m/s)         420451 non-null  float64\n",
      " 13  max. wv (m/s)    420451 non-null  float64\n",
      " 14  wd (deg)         420451 non-null  float64\n",
      "dtypes: float64(14), object(1)\n",
      "memory usage: 48.1+ MB\n"
     ]
    }
   ],
   "source": [
    "# 데이터 형태 확인 및 null값 확인\n",
    "df.info()"
   ]
  },
  {
   "cell_type": "markdown",
   "id": "daea35d3",
   "metadata": {},
   "source": [
    "### 2. 데이터 전처리"
   ]
  },
  {
   "cell_type": "markdown",
   "id": "f82ec6bd",
   "metadata": {},
   "source": [
    "#### 2-1. 데이터 파싱\n",
    "- Target 데이터 분리\n",
    "    - Target : 온도(temperature)[ T (degC) ]"
   ]
  },
  {
   "cell_type": "code",
   "execution_count": 5,
   "id": "e465502f",
   "metadata": {},
   "outputs": [],
   "source": [
    "# 날짜 데이터(Date Time)\n",
    "DateTime = df.iloc[:,0]\n",
    "\n",
    "# 날짜 데이터를 제외한 나머지 데이터\n",
    "raw_data = df.iloc[:,1:]\n",
    "\n",
    "# 기온 데이터\n",
    "temperature = raw_data['T (degC)']"
   ]
  },
  {
   "cell_type": "markdown",
   "id": "7ddcfe22",
   "metadata": {},
   "source": [
    "#### 2-2. 데이터 시각화"
   ]
  },
  {
   "cell_type": "code",
   "execution_count": 10,
   "id": "17d5cb93",
   "metadata": {},
   "outputs": [],
   "source": [
    "import matplotlib.pyplot as plt\n",
    "# 한글 깨짐 해결\n",
    "plt.rcParams['font.family'] = 'AppleGothic' # window : Malgun Gothic | mac OS : AppleGothic\n",
    "# 마이너스기호(-)깨짐 해결\n",
    "plt.rcParams['axes.unicode_minus'] = False"
   ]
  },
  {
   "cell_type": "code",
   "execution_count": 11,
   "id": "903d4fc3",
   "metadata": {},
   "outputs": [
    {
     "data": {
      "image/png": "[encoded data removed]",
      "text/plain": [
       "<Figure size 640x480 with 1 Axes>"
      ]
     },
     "metadata": {},
     "output_type": "display_data"
    }
   ],
   "source": [
    "## 데이터셋의 전체 기간의 온도 그래프(범위 8년)\n",
    "\n",
    "plt.title('데이터셋의 전체 기간의 온도 그래프(범위 8년)')\n",
    "plt.plot(range(len(temperature)), temperature)\n",
    "plt.show()"
   ]
  },
  {
   "cell_type": "markdown",
   "id": "02b4d0b2",
   "metadata": {},
   "source": [
    "- 매년 온도에 **주기성**이 있다는 것을 볼 수 있음"
   ]
  },
  {
   "cell_type": "markdown",
   "id": "92eb0362",
   "metadata": {},
   "source": [
    "### 2-3. 데이터 분할\n",
    "- 각 분할에 사용할 샘플 개수 계산\n",
    "    - Train Data : 50%\n",
    "    - Val Data : 25%\n",
    "    - Test Data : 25%"
   ]
  },
  {
   "cell_type": "code",
   "execution_count": 12,
   "id": "7ad85f5f",
   "metadata": {
    "scrolled": false
   },
   "outputs": [
    {
     "name": "stdout",
     "output_type": "stream",
     "text": [
      "Train Data 개수 : 210225\n",
      "Val Data 개수 : 105112\n",
      "Test Data 개수 : 105114\n"
     ]
    }
   ],
   "source": [
    "train_samples_n = int(0.5 * len(raw_data))\n",
    "val_samples_n = int(0.25 * len(raw_data))\n",
    "test_samples_n = len(raw_data) - train_samples_n - val_samples_n\n",
    "print(f\"Train Data 개수 : {train_samples_n}\")\n",
    "print(f\"Val Data 개수 : {val_samples_n}\")\n",
    "print(f\"Test Data 개수 : {test_samples_n}\")"
   ]
  },
  {
   "cell_type": "markdown",
   "id": "03d2bc96",
   "metadata": {},
   "source": [
    "#### 2-4. 데이터 정규화"
   ]
  },
  {
   "cell_type": "markdown",
   "id": "039348b5",
   "metadata": {},
   "source": [
    "- 이미 수치형이기 때문에 벡터화가 필요 X"
   ]
  },
  {
   "cell_type": "code",
   "execution_count": 13,
   "id": "9e272a0b",
   "metadata": {},
   "outputs": [],
   "source": [
    "# 시계열은 스케일이 각각 다르므로 독립적으로 정규화(평균과 표준편차 사용)\n",
    "mean = raw_data[:train_samples_n].mean(axis = 0)\n",
    "raw_data -= mean\n",
    "std = raw_data[:train_samples_n].std(axis = 0)\n",
    "raw_data /= std"
   ]
  },
  {
   "cell_type": "markdown",
   "id": "9ab50065",
   "metadata": {},
   "source": [
    "#### 2-5. 데이터 분할\n",
    "- 과거 5일치 데이터와 24시간 뒤 타깃 온도의 배치를 반환하는 Dataset 객체\n",
    "- 과정\n",
    "\n",
    "  I. 현재 데이터의 시간 단위(10분)와 예측하려는 시간 단위(1시간)을 통일\n",
    "\n",
    "  - 10분 * 6 = 60분(1시간)\n",
    "\n",
    "  - $sampling\\_rate = 6$\n",
    "\n",
    "  II. 사용할 데이터의 기간 정의 (5일 = 120시간)\n",
    "\n",
    "  - $sequence\\_length = 120$\n",
    "  - $sequence\\_stride = 1$\n",
    "\n",
    "  III. 예측 시점(24시간 뒤)\n",
    "\n",
    "  - $delay = sampling\\_rate * (sequence\\_length + 24 - 1)$\n",
    "  - ***이틀 뒤를 예측***\n",
    "    - $delay = sampling\\_rate * (sequence\\_length + 48 -1)$\n",
    "\n",
    "<img src='https://p.ipic.vip/k0njck.png'>\n",
    "\n",
    "- timeseries_dataset_from_array() : 중복된 데이터 때문에 생기는 메모리 낭비를 줄여줌"
   ]
  },
  {
   "cell_type": "markdown",
   "id": "f6fdeba2",
   "metadata": {},
   "source": [
    "<details>\n",
    "<summary>Option</summary>\n",
    "    \n",
    "```python\n",
    "tf.keras.utils.timeseries_dataset_from_array(\n",
    "        data,\n",
    "        targets,\n",
    "        sequence_length,\n",
    "        sequence_stride = 1,\n",
    "        sampling_rate = 1,\n",
    "        batch_size = 128,\n",
    "        shuffle = Fasle,\n",
    "        seed None,\n",
    "        start_index = None,\n",
    "        end_index = None\n",
    "    )\n",
    "```  \n",
    "    \n",
    "|Option|Explanation|  \n",
    "|:---|:--------------------:|\n",
    "| data | 타깃 데이터를 제외한 데이터 |\n",
    "| targets | 타깃 데이터 |\n",
    "| sequence_length | 출력 시퀀스의 길이(시간 단계 수) |\n",
    "| sequence_stride | 연속 출력 시퀀스 사이의 기간 |\n",
    "| sampling_rate | ~ |\n",
    "| batch_size | 각 배치의 시계열 샘플 수(마지막 제외) |\n",
    "| shuffle | 출력 샘플을 섞을지 말지 |\n",
    "| seed | 고정값 |\n",
    "| start_index | 사용할 데이터의 시작 인덱스 위치 |\n",
    "| end_index | 사용할 데이터의 끝 인덱스 위치 |\n",
    "\n",
    "</details>"
   ]
  },
  {
   "cell_type": "code",
   "execution_count": 14,
   "id": "07327dd0",
   "metadata": {},
   "outputs": [
    {
     "name": "stderr",
     "output_type": "stream",
     "text": [
      "2023-05-12 11:58:23.676217: I tensorflow/core/platform/cpu_feature_guard.cc:193] This TensorFlow binary is optimized with oneAPI Deep Neural Network Library (oneDNN) to use the following CPU instructions in performance-critical operations:  SSE4.1 SSE4.2 AVX AVX2 FMA\n",
      "To enable them in other operations, rebuild TensorFlow with the appropriate compiler flags.\n",
      "2023-05-12 11:58:29.513282: I tensorflow/core/platform/cpu_feature_guard.cc:193] This TensorFlow binary is optimized with oneAPI Deep Neural Network Library (oneDNN) to use the following CPU instructions in performance-critical operations:  SSE4.1 SSE4.2 AVX AVX2 FMA\n",
      "To enable them in other operations, rebuild TensorFlow with the appropriate compiler flags.\n"
     ]
    }
   ],
   "source": [
    "from tensorflow import keras\n",
    "\n",
    "sampling_rate = 6  # 시간당 하나의 데이터 포인트가 샘플링됨\n",
    "sequence_length = 120 # 이전 5일(120시간)의 데이터 사용\n",
    "delay = sampling_rate * (sequence_length + 24 - 1)    # 시퀀스 끝에서 24시간 후의 온도\n",
    "batch_size = 256\n",
    "\n",
    "# Training Data : 0 ~ train_samples_n\n",
    "train_dataset = keras.utils.timeseries_dataset_from_array(\n",
    "    raw_data[:-delay],\n",
    "    targets = temperature[delay:],\n",
    "    sampling_rate = sampling_rate,\n",
    "    sequence_length = sequence_length,\n",
    "    shuffle = True,\n",
    "    batch_size = batch_size,\n",
    "    start_index = 0,\n",
    "    end_index = train_samples_n\n",
    ")\n",
    "\n",
    "# Validation Data : train_samples_n ~ train_samples_n + val_samples_n\n",
    "val_dataset = keras.utils.timeseries_dataset_from_array(\n",
    "    raw_data[:-delay],\n",
    "    targets = temperature[delay:],\n",
    "    sampling_rate = sampling_rate,\n",
    "    sequence_length = sequence_length,\n",
    "    shuffle = True,\n",
    "    batch_size = batch_size,\n",
    "    start_index = train_samples_n,\n",
    "    end_index = train_samples_n + val_samples_n\n",
    ")\n",
    "\n",
    "# Test Data : train_samples_n + val_sampes_n + End\n",
    "test_dataset = keras.utils.timeseries_dataset_from_array(\n",
    "    raw_data[:-delay],\n",
    "    targets = temperature[delay:],\n",
    "    sampling_rate = sampling_rate,\n",
    "    sequence_length = sequence_length,\n",
    "    shuffle = True,\n",
    "    batch_size = batch_size,\n",
    "    start_index = train_samples_n + val_samples_n\n",
    ")"
   ]
  },
  {
   "cell_type": "code",
   "execution_count": 15,
   "id": "3b4c349f",
   "metadata": {
    "scrolled": true
   },
   "outputs": [
    {
     "name": "stdout",
     "output_type": "stream",
     "text": [
      "샘플 크기 : (256, 120, 14)\n",
      "타깃 크기 : (256,)\n"
     ]
    }
   ],
   "source": [
    "for samples, targets in train_dataset:\n",
    "    print(f\"샘플 크기 : {samples.shape}\")\n",
    "    print(f\"타깃 크기 : {targets.shape}\")\n",
    "    break"
   ]
  },
  {
   "cell_type": "markdown",
   "id": "173fa622",
   "metadata": {},
   "source": [
    "→ 샘플 크기 : (batch_size, sequence_length, column 개수)"
   ]
  },
  {
   "cell_type": "markdown",
   "id": "2f4d761f",
   "metadata": {},
   "source": [
    "### 3. 모델 정의"
   ]
  },
  {
   "cell_type": "markdown",
   "id": "ed36a39f",
   "metadata": {},
   "source": [
    "#### 3-1. 순환 신경망(RNN; Recurrent Neural Network)\n",
    "- 순차적인 데이터(Sequence Data)를 처리하기 위한 인공 신경망\n",
    "    - 어떤 특정 부분이 반복되는 구조에서 순서를 학습하기에 효과적\n",
    "    - 시계열 데이터, 자연어 등에 적용 가능\n",
    "    - 기존 Neural Network와 달리 '기억(Hidden State)'를 가지고 있음\n",
    "    - 은닉 계층 안에 하나 이상의 순환 계층을 갖는 신경망 구조\n",
    "        - 이전 단계의 출력 값이 현재 단계의 입력 값으로 다시 들어가는 반복 구조\n",
    "        - 가중치가 모든 타임 스텝에서 공유됨"
   ]
  },
  {
   "cell_type": "markdown",
   "id": "ac61875a",
   "metadata": {},
   "source": [
    "<details>\n",
    "<summary>RNN Process</summary>\n",
    "\n",
    "<img src='https://p.ipic.vip/kk81uo.png'>\n",
    "\n",
    "</details>"
   ]
  },
  {
   "cell_type": "code",
   "execution_count": 209,
   "id": "c382613d",
   "metadata": {},
   "outputs": [
    {
     "name": "stdout",
     "output_type": "stream",
     "text": [
      "Model: \"model_24\"\n",
      "_________________________________________________________________\n",
      "Layer (type)                 Output Shape              Param #   \n",
      "=================================================================\n",
      "input_25 (InputLayer)        [(None, 120, 14)]         0         \n",
      "_________________________________________________________________\n",
      "simple_rnn_14 (SimpleRNN)    (None, 16)                496       \n",
      "_________________________________________________________________\n",
      "dense_72 (Dense)             (None, 1)                 17        \n",
      "=================================================================\n",
      "Total params: 513\n",
      "Trainable params: 513\n",
      "Non-trainable params: 0\n",
      "_________________________________________________________________\n"
     ]
    }
   ],
   "source": [
    "inputs = keras.Input(shape = (sequence_length, raw_data.shape[-1]))\n",
    "x = keras.layers.SimpleRNN(16)(inputs)\n",
    "outputs = keras.layers.Dense(1)(x)\n",
    "model = keras.Model(inputs, outputs)\n",
    "model.summary()"
   ]
  },
  {
   "cell_type": "markdown",
   "id": "de3d3727",
   "metadata": {},
   "source": [
    "#### 3-2. LSTM ; Long Short Term Memory"
   ]
  },
  {
   "cell_type": "markdown",
   "id": "9b53b378",
   "metadata": {},
   "source": [
    "- RNN의 **장기의존성 문제**와 **기울기 소실 문제**를 해결한 알고리즘\n",
    "    - 가중치 행렬$W$의 행렬 곱 연산이 그레이디언트 경로에 나타나지 않도록 구조 변경\n",
    "- 기존 RNN에 장기 기억 셀(Cell State)을 추가함\n",
    "    - $c_t$를 연결하는 경로에는 가중치 행렬 $W$의 행렬 곱 연산이 없음\n",
    "    <img src='https://p.ipic.vip/devzvc.png' width=80%>\n",
    "- 장기 기억 셀 연산에 사용되는 게이트 추가\n",
    "    - Fprget Gate($f_t$) : 과거의 정보를 얼마나 유지할 것인가?\n",
    "    - Input Gate($i_t$) : 새로 입력된 정보를 얼만큼 활용할 것인가?\n",
    "    - Output Gate($o_t$) : Cell State에서 나온 정보를 얼마나 출력할 것인가? "
   ]
  },
  {
   "cell_type": "markdown",
   "id": "5b49899d",
   "metadata": {},
   "source": [
    "<details>\n",
    "<summary>LSTM Process</summary>\n",
    "\n",
    "![RNN(LSTM,GRU)_4](https://p.ipic.vip/73bjz5.png)\n",
    "\n",
    "</details>"
   ]
  },
  {
   "cell_type": "code",
   "execution_count": 210,
   "id": "27a2538a",
   "metadata": {},
   "outputs": [
    {
     "name": "stdout",
     "output_type": "stream",
     "text": [
      "Model: \"model_25\"\n",
      "_________________________________________________________________\n",
      "Layer (type)                 Output Shape              Param #   \n",
      "=================================================================\n",
      "input_26 (InputLayer)        [(None, 120, 14)]         0         \n",
      "_________________________________________________________________\n",
      "lstm_43 (LSTM)               (None, 32)                6016      \n",
      "_________________________________________________________________\n",
      "dense_73 (Dense)             (None, 1)                 33        \n",
      "=================================================================\n",
      "Total params: 6,049\n",
      "Trainable params: 6,049\n",
      "Non-trainable params: 0\n",
      "_________________________________________________________________\n"
     ]
    }
   ],
   "source": [
    "inputs = keras.Input(shape = (sequence_length, raw_data.shape[-1]))\n",
    "x = keras.layers.LSTM(32)(inputs)\n",
    "outputs = keras.layers.Dense(1)(x)\n",
    "model = keras.Model(inputs, outputs)\n",
    "model.summary()"
   ]
  },
  {
   "cell_type": "markdown",
   "id": "62dcb68f",
   "metadata": {},
   "source": [
    "#### 3-3. GRU ; Gated Recureent Unit"
   ]
  },
  {
   "cell_type": "markdown",
   "id": "d5b98288",
   "metadata": {},
   "source": [
    "LSTM의 장점을 유지하면서 게이트 구조를 단순하게 만든 순환 신경망\n",
    "\n",
    "- 업데이트 게이트(Update Gate) = Forget Gate + Input Gate\n",
    "  - 과거의 기억중 사용할 정보의 양과 현 시점의 입력 정보 중 사용할 정보 수집\n",
    "- 리셋 게이트(Reset Gate)\n",
    "  - 현 시점의 입력 정보 중 새로운 정보를 추가할 때, 과거의 기억 중 필요한 정보의 양 계산\n",
    "- 장기 기억 셀(Cell State)을 삭제\n",
    "  - 은닉 상태($h_{t-1}$)가 장기 기억과 단기 기억 모두를 기억하도록 함\n",
    "- 출력 게이트가 존재하지 않음\n",
    "  - 전체 상태 벡터가 매 타임 스텝마다 출력"
   ]
  },
  {
   "cell_type": "markdown",
   "id": "ec804685",
   "metadata": {},
   "source": [
    "<details>\n",
    "<summary>GRU Process</summary>\n",
    "\n",
    "<img src='https://p.ipic.vip/6obmtd.png'>\n",
    "\n",
    "</details>"
   ]
  },
  {
   "cell_type": "code",
   "execution_count": 212,
   "id": "17bd8632",
   "metadata": {},
   "outputs": [
    {
     "name": "stdout",
     "output_type": "stream",
     "text": [
      "Model: \"model_27\"\n",
      "_________________________________________________________________\n",
      "Layer (type)                 Output Shape              Param #   \n",
      "=================================================================\n",
      "input_28 (InputLayer)        [(None, 120, 14)]         0         \n",
      "_________________________________________________________________\n",
      "gru_22 (GRU)                 (None, 32)                4608      \n",
      "_________________________________________________________________\n",
      "dense_75 (Dense)             (None, 1)                 33        \n",
      "=================================================================\n",
      "Total params: 4,641\n",
      "Trainable params: 4,641\n",
      "Non-trainable params: 0\n",
      "_________________________________________________________________\n"
     ]
    }
   ],
   "source": [
    "inputs = keras.Input(shape = (sequence_length, raw_data.shape[-1]))\n",
    "x = keras.layers.GRU(32)(inputs)\n",
    "outputs = keras.layers.Dense(1)(x)\n",
    "model = keras.Model(inputs, outputs)\n",
    "model.summary()"
   ]
  },
  {
   "cell_type": "markdown",
   "id": "d66ec412",
   "metadata": {},
   "source": [
    "#### 3-4. 양방향 LSTM/GRU"
   ]
  },
  {
   "cell_type": "markdown",
   "id": "d793c779",
   "metadata": {},
   "source": [
    "- 양방향 순환 층(Bidirectional Recurrent Layer)  \n",
    "    - 순환 네트워크에 같은 정보를 다른 방향으로 주입하여 정확도를 높이고 기억을 좀 더 오래 유지\n",
    "    - 이전의 층이 전체 출력 시퀀스를 반환해야 함 [ return_sequence = True ]"
   ]
  },
  {
   "cell_type": "markdown",
   "id": "a7adcf03",
   "metadata": {},
   "source": [
    "<details>\n",
    "<summary>양방향 LSTM/GRU</summary>\n",
    "\n",
    "<img src='https://p.ipic.vip/0oj5et.png'>\n",
    "\n",
    "</details>"
   ]
  },
  {
   "cell_type": "code",
   "execution_count": 213,
   "id": "27d99295",
   "metadata": {
    "scrolled": true
   },
   "outputs": [
    {
     "name": "stdout",
     "output_type": "stream",
     "text": [
      "Model: \"model_28\"\n",
      "_________________________________________________________________\n",
      "Layer (type)                 Output Shape              Param #   \n",
      "=================================================================\n",
      "input_29 (InputLayer)        [(None, 120, 14)]         0         \n",
      "_________________________________________________________________\n",
      "bidirectional_11 (Bidirectio (None, 32)                3968      \n",
      "_________________________________________________________________\n",
      "dense_76 (Dense)             (None, 1)                 33        \n",
      "=================================================================\n",
      "Total params: 4,001\n",
      "Trainable params: 4,001\n",
      "Non-trainable params: 0\n",
      "_________________________________________________________________\n"
     ]
    }
   ],
   "source": [
    "inputs = keras.Input(shape = (sequence_length, raw_data.shape[-1]))\n",
    "x = keras.layers.Bidirectional(keras.layers.LSTM(16))(inputs)\n",
    "outputs = keras.layers.Dense(1)(x)\n",
    "model = keras.Model(inputs, outputs)\n",
    "model.summary()"
   ]
  },
  {
   "cell_type": "markdown",
   "id": "f148a2f6",
   "metadata": {},
   "source": [
    "#### 3-5. 1D CNN + LSTM/GRU"
   ]
  },
  {
   "cell_type": "markdown",
   "id": "82061739",
   "metadata": {},
   "source": [
    "<details>\n",
    "<summary>1D CNN + LSTM/GRU</summary>\n",
    "<img src='https://p.ipic.vip/bzx124.png'>\n",
    "\n",
    "</details>"
   ]
  },
  {
   "cell_type": "code",
   "execution_count": 215,
   "id": "1b6f46ad",
   "metadata": {},
   "outputs": [
    {
     "name": "stdout",
     "output_type": "stream",
     "text": [
      "Model: \"model_30\"\n",
      "_________________________________________________________________\n",
      "Layer (type)                 Output Shape              Param #   \n",
      "=================================================================\n",
      "input_31 (InputLayer)        [(None, 120, 14)]         0         \n",
      "_________________________________________________________________\n",
      "conv1d_50 (Conv1D)           (None, 113, 32)           3616      \n",
      "_________________________________________________________________\n",
      "max_pooling1d_26 (MaxPooling (None, 28, 32)            0         \n",
      "_________________________________________________________________\n",
      "lstm_46 (LSTM)               (None, 32)                8320      \n",
      "_________________________________________________________________\n",
      "dense_78 (Dense)             (None, 1)                 33        \n",
      "=================================================================\n",
      "Total params: 11,969\n",
      "Trainable params: 11,969\n",
      "Non-trainable params: 0\n",
      "_________________________________________________________________\n"
     ]
    }
   ],
   "source": [
    "inputs = keras.Input(shape = (sequence_length, raw_data.shape[-1]))\n",
    "x = keras.layers.Conv1D(filters=32,\n",
    "               kernel_size=8,\n",
    "               strides=1,\n",
    "               activation='relu')(inputs)\n",
    "x = keras.layers.MaxPooling1D(pool_size = 4)(x)\n",
    "x = keras.layers.LSTM(32)(x)\n",
    "outputs = keras.layers.Dense(1)(x)\n",
    "model = keras.Model(inputs, outputs)\n",
    "model.summary()"
   ]
  },
  {
   "cell_type": "markdown",
   "id": "98ef2e66",
   "metadata": {},
   "source": [
    "### 4. 모델 학습"
   ]
  },
  {
   "cell_type": "code",
   "execution_count": 216,
   "id": "c635816a",
   "metadata": {
    "scrolled": true
   },
   "outputs": [
    {
     "name": "stdout",
     "output_type": "stream",
     "text": [
      "Epoch 1/50\n",
      "819/819 [==============================] - 10s 10ms/step - loss: 18.8326 - mae: 3.1639 - val_loss: 11.3457 - val_mae: 2.6436\n",
      "Epoch 2/50\n",
      "819/819 [==============================] - 8s 9ms/step - loss: 7.5487 - mae: 2.1354 - val_loss: 12.3939 - val_mae: 2.7926\n",
      "Epoch 3/50\n",
      "819/819 [==============================] - 8s 9ms/step - loss: 6.1319 - mae: 1.9127 - val_loss: 13.2097 - val_mae: 2.8667\n",
      "Epoch 4/50\n",
      "819/819 [==============================] - 8s 9ms/step - loss: 5.3190 - mae: 1.7756 - val_loss: 13.8082 - val_mae: 2.9343\n",
      "Epoch 5/50\n",
      "819/819 [==============================] - 8s 9ms/step - loss: 4.7604 - mae: 1.6784 - val_loss: 14.2529 - val_mae: 2.9634\n",
      "Epoch 6/50\n",
      "819/819 [==============================] - 8s 9ms/step - loss: 4.3245 - mae: 1.5984 - val_loss: 14.4667 - val_mae: 2.9821\n",
      "Epoch 7/50\n",
      "819/819 [==============================] - 7s 9ms/step - loss: 3.9437 - mae: 1.5281 - val_loss: 14.8976 - val_mae: 3.0351\n",
      "Epoch 8/50\n",
      "819/819 [==============================] - 8s 9ms/step - loss: 3.6439 - mae: 1.4680 - val_loss: 15.0247 - val_mae: 3.0486\n",
      "Epoch 9/50\n",
      "819/819 [==============================] - 7s 9ms/step - loss: 3.3711 - mae: 1.4119 - val_loss: 15.3134 - val_mae: 3.0891\n",
      "Epoch 10/50\n",
      "819/819 [==============================] - 8s 9ms/step - loss: 3.1544 - mae: 1.3656 - val_loss: 15.2457 - val_mae: 3.0834\n",
      "Epoch 11/50\n",
      "819/819 [==============================] - 8s 9ms/step - loss: 2.9813 - mae: 1.3269 - val_loss: 16.1958 - val_mae: 3.1793\n",
      "Epoch 12/50\n",
      "819/819 [==============================] - 7s 9ms/step - loss: 2.8324 - mae: 1.2934 - val_loss: 15.3415 - val_mae: 3.0982\n",
      "Epoch 13/50\n",
      "819/819 [==============================] - 7s 9ms/step - loss: 2.6927 - mae: 1.2617 - val_loss: 15.4643 - val_mae: 3.1161\n",
      "Epoch 14/50\n",
      "819/819 [==============================] - 8s 9ms/step - loss: 2.5780 - mae: 1.2337 - val_loss: 16.0362 - val_mae: 3.1598\n",
      "Epoch 15/50\n",
      "819/819 [==============================] - 7s 9ms/step - loss: 2.4840 - mae: 1.2111 - val_loss: 15.8293 - val_mae: 3.1265\n",
      "Epoch 16/50\n",
      "819/819 [==============================] - 7s 9ms/step - loss: 2.3850 - mae: 1.1863 - val_loss: 16.2681 - val_mae: 3.1831\n",
      "Epoch 17/50\n",
      "819/819 [==============================] - 7s 9ms/step - loss: 2.3156 - mae: 1.1687 - val_loss: 16.4217 - val_mae: 3.1789\n",
      "Epoch 18/50\n",
      "819/819 [==============================] - 7s 9ms/step - loss: 2.2367 - mae: 1.1484 - val_loss: 16.3539 - val_mae: 3.1843\n",
      "Epoch 19/50\n",
      "819/819 [==============================] - 7s 9ms/step - loss: 2.1853 - mae: 1.1359 - val_loss: 16.7141 - val_mae: 3.2121\n",
      "Epoch 20/50\n",
      "819/819 [==============================] - 7s 9ms/step - loss: 2.1192 - mae: 1.1186 - val_loss: 16.5897 - val_mae: 3.2126\n",
      "Epoch 21/50\n",
      "819/819 [==============================] - 7s 9ms/step - loss: 2.0811 - mae: 1.1075 - val_loss: 16.7286 - val_mae: 3.2304\n",
      "Epoch 22/50\n",
      "819/819 [==============================] - 7s 9ms/step - loss: 2.0282 - mae: 1.0945 - val_loss: 17.0738 - val_mae: 3.2693\n",
      "Epoch 23/50\n",
      "819/819 [==============================] - 7s 9ms/step - loss: 1.9801 - mae: 1.0808 - val_loss: 16.9164 - val_mae: 3.2285\n",
      "Epoch 24/50\n",
      "819/819 [==============================] - 7s 9ms/step - loss: 1.9485 - mae: 1.0726 - val_loss: 16.9744 - val_mae: 3.2474\n",
      "Epoch 25/50\n",
      "819/819 [==============================] - 7s 9ms/step - loss: 1.9113 - mae: 1.0622 - val_loss: 17.0581 - val_mae: 3.2425\n",
      "Epoch 26/50\n",
      "819/819 [==============================] - 7s 9ms/step - loss: 1.8766 - mae: 1.0525 - val_loss: 17.1100 - val_mae: 3.2527\n",
      "Epoch 27/50\n",
      "819/819 [==============================] - 7s 9ms/step - loss: 1.8380 - mae: 1.0418 - val_loss: 16.9964 - val_mae: 3.2490\n",
      "Epoch 28/50\n",
      "819/819 [==============================] - 7s 9ms/step - loss: 1.8128 - mae: 1.0343 - val_loss: 17.1390 - val_mae: 3.2641\n",
      "Epoch 29/50\n",
      "819/819 [==============================] - 7s 9ms/step - loss: 1.7830 - mae: 1.0248 - val_loss: 16.7854 - val_mae: 3.2279\n",
      "Epoch 30/50\n",
      "819/819 [==============================] - 7s 9ms/step - loss: 1.7611 - mae: 1.0184 - val_loss: 17.8748 - val_mae: 3.3447\n",
      "Epoch 31/50\n",
      "819/819 [==============================] - 7s 9ms/step - loss: 1.7348 - mae: 1.0105 - val_loss: 16.9679 - val_mae: 3.2536\n",
      "Epoch 32/50\n",
      "819/819 [==============================] - 7s 9ms/step - loss: 1.7115 - mae: 1.0043 - val_loss: 17.1717 - val_mae: 3.2788\n",
      "Epoch 33/50\n",
      "819/819 [==============================] - 7s 9ms/step - loss: 1.6876 - mae: 0.9983 - val_loss: 16.6467 - val_mae: 3.2324\n",
      "Epoch 34/50\n",
      "819/819 [==============================] - 7s 9ms/step - loss: 1.6589 - mae: 0.9901 - val_loss: 16.9705 - val_mae: 3.2549\n",
      "Epoch 35/50\n",
      "819/819 [==============================] - 7s 9ms/step - loss: 1.6392 - mae: 0.9836 - val_loss: 17.3274 - val_mae: 3.2906\n",
      "Epoch 36/50\n",
      "819/819 [==============================] - 7s 9ms/step - loss: 1.6182 - mae: 0.9774 - val_loss: 17.5664 - val_mae: 3.3065\n",
      "Epoch 37/50\n",
      "819/819 [==============================] - 7s 9ms/step - loss: 1.5998 - mae: 0.9712 - val_loss: 16.9406 - val_mae: 3.2536\n",
      "Epoch 38/50\n",
      "819/819 [==============================] - 8s 9ms/step - loss: 1.5876 - mae: 0.9674 - val_loss: 17.0346 - val_mae: 3.2664\n",
      "Epoch 39/50\n",
      "819/819 [==============================] - 7s 9ms/step - loss: 1.5614 - mae: 0.9602 - val_loss: 17.0298 - val_mae: 3.2787\n",
      "Epoch 40/50\n",
      "819/819 [==============================] - 7s 9ms/step - loss: 1.5422 - mae: 0.9545 - val_loss: 16.9384 - val_mae: 3.2534\n",
      "Epoch 41/50\n",
      "819/819 [==============================] - 7s 9ms/step - loss: 1.5431 - mae: 0.9540 - val_loss: 16.9735 - val_mae: 3.2668\n",
      "Epoch 42/50\n",
      "819/819 [==============================] - 7s 9ms/step - loss: 1.5282 - mae: 0.9491 - val_loss: 17.0248 - val_mae: 3.2698\n",
      "Epoch 43/50\n",
      "819/819 [==============================] - 7s 9ms/step - loss: 1.5047 - mae: 0.9428 - val_loss: 17.1972 - val_mae: 3.2916\n",
      "Epoch 44/50\n",
      "819/819 [==============================] - 7s 9ms/step - loss: 1.4923 - mae: 0.9376 - val_loss: 17.3157 - val_mae: 3.2891\n",
      "Epoch 45/50\n",
      "819/819 [==============================] - 7s 9ms/step - loss: 1.4817 - mae: 0.9355 - val_loss: 16.9533 - val_mae: 3.2569\n",
      "Epoch 46/50\n",
      "819/819 [==============================] - 7s 9ms/step - loss: 1.4633 - mae: 0.9294 - val_loss: 16.9981 - val_mae: 3.2582\n",
      "Epoch 47/50\n",
      "819/819 [==============================] - 7s 9ms/step - loss: 1.4535 - mae: 0.9260 - val_loss: 17.5801 - val_mae: 3.3033\n",
      "Epoch 48/50\n",
      "819/819 [==============================] - 7s 9ms/step - loss: 1.4425 - mae: 0.9228 - val_loss: 16.9507 - val_mae: 3.2606\n",
      "Epoch 49/50\n",
      "819/819 [==============================] - 7s 9ms/step - loss: 1.4358 - mae: 0.9197 - val_loss: 16.9329 - val_mae: 3.2601\n",
      "Epoch 50/50\n",
      "819/819 [==============================] - 7s 9ms/step - loss: 1.4296 - mae: 0.9179 - val_loss: 17.0347 - val_mae: 3.2619\n"
     ]
    }
   ],
   "source": [
    "model.compile(optimizer = 'rmsprop', loss = 'mse', metrics=['mae'])\n",
    "history = model.fit(train_dataset,\n",
    "                   epochs = 50,\n",
    "                   validation_data = val_dataset)"
   ]
  },
  {
   "cell_type": "markdown",
   "id": "f796151d",
   "metadata": {},
   "source": [
    "### 5. 고급 기법"
   ]
  },
  {
   "cell_type": "markdown",
   "id": "8b70e6e9",
   "metadata": {},
   "source": [
    "#### 5-1. 스태킹 순환 층(Stacking Recurrent Layer)\n",
    "- 모델의 표현 능력(Representational Power)을 증가 시킴  "
   ]
  },
  {
   "cell_type": "code",
   "execution_count": 37,
   "id": "1f792640",
   "metadata": {
    "scrolled": true
   },
   "outputs": [
    {
     "name": "stdout",
     "output_type": "stream",
     "text": [
      "Epoch 1/50\n",
      "819/819 [==============================] - 19s 19ms/step - loss: 20.7605 - mae: 3.2645 - val_loss: 9.1614 - val_mae: 2.3476\n",
      "Epoch 2/50\n",
      "819/819 [==============================] - 15s 19ms/step - loss: 8.7637 - mae: 2.3062 - val_loss: 9.8531 - val_mae: 2.4330\n",
      "Epoch 3/50\n",
      "819/819 [==============================] - 15s 18ms/step - loss: 7.7038 - mae: 2.1745 - val_loss: 9.8144 - val_mae: 2.4462\n",
      "Epoch 4/50\n",
      "819/819 [==============================] - 15s 19ms/step - loss: 6.7814 - mae: 2.0463 - val_loss: 10.4869 - val_mae: 2.5180\n",
      "Epoch 5/50\n",
      "819/819 [==============================] - 15s 18ms/step - loss: 6.0027 - mae: 1.9226 - val_loss: 11.8817 - val_mae: 2.6752\n",
      "Epoch 6/50\n",
      "819/819 [==============================] - 15s 19ms/step - loss: 5.3034 - mae: 1.8030 - val_loss: 11.6635 - val_mae: 2.6475\n",
      "Epoch 7/50\n",
      "819/819 [==============================] - 15s 19ms/step - loss: 4.7214 - mae: 1.7000 - val_loss: 12.7908 - val_mae: 2.7771\n",
      "Epoch 8/50\n",
      "819/819 [==============================] - 15s 18ms/step - loss: 4.2568 - mae: 1.6142 - val_loss: 12.6994 - val_mae: 2.7767\n",
      "Epoch 9/50\n",
      "819/819 [==============================] - 15s 19ms/step - loss: 3.8598 - mae: 1.5376 - val_loss: 13.3369 - val_mae: 2.8303\n",
      "Epoch 10/50\n",
      "819/819 [==============================] - 15s 18ms/step - loss: 3.5110 - mae: 1.4655 - val_loss: 13.7982 - val_mae: 2.8919\n",
      "Epoch 11/50\n",
      "819/819 [==============================] - 15s 19ms/step - loss: 3.2218 - mae: 1.4038 - val_loss: 15.2973 - val_mae: 3.0374\n",
      "Epoch 12/50\n",
      "819/819 [==============================] - 15s 19ms/step - loss: 2.9758 - mae: 1.3473 - val_loss: 14.7022 - val_mae: 2.9835\n",
      "Epoch 13/50\n",
      "819/819 [==============================] - 15s 19ms/step - loss: 2.7767 - mae: 1.3011 - val_loss: 14.7804 - val_mae: 2.9903\n",
      "Epoch 14/50\n",
      "819/819 [==============================] - 15s 19ms/step - loss: 2.6038 - mae: 1.2594 - val_loss: 15.2338 - val_mae: 3.0276\n",
      "Epoch 15/50\n",
      "819/819 [==============================] - 15s 19ms/step - loss: 2.4555 - mae: 1.2220 - val_loss: 15.4960 - val_mae: 3.0618\n",
      "Epoch 16/50\n",
      "819/819 [==============================] - 15s 19ms/step - loss: 2.3256 - mae: 1.1886 - val_loss: 15.5085 - val_mae: 3.0685\n",
      "Epoch 17/50\n",
      "819/819 [==============================] - 15s 19ms/step - loss: 2.2218 - mae: 1.1607 - val_loss: 15.6405 - val_mae: 3.0674\n",
      "Epoch 18/50\n",
      "819/819 [==============================] - 15s 19ms/step - loss: 2.1258 - mae: 1.1341 - val_loss: 15.3376 - val_mae: 3.0478\n",
      "Epoch 19/50\n",
      "819/819 [==============================] - 15s 19ms/step - loss: 2.0270 - mae: 1.1081 - val_loss: 15.7157 - val_mae: 3.0831\n",
      "Epoch 20/50\n",
      "819/819 [==============================] - 15s 19ms/step - loss: 1.9528 - mae: 1.0862 - val_loss: 15.9530 - val_mae: 3.1123\n",
      "Epoch 21/50\n",
      "819/819 [==============================] - 15s 19ms/step - loss: 1.8829 - mae: 1.0659 - val_loss: 16.0436 - val_mae: 3.0981\n",
      "Epoch 22/50\n",
      "819/819 [==============================] - 15s 19ms/step - loss: 1.8144 - mae: 1.0465 - val_loss: 15.6861 - val_mae: 3.0832\n",
      "Epoch 23/50\n",
      "819/819 [==============================] - 15s 18ms/step - loss: 1.7512 - mae: 1.0281 - val_loss: 15.5396 - val_mae: 3.0554\n",
      "Epoch 24/50\n",
      "819/819 [==============================] - 15s 19ms/step - loss: 1.6968 - mae: 1.0118 - val_loss: 15.7263 - val_mae: 3.0845\n",
      "Epoch 25/50\n",
      "819/819 [==============================] - 15s 19ms/step - loss: 1.6441 - mae: 0.9956 - val_loss: 15.8185 - val_mae: 3.0969\n",
      "Epoch 26/50\n",
      "819/819 [==============================] - 15s 19ms/step - loss: 1.6024 - mae: 0.9828 - val_loss: 15.6266 - val_mae: 3.0643\n",
      "Epoch 27/50\n",
      "819/819 [==============================] - 15s 19ms/step - loss: 1.5656 - mae: 0.9711 - val_loss: 16.1176 - val_mae: 3.1165\n",
      "Epoch 28/50\n",
      "819/819 [==============================] - 15s 18ms/step - loss: 1.5224 - mae: 0.9567 - val_loss: 16.1985 - val_mae: 3.1160\n",
      "Epoch 29/50\n",
      "819/819 [==============================] - 15s 19ms/step - loss: 1.4866 - mae: 0.9450 - val_loss: 16.2315 - val_mae: 3.1157\n",
      "Epoch 30/50\n",
      "819/819 [==============================] - 15s 19ms/step - loss: 1.4554 - mae: 0.9354 - val_loss: 15.6923 - val_mae: 3.0814\n",
      "Epoch 31/50\n",
      "819/819 [==============================] - 15s 19ms/step - loss: 1.4230 - mae: 0.9244 - val_loss: 16.3601 - val_mae: 3.1201\n",
      "Epoch 32/50\n",
      "819/819 [==============================] - 15s 18ms/step - loss: 1.3973 - mae: 0.9167 - val_loss: 15.7678 - val_mae: 3.0782\n",
      "Epoch 33/50\n",
      "819/819 [==============================] - 15s 18ms/step - loss: 1.3675 - mae: 0.9069 - val_loss: 16.1809 - val_mae: 3.1073\n",
      "Epoch 34/50\n",
      "819/819 [==============================] - 15s 18ms/step - loss: 1.3385 - mae: 0.8966 - val_loss: 15.9925 - val_mae: 3.0916\n",
      "Epoch 35/50\n",
      "819/819 [==============================] - 15s 18ms/step - loss: 1.3164 - mae: 0.8896 - val_loss: 16.3942 - val_mae: 3.1308\n",
      "Epoch 36/50\n",
      "819/819 [==============================] - 15s 18ms/step - loss: 1.2913 - mae: 0.8805 - val_loss: 15.9569 - val_mae: 3.0910\n",
      "Epoch 37/50\n",
      "819/819 [==============================] - 15s 18ms/step - loss: 1.2710 - mae: 0.8728 - val_loss: 15.8651 - val_mae: 3.0886\n",
      "Epoch 38/50\n",
      "819/819 [==============================] - 15s 18ms/step - loss: 1.2548 - mae: 0.8680 - val_loss: 16.1707 - val_mae: 3.1234\n",
      "Epoch 39/50\n",
      "819/819 [==============================] - 15s 19ms/step - loss: 1.2344 - mae: 0.8609 - val_loss: 16.0831 - val_mae: 3.1057\n",
      "Epoch 40/50\n",
      "819/819 [==============================] - 15s 18ms/step - loss: 1.2139 - mae: 0.8540 - val_loss: 16.1603 - val_mae: 3.1134\n",
      "Epoch 41/50\n",
      "819/819 [==============================] - 15s 18ms/step - loss: 1.1970 - mae: 0.8469 - val_loss: 16.2911 - val_mae: 3.1385\n",
      "Epoch 42/50\n",
      "819/819 [==============================] - 15s 18ms/step - loss: 1.1832 - mae: 0.8425 - val_loss: 16.0256 - val_mae: 3.1028\n",
      "Epoch 43/50\n",
      "819/819 [==============================] - 15s 18ms/step - loss: 1.1776 - mae: 0.8394 - val_loss: 16.5835 - val_mae: 3.1628\n",
      "Epoch 44/50\n",
      "819/819 [==============================] - 15s 18ms/step - loss: 1.1531 - mae: 0.8308 - val_loss: 16.1866 - val_mae: 3.1171\n",
      "Epoch 45/50\n",
      "819/819 [==============================] - 15s 18ms/step - loss: 1.1441 - mae: 0.8280 - val_loss: 16.3154 - val_mae: 3.1201\n",
      "Epoch 46/50\n",
      "819/819 [==============================] - 15s 18ms/step - loss: 1.1284 - mae: 0.8216 - val_loss: 16.4925 - val_mae: 3.1382\n",
      "Epoch 47/50\n",
      "819/819 [==============================] - 15s 18ms/step - loss: 1.1175 - mae: 0.8179 - val_loss: 16.1988 - val_mae: 3.1188\n",
      "Epoch 48/50\n",
      "819/819 [==============================] - 15s 18ms/step - loss: 1.1048 - mae: 0.8131 - val_loss: 16.2245 - val_mae: 3.1315\n",
      "Epoch 49/50\n",
      "819/819 [==============================] - 15s 18ms/step - loss: 1.0957 - mae: 0.8102 - val_loss: 16.6803 - val_mae: 3.1570\n",
      "Epoch 50/50\n",
      "819/819 [==============================] - 15s 18ms/step - loss: 1.0792 - mae: 0.8038 - val_loss: 16.1994 - val_mae: 3.1220\n"
     ]
    }
   ],
   "source": [
    "# 스태킹\n",
    "inputs = keras.Input(shape = (sequence_length, raw_data.shape[-1]))\n",
    "x = keras.layers.GRU(32, return_sequences = True)(inputs)\n",
    "x = keras.layers.GRU(32)(x)\n",
    "outputs = keras.layers.Dense(1)(x)\n",
    "model = keras.Model(inputs, outputs)\n",
    "\n",
    "\n",
    "model.compile(optimizer = 'rmsprop', loss = 'mse',  metrics = ['mae'])\n",
    "history = model.fit(train_dataset,\n",
    "                    epochs = 50,\n",
    "                    validation_data = val_dataset)"
   ]
  },
  {
   "cell_type": "markdown",
   "id": "c64ea58b",
   "metadata": {},
   "source": [
    "#### 5-2. 순환 드롭아웃(Recurrent Dropout) \n",
    "- 드롭아웃의 한 종류로 순환 층에서 과대적합을 방지하기 위해 사용\n",
    "- 조건 : 모든 중간층은 전체 출력 시퀀스를 반환해야 함 [return_sequence = True]"
   ]
  },
  {
   "cell_type": "code",
   "execution_count": 19,
   "id": "969021da",
   "metadata": {
    "scrolled": true
   },
   "outputs": [
    {
     "name": "stdout",
     "output_type": "stream",
     "text": [
      "WARNING:tensorflow:Layer gru_3 will not use cuDNN kernels since it doesn't meet the criteria. It will use a generic GPU kernel as fallback when running on GPU.\n",
      "WARNING:tensorflow:Layer gru_4 will not use cuDNN kernels since it doesn't meet the criteria. It will use a generic GPU kernel as fallback when running on GPU.\n",
      "Epoch 1/50\n",
      "819/819 [==============================] - 504s 612ms/step - loss: 25.6638 - mae: 3.7360 - val_loss: 9.7905 - val_mae: 2.4143\n",
      "Epoch 2/50\n",
      "819/819 [==============================] - 494s 603ms/step - loss: 14.0098 - mae: 2.9012 - val_loss: 9.7943 - val_mae: 2.4303\n",
      "Epoch 3/50\n",
      "819/819 [==============================] - 496s 606ms/step - loss: 13.1811 - mae: 2.8184 - val_loss: 9.6573 - val_mae: 2.4038\n",
      "Epoch 4/50\n",
      "819/819 [==============================] - 500s 610ms/step - loss: 12.5538 - mae: 2.7486 - val_loss: 9.1804 - val_mae: 2.3410\n",
      "Epoch 5/50\n",
      "819/819 [==============================] - 497s 607ms/step - loss: 12.0851 - mae: 2.6958 - val_loss: 10.2158 - val_mae: 2.4681\n",
      "Epoch 6/50\n",
      "819/819 [==============================] - 500s 610ms/step - loss: 11.6978 - mae: 2.6546 - val_loss: 9.2993 - val_mae: 2.3602\n",
      "Epoch 7/50\n",
      "819/819 [==============================] - 497s 607ms/step - loss: 11.3450 - mae: 2.6168 - val_loss: 10.1305 - val_mae: 2.4635\n",
      "Epoch 8/50\n",
      "819/819 [==============================] - 499s 610ms/step - loss: 10.9783 - mae: 2.5760 - val_loss: 9.7279 - val_mae: 2.4007\n",
      "Epoch 9/50\n",
      "819/819 [==============================] - 496s 605ms/step - loss: 10.7272 - mae: 2.5437 - val_loss: 9.7634 - val_mae: 2.4128\n",
      "Epoch 10/50\n",
      "819/819 [==============================] - 498s 608ms/step - loss: 10.4038 - mae: 2.5067 - val_loss: 10.3190 - val_mae: 2.4831\n",
      "Epoch 11/50\n",
      "819/819 [==============================] - 494s 603ms/step - loss: 10.1392 - mae: 2.4784 - val_loss: 9.9239 - val_mae: 2.4310\n",
      "Epoch 12/50\n",
      "819/819 [==============================] - 494s 604ms/step - loss: 9.9004 - mae: 2.4492 - val_loss: 10.7084 - val_mae: 2.5135\n",
      "Epoch 13/50\n",
      "819/819 [==============================] - 497s 606ms/step - loss: 9.6588 - mae: 2.4198 - val_loss: 11.5962 - val_mae: 2.6132\n",
      "Epoch 14/50\n",
      "819/819 [==============================] - 497s 607ms/step - loss: 9.5097 - mae: 2.4033 - val_loss: 10.3947 - val_mae: 2.4738\n",
      "Epoch 15/50\n",
      "819/819 [==============================] - 494s 603ms/step - loss: 9.2832 - mae: 2.3738 - val_loss: 10.6319 - val_mae: 2.5232\n",
      "Epoch 16/50\n",
      "819/819 [==============================] - 500s 610ms/step - loss: 9.1200 - mae: 2.3525 - val_loss: 11.2430 - val_mae: 2.5823\n",
      "Epoch 17/50\n",
      "819/819 [==============================] - 494s 603ms/step - loss: 8.9038 - mae: 2.3254 - val_loss: 10.6121 - val_mae: 2.5164\n",
      "Epoch 18/50\n",
      "819/819 [==============================] - 493s 602ms/step - loss: 8.8183 - mae: 2.3126 - val_loss: 11.4088 - val_mae: 2.5978\n",
      "Epoch 19/50\n",
      "819/819 [==============================] - 500s 610ms/step - loss: 8.6260 - mae: 2.2896 - val_loss: 12.2087 - val_mae: 2.7005\n",
      "Epoch 20/50\n",
      "819/819 [==============================] - 500s 611ms/step - loss: 8.5349 - mae: 2.2769 - val_loss: 11.9267 - val_mae: 2.6670\n",
      "Epoch 21/50\n",
      "819/819 [==============================] - 499s 609ms/step - loss: 8.4812 - mae: 2.2655 - val_loss: 11.4025 - val_mae: 2.6139\n",
      "Epoch 22/50\n",
      "819/819 [==============================] - 502s 613ms/step - loss: 8.3706 - mae: 2.2529 - val_loss: 11.6848 - val_mae: 2.6377\n",
      "Epoch 23/50\n",
      "819/819 [==============================] - 496s 606ms/step - loss: 8.2790 - mae: 2.2400 - val_loss: 11.6981 - val_mae: 2.6444\n",
      "Epoch 24/50\n",
      "819/819 [==============================] - 496s 606ms/step - loss: 8.1903 - mae: 2.2248 - val_loss: 11.6473 - val_mae: 2.6349\n",
      "Epoch 25/50\n",
      "819/819 [==============================] - 500s 610ms/step - loss: 8.1033 - mae: 2.2164 - val_loss: 11.7885 - val_mae: 2.6498\n",
      "Epoch 26/50\n",
      "819/819 [==============================] - 499s 609ms/step - loss: 8.0311 - mae: 2.2074 - val_loss: 12.4579 - val_mae: 2.7241\n",
      "Epoch 27/50\n",
      "819/819 [==============================] - 495s 605ms/step - loss: 7.9373 - mae: 2.1937 - val_loss: 12.3874 - val_mae: 2.7021\n",
      "Epoch 28/50\n",
      "819/819 [==============================] - 497s 607ms/step - loss: 7.9238 - mae: 2.1889 - val_loss: 12.2006 - val_mae: 2.7040\n",
      "Epoch 29/50\n",
      "819/819 [==============================] - 498s 608ms/step - loss: 7.7956 - mae: 2.1720 - val_loss: 12.9720 - val_mae: 2.7740\n",
      "Epoch 30/50\n",
      "819/819 [==============================] - 492s 601ms/step - loss: 7.7375 - mae: 2.1653 - val_loss: 12.6591 - val_mae: 2.7516\n",
      "Epoch 31/50\n",
      "819/819 [==============================] - 494s 603ms/step - loss: 7.6859 - mae: 2.1581 - val_loss: 12.0321 - val_mae: 2.6811\n",
      "Epoch 32/50\n",
      "819/819 [==============================] - 497s 607ms/step - loss: 7.6583 - mae: 2.1525 - val_loss: 12.8679 - val_mae: 2.7813\n",
      "Epoch 33/50\n",
      "819/819 [==============================] - 499s 610ms/step - loss: 7.6339 - mae: 2.1460 - val_loss: 12.2878 - val_mae: 2.7077\n",
      "Epoch 34/50\n",
      "819/819 [==============================] - 496s 605ms/step - loss: 7.5489 - mae: 2.1357 - val_loss: 12.1099 - val_mae: 2.6958\n",
      "Epoch 35/50\n",
      "819/819 [==============================] - 497s 607ms/step - loss: 7.5323 - mae: 2.1337 - val_loss: 12.2774 - val_mae: 2.7080\n",
      "Epoch 36/50\n",
      "819/819 [==============================] - 503s 614ms/step - loss: 7.4458 - mae: 2.1202 - val_loss: 12.2762 - val_mae: 2.7244\n",
      "Epoch 37/50\n",
      "819/819 [==============================] - 507s 619ms/step - loss: 7.3962 - mae: 2.1143 - val_loss: 12.5186 - val_mae: 2.7426\n",
      "Epoch 38/50\n",
      "819/819 [==============================] - 506s 617ms/step - loss: 7.4129 - mae: 2.1139 - val_loss: 13.0123 - val_mae: 2.7951\n",
      "Epoch 39/50\n",
      "819/819 [==============================] - 501s 612ms/step - loss: 7.3612 - mae: 2.1065 - val_loss: 12.4012 - val_mae: 2.7309\n",
      "Epoch 40/50\n",
      "819/819 [==============================] - 508s 620ms/step - loss: 7.3229 - mae: 2.0987 - val_loss: 12.3146 - val_mae: 2.7286\n",
      "Epoch 41/50\n",
      "819/819 [==============================] - 504s 615ms/step - loss: 7.3051 - mae: 2.0977 - val_loss: 12.7901 - val_mae: 2.7583\n",
      "Epoch 42/50\n",
      "819/819 [==============================] - 505s 617ms/step - loss: 7.2431 - mae: 2.0903 - val_loss: 12.9836 - val_mae: 2.7910\n",
      "Epoch 43/50\n",
      "819/819 [==============================] - 509s 621ms/step - loss: 7.2648 - mae: 2.0926 - val_loss: 12.7437 - val_mae: 2.7526\n",
      "Epoch 44/50\n",
      "819/819 [==============================] - 507s 619ms/step - loss: 7.1886 - mae: 2.0828 - val_loss: 13.5040 - val_mae: 2.8450\n",
      "Epoch 45/50\n",
      "819/819 [==============================] - 506s 617ms/step - loss: 7.1726 - mae: 2.0787 - val_loss: 13.0302 - val_mae: 2.7963\n",
      "Epoch 46/50\n",
      "819/819 [==============================] - 504s 616ms/step - loss: 7.1553 - mae: 2.0768 - val_loss: 12.8353 - val_mae: 2.7626\n",
      "Epoch 47/50\n",
      "819/819 [==============================] - 511s 624ms/step - loss: 7.1000 - mae: 2.0688 - val_loss: 12.8553 - val_mae: 2.7734\n",
      "Epoch 48/50\n",
      "819/819 [==============================] - 509s 622ms/step - loss: 7.0557 - mae: 2.0587 - val_loss: 13.4551 - val_mae: 2.8400\n",
      "Epoch 49/50\n",
      "819/819 [==============================] - 508s 620ms/step - loss: 7.0751 - mae: 2.0597 - val_loss: 12.3828 - val_mae: 2.7391\n",
      "Epoch 50/50\n",
      "819/819 [==============================] - 507s 618ms/step - loss: 7.0688 - mae: 2.0593 - val_loss: 13.0976 - val_mae: 2.8137\n"
     ]
    }
   ],
   "source": [
    "# 드롭아웃\n",
    "inputs = keras.Input(shape = (sequence_length, raw_data.shape[-1]))\n",
    "x = keras.layers.GRU(32, recurrent_dropout = 0.5, return_sequences = True)(inputs)\n",
    "x = keras.layers.GRU(32, recurrent_dropout = 0.5)(x)\n",
    "x = keras.layers.Dropout(0.5)(x)\n",
    "outputs = keras.layers.Dense(1)(x)\n",
    "model = keras.Model(inputs, outputs)\n",
    "\n",
    "\n",
    "model.compile(optimizer = 'rmsprop', loss = 'mse', metrics=['mae'])\n",
    "history = model.fit(train_dataset,\n",
    "                   epochs = 50,\n",
    "                   validation_data = val_dataset)"
   ]
  },
  {
   "cell_type": "markdown",
   "id": "10a07dd6",
   "metadata": {},
   "source": [
    "#### 5-3. Early Stopping\n",
    "- 너무 많은 Epoch는 overfitting을 일으킨다.  \n",
    "- 너무 적은 Epoch는 underfitting을 일으킨다  \n",
    "- Epoch를 많이 돌린 후, 특정 시점에서 멈춤"
   ]
  },
  {
   "cell_type": "code",
   "execution_count": 13,
   "id": "9d376285",
   "metadata": {},
   "outputs": [
    {
     "name": "stdout",
     "output_type": "stream",
     "text": [
      "WARNING:tensorflow:Layer gru will not use cuDNN kernels since it doesn't meet the criteria. It will use a generic GPU kernel as fallback when running on GPU.\n",
      "WARNING:tensorflow:Layer gru_1 will not use cuDNN kernels since it doesn't meet the criteria. It will use a generic GPU kernel as fallback when running on GPU.\n",
      "Epoch 1/50\n",
      "819/819 [==============================] - 501s 608ms/step - loss: 27.5714 - mae: 3.8488 - val_loss: 9.9952 - val_mae: 2.4443\n",
      "Epoch 2/50\n",
      "819/819 [==============================] - 497s 607ms/step - loss: 13.9617 - mae: 2.8960 - val_loss: 8.9847 - val_mae: 2.3212\n",
      "Epoch 3/50\n",
      "819/819 [==============================] - 496s 605ms/step - loss: 13.1481 - mae: 2.8131 - val_loss: 8.9414 - val_mae: 2.3150\n",
      "Epoch 4/50\n",
      "819/819 [==============================] - 494s 603ms/step - loss: 12.6829 - mae: 2.7626 - val_loss: 8.8438 - val_mae: 2.3150\n",
      "Epoch 5/50\n",
      "819/819 [==============================] - 494s 603ms/step - loss: 12.2708 - mae: 2.7164 - val_loss: 9.1045 - val_mae: 2.3352\n",
      "Epoch 6/50\n",
      "819/819 [==============================] - 493s 602ms/step - loss: 11.8606 - mae: 2.6714 - val_loss: 9.5416 - val_mae: 2.3956\n",
      "Epoch 7/50\n",
      "819/819 [==============================] - 498s 608ms/step - loss: 11.4571 - mae: 2.6260 - val_loss: 9.2911 - val_mae: 2.3589\n",
      "Epoch 8/50\n",
      "819/819 [==============================] - 497s 607ms/step - loss: 11.1376 - mae: 2.5875 - val_loss: 9.0102 - val_mae: 2.3324\n",
      "Epoch 9/50\n",
      "819/819 [==============================] - 493s 602ms/step - loss: 10.8352 - mae: 2.5561 - val_loss: 9.3462 - val_mae: 2.3681\n",
      "Epoch 00009: early stopping\n"
     ]
    }
   ],
   "source": [
    "# Early Stopping\n",
    "from keras.callbacks import EarlyStopping\n",
    "\n",
    "inputs = keras.Input(shape = (sequence_length, raw_data.shape[-1]))\n",
    "x = keras.layers.GRU(32, recurrent_dropout = 0.5, return_sequences = True)(inputs)\n",
    "x = keras.layers.GRU(32, recurrent_dropout = 0.5)(x)\n",
    "x = keras.layers.Dropout(0.5)(x)\n",
    "outputs = keras.layers.Dense(1)(x)\n",
    "model = keras.Model(inputs, outputs)\n",
    "early_stopping = EarlyStopping(monitor='val_loss', patience=5, verbose=1)\n",
    "\n",
    "model.compile(optimizer = 'rmsprop', loss = 'mse', metrics=['mae'])\n",
    "history = model.fit(train_dataset,\n",
    "                   epochs = 50,\n",
    "                   validation_data = val_dataset,\n",
    "                   callbacks = [early_stopping])"
   ]
  }
 ],
 "metadata": {
  "kernelspec": {
   "display_name": "Python 3 (ipykernel)",
   "language": "python",
   "name": "python3"
  },
  "language_info": {
   "codemirror_mode": {
    "name": "ipython",
    "version": 3
   },
   "file_extension": ".py",
   "mimetype": "text/x-python",
   "name": "python",
   "nbconvert_exporter": "python",
   "pygments_lexer": "ipython3",
   "version": "3.10.9"
  },
  "toc": {
   "base_numbering": 1,
   "nav_menu": {},
   "number_sections": true,
   "sideBar": true,
   "skip_h1_title": false,
   "title_cell": "Table of Contents",
   "title_sidebar": "Contents",
   "toc_cell": false,
   "toc_position": {
    "height": "calc(100% - 180px)",
    "left": "10px",
    "top": "150px",
    "width": "178.797px"
   },
   "toc_section_display": true,
   "toc_window_display": true
  }
 },
 "nbformat": 4,
 "nbformat_minor": 5
}
