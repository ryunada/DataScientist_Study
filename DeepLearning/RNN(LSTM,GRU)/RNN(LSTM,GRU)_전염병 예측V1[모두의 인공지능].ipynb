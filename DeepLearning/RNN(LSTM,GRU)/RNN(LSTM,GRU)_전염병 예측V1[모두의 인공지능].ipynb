{
 "cells": [
  {
   "cell_type": "markdown",
   "id": "4c6ef1e4",
   "metadata": {},
   "source": [
    "# 시계열 데이터(Time Series Data) 다루기"
   ]
  },
  {
   "cell_type": "markdown",
   "id": "0f5e6560",
   "metadata": {},
   "source": [
    "## II. 전염병 예측_V1 [ 간단한 DataSet]"
   ]
  },
  {
   "cell_type": "markdown",
   "id": "8590f929",
   "metadata": {},
   "source": [
    "- 문제 정의\n",
    "    - 3일 동안의 확진자 수 추이를 보고 다음날 확진자 수를 예측"
   ]
  },
  {
   "cell_type": "code",
   "execution_count": 1,
   "id": "98e18ca0",
   "metadata": {},
   "outputs": [
    {
     "name": "stderr",
     "output_type": "stream",
     "text": [
      "2023-05-14 15:39:38.540267: I tensorflow/core/platform/cpu_feature_guard.cc:193] This TensorFlow binary is optimized with oneAPI Deep Neural Network Library (oneDNN) to use the following CPU instructions in performance-critical operations:  SSE4.1 SSE4.2 AVX AVX2 FMA\n",
      "To enable them in other operations, rebuild TensorFlow with the appropriate compiler flags.\n"
     ]
    }
   ],
   "source": [
    "from keras.models import Sequential\n",
    "from keras.layers import SimpleRNN, Dense, GRU, LSTM, Bidirectional, Conv1D, MaxPooling1D, Flatten\n",
    "from sklearn.preprocessing import MinMaxScaler\n",
    "from sklearn.metrics import mean_squared_error\n",
    "from sklearn.model_selection import train_test_split\n",
    "import math\n",
    "import numpy as np\n",
    "import pandas as pd\n",
    "import matplotlib.pyplot as plt"
   ]
  },
  {
   "cell_type": "markdown",
   "id": "7dc3e82e",
   "metadata": {},
   "source": [
    "<details>\n",
    "  <summary>Library</summary>\n",
    "\n",
    "\n",
    "\n",
    "- from keras.models import Sequential\n",
    "  - 케라스의 모델 도구(models)중 시퀀셜 모델을 불러오는 명령어\n",
    "- from keras.layers import SimpleRNN, Dense, GRU, LSTM, Bidirectional, Conv1D, MaxPooling1D\n",
    "  - 레이어 도구(layers)중 SimpleRNN과 Dense도구등을 불러오는 명령어\n",
    "- from sklearn.prerprocessing import MinMaxSacler\n",
    "  - 데이터를 정규화하기 위한 MinMaaxScaler 함수를 불러오는 명령어\n",
    "- from sklearn.metrics import mean_squared_error\n",
    "  - 결과의 정확도를 계산하기 위한 함수인 mean_squared_error를 불러오는 명령어\n",
    "- from sklearn.model_selection import train_test_split\n",
    "  - 데이터를 훈련데이터와 검증 데이터로 나누는 명령어\n",
    "- import math\n",
    "  - 수학 계산을 도와주는 math 라이브러리\n",
    "- import numpy as np\n",
    "  - 수학 계산 라이브러리 numpy를 불러오고 np로 줄여서 사용\n",
    "- import matplotlib.pyplot as plt\n",
    "  - 그래프 라이브러리중 pyplot 라이브러리 사용\n",
    "  - plt로 줄여서 사용\n",
    "\n",
    "</details>"
   ]
  },
  {
   "cell_type": "markdown",
   "id": "1afaab96",
   "metadata": {},
   "source": [
    "### 1. 데이터 불러오기"
   ]
  },
  {
   "cell_type": "code",
   "execution_count": 2,
   "id": "a4755029",
   "metadata": {},
   "outputs": [
    {
     "name": "stdout",
     "output_type": "stream",
     "text": [
      "/Users/ryu/Desktop/Desktop ryuseungho's MacBook Air/Data Scientist/Study_Organization/DeepLearning/RNN(LSTM,GRU)\n",
      "/Users/ryu/Desktop/Desktop ryuseungho's MacBook Air/Data Scientist/Study_Organization/DeepLearning/RNN(LSTM,GRU)/Data\n"
     ]
    }
   ],
   "source": [
    "import os\n",
    "print(os.getcwd())\n",
    "os.chdir(\"/Users/ryu/Desktop/Desktop ryuseungho's MacBook Air/Data Scientist/Study_Organization/DeepLearning/RNN(LSTM,GRU)/Data\")\n",
    "print(os.getcwd())"
   ]
  },
  {
   "cell_type": "code",
   "execution_count": 3,
   "id": "34cebbe7",
   "metadata": {},
   "outputs": [
    {
     "name": "stdout",
     "output_type": "stream",
     "text": [
      "     Confirmed\n",
      "0           24\n",
      "1           24\n",
      "2           27\n",
      "3           27\n",
      "4           28\n",
      "..         ...\n",
      "107      11190\n",
      "108      11206\n",
      "109      11225\n",
      "110      11265\n",
      "111      11344\n",
      "\n",
      "[112 rows x 1 columns]\n"
     ]
    }
   ],
   "source": [
    "# github 저장소에서 데이터 불러오기\n",
    "# !git clone https://github.com/yhlee1627/deeplearning.git\n",
    "# git이 안될경우 주소에서 다운로드\n",
    "\n",
    "df = pd.read_csv('./deeplearning/corona_daily.csv', usecols = [3], engine = 'python', skipfooter = 3)\n",
    "print(df)\n",
    "dataset = df.values\n",
    "dataset = df.astype('float32')"
   ]
  },
  {
   "cell_type": "markdown",
   "id": "fb316b20",
   "metadata": {},
   "source": [
    "### 2. 데이터 전처리"
   ]
  },
  {
   "cell_type": "markdown",
   "id": "95c6a899",
   "metadata": {},
   "source": [
    "#### 2-1. 정규화"
   ]
  },
  {
   "cell_type": "code",
   "execution_count": 4,
   "id": "d393a39d",
   "metadata": {},
   "outputs": [],
   "source": [
    "# 데이터를 정규화 하는 범위를 0 ~ 1\n",
    "scaler = MinMaxScaler(feature_range = (0,1))\n",
    "# 데이터 정규화 적용\n",
    "Dataset = scaler.fit_transform(dataset)"
   ]
  },
  {
   "cell_type": "markdown",
   "id": "141ab02d",
   "metadata": {},
   "source": [
    "#### 2-2. 데이터 분할"
   ]
  },
  {
   "cell_type": "code",
   "execution_count": 5,
   "id": "3bb04fe8",
   "metadata": {},
   "outputs": [
    {
     "name": "stdout",
     "output_type": "stream",
     "text": [
      "Train Data 개수89, Test Data 개수 : 23\n"
     ]
    }
   ],
   "source": [
    "# 전체 데이터를 Training Data(80%), Test Data(20%) 분할\n",
    "train_data, test_data = train_test_split(Dataset, test_size = 0.2, shuffle = False)\n",
    "print(f\"Train Data 개수 : {len(train_data)}, Test Data 개수 : {len(test_data)}\")"
   ]
  },
  {
   "cell_type": "markdown",
   "id": "76b5b0a1",
   "metadata": {},
   "source": [
    "- 데이터 형태 변경하기\n",
    "    - 3일치의 데이터를 사용하여 4번째 날짜 값을 예측\n",
    "    <img src='https://p.ipic.vip/rrjtb8.png' width=50%>"
   ]
  },
  {
   "cell_type": "code",
   "execution_count": 6,
   "id": "1105c0a4",
   "metadata": {},
   "outputs": [],
   "source": [
    "# dataset : 원 데이터, look_back : 연속되는 데이터 개수\n",
    "def create_dataset(dataset, look_back):\n",
    "    x_data = []\n",
    "    y_data = []\n",
    "    for i in range(len(dataset) - look_back - 1):\n",
    "        data = dataset[i:(i+look_back), 0]\n",
    "        x_data.append(data)\n",
    "        y_data.append(dataset[i + look_back, 0])\n",
    "    return np.array(x_data), np.array(y_data)"
   ]
  },
  {
   "cell_type": "markdown",
   "id": "22370fc0",
   "metadata": {},
   "source": [
    "- 3일치의 데이터를 사용하므로 look_back = 3"
   ]
  },
  {
   "cell_type": "code",
   "execution_count": 7,
   "id": "eb9e62d3",
   "metadata": {},
   "outputs": [
    {
     "name": "stdout",
     "output_type": "stream",
     "text": [
      "(85, 3) (85,)\n",
      "(19, 3) (19,)\n"
     ]
    }
   ],
   "source": [
    "look_back = 3\n",
    "x_train, y_train = create_dataset(train_data, look_back)\n",
    "x_test, y_test = create_dataset(test_data, look_back)\n",
    "print(x_train.shape, y_train.shape)\n",
    "print(x_test.shape, y_test.shape)"
   ]
  },
  {
   "cell_type": "markdown",
   "id": "9a8e203a",
   "metadata": {},
   "source": [
    "- 2차원 배열을 3차원 배열로\n",
    "<img src='https://p.ipic.vip/z9ia14.png' width = 50%>"
   ]
  },
  {
   "cell_type": "code",
   "execution_count": 8,
   "id": "2f301f30",
   "metadata": {},
   "outputs": [
    {
     "name": "stdout",
     "output_type": "stream",
     "text": [
      "(85, 3, 1)\n",
      "(19, 3, 1)\n"
     ]
    }
   ],
   "source": [
    "X_train = np.reshape(x_train, (x_train.shape[0], x_train.shape[1], 1))\n",
    "X_test = np.reshape(x_test, (x_test.shape[0], x_test.shape[1], 1))\n",
    "print(X_train.shape)\n",
    "print(X_test.shape)"
   ]
  },
  {
   "cell_type": "markdown",
   "id": "d4a1368b",
   "metadata": {},
   "source": [
    "### 3. 모델 정의"
   ]
  },
  {
   "cell_type": "markdown",
   "id": "4f600877",
   "metadata": {},
   "source": [
    "#### 3-1. 순환 신경망(RNN; Recurrent Neural Network)\n",
    "- 순차적인 데이터(Sequence Data)를 처리하기 위한 인공 신경망\n",
    "    - 어떤 특정 부분이 반복되는 구조에서 순서를 학습하기에 효과적\n",
    "    - 시계열 데이터, 자연어 등에 적용 가능\n",
    "    - 기존 Neural Network와 달리 '기억(Hidden State)'를 가지고 있음\n",
    "    - 은닉 계층 안에 하나 이상의 순환 계층을 갖는 신경망 구조\n",
    "        - 이전 단계의 출력 값이 현재 단계의 입력 값으로 다시 들어가는 반복 구조\n",
    "        - 가중치가 모든 타임 스텝에서 공유됨"
   ]
  },
  {
   "cell_type": "markdown",
   "id": "56936db9",
   "metadata": {},
   "source": [
    "<details>\n",
    "<summary>RNN Process</summary>\n",
    "\n",
    "<img src='https://p.ipic.vip/kk81uo.png'>\n",
    "\n",
    "</details>"
   ]
  },
  {
   "cell_type": "code",
   "execution_count": 9,
   "id": "268c782f",
   "metadata": {},
   "outputs": [
    {
     "name": "stdout",
     "output_type": "stream",
     "text": [
      "Model: \"sequential\"\n",
      "_________________________________________________________________\n",
      " Layer (type)                Output Shape              Param #   \n",
      "=================================================================\n",
      " simple_rnn (SimpleRNN)      (None, 3)                 15        \n",
      "                                                                 \n",
      " dense (Dense)               (None, 1)                 4         \n",
      "                                                                 \n",
      "=================================================================\n",
      "Total params: 19\n",
      "Trainable params: 19\n",
      "Non-trainable params: 0\n",
      "_________________________________________________________________\n"
     ]
    },
    {
     "name": "stderr",
     "output_type": "stream",
     "text": [
      "2023-05-14 15:39:43.430831: I tensorflow/core/platform/cpu_feature_guard.cc:193] This TensorFlow binary is optimized with oneAPI Deep Neural Network Library (oneDNN) to use the following CPU instructions in performance-critical operations:  SSE4.1 SSE4.2 AVX AVX2 FMA\n",
      "To enable them in other operations, rebuild TensorFlow with the appropriate compiler flags.\n"
     ]
    }
   ],
   "source": [
    "model = Sequential()\n",
    "model.add(SimpleRNN(3, input_shape = (look_back, 1)))\n",
    "model.add(Dense(1, activation = 'linear'))       # 최종 예측 값은 연속된 데이터 이후의 값, 즉 확진자의 수\n",
    "model.summary()"
   ]
  },
  {
   "cell_type": "markdown",
   "id": "5f5e915c",
   "metadata": {},
   "source": [
    "### 3-2. LSTM ; Long Short Term Memory"
   ]
  },
  {
   "cell_type": "markdown",
   "id": "a0e09387",
   "metadata": {},
   "source": [
    "- RNN의 **장기의존성 문제**와 **기울기 소실 문제**를 해결한 알고리즘\n",
    "    - 가중치 행렬$W$의 행렬 곱 연산이 그레이디언트 경로에 나타나지 않도록 구조 변경\n",
    "- 기존 RNN에 장기 기억 셀(Cell State)을 추가함\n",
    "    - $c_t$를 연결하는 경로에는 가중치 행렬 $W$의 행렬 곱 연산이 없음\n",
    "    <img src='https://p.ipic.vip/devzvc.png' width=80%>\n",
    "- 장기 기억 셀 연산에 사용되는 게이트 추가\n",
    "    - Fprget Gate($f_t$) : 과거의 정보를 얼마나 유지할 것인가?\n",
    "    - Input Gate($i_t$) : 새로 입력된 정보를 얼만큼 활용할 것인가?\n",
    "    - Output Gate($o_t$) : Cell State에서 나온 정보를 얼마나 출력할 것인가? "
   ]
  },
  {
   "cell_type": "markdown",
   "id": "bc3796e7",
   "metadata": {},
   "source": [
    "<details>\n",
    "<summary>LSTM Process</summary>\n",
    "\n",
    "![RNN(LSTM,GRU)_4](https://p.ipic.vip/73bjz5.png)\n",
    "\n",
    "</details>"
   ]
  },
  {
   "cell_type": "code",
   "execution_count": 10,
   "id": "7f4f81ee",
   "metadata": {},
   "outputs": [
    {
     "name": "stdout",
     "output_type": "stream",
     "text": [
      "Model: \"sequential_1\"\n",
      "_________________________________________________________________\n",
      " Layer (type)                Output Shape              Param #   \n",
      "=================================================================\n",
      " lstm (LSTM)                 (None, 3)                 60        \n",
      "                                                                 \n",
      " dense_1 (Dense)             (None, 1)                 4         \n",
      "                                                                 \n",
      "=================================================================\n",
      "Total params: 64\n",
      "Trainable params: 64\n",
      "Non-trainable params: 0\n",
      "_________________________________________________________________\n"
     ]
    }
   ],
   "source": [
    "model = Sequential()\n",
    "model.add(LSTM(3, input_shape = (look_back, 1)))\n",
    "model.add(Dense(1, activation = 'linear'))       # 최종 예측 값은 연속된 데이터 이후의 값, 즉 확진자의 수\n",
    "model.summary()"
   ]
  },
  {
   "cell_type": "markdown",
   "id": "fa6d3edf",
   "metadata": {},
   "source": [
    "#### 3-3. GRU ; Gated Recureent Unit"
   ]
  },
  {
   "cell_type": "markdown",
   "id": "370b13e6",
   "metadata": {},
   "source": [
    "LSTM의 장점을 유지하면서 게이트 구조를 단순하게 만든 순환 신경망\n",
    "\n",
    "- 업데이트 게이트(Update Gate) = Forget Gate + Input Gate\n",
    "  - 과거의 기억중 사용할 정보의 양과 현 시점의 입력 정보 중 사용할 정보 수집\n",
    "- 리셋 게이트(Reset Gate)\n",
    "  - 현 시점의 입력 정보 중 새로운 정보를 추가할 때, 과거의 기억 중 필요한 정보의 양 계산\n",
    "- 장기 기억 셀(Cell State)을 삭제\n",
    "  - 은닉 상태($h_{t-1}$)가 장기 기억과 단기 기억 모두를 기억하도록 함\n",
    "- 출력 게이트가 존재하지 않음\n",
    "  - 전체 상태 벡터가 매 타임 스텝마다 출력\n",
    "  \n"
   ]
  },
  {
   "cell_type": "markdown",
   "id": "b3c2afea",
   "metadata": {},
   "source": [
    "<details>\n",
    "<summary>GRU Process</summary>\n",
    "\n",
    "<img src='https://p.ipic.vip/6obmtd.png'>\n",
    "\n",
    "</details>"
   ]
  },
  {
   "cell_type": "code",
   "execution_count": 11,
   "id": "a60e9db6",
   "metadata": {},
   "outputs": [
    {
     "name": "stdout",
     "output_type": "stream",
     "text": [
      "Model: \"sequential_2\"\n",
      "_________________________________________________________________\n",
      " Layer (type)                Output Shape              Param #   \n",
      "=================================================================\n",
      " gru (GRU)                   (None, 3)                 54        \n",
      "                                                                 \n",
      " dense_2 (Dense)             (None, 1)                 4         \n",
      "                                                                 \n",
      "=================================================================\n",
      "Total params: 58\n",
      "Trainable params: 58\n",
      "Non-trainable params: 0\n",
      "_________________________________________________________________\n"
     ]
    }
   ],
   "source": [
    "model = Sequential()\n",
    "model.add(GRU(3, input_shape = (look_back, 1)))\n",
    "model.add(Dense(1, activation = 'linear'))       # 최종 예측 값은 연속된 데이터 이후의 값, 즉 확진자의 수\n",
    "model.summary()"
   ]
  },
  {
   "cell_type": "markdown",
   "id": "0794deb0",
   "metadata": {},
   "source": [
    "#### 3-4. 양방향(Bidirrectional) LSTM/GRU"
   ]
  },
  {
   "cell_type": "markdown",
   "id": "dcb3d14b",
   "metadata": {},
   "source": [
    "- 양방향 순환 층(Bidirectional Recurrent Layer)\n",
    "  - 순환 네트워크에 같은 정보를 다른 방향으로 주입하여 정확도를 높이고 기억을 좀 더 오래 유지\n",
    "  - 이전의 층이 전체 출력 시퀀스를 반환해야 함 [ return_sequence = True ]\n",
    "\n",
    "<details>\n",
    "<summary>양방향 LSTM/GRU</summary>\n",
    "\n",
    "\n",
    "\n",
    "<img src='https://p.ipic.vip/2hj9xp.png'>\n",
    "\n",
    "</details>"
   ]
  },
  {
   "cell_type": "code",
   "execution_count": 12,
   "id": "35852398",
   "metadata": {},
   "outputs": [
    {
     "name": "stdout",
     "output_type": "stream",
     "text": [
      "Model: \"sequential_3\"\n",
      "_________________________________________________________________\n",
      " Layer (type)                Output Shape              Param #   \n",
      "=================================================================\n",
      " bidirectional (Bidirectiona  (None, 6)                120       \n",
      " l)                                                              \n",
      "                                                                 \n",
      " dense_3 (Dense)             (None, 1)                 7         \n",
      "                                                                 \n",
      "=================================================================\n",
      "Total params: 127\n",
      "Trainable params: 127\n",
      "Non-trainable params: 0\n",
      "_________________________________________________________________\n"
     ]
    }
   ],
   "source": [
    "model = Sequential()\n",
    "model.add(Bidirectional(LSTM(3), input_shape = (look_back, 1))) # SimpleRNN, LSTM, GRU\n",
    "model.add(Dense(1, activation = 'linear'))       # 최종 예측 값은 연속된 데이터 이후의 값, 즉 확진자의 수\n",
    "model.summary()"
   ]
  },
  {
   "cell_type": "markdown",
   "id": "cca17d5f",
   "metadata": {},
   "source": [
    "#### 3-5. 1D CNN + LSTM/GRU"
   ]
  },
  {
   "cell_type": "markdown",
   "id": "05436e4c",
   "metadata": {},
   "source": [
    "<details>\n",
    "<summary>1D CNN + LSTM/GRU</summary>\n",
    "<img src='https://p.ipic.vip/bzx124.png'>\n",
    "\n",
    "</details>"
   ]
  },
  {
   "cell_type": "code",
   "execution_count": 18,
   "id": "db91619a",
   "metadata": {},
   "outputs": [
    {
     "name": "stdout",
     "output_type": "stream",
     "text": [
      "Model: \"sequential_5\"\n",
      "_________________________________________________________________\n",
      " Layer (type)                Output Shape              Param #   \n",
      "=================================================================\n",
      " c1d (Conv1D)                (None, 3, 32)             32        \n",
      "                                                                 \n",
      " max_pooling1d_1 (MaxPooling  (None, 1, 32)            0         \n",
      " 1D)                                                             \n",
      "                                                                 \n",
      " lstm_3 (LSTM)               (None, 32)                8320      \n",
      "                                                                 \n",
      " dense_5 (Dense)             (None, 1)                 33        \n",
      "                                                                 \n",
      "=================================================================\n",
      "Total params: 8,385\n",
      "Trainable params: 8,385\n",
      "Non-trainable params: 0\n",
      "_________________________________________________________________\n"
     ]
    }
   ],
   "source": [
    "model = Sequential()\n",
    "model.add(Conv1D(filters=32,\n",
    "                 kernel_size=1,\n",
    "                 strides=1,\n",
    "                 padding='valid',\n",
    "                 input_shape=(look_back, 1), \n",
    "                 use_bias=False, name='c1d'))\n",
    "model.add(MaxPooling1D(pool_size = 3))\n",
    "model.add(LSTM(32))\n",
    "model.add(Dense(1, activation = 'linear'))\n",
    "model.summary()"
   ]
  },
  {
   "cell_type": "markdown",
   "id": "281c7ada",
   "metadata": {},
   "source": [
    "### 4. 모델 학습"
   ]
  },
  {
   "cell_type": "code",
   "execution_count": 19,
   "id": "5b94c26c",
   "metadata": {
    "scrolled": true
   },
   "outputs": [
    {
     "name": "stdout",
     "output_type": "stream",
     "text": [
      "Epoch 1/100\n",
      "85/85 [==============================] - 1s 1ms/step - loss: 0.1677\n",
      "Epoch 2/100\n",
      "85/85 [==============================] - 0s 1ms/step - loss: 0.0026\n",
      "Epoch 3/100\n",
      "85/85 [==============================] - 0s 1ms/step - loss: 0.0020\n",
      "Epoch 4/100\n",
      "85/85 [==============================] - 0s 985us/step - loss: 0.0017\n",
      "Epoch 5/100\n",
      "85/85 [==============================] - 0s 1ms/step - loss: 0.0014\n",
      "Epoch 6/100\n",
      "85/85 [==============================] - 0s 970us/step - loss: 0.0012\n",
      "Epoch 7/100\n",
      "85/85 [==============================] - 0s 1ms/step - loss: 0.0011\n",
      "Epoch 8/100\n",
      "85/85 [==============================] - 0s 975us/step - loss: 0.0010\n",
      "Epoch 9/100\n",
      "85/85 [==============================] - 0s 1ms/step - loss: 8.9466e-04\n",
      "Epoch 10/100\n",
      "85/85 [==============================] - 0s 1ms/step - loss: 8.2010e-04\n",
      "Epoch 11/100\n",
      "85/85 [==============================] - 0s 1ms/step - loss: 6.8609e-04\n",
      "Epoch 12/100\n",
      "85/85 [==============================] - 0s 977us/step - loss: 6.0163e-04\n",
      "Epoch 13/100\n",
      "85/85 [==============================] - 0s 1ms/step - loss: 5.2024e-04\n",
      "Epoch 14/100\n",
      "85/85 [==============================] - 0s 1ms/step - loss: 4.5894e-04\n",
      "Epoch 15/100\n",
      "85/85 [==============================] - 0s 1ms/step - loss: 4.0306e-04\n",
      "Epoch 16/100\n",
      "85/85 [==============================] - 0s 1ms/step - loss: 3.7592e-04\n",
      "Epoch 17/100\n",
      "85/85 [==============================] - 0s 1ms/step - loss: 3.3812e-04\n",
      "Epoch 18/100\n",
      "85/85 [==============================] - 0s 1ms/step - loss: 3.1218e-04\n",
      "Epoch 19/100\n",
      "85/85 [==============================] - 0s 969us/step - loss: 2.7751e-04\n",
      "Epoch 20/100\n",
      "85/85 [==============================] - 0s 1ms/step - loss: 2.6866e-04\n",
      "Epoch 21/100\n",
      "85/85 [==============================] - 0s 1ms/step - loss: 2.7460e-04\n",
      "Epoch 22/100\n",
      "85/85 [==============================] - 0s 982us/step - loss: 2.6388e-04\n",
      "Epoch 23/100\n",
      "85/85 [==============================] - 0s 988us/step - loss: 2.6875e-04\n",
      "Epoch 24/100\n",
      "85/85 [==============================] - 0s 1ms/step - loss: 2.8764e-04\n",
      "Epoch 25/100\n",
      "85/85 [==============================] - 0s 1ms/step - loss: 2.9943e-04\n",
      "Epoch 26/100\n",
      "85/85 [==============================] - 0s 1ms/step - loss: 2.8824e-04\n",
      "Epoch 27/100\n",
      "85/85 [==============================] - 0s 1ms/step - loss: 2.4763e-04\n",
      "Epoch 28/100\n",
      "85/85 [==============================] - 0s 1ms/step - loss: 2.8200e-04\n",
      "Epoch 29/100\n",
      "85/85 [==============================] - 0s 1ms/step - loss: 2.5550e-04\n",
      "Epoch 30/100\n",
      "85/85 [==============================] - 0s 996us/step - loss: 2.6016e-04\n",
      "Epoch 31/100\n",
      "85/85 [==============================] - 0s 1ms/step - loss: 2.6108e-04\n",
      "Epoch 32/100\n",
      "85/85 [==============================] - 0s 1ms/step - loss: 2.6044e-04\n",
      "Epoch 33/100\n",
      "85/85 [==============================] - 0s 1ms/step - loss: 3.2334e-04\n",
      "Epoch 34/100\n",
      "85/85 [==============================] - 0s 996us/step - loss: 3.5380e-04\n",
      "Epoch 35/100\n",
      "85/85 [==============================] - 0s 967us/step - loss: 2.4765e-04\n",
      "Epoch 36/100\n",
      "85/85 [==============================] - 0s 970us/step - loss: 3.0093e-04\n",
      "Epoch 37/100\n",
      "85/85 [==============================] - 0s 969us/step - loss: 2.6856e-04\n",
      "Epoch 38/100\n",
      "85/85 [==============================] - 0s 1ms/step - loss: 3.1897e-04\n",
      "Epoch 39/100\n",
      "85/85 [==============================] - 0s 997us/step - loss: 2.2917e-04\n",
      "Epoch 40/100\n",
      "85/85 [==============================] - 0s 965us/step - loss: 4.4024e-04\n",
      "Epoch 41/100\n",
      "85/85 [==============================] - 0s 974us/step - loss: 2.0941e-04\n",
      "Epoch 42/100\n",
      "85/85 [==============================] - 0s 1ms/step - loss: 2.0773e-04\n",
      "Epoch 43/100\n",
      "85/85 [==============================] - 0s 1ms/step - loss: 2.5809e-04\n",
      "Epoch 44/100\n",
      "85/85 [==============================] - 0s 1ms/step - loss: 2.2032e-04\n",
      "Epoch 45/100\n",
      "85/85 [==============================] - 0s 999us/step - loss: 1.7836e-04\n",
      "Epoch 46/100\n",
      "85/85 [==============================] - 0s 1ms/step - loss: 1.9645e-04\n",
      "Epoch 47/100\n",
      "85/85 [==============================] - 0s 1ms/step - loss: 3.1811e-04\n",
      "Epoch 48/100\n",
      "85/85 [==============================] - 0s 1ms/step - loss: 2.2769e-04\n",
      "Epoch 49/100\n",
      "85/85 [==============================] - 0s 1ms/step - loss: 1.7646e-04\n",
      "Epoch 50/100\n",
      "85/85 [==============================] - 0s 1ms/step - loss: 1.9026e-04\n",
      "Epoch 51/100\n",
      "85/85 [==============================] - 0s 998us/step - loss: 1.6200e-04\n",
      "Epoch 52/100\n",
      "85/85 [==============================] - 0s 988us/step - loss: 1.9942e-04\n",
      "Epoch 53/100\n",
      "85/85 [==============================] - 0s 1ms/step - loss: 1.3524e-04\n",
      "Epoch 54/100\n",
      "85/85 [==============================] - 0s 1ms/step - loss: 1.6126e-04\n",
      "Epoch 55/100\n",
      "85/85 [==============================] - 0s 990us/step - loss: 1.6075e-04\n",
      "Epoch 56/100\n",
      "85/85 [==============================] - 0s 1ms/step - loss: 1.9422e-04\n",
      "Epoch 57/100\n",
      "85/85 [==============================] - 0s 1ms/step - loss: 1.8560e-04\n",
      "Epoch 58/100\n",
      "85/85 [==============================] - 0s 970us/step - loss: 1.4328e-04\n",
      "Epoch 59/100\n",
      "85/85 [==============================] - 0s 997us/step - loss: 1.2943e-04\n",
      "Epoch 60/100\n",
      "85/85 [==============================] - 0s 1ms/step - loss: 1.0271e-04\n",
      "Epoch 61/100\n",
      "85/85 [==============================] - 0s 1ms/step - loss: 1.2542e-04\n",
      "Epoch 62/100\n",
      "85/85 [==============================] - 0s 1ms/step - loss: 1.0416e-04\n",
      "Epoch 63/100\n",
      "85/85 [==============================] - 0s 1ms/step - loss: 9.5234e-05\n",
      "Epoch 64/100\n",
      "85/85 [==============================] - 0s 1ms/step - loss: 1.2205e-04\n",
      "Epoch 65/100\n",
      "85/85 [==============================] - 0s 1ms/step - loss: 1.2716e-04\n",
      "Epoch 66/100\n",
      "85/85 [==============================] - 0s 1ms/step - loss: 6.5357e-05\n",
      "Epoch 67/100\n",
      "85/85 [==============================] - 0s 1ms/step - loss: 9.2309e-05\n",
      "Epoch 68/100\n",
      "85/85 [==============================] - 0s 1ms/step - loss: 8.0057e-05\n",
      "Epoch 69/100\n",
      "85/85 [==============================] - 0s 1ms/step - loss: 1.2082e-04\n",
      "Epoch 70/100\n",
      "85/85 [==============================] - 0s 1ms/step - loss: 1.0069e-04\n",
      "Epoch 71/100\n",
      "85/85 [==============================] - 0s 1ms/step - loss: 4.8376e-05\n",
      "Epoch 72/100\n",
      "85/85 [==============================] - 0s 1ms/step - loss: 5.8156e-05\n",
      "Epoch 73/100\n",
      "85/85 [==============================] - 0s 1ms/step - loss: 6.4669e-05\n",
      "Epoch 74/100\n",
      "85/85 [==============================] - 0s 1ms/step - loss: 3.4167e-05\n",
      "Epoch 75/100\n",
      "85/85 [==============================] - 0s 1ms/step - loss: 6.4888e-05\n",
      "Epoch 76/100\n",
      "85/85 [==============================] - 0s 1ms/step - loss: 4.6836e-05\n",
      "Epoch 77/100\n",
      "85/85 [==============================] - 0s 1ms/step - loss: 5.5503e-05\n",
      "Epoch 78/100\n",
      "85/85 [==============================] - 0s 1ms/step - loss: 3.7796e-05\n",
      "Epoch 79/100\n",
      "85/85 [==============================] - 0s 988us/step - loss: 5.8399e-05\n",
      "Epoch 80/100\n",
      "85/85 [==============================] - 0s 994us/step - loss: 4.5500e-05\n",
      "Epoch 81/100\n",
      "85/85 [==============================] - 0s 1ms/step - loss: 4.9256e-05\n",
      "Epoch 82/100\n",
      "85/85 [==============================] - 0s 980us/step - loss: 6.7088e-05\n",
      "Epoch 83/100\n",
      "85/85 [==============================] - 0s 969us/step - loss: 4.8088e-05\n",
      "Epoch 84/100\n",
      "85/85 [==============================] - 0s 1ms/step - loss: 5.0645e-05\n",
      "Epoch 85/100\n",
      "85/85 [==============================] - 0s 1ms/step - loss: 5.9082e-05\n",
      "Epoch 86/100\n",
      "85/85 [==============================] - 0s 1ms/step - loss: 4.8706e-05\n",
      "Epoch 87/100\n",
      "85/85 [==============================] - 0s 1ms/step - loss: 4.7589e-05\n",
      "Epoch 88/100\n",
      "85/85 [==============================] - 0s 1ms/step - loss: 5.2233e-05\n",
      "Epoch 89/100\n",
      "85/85 [==============================] - 0s 1ms/step - loss: 5.0264e-05\n",
      "Epoch 90/100\n",
      "85/85 [==============================] - 0s 1ms/step - loss: 4.3774e-05\n",
      "Epoch 91/100\n",
      "85/85 [==============================] - 0s 1ms/step - loss: 5.8632e-05\n",
      "Epoch 92/100\n",
      "85/85 [==============================] - 0s 1ms/step - loss: 5.0691e-05\n",
      "Epoch 93/100\n",
      "85/85 [==============================] - 0s 1ms/step - loss: 3.7648e-05\n",
      "Epoch 94/100\n",
      "85/85 [==============================] - 0s 1ms/step - loss: 1.3647e-04\n",
      "Epoch 95/100\n",
      "85/85 [==============================] - 0s 1ms/step - loss: 1.0292e-04\n",
      "Epoch 96/100\n",
      "85/85 [==============================] - 0s 994us/step - loss: 4.2408e-05\n",
      "Epoch 97/100\n",
      "85/85 [==============================] - 0s 1ms/step - loss: 6.4567e-05\n",
      "Epoch 98/100\n",
      "85/85 [==============================] - 0s 950us/step - loss: 4.5882e-05\n",
      "Epoch 99/100\n",
      "85/85 [==============================] - 0s 946us/step - loss: 6.8497e-05\n",
      "Epoch 100/100\n",
      "85/85 [==============================] - 0s 966us/step - loss: 4.3828e-05\n"
     ]
    },
    {
     "data": {
      "text/plain": [
       "<keras.callbacks.History at 0x7f7e62933340>"
      ]
     },
     "execution_count": 19,
     "metadata": {},
     "output_type": "execute_result"
    }
   ],
   "source": [
    "model.compile(loss = 'mse', optimizer = 'adam')\n",
    "model.fit(X_train, y_train, epochs = 100, batch_size = 1, verbose = 1)"
   ]
  },
  {
   "cell_type": "markdown",
   "id": "9a606b86",
   "metadata": {},
   "source": [
    "### 5. 데이터 예측"
   ]
  },
  {
   "cell_type": "code",
   "execution_count": 20,
   "id": "b2653daf",
   "metadata": {
    "scrolled": true
   },
   "outputs": [
    {
     "name": "stdout",
     "output_type": "stream",
     "text": [
      "3/3 [==============================] - 0s 1ms/step\n",
      "1/1 [==============================] - 0s 14ms/step\n"
     ]
    }
   ],
   "source": [
    "# 모델을 적용한 출력값 (0~1)\n",
    "trainPredict = model.predict(X_train)\n",
    "testPredict = model.predict(X_test)\n",
    "\n",
    "# scaler를 통하여 실제 값으로 변환\n",
    "TrainPredict = scaler.inverse_transform(trainPredict)  # 훈련 데이터의 예측값\n",
    "Y_train = scaler.inverse_transform([y_train])          # 훈련 데이터의 타깃값\n",
    "TestPredict = scaler.inverse_transform(testPredict)    # 테스트 데이터의 예측값\n",
    "Y_test = scaler.inverse_transform([y_test])            # 테스트 데이터의 타깃값"
   ]
  },
  {
   "cell_type": "markdown",
   "id": "9767d889",
   "metadata": {},
   "source": [
    "### 6. 모델의 정확도"
   ]
  },
  {
   "cell_type": "code",
   "execution_count": 21,
   "id": "6b7bf960",
   "metadata": {},
   "outputs": [
    {
     "name": "stdout",
     "output_type": "stream",
     "text": [
      "Train Score: 66.11 RMSE\n",
      "Test Score: 68.58 RMSE\n"
     ]
    }
   ],
   "source": [
    "trainScore = math.sqrt(mean_squared_error(Y_train[0], TrainPredict[:,0]))\n",
    "print(f'Train Score: {trainScore:.2f} RMSE')\n",
    "\n",
    "testScore = math.sqrt(mean_squared_error(Y_test[0], TestPredict[:,0]))\n",
    "print(f'Test Score: {testScore:.2f} RMSE')"
   ]
  },
  {
   "cell_type": "markdown",
   "id": "1aefaa8e",
   "metadata": {},
   "source": [
    "### 7. 시각화(실제 값과 예측값 그래프)"
   ]
  },
  {
   "cell_type": "code",
   "execution_count": 22,
   "id": "bf4c035e",
   "metadata": {
    "scrolled": false
   },
   "outputs": [
    {
     "data": {
      "image/png": "[encoded data removed]",
      "text/plain": [
       "<Figure size 640x480 with 1 Axes>"
      ]
     },
     "metadata": {},
     "output_type": "display_data"
    }
   ],
   "source": [
    "trainPredictPlot = np.empty_like(dataset)\n",
    "trainPredictPlot[:, :] = np.nan\n",
    "trainPredictPlot[look_back:len(TrainPredict)+look_back, :] = TrainPredict\n",
    "testPredictPlot = np.empty_like(dataset)\n",
    "testPredictPlot[:, :] = np.nan\n",
    "testPredictPlot[len(TrainPredict)+(look_back+1)*2:len(dataset), :] = TestPredict\n",
    "\n",
    "plt.plot(dataset)               # 파란색 : 실제 값\n",
    "plt.plot(trainPredictPlot)      # 주황색 : Training Data 예측값\n",
    "plt.plot(testPredictPlot)       # 초록색 : Test Data 예측값\n",
    "plt.show()"
   ]
  }
 ],
 "metadata": {
  "kernelspec": {
   "display_name": "Python 3 (ipykernel)",
   "language": "python",
   "name": "python3"
  },
  "language_info": {
   "codemirror_mode": {
    "name": "ipython",
    "version": 3
   },
   "file_extension": ".py",
   "mimetype": "text/x-python",
   "name": "python",
   "nbconvert_exporter": "python",
   "pygments_lexer": "ipython3",
   "version": "3.10.9"
  },
  "toc": {
   "base_numbering": 1,
   "nav_menu": {},
   "number_sections": true,
   "sideBar": true,
   "skip_h1_title": false,
   "title_cell": "Table of Contents",
   "title_sidebar": "Contents",
   "toc_cell": false,
   "toc_position": {
    "height": "calc(100% - 180px)",
    "left": "10px",
    "top": "150px",
    "width": "178.797px"
   },
   "toc_section_display": true,
   "toc_window_display": true
  }
 },
 "nbformat": 4,
 "nbformat_minor": 5
}
